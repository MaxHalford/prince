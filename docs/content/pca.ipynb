{
 "cells": [
  {
   "attachments": {},
   "cell_type": "markdown",
   "metadata": {},
   "source": [
    "+++\n",
    "title = \"Principal component analysis\"\n",
    "menu = \"main\"\n",
    "weight = 1\n",
    "toc = true\n",
    "aliases = [\"pca\"]\n",
    "+++"
   ]
  },
  {
   "attachments": {},
   "cell_type": "markdown",
   "metadata": {},
   "source": [
    "## Resources\n",
    "\n",
    "- [*Principal component analysis*](https://personal.utdallas.edu/~herve/abdi-awPCA2010.pdf) by Hervé Abdi and Lynne J. Williams is excellent at explaining PCA interpretation. It also covers some extensions to PCA.\n",
    "- [*A Tutorial on Principal Component Analysis*](https://arxiv.org/pdf/1404.1100.pdf) by Jonathon Shlens goes into more detail on the intuition behind PCA, while also discussing its applicability and limits.\n",
    "- I learnt PCA from [these](https://www.math.univ-toulouse.fr/~xgendre/ens/m2se/DataMining.pdf) lecture notes from Xavier Gendre. He provides a comprehensive walkthrough using a dataset of Skyrim bows."
   ]
  },
  {
   "attachments": {},
   "cell_type": "markdown",
   "metadata": {},
   "source": [
    "## Data\n",
    "\n",
    "PCA assumes you have a dataframe consisting of numerical variables. This includes booleans and integers.\n",
    "\n",
    "As an example, let's use a dataset describing the energy mix of each country in the world, in 2019. The dataset is normalized into percentages, which makes countries comparable with one another."
   ]
  },
  {
   "cell_type": "code",
   "execution_count": 1,
   "metadata": {
    "execution": {
     "iopub.execute_input": "2024-09-07T18:18:08.831204Z",
     "iopub.status.busy": "2024-09-07T18:18:08.830027Z",
     "iopub.status.idle": "2024-09-07T18:18:09.269294Z",
     "shell.execute_reply": "2024-09-07T18:18:09.268988Z"
    }
   },
   "outputs": [
    {
     "data": {
      "text/html": [
       "<style type=\"text/css\">\n",
       "</style>\n",
       "<table id=\"T_6aadf\">\n",
       "  <thead>\n",
       "    <tr>\n",
       "      <th class=\"blank\" >&nbsp;</th>\n",
       "      <th class=\"blank level0\" >&nbsp;</th>\n",
       "      <th id=\"T_6aadf_level0_col0\" class=\"col_heading level0 col0\" >coal</th>\n",
       "      <th id=\"T_6aadf_level0_col1\" class=\"col_heading level0 col1\" >oil</th>\n",
       "      <th id=\"T_6aadf_level0_col2\" class=\"col_heading level0 col2\" >gas</th>\n",
       "      <th id=\"T_6aadf_level0_col3\" class=\"col_heading level0 col3\" >nuclear</th>\n",
       "      <th id=\"T_6aadf_level0_col4\" class=\"col_heading level0 col4\" >hydro</th>\n",
       "      <th id=\"T_6aadf_level0_col5\" class=\"col_heading level0 col5\" >wind</th>\n",
       "      <th id=\"T_6aadf_level0_col6\" class=\"col_heading level0 col6\" >solar</th>\n",
       "      <th id=\"T_6aadf_level0_col7\" class=\"col_heading level0 col7\" >other renewables</th>\n",
       "    </tr>\n",
       "    <tr>\n",
       "      <th class=\"index_name level0\" >continent</th>\n",
       "      <th class=\"index_name level1\" >country</th>\n",
       "      <th class=\"blank col0\" >&nbsp;</th>\n",
       "      <th class=\"blank col1\" >&nbsp;</th>\n",
       "      <th class=\"blank col2\" >&nbsp;</th>\n",
       "      <th class=\"blank col3\" >&nbsp;</th>\n",
       "      <th class=\"blank col4\" >&nbsp;</th>\n",
       "      <th class=\"blank col5\" >&nbsp;</th>\n",
       "      <th class=\"blank col6\" >&nbsp;</th>\n",
       "      <th class=\"blank col7\" >&nbsp;</th>\n",
       "    </tr>\n",
       "  </thead>\n",
       "  <tbody>\n",
       "    <tr>\n",
       "      <th id=\"T_6aadf_level0_row0\" class=\"row_heading level0 row0\" >Africa</th>\n",
       "      <th id=\"T_6aadf_level1_row0\" class=\"row_heading level1 row0\" >Algeria</th>\n",
       "      <td id=\"T_6aadf_row0_col0\" class=\"data row0 col0\" >1%</td>\n",
       "      <td id=\"T_6aadf_row0_col1\" class=\"data row0 col1\" >35%</td>\n",
       "      <td id=\"T_6aadf_row0_col2\" class=\"data row0 col2\" >64%</td>\n",
       "      <td id=\"T_6aadf_row0_col3\" class=\"data row0 col3\" >0%</td>\n",
       "      <td id=\"T_6aadf_row0_col4\" class=\"data row0 col4\" >0%</td>\n",
       "      <td id=\"T_6aadf_row0_col5\" class=\"data row0 col5\" >0%</td>\n",
       "      <td id=\"T_6aadf_row0_col6\" class=\"data row0 col6\" >0%</td>\n",
       "      <td id=\"T_6aadf_row0_col7\" class=\"data row0 col7\" >0%</td>\n",
       "    </tr>\n",
       "    <tr>\n",
       "      <th id=\"T_6aadf_level0_row1\" class=\"row_heading level0 row1\" >South America</th>\n",
       "      <th id=\"T_6aadf_level1_row1\" class=\"row_heading level1 row1\" >Argentina</th>\n",
       "      <td id=\"T_6aadf_row1_col0\" class=\"data row1 col0\" >1%</td>\n",
       "      <td id=\"T_6aadf_row1_col1\" class=\"data row1 col1\" >35%</td>\n",
       "      <td id=\"T_6aadf_row1_col2\" class=\"data row1 col2\" >50%</td>\n",
       "      <td id=\"T_6aadf_row1_col3\" class=\"data row1 col3\" >2%</td>\n",
       "      <td id=\"T_6aadf_row1_col4\" class=\"data row1 col4\" >10%</td>\n",
       "      <td id=\"T_6aadf_row1_col5\" class=\"data row1 col5\" >1%</td>\n",
       "      <td id=\"T_6aadf_row1_col6\" class=\"data row1 col6\" >0%</td>\n",
       "      <td id=\"T_6aadf_row1_col7\" class=\"data row1 col7\" >1%</td>\n",
       "    </tr>\n",
       "    <tr>\n",
       "      <th id=\"T_6aadf_level0_row2\" class=\"row_heading level0 row2\" >Oceania</th>\n",
       "      <th id=\"T_6aadf_level1_row2\" class=\"row_heading level1 row2\" >Australia</th>\n",
       "      <td id=\"T_6aadf_row2_col0\" class=\"data row2 col0\" >28%</td>\n",
       "      <td id=\"T_6aadf_row2_col1\" class=\"data row2 col1\" >34%</td>\n",
       "      <td id=\"T_6aadf_row2_col2\" class=\"data row2 col2\" >30%</td>\n",
       "      <td id=\"T_6aadf_row2_col3\" class=\"data row2 col3\" >0%</td>\n",
       "      <td id=\"T_6aadf_row2_col4\" class=\"data row2 col4\" >2%</td>\n",
       "      <td id=\"T_6aadf_row2_col5\" class=\"data row2 col5\" >3%</td>\n",
       "      <td id=\"T_6aadf_row2_col6\" class=\"data row2 col6\" >3%</td>\n",
       "      <td id=\"T_6aadf_row2_col7\" class=\"data row2 col7\" >1%</td>\n",
       "    </tr>\n",
       "    <tr>\n",
       "      <th id=\"T_6aadf_level0_row3\" class=\"row_heading level0 row3\" >Europe</th>\n",
       "      <th id=\"T_6aadf_level1_row3\" class=\"row_heading level1 row3\" >Austria</th>\n",
       "      <td id=\"T_6aadf_row3_col0\" class=\"data row3 col0\" >9%</td>\n",
       "      <td id=\"T_6aadf_row3_col1\" class=\"data row3 col1\" >37%</td>\n",
       "      <td id=\"T_6aadf_row3_col2\" class=\"data row3 col2\" >22%</td>\n",
       "      <td id=\"T_6aadf_row3_col3\" class=\"data row3 col3\" >0%</td>\n",
       "      <td id=\"T_6aadf_row3_col4\" class=\"data row3 col4\" >25%</td>\n",
       "      <td id=\"T_6aadf_row3_col5\" class=\"data row3 col5\" >4%</td>\n",
       "      <td id=\"T_6aadf_row3_col6\" class=\"data row3 col6\" >1%</td>\n",
       "      <td id=\"T_6aadf_row3_col7\" class=\"data row3 col7\" >3%</td>\n",
       "    </tr>\n",
       "    <tr>\n",
       "      <th id=\"T_6aadf_level0_row4\" class=\"row_heading level0 row4\" >Asia</th>\n",
       "      <th id=\"T_6aadf_level1_row4\" class=\"row_heading level1 row4\" >Azerbaijan</th>\n",
       "      <td id=\"T_6aadf_row4_col0\" class=\"data row4 col0\" >0%</td>\n",
       "      <td id=\"T_6aadf_row4_col1\" class=\"data row4 col1\" >33%</td>\n",
       "      <td id=\"T_6aadf_row4_col2\" class=\"data row4 col2\" >65%</td>\n",
       "      <td id=\"T_6aadf_row4_col3\" class=\"data row4 col3\" >0%</td>\n",
       "      <td id=\"T_6aadf_row4_col4\" class=\"data row4 col4\" >2%</td>\n",
       "      <td id=\"T_6aadf_row4_col5\" class=\"data row4 col5\" >0%</td>\n",
       "      <td id=\"T_6aadf_row4_col6\" class=\"data row4 col6\" >0%</td>\n",
       "      <td id=\"T_6aadf_row4_col7\" class=\"data row4 col7\" >0%</td>\n",
       "    </tr>\n",
       "  </tbody>\n",
       "</table>\n"
      ],
      "text/plain": [
       "<pandas.io.formats.style.Styler at 0x1516daf90>"
      ]
     },
     "execution_count": 1,
     "metadata": {},
     "output_type": "execute_result"
    }
   ],
   "source": [
    "import prince\n",
    "\n",
    "dataset = prince.datasets.load_energy_mix(year=2019, normalize=True)\n",
    "dataset.head().style.format('{:.0%}')"
   ]
  },
  {
   "attachments": {},
   "cell_type": "markdown",
   "metadata": {},
   "source": [
    "## Fitting"
   ]
  },
  {
   "attachments": {},
   "cell_type": "markdown",
   "metadata": {},
   "source": [
    "The `PCA` estimator implements the `fit/transform` API from scikit-learn."
   ]
  },
  {
   "cell_type": "code",
   "execution_count": 2,
   "metadata": {
    "execution": {
     "iopub.execute_input": "2024-09-07T18:18:09.271364Z",
     "iopub.status.busy": "2024-09-07T18:18:09.271251Z",
     "iopub.status.idle": "2024-09-07T18:18:09.291194Z",
     "shell.execute_reply": "2024-09-07T18:18:09.288509Z"
    }
   },
   "outputs": [],
   "source": [
    "pca = prince.PCA(\n",
    "    n_components=3,\n",
    "    n_iter=3,\n",
    "    rescale_with_mean=True,\n",
    "    rescale_with_std=True,\n",
    "    copy=True,\n",
    "    check_input=True,\n",
    "    engine='sklearn',\n",
    "    random_state=42\n",
    ")\n",
    "pca = pca.fit(\n",
    "    dataset,\n",
    "    sample_weight=None,\n",
    "    column_weight=None,\n",
    "    supplementary_columns=None\n",
    ")"
   ]
  },
  {
   "attachments": {},
   "cell_type": "markdown",
   "metadata": {},
   "source": [
    "The available parameters are:\n",
    "\n",
    "- `n_components` — the number of components that are computed. You only need two if your intention is to visualize the two major components.\n",
    "- `n_iter` — the number of iterations used for computing the SVD.\n",
    "- `rescale_with_mean` — whether to substract each column's mean\n",
    "- `rescale_with_std` — whether to divide each column by it's standard deviation\n",
    "- `copy` — if `False` then the computations will be done inplace which can have possible side-effects on the input data\n",
    "- `engine` — what SVD engine to use (should be one of `['fbpca', 'sklearn']`)\n",
    "- `random_state` — controls the randomness of the SVD results.\n",
    "\n",
    "These methods are common to other Prince estimators."
   ]
  },
  {
   "attachments": {},
   "cell_type": "markdown",
   "metadata": {},
   "source": [
    "## Eigenvalues\n",
    "\n",
    "The importance of a principal component is indicated by the proportion of dataset inertia it explains. This is called the explained inertia, and is obtained by dividing the eigenvalues obtained with SVD by the total inertia.\n",
    "\n",
    "The ideal situation is when a large share of inertia is explained by a low number of principal components."
   ]
  },
  {
   "cell_type": "code",
   "execution_count": 3,
   "metadata": {
    "execution": {
     "iopub.execute_input": "2024-09-07T18:18:09.300402Z",
     "iopub.status.busy": "2024-09-07T18:18:09.299102Z",
     "iopub.status.idle": "2024-09-07T18:18:09.328527Z",
     "shell.execute_reply": "2024-09-07T18:18:09.324400Z"
    }
   },
   "outputs": [
    {
     "data": {
      "text/html": [
       "<div>\n",
       "<style scoped>\n",
       "    .dataframe tbody tr th:only-of-type {\n",
       "        vertical-align: middle;\n",
       "    }\n",
       "\n",
       "    .dataframe tbody tr th {\n",
       "        vertical-align: top;\n",
       "    }\n",
       "\n",
       "    .dataframe thead th {\n",
       "        text-align: right;\n",
       "    }\n",
       "</style>\n",
       "<table border=\"1\" class=\"dataframe\">\n",
       "  <thead>\n",
       "    <tr style=\"text-align: right;\">\n",
       "      <th></th>\n",
       "      <th>eigenvalue</th>\n",
       "      <th>% of variance</th>\n",
       "      <th>% of variance (cumulative)</th>\n",
       "    </tr>\n",
       "    <tr>\n",
       "      <th>component</th>\n",
       "      <th></th>\n",
       "      <th></th>\n",
       "      <th></th>\n",
       "    </tr>\n",
       "  </thead>\n",
       "  <tbody>\n",
       "    <tr>\n",
       "      <th>0</th>\n",
       "      <td>1.963</td>\n",
       "      <td>24.54%</td>\n",
       "      <td>24.54%</td>\n",
       "    </tr>\n",
       "    <tr>\n",
       "      <th>1</th>\n",
       "      <td>1.561</td>\n",
       "      <td>19.51%</td>\n",
       "      <td>44.05%</td>\n",
       "    </tr>\n",
       "    <tr>\n",
       "      <th>2</th>\n",
       "      <td>1.403</td>\n",
       "      <td>17.54%</td>\n",
       "      <td>61.59%</td>\n",
       "    </tr>\n",
       "  </tbody>\n",
       "</table>\n",
       "</div>"
      ],
      "text/plain": [
       "          eigenvalue % of variance % of variance (cumulative)\n",
       "component                                                    \n",
       "0              1.963        24.54%                     24.54%\n",
       "1              1.561        19.51%                     44.05%\n",
       "2              1.403        17.54%                     61.59%"
      ]
     },
     "execution_count": 3,
     "metadata": {},
     "output_type": "execute_result"
    }
   ],
   "source": [
    "pca.eigenvalues_summary"
   ]
  },
  {
   "attachments": {},
   "cell_type": "markdown",
   "metadata": {},
   "source": [
    "In this dataset, the first three components explain ~62% of the dataset inertia. This isn't great, but isn't bad either.\n",
    "\n",
    "The columns in the above table are also available as separate attributes:"
   ]
  },
  {
   "cell_type": "code",
   "execution_count": 4,
   "metadata": {
    "execution": {
     "iopub.execute_input": "2024-09-07T18:18:09.337429Z",
     "iopub.status.busy": "2024-09-07T18:18:09.337125Z",
     "iopub.status.idle": "2024-09-07T18:18:09.372888Z",
     "shell.execute_reply": "2024-09-07T18:18:09.371573Z"
    }
   },
   "outputs": [
    {
     "data": {
      "text/plain": [
       "array([1.96301214, 1.56069986, 1.40327823])"
      ]
     },
     "execution_count": 4,
     "metadata": {},
     "output_type": "execute_result"
    }
   ],
   "source": [
    "pca.eigenvalues_"
   ]
  },
  {
   "cell_type": "code",
   "execution_count": 5,
   "metadata": {
    "execution": {
     "iopub.execute_input": "2024-09-07T18:18:09.380475Z",
     "iopub.status.busy": "2024-09-07T18:18:09.380084Z",
     "iopub.status.idle": "2024-09-07T18:18:09.403501Z",
     "shell.execute_reply": "2024-09-07T18:18:09.402663Z"
    }
   },
   "outputs": [
    {
     "data": {
      "text/plain": [
       "array([24.5376518 , 19.50874822, 17.54097785])"
      ]
     },
     "execution_count": 5,
     "metadata": {},
     "output_type": "execute_result"
    }
   ],
   "source": [
    "pca.percentage_of_variance_"
   ]
  },
  {
   "cell_type": "code",
   "execution_count": 6,
   "metadata": {
    "execution": {
     "iopub.execute_input": "2024-09-07T18:18:09.406971Z",
     "iopub.status.busy": "2024-09-07T18:18:09.406847Z",
     "iopub.status.idle": "2024-09-07T18:18:09.421187Z",
     "shell.execute_reply": "2024-09-07T18:18:09.420420Z"
    }
   },
   "outputs": [
    {
     "data": {
      "text/plain": [
       "array([24.5376518 , 44.04640003, 61.58737788])"
      ]
     },
     "execution_count": 6,
     "metadata": {},
     "output_type": "execute_result"
    }
   ],
   "source": [
    "pca.cumulative_percentage_of_variance_"
   ]
  },
  {
   "attachments": {},
   "cell_type": "markdown",
   "metadata": {},
   "source": [
    "Eigenvalues can also be visualized with a [scree plot](https://www.wikiwand.com/en/Scree_plot)."
   ]
  },
  {
   "cell_type": "code",
   "execution_count": 8,
   "metadata": {
    "execution": {
     "iopub.execute_input": "2024-09-07T18:18:09.427611Z",
     "iopub.status.busy": "2024-09-07T18:18:09.427032Z",
     "iopub.status.idle": "2024-09-07T18:18:09.473965Z",
     "shell.execute_reply": "2024-09-07T18:18:09.471929Z"
    }
   },
   "outputs": [
    {
     "data": {
      "text/html": [
       "\n",
       "<style>\n",
       "  #altair-viz-fe0664427ad54920b27f1e1626e6a351.vega-embed {\n",
       "    width: 100%;\n",
       "    display: flex;\n",
       "  }\n",
       "\n",
       "  #altair-viz-fe0664427ad54920b27f1e1626e6a351.vega-embed details,\n",
       "  #altair-viz-fe0664427ad54920b27f1e1626e6a351.vega-embed details summary {\n",
       "    position: relative;\n",
       "  }\n",
       "</style>\n",
       "<div id=\"altair-viz-fe0664427ad54920b27f1e1626e6a351\"></div>\n",
       "<script type=\"text/javascript\">\n",
       "  var VEGA_DEBUG = (typeof VEGA_DEBUG == \"undefined\") ? {} : VEGA_DEBUG;\n",
       "  (function(spec, embedOpt){\n",
       "    let outputDiv = document.currentScript.previousElementSibling;\n",
       "    if (outputDiv.id !== \"altair-viz-fe0664427ad54920b27f1e1626e6a351\") {\n",
       "      outputDiv = document.getElementById(\"altair-viz-fe0664427ad54920b27f1e1626e6a351\");\n",
       "    }\n",
       "\n",
       "    const paths = {\n",
       "      \"vega\": \"https://cdn.jsdelivr.net/npm/vega@5?noext\",\n",
       "      \"vega-lib\": \"https://cdn.jsdelivr.net/npm/vega-lib?noext\",\n",
       "      \"vega-lite\": \"https://cdn.jsdelivr.net/npm/vega-lite@5.20.1?noext\",\n",
       "      \"vega-embed\": \"https://cdn.jsdelivr.net/npm/vega-embed@6?noext\",\n",
       "    };\n",
       "\n",
       "    function maybeLoadScript(lib, version) {\n",
       "      var key = `${lib.replace(\"-\", \"\")}_version`;\n",
       "      return (VEGA_DEBUG[key] == version) ?\n",
       "        Promise.resolve(paths[lib]) :\n",
       "        new Promise(function(resolve, reject) {\n",
       "          var s = document.createElement('script');\n",
       "          document.getElementsByTagName(\"head\")[0].appendChild(s);\n",
       "          s.async = true;\n",
       "          s.onload = () => {\n",
       "            VEGA_DEBUG[key] = version;\n",
       "            return resolve(paths[lib]);\n",
       "          };\n",
       "          s.onerror = () => reject(`Error loading script: ${paths[lib]}`);\n",
       "          s.src = paths[lib];\n",
       "        });\n",
       "    }\n",
       "\n",
       "    function showError(err) {\n",
       "      outputDiv.innerHTML = `<div class=\"error\" style=\"color:red;\">${err}</div>`;\n",
       "      throw err;\n",
       "    }\n",
       "\n",
       "    function displayChart(vegaEmbed) {\n",
       "      vegaEmbed(outputDiv, spec, embedOpt)\n",
       "        .catch(err => showError(`Javascript Error: ${err.message}<br>This usually means there's a typo in your chart specification. See the javascript console for the full traceback.`));\n",
       "    }\n",
       "\n",
       "    if(typeof define === \"function\" && define.amd) {\n",
       "      requirejs.config({paths});\n",
       "      let deps = [\"vega-embed\"];\n",
       "      require(deps, displayChart, err => showError(`Error loading script: ${err.message}`));\n",
       "    } else {\n",
       "      maybeLoadScript(\"vega\", \"5\")\n",
       "        .then(() => maybeLoadScript(\"vega-lite\", \"5.20.1\"))\n",
       "        .then(() => maybeLoadScript(\"vega-embed\", \"6\"))\n",
       "        .catch(showError)\n",
       "        .then(() => displayChart(vegaEmbed));\n",
       "    }\n",
       "  })({\"config\": {\"view\": {\"continuousWidth\": 300, \"continuousHeight\": 300}}, \"data\": {\"name\": \"data-fb982e5c88c6242d699547a8100b6579\"}, \"mark\": {\"type\": \"bar\", \"size\": 10}, \"encoding\": {\"tooltip\": [{\"field\": \"component\", \"type\": \"nominal\"}, {\"field\": \"eigenvalue\", \"type\": \"quantitative\"}, {\"field\": \"% of variance\", \"type\": \"quantitative\"}, {\"field\": \"% of variance (cumulative)\", \"type\": \"quantitative\"}], \"x\": {\"field\": \"component\", \"type\": \"nominal\"}, \"y\": {\"field\": \"eigenvalue\", \"type\": \"quantitative\"}}, \"$schema\": \"https://vega.github.io/schema/vega-lite/v5.20.1.json\", \"datasets\": {\"data-fb982e5c88c6242d699547a8100b6579\": [{\"component\": \"0\", \"eigenvalue\": 1.9630121441911244, \"% of variance\": 24.53765180238906, \"% of variance (cumulative)\": 24.53765180238906}, {\"component\": \"1\", \"eigenvalue\": 1.5606998579915585, \"% of variance\": 19.50874822489449, \"% of variance (cumulative)\": 44.04640002728355}, {\"component\": \"2\", \"eigenvalue\": 1.403278228068708, \"% of variance\": 17.540977850858855, \"% of variance (cumulative)\": 61.587377878142405}]}}, {\"mode\": \"vega-lite\"});\n",
       "</script>"
      ],
      "text/plain": [
       "alt.Chart(...)"
      ]
     },
     "execution_count": 8,
     "metadata": {},
     "output_type": "execute_result"
    }
   ],
   "source": [
    "pca.scree_plot()"
   ]
  },
  {
   "attachments": {},
   "cell_type": "markdown",
   "metadata": {},
   "source": [
    "## Coordinates\n",
    "\n",
    "The row principal coordinates can be obtained once the `PCA` has been fitted to the data."
   ]
  },
  {
   "cell_type": "code",
   "execution_count": 9,
   "metadata": {
    "execution": {
     "iopub.execute_input": "2024-09-07T18:18:09.478918Z",
     "iopub.status.busy": "2024-09-07T18:18:09.478041Z",
     "iopub.status.idle": "2024-09-07T18:18:09.495653Z",
     "shell.execute_reply": "2024-09-07T18:18:09.494913Z"
    }
   },
   "outputs": [
    {
     "data": {
      "text/html": [
       "<div>\n",
       "<style scoped>\n",
       "    .dataframe tbody tr th:only-of-type {\n",
       "        vertical-align: middle;\n",
       "    }\n",
       "\n",
       "    .dataframe tbody tr th {\n",
       "        vertical-align: top;\n",
       "    }\n",
       "\n",
       "    .dataframe thead th {\n",
       "        text-align: right;\n",
       "    }\n",
       "</style>\n",
       "<table border=\"1\" class=\"dataframe\">\n",
       "  <thead>\n",
       "    <tr style=\"text-align: right;\">\n",
       "      <th></th>\n",
       "      <th>component</th>\n",
       "      <th>0</th>\n",
       "      <th>1</th>\n",
       "      <th>2</th>\n",
       "    </tr>\n",
       "    <tr>\n",
       "      <th>continent</th>\n",
       "      <th>country</th>\n",
       "      <th></th>\n",
       "      <th></th>\n",
       "      <th></th>\n",
       "    </tr>\n",
       "  </thead>\n",
       "  <tbody>\n",
       "    <tr>\n",
       "      <th>Africa</th>\n",
       "      <th>Algeria</th>\n",
       "      <td>-2.189068</td>\n",
       "      <td>0.380243</td>\n",
       "      <td>-0.388572</td>\n",
       "    </tr>\n",
       "    <tr>\n",
       "      <th>South America</th>\n",
       "      <th>Argentina</th>\n",
       "      <td>-1.244981</td>\n",
       "      <td>0.801917</td>\n",
       "      <td>-0.389456</td>\n",
       "    </tr>\n",
       "    <tr>\n",
       "      <th>Oceania</th>\n",
       "      <th>Australia</th>\n",
       "      <td>0.203969</td>\n",
       "      <td>-1.470254</td>\n",
       "      <td>0.531819</td>\n",
       "    </tr>\n",
       "    <tr>\n",
       "      <th>Europe</th>\n",
       "      <th>Austria</th>\n",
       "      <td>0.847122</td>\n",
       "      <td>1.008296</td>\n",
       "      <td>-0.521998</td>\n",
       "    </tr>\n",
       "    <tr>\n",
       "      <th>Asia</th>\n",
       "      <th>Azerbaijan</th>\n",
       "      <td>-2.190535</td>\n",
       "      <td>0.632250</td>\n",
       "      <td>-0.365515</td>\n",
       "    </tr>\n",
       "  </tbody>\n",
       "</table>\n",
       "</div>"
      ],
      "text/plain": [
       "component                        0         1         2\n",
       "continent     country                                 \n",
       "Africa        Algeria    -2.189068  0.380243 -0.388572\n",
       "South America Argentina  -1.244981  0.801917 -0.389456\n",
       "Oceania       Australia   0.203969 -1.470254  0.531819\n",
       "Europe        Austria     0.847122  1.008296 -0.521998\n",
       "Asia          Azerbaijan -2.190535  0.632250 -0.365515"
      ]
     },
     "execution_count": 9,
     "metadata": {},
     "output_type": "execute_result"
    }
   ],
   "source": [
    "pca.transform(dataset).head()"
   ]
  },
  {
   "attachments": {},
   "cell_type": "markdown",
   "metadata": {},
   "source": [
    "The `transform` method is in fact an alias for `row_coordinates`:"
   ]
  },
  {
   "cell_type": "code",
   "execution_count": 10,
   "metadata": {
    "execution": {
     "iopub.execute_input": "2024-09-07T18:18:09.506575Z",
     "iopub.status.busy": "2024-09-07T18:18:09.504996Z",
     "iopub.status.idle": "2024-09-07T18:18:09.520571Z",
     "shell.execute_reply": "2024-09-07T18:18:09.519704Z"
    }
   },
   "outputs": [
    {
     "data": {
      "text/plain": [
       "True"
      ]
     },
     "execution_count": 10,
     "metadata": {},
     "output_type": "execute_result"
    }
   ],
   "source": [
    "pca.transform(dataset).equals(pca.row_coordinates(dataset))"
   ]
  },
  {
   "attachments": {},
   "cell_type": "markdown",
   "metadata": {},
   "source": [
    "This is transforming the original dataset into factor scores."
   ]
  },
  {
   "attachments": {},
   "cell_type": "markdown",
   "metadata": {},
   "source": [
    "The column coordinates are obtained during the PCA training process."
   ]
  },
  {
   "cell_type": "code",
   "execution_count": 11,
   "metadata": {
    "execution": {
     "iopub.execute_input": "2024-09-07T18:18:09.529498Z",
     "iopub.status.busy": "2024-09-07T18:18:09.529021Z",
     "iopub.status.idle": "2024-09-07T18:18:09.543294Z",
     "shell.execute_reply": "2024-09-07T18:18:09.542154Z"
    }
   },
   "outputs": [
    {
     "data": {
      "text/html": [
       "<div>\n",
       "<style scoped>\n",
       "    .dataframe tbody tr th:only-of-type {\n",
       "        vertical-align: middle;\n",
       "    }\n",
       "\n",
       "    .dataframe tbody tr th {\n",
       "        vertical-align: top;\n",
       "    }\n",
       "\n",
       "    .dataframe thead th {\n",
       "        text-align: right;\n",
       "    }\n",
       "</style>\n",
       "<table border=\"1\" class=\"dataframe\">\n",
       "  <thead>\n",
       "    <tr style=\"text-align: right;\">\n",
       "      <th>component</th>\n",
       "      <th>0</th>\n",
       "      <th>1</th>\n",
       "      <th>2</th>\n",
       "    </tr>\n",
       "    <tr>\n",
       "      <th>variable</th>\n",
       "      <th></th>\n",
       "      <th></th>\n",
       "      <th></th>\n",
       "    </tr>\n",
       "  </thead>\n",
       "  <tbody>\n",
       "    <tr>\n",
       "      <th>coal</th>\n",
       "      <td>0.230205</td>\n",
       "      <td>-0.395474</td>\n",
       "      <td>0.740748</td>\n",
       "    </tr>\n",
       "    <tr>\n",
       "      <th>oil</th>\n",
       "      <td>0.176200</td>\n",
       "      <td>-0.418917</td>\n",
       "      <td>-0.737855</td>\n",
       "    </tr>\n",
       "    <tr>\n",
       "      <th>gas</th>\n",
       "      <td>-0.866927</td>\n",
       "      <td>0.182990</td>\n",
       "      <td>-0.096857</td>\n",
       "    </tr>\n",
       "    <tr>\n",
       "      <th>nuclear</th>\n",
       "      <td>0.310313</td>\n",
       "      <td>-0.002598</td>\n",
       "      <td>0.400608</td>\n",
       "    </tr>\n",
       "    <tr>\n",
       "      <th>hydro</th>\n",
       "      <td>0.440383</td>\n",
       "      <td>0.744815</td>\n",
       "      <td>-0.016375</td>\n",
       "    </tr>\n",
       "    <tr>\n",
       "      <th>wind</th>\n",
       "      <td>0.518712</td>\n",
       "      <td>-0.161507</td>\n",
       "      <td>-0.364593</td>\n",
       "    </tr>\n",
       "    <tr>\n",
       "      <th>solar</th>\n",
       "      <td>0.415677</td>\n",
       "      <td>-0.589288</td>\n",
       "      <td>0.001012</td>\n",
       "    </tr>\n",
       "    <tr>\n",
       "      <th>other renewables</th>\n",
       "      <td>0.628750</td>\n",
       "      <td>0.516935</td>\n",
       "      <td>-0.084114</td>\n",
       "    </tr>\n",
       "  </tbody>\n",
       "</table>\n",
       "</div>"
      ],
      "text/plain": [
       "component                0         1         2\n",
       "variable                                      \n",
       "coal              0.230205 -0.395474  0.740748\n",
       "oil               0.176200 -0.418917 -0.737855\n",
       "gas              -0.866927  0.182990 -0.096857\n",
       "nuclear           0.310313 -0.002598  0.400608\n",
       "hydro             0.440383  0.744815 -0.016375\n",
       "wind              0.518712 -0.161507 -0.364593\n",
       "solar             0.415677 -0.589288  0.001012\n",
       "other renewables  0.628750  0.516935 -0.084114"
      ]
     },
     "execution_count": 11,
     "metadata": {},
     "output_type": "execute_result"
    }
   ],
   "source": [
    "pca.column_coordinates_"
   ]
  },
  {
   "attachments": {},
   "cell_type": "markdown",
   "metadata": {},
   "source": [
    "## Visualization"
   ]
  },
  {
   "attachments": {},
   "cell_type": "markdown",
   "metadata": {},
   "source": [
    "The row and column coordinates be visualized together with a scatter chart."
   ]
  },
  {
   "cell_type": "code",
   "execution_count": 12,
   "metadata": {
    "execution": {
     "iopub.execute_input": "2024-09-07T18:18:09.546954Z",
     "iopub.status.busy": "2024-09-07T18:18:09.546822Z",
     "iopub.status.idle": "2024-09-07T18:18:09.597311Z",
     "shell.execute_reply": "2024-09-07T18:18:09.597035Z"
    }
   },
   "outputs": [
    {
     "data": {
      "text/html": [
       "\n",
       "<style>\n",
       "  #altair-viz-32580f15d5bb4336be074e5b7f167642.vega-embed {\n",
       "    width: 100%;\n",
       "    display: flex;\n",
       "  }\n",
       "\n",
       "  #altair-viz-32580f15d5bb4336be074e5b7f167642.vega-embed details,\n",
       "  #altair-viz-32580f15d5bb4336be074e5b7f167642.vega-embed details summary {\n",
       "    position: relative;\n",
       "  }\n",
       "</style>\n",
       "<div id=\"altair-viz-32580f15d5bb4336be074e5b7f167642\"></div>\n",
       "<script type=\"text/javascript\">\n",
       "  var VEGA_DEBUG = (typeof VEGA_DEBUG == \"undefined\") ? {} : VEGA_DEBUG;\n",
       "  (function(spec, embedOpt){\n",
       "    let outputDiv = document.currentScript.previousElementSibling;\n",
       "    if (outputDiv.id !== \"altair-viz-32580f15d5bb4336be074e5b7f167642\") {\n",
       "      outputDiv = document.getElementById(\"altair-viz-32580f15d5bb4336be074e5b7f167642\");\n",
       "    }\n",
       "\n",
       "    const paths = {\n",
       "      \"vega\": \"https://cdn.jsdelivr.net/npm/vega@5?noext\",\n",
       "      \"vega-lib\": \"https://cdn.jsdelivr.net/npm/vega-lib?noext\",\n",
       "      \"vega-lite\": \"https://cdn.jsdelivr.net/npm/vega-lite@5.20.1?noext\",\n",
       "      \"vega-embed\": \"https://cdn.jsdelivr.net/npm/vega-embed@6?noext\",\n",
       "    };\n",
       "\n",
       "    function maybeLoadScript(lib, version) {\n",
       "      var key = `${lib.replace(\"-\", \"\")}_version`;\n",
       "      return (VEGA_DEBUG[key] == version) ?\n",
       "        Promise.resolve(paths[lib]) :\n",
       "        new Promise(function(resolve, reject) {\n",
       "          var s = document.createElement('script');\n",
       "          document.getElementsByTagName(\"head\")[0].appendChild(s);\n",
       "          s.async = true;\n",
       "          s.onload = () => {\n",
       "            VEGA_DEBUG[key] = version;\n",
       "            return resolve(paths[lib]);\n",
       "          };\n",
       "          s.onerror = () => reject(`Error loading script: ${paths[lib]}`);\n",
       "          s.src = paths[lib];\n",
       "        });\n",
       "    }\n",
       "\n",
       "    function showError(err) {\n",
       "      outputDiv.innerHTML = `<div class=\"error\" style=\"color:red;\">${err}</div>`;\n",
       "      throw err;\n",
       "    }\n",
       "\n",
       "    function displayChart(vegaEmbed) {\n",
       "      vegaEmbed(outputDiv, spec, embedOpt)\n",
       "        .catch(err => showError(`Javascript Error: ${err.message}<br>This usually means there's a typo in your chart specification. See the javascript console for the full traceback.`));\n",
       "    }\n",
       "\n",
       "    if(typeof define === \"function\" && define.amd) {\n",
       "      requirejs.config({paths});\n",
       "      let deps = [\"vega-embed\"];\n",
       "      require(deps, displayChart, err => showError(`Error loading script: ${err.message}`));\n",
       "    } else {\n",
       "      maybeLoadScript(\"vega\", \"5\")\n",
       "        .then(() => maybeLoadScript(\"vega-lite\", \"5.20.1\"))\n",
       "        .then(() => maybeLoadScript(\"vega-embed\", \"6\"))\n",
       "        .catch(showError)\n",
       "        .then(() => displayChart(vegaEmbed));\n",
       "    }\n",
       "  })({\"config\": {\"view\": {\"continuousWidth\": 300, \"continuousHeight\": 300}}, \"layer\": [{\"data\": {\"name\": \"data-b850a2be29b00d5d9b97c8b3eec3b6c0\"}, \"mark\": {\"type\": \"circle\", \"size\": 50}, \"encoding\": {\"color\": {\"field\": \"continent\", \"type\": \"nominal\"}, \"tooltip\": [{\"field\": \"continent\", \"type\": \"nominal\"}, {\"field\": \"country\", \"type\": \"nominal\"}, {\"field\": \"component 0\", \"type\": \"quantitative\"}, {\"field\": \"component 1\", \"type\": \"quantitative\"}], \"x\": {\"axis\": {\"title\": \"component 0 \\u2014 24.54%\"}, \"field\": \"component 0\", \"scale\": {\"zero\": false}, \"type\": \"quantitative\"}, \"y\": {\"axis\": {\"title\": \"component 1 \\u2014 19.51%\"}, \"field\": \"component 1\", \"scale\": {\"zero\": false}, \"type\": \"quantitative\"}}, \"name\": \"view_1\"}, {\"data\": {\"name\": \"data-80a633a4265745509a95665888016bde\"}, \"mark\": {\"type\": \"square\", \"color\": \"green\", \"size\": 50}, \"encoding\": {\"tooltip\": [{\"field\": \"variable\", \"type\": \"nominal\"}], \"x\": {\"field\": \"component 0\", \"scale\": {\"zero\": false}, \"type\": \"quantitative\"}, \"y\": {\"field\": \"component 1\", \"scale\": {\"zero\": false}, \"type\": \"quantitative\"}}}], \"params\": [{\"name\": \"param_1\", \"select\": {\"type\": \"interval\", \"encodings\": [\"x\", \"y\"]}, \"bind\": \"scales\", \"views\": [\"view_1\"]}], \"$schema\": \"https://vega.github.io/schema/vega-lite/v5.20.1.json\", \"datasets\": {\"data-b850a2be29b00d5d9b97c8b3eec3b6c0\": [{\"continent\": \"Africa\", \"country\": \"Algeria\", \"component 0\": -2.1890683235018233, \"component 1\": 0.3802430845833788, \"component 2\": -0.3885720088528763, \"label\": \"Africa\"}, {\"continent\": \"South America\", \"country\": \"Argentina\", \"component 0\": -1.244980913684456, \"component 1\": 0.8019170914196362, \"component 2\": -0.3894555350426197, \"label\": \"South America\"}, {\"continent\": \"Oceania\", \"country\": \"Australia\", \"component 0\": 0.20396903697830118, \"component 1\": -1.4702539632688734, \"component 2\": 0.5318189014543393, \"label\": \"Oceania\"}, {\"continent\": \"Europe\", \"country\": \"Austria\", \"component 0\": 0.8471216351969462, \"component 1\": 1.0082962135958766, \"component 2\": -0.5219975517003507, \"label\": \"Europe\"}, {\"continent\": \"Asia\", \"country\": \"Azerbaijan\", \"component 0\": -2.190534789276699, \"component 1\": 0.6322502201648081, \"component 2\": -0.3655152611379345, \"label\": \"Asia\"}, {\"continent\": \"Asia\", \"country\": \"Bangladesh\", \"component 0\": -2.3971270086304, \"component 1\": 0.5978805199941839, \"component 2\": 0.4046984796365885, \"label\": \"Asia\"}, {\"continent\": \"Europe\", \"country\": \"Belarus\", \"component 0\": -2.2490126966151553, \"component 1\": 0.513037817675148, \"component 2\": -0.11468609899301455, \"label\": \"Europe\"}, {\"continent\": \"Europe\", \"country\": \"Belgium\", \"component 0\": 0.5129552509797372, \"component 1\": -0.7918525399485179, \"component 2\": -0.400805133561504, \"label\": \"Europe\"}, {\"continent\": \"South America\", \"country\": \"Brazil\", \"component 0\": 1.4326021939469018, \"component 1\": 1.6174697914842957, \"component 2\": -0.7258786903436256, \"label\": \"South America\"}, {\"continent\": \"Europe\", \"country\": \"Bulgaria\", \"component 0\": 1.1854225672961225, \"component 1\": -1.0657556131268424, \"component 2\": 1.7702403719829238, \"label\": \"Europe\"}, {\"continent\": \"North America\", \"country\": \"Canada\", \"component 0\": -0.049356119382544604, \"component 1\": 1.3314516816840887, \"component 2\": 0.018472770393799413, \"label\": \"North America\"}, {\"continent\": \"South America\", \"country\": \"Chile\", \"component 0\": 1.8701488621321474, \"component 1\": -1.0171233793722634, \"component 2\": -0.4074232445136726, \"label\": \"South America\"}, {\"continent\": \"Asia\", \"country\": \"China\", \"component 0\": 0.8976977193613286, \"component 1\": -0.9862977117676223, \"component 2\": 2.3639948820355303, \"label\": \"Asia\"}, {\"continent\": \"South America\", \"country\": \"Colombia\", \"component 0\": -0.2154695361795948, \"component 1\": 1.2353495946295205, \"component 2\": 0.10620523150313795, \"label\": \"South America\"}, {\"continent\": \"Europe\", \"country\": \"Croatia\", \"component 0\": -0.026051450970709145, \"component 1\": 0.8354359363062082, \"component 2\": -0.7742553973185138, \"label\": \"Europe\"}, {\"continent\": \"Asia\", \"country\": \"Cyprus\", \"component 0\": 0.8687868577482053, \"component 1\": -2.089658829543827, \"component 2\": -2.6956083161960565, \"label\": \"Asia\"}, {\"continent\": \"Europe\", \"country\": \"Czechia\", \"component 0\": 0.6274389636722517, \"component 1\": -0.5459233709324809, \"component 2\": 2.071009507937308, \"label\": \"Europe\"}, {\"continent\": \"Europe\", \"country\": \"Denmark\", \"component 0\": 3.0954896363993316, \"component 1\": -0.6040755184733508, \"component 2\": -2.602856386619379, \"label\": \"Europe\"}, {\"continent\": \"South America\", \"country\": \"Ecuador\", \"component 0\": 0.6808765946846779, \"component 1\": 0.8603121903708671, \"component 2\": -1.4821750668448976, \"label\": \"South America\"}, {\"continent\": \"Africa\", \"country\": \"Egypt\", \"component 0\": -1.5166340436710188, \"component 1\": 0.009928284038981449, \"component 2\": -0.5178544939343179, \"label\": \"Africa\"}, {\"continent\": \"Europe\", \"country\": \"Estonia\", \"component 0\": 0.8785647112733644, \"component 1\": -0.5073678406599471, \"component 2\": 1.9729502959633245, \"label\": \"Europe\"}, {\"continent\": \"Europe\", \"country\": \"Finland\", \"component 0\": 2.2908229727338494, \"component 1\": 1.3361049807594219, \"component 2\": 0.4412819223444918, \"label\": \"Europe\"}, {\"continent\": \"Europe\", \"country\": \"France\", \"component 0\": 1.1767243389168667, \"component 1\": -0.1590466901417833, \"component 2\": 1.300045189988029, \"label\": \"Europe\"}, {\"continent\": \"Europe\", \"country\": \"Germany\", \"component 0\": 1.6987226706793856, \"component 1\": -1.6244462947865206, \"component 2\": -0.27013965709610416, \"label\": \"Europe\"}, {\"continent\": \"Europe\", \"country\": \"Greece\", \"component 0\": 1.1641812187144127, \"component 1\": -2.1959917702995506, \"component 2\": -1.2614847487094323, \"label\": \"Europe\"}, {\"continent\": \"Asia\", \"country\": \"Hong Kong\", \"component 0\": -0.18207387572526398, \"component 1\": -0.9960252506516383, \"component 2\": -0.8216993717345369, \"label\": \"Asia\"}, {\"continent\": \"Europe\", \"country\": \"Hungary\", \"component 0\": -0.17172022935545553, \"component 1\": -0.3171973578018991, \"component 2\": 0.44121070407512303, \"label\": \"Europe\"}, {\"continent\": \"Europe\", \"country\": \"Iceland\", \"component 0\": 4.261623746019548, \"component 1\": 6.181965785949937, \"component 2\": -0.04944737741798796, \"label\": \"Europe\"}, {\"continent\": \"Asia\", \"country\": \"India\", \"component 0\": 0.7067920410516961, \"component 1\": -1.2084451380419672, \"component 2\": 1.8921935429102272, \"label\": \"Asia\"}, {\"continent\": \"Asia\", \"country\": \"Indonesia\", \"component 0\": -0.2533970158574251, \"component 1\": -0.350626387255743, \"component 2\": 1.0012779252240063, \"label\": \"Asia\"}, {\"continent\": \"Asia\", \"country\": \"Iran\", \"component 0\": -2.2430866645115697, \"component 1\": 0.6641418816126218, \"component 2\": -0.2753243349531586, \"label\": \"Asia\"}, {\"continent\": \"Asia\", \"country\": \"Iraq\", \"component 0\": -1.0580052057598144, \"component 1\": -0.35039451461536497, \"component 2\": -1.549973558652724, \"label\": \"Asia\"}, {\"continent\": \"Europe\", \"country\": \"Ireland\", \"component 0\": 0.5336963001246152, \"component 1\": -0.4485682100956191, \"component 2\": -1.8190945994870815, \"label\": \"Europe\"}, {\"continent\": \"Asia\", \"country\": \"Israel\", \"component 0\": -0.43357802080457675, \"component 1\": -1.3590787033978486, \"component 2\": -0.009822057888143273, \"label\": \"Asia\"}, {\"continent\": \"Europe\", \"country\": \"Italy\", \"component 0\": 0.531037826234275, \"component 1\": -0.9881351985051323, \"component 2\": -0.6555419826155634, \"label\": \"Europe\"}, {\"continent\": \"Asia\", \"country\": \"Japan\", \"component 0\": 0.9244620897722323, \"component 1\": -1.8774672876612843, \"component 2\": 0.5624963727655647, \"label\": \"Asia\"}, {\"continent\": \"Asia\", \"country\": \"Kazakhstan\", \"component 0\": -0.47124257024265664, \"component 1\": -0.44091352991044064, \"component 2\": 2.2147867824958674, \"label\": \"Asia\"}, {\"continent\": \"Asia\", \"country\": \"Kuwait\", \"component 0\": -1.7748853192929985, \"component 1\": 0.09643076396918819, \"component 2\": -0.8635229264379627, \"label\": \"Asia\"}, {\"continent\": \"Europe\", \"country\": \"Latvia\", \"component 0\": 0.01728453626969955, \"component 1\": 1.179337609278463, \"component 2\": -1.0114505979011392, \"label\": \"Europe\"}, {\"continent\": \"Europe\", \"country\": \"Lithuania\", \"component 0\": -0.15035909811193554, \"component 1\": -0.2896754322943194, \"component 2\": -1.5160060480258266, \"label\": \"Europe\"}, {\"continent\": \"Europe\", \"country\": \"Luxembourg\", \"component 0\": 0.02047963133557172, \"component 1\": -0.9037156673027601, \"component 2\": -2.0016290985247984, \"label\": \"Europe\"}, {\"continent\": \"Asia\", \"country\": \"Malaysia\", \"component 0\": -0.9976183920795456, \"component 1\": 0.09023205134834077, \"component 2\": 0.37269472544858645, \"label\": \"Asia\"}, {\"continent\": \"North America\", \"country\": \"Mexico\", \"component 0\": -0.5927887521923528, \"component 1\": -0.5044827811882586, \"component 2\": -0.5464486342203342, \"label\": \"North America\"}, {\"continent\": \"Africa\", \"country\": \"Morocco\", \"component 0\": 0.9505858665860285, \"component 1\": -1.8601647853914756, \"component 2\": -0.4743396521345639, \"label\": \"Africa\"}, {\"continent\": \"Europe\", \"country\": \"Netherlands\", \"component 0\": -0.3677161721064314, \"component 1\": -0.700778674056853, \"component 2\": -0.7817802429951333, \"label\": \"Europe\"}, {\"continent\": \"Oceania\", \"country\": \"New Zealand\", \"component 0\": 1.1874655793567375, \"component 1\": 2.1067984945773763, \"component 2\": -0.5611492015188742, \"label\": \"Oceania\"}, {\"continent\": \"Europe\", \"country\": \"North Macedonia\", \"component 0\": 0.20630503558060723, \"component 1\": -0.342937447916842, \"component 2\": 0.9265787267421638, \"label\": \"Europe\"}, {\"continent\": \"Europe\", \"country\": \"Norway\", \"component 0\": 1.2610276286722437, \"component 1\": 3.4343463147349054, \"component 2\": 0.029857176579483363, \"label\": \"Europe\"}, {\"continent\": \"Asia\", \"country\": \"Oman\", \"component 0\": -2.0859852511976067, \"component 1\": 0.35069242163176767, \"component 2\": -0.5926625994332709, \"label\": \"Asia\"}, {\"continent\": \"Asia\", \"country\": \"Pakistan\", \"component 0\": -1.1124312900847928, \"component 1\": 0.5706273023800144, \"component 2\": 0.5735798414309806, \"label\": \"Asia\"}, {\"continent\": \"South America\", \"country\": \"Peru\", \"component 0\": 0.07634396589763001, \"component 1\": 1.0433687069166266, \"component 2\": -0.7441762552237493, \"label\": \"South America\"}, {\"continent\": \"Asia\", \"country\": \"Philippines\", \"component 0\": 0.8894342072409068, \"component 1\": -0.2468964149055783, \"component 2\": 0.5587667860124729, \"label\": \"Asia\"}, {\"continent\": \"Europe\", \"country\": \"Poland\", \"component 0\": 0.1137133592001103, \"component 1\": -0.5857586276139185, \"component 2\": 1.2282640075958902, \"label\": \"Europe\"}, {\"continent\": \"Europe\", \"country\": \"Portugal\", \"component 0\": 1.3844655532695105, \"component 1\": -0.45247407141332746, \"component 2\": -1.7529969439179924, \"label\": \"Europe\"}, {\"continent\": \"Asia\", \"country\": \"Qatar\", \"component 0\": -2.581688197730867, \"component 1\": 0.7363708049471175, \"component 2\": -0.14577420703200106, \"label\": \"Asia\"}, {\"continent\": \"Europe\", \"country\": \"Romania\", \"component 0\": 0.25827830907700405, \"component 1\": -0.1778903725331505, \"component 2\": 0.2080623218294354, \"label\": \"Europe\"}, {\"continent\": \"Europe\", \"country\": \"Russia\", \"component 0\": -1.5975710877684557, \"component 1\": 0.7482393765483608, \"component 2\": 0.8398588569996296, \"label\": \"Europe\"}, {\"continent\": \"Asia\", \"country\": \"Saudi Arabia\", \"component 0\": -1.2169511229281023, \"component 1\": -0.34523765455731453, \"component 2\": -1.4084090472883277, \"label\": \"Asia\"}, {\"continent\": \"Asia\", \"country\": \"Singapore\", \"component 0\": -0.33198779523005734, \"component 1\": -0.9423859681500341, \"component 2\": -2.20752337400863, \"label\": \"Asia\"}, {\"continent\": \"Europe\", \"country\": \"Slovakia\", \"component 0\": 0.196213584967387, \"component 1\": 0.19712575555517808, \"component 2\": 1.614929739566174, \"label\": \"Europe\"}, {\"continent\": \"Europe\", \"country\": \"Slovenia\", \"component 0\": 0.7777098608044026, \"component 1\": 0.1412132685637221, \"component 2\": 1.0184547599843974, \"label\": \"Europe\"}, {\"continent\": \"Africa\", \"country\": \"South Africa\", \"component 0\": 0.5767047177260642, \"component 1\": -1.444178882057618, \"component 2\": 2.9287896894089216, \"label\": \"Africa\"}, {\"continent\": \"Asia\", \"country\": \"South Korea\", \"component 0\": 0.21255919897857414, \"component 1\": -0.8402899582816394, \"component 2\": 0.9040241202682462, \"label\": \"Asia\"}, {\"continent\": \"Europe\", \"country\": \"Spain\", \"component 0\": 1.2887741609981112, \"component 1\": -1.359170219689291, \"component 2\": -1.0402238383885443, \"label\": \"Europe\"}, {\"continent\": \"Asia\", \"country\": \"Sri Lanka\", \"component 0\": 0.7667849113239495, \"component 1\": -0.8498151503149699, \"component 2\": -0.9378616716015189, \"label\": \"Asia\"}, {\"continent\": \"Europe\", \"country\": \"Sweden\", \"component 0\": 2.7012133472869806, \"component 1\": 1.7632391683044457, \"component 2\": 0.6496430133001144, \"label\": \"Europe\"}, {\"continent\": \"Europe\", \"country\": \"Switzerland\", \"component 0\": 1.3627720955372418, \"component 1\": 0.6501185516707277, \"component 2\": 0.3609209070176543, \"label\": \"Europe\"}, {\"continent\": \"Asia\", \"country\": \"Taiwan\", \"component 0\": -0.0041978245073466145, \"component 1\": -0.8782300182476007, \"component 2\": 1.027947854688563, \"label\": \"Asia\"}, {\"continent\": \"Asia\", \"country\": \"Thailand\", \"component 0\": -0.4932957709392961, \"component 1\": -0.3635428818635353, \"component 2\": -0.4810303560431038, \"label\": \"Asia\"}, {\"continent\": \"North America\", \"country\": \"Trinidad and Tobago\", \"component 0\": -3.154195968923133, \"component 1\": 1.1571089913273216, \"component 2\": 0.3960492989914801, \"label\": \"North America\"}, {\"continent\": \"Asia\", \"country\": \"Turkey\", \"component 0\": 0.48907944384075, \"component 1\": -0.2427854376570046, \"component 2\": 0.5178495315387406, \"label\": \"Asia\"}, {\"continent\": \"Asia\", \"country\": \"Turkmenistan\", \"component 0\": -2.784632362862852, \"component 1\": 0.8777726862265139, \"component 2\": 0.041766802057585935, \"label\": \"Asia\"}, {\"continent\": \"Europe\", \"country\": \"Ukraine\", \"component 0\": -0.1381753195659778, \"component 1\": -0.19800889876221428, \"component 2\": 2.6915173157901466, \"label\": \"Europe\"}, {\"continent\": \"Asia\", \"country\": \"United Arab Emirates\", \"component 0\": -1.7351268299856142, \"component 1\": -0.10457038663939608, \"component 2\": -0.5342744711637402, \"label\": \"Asia\"}, {\"continent\": \"Europe\", \"country\": \"United Kingdom\", \"component 0\": 0.6423607687028606, \"component 1\": -0.32629836707262644, \"component 2\": -0.8481142361091327, \"label\": \"Europe\"}, {\"continent\": \"North America\", \"country\": \"United States\", \"component 0\": -0.14448373905480857, \"component 1\": -0.4650541756038492, \"component 2\": 0.04667262341161135, \"label\": \"North America\"}, {\"continent\": \"Asia\", \"country\": \"Uzbekistan\", \"component 0\": -3.056247028677703, \"component 1\": 1.3756770657885584, \"component 2\": 0.7986303616593537, \"label\": \"Asia\"}, {\"continent\": \"South America\", \"country\": \"Venezuela\", \"component 0\": -0.9960196887867551, \"component 1\": 1.6832972113795255, \"component 2\": -0.24758555952977288, \"label\": \"South America\"}, {\"continent\": \"Asia\", \"country\": \"Vietnam\", \"component 0\": 0.4390024796272064, \"component 1\": -0.38879424564501, \"component 2\": 1.9690284940800526, \"label\": \"Asia\"}], \"data-80a633a4265745509a95665888016bde\": [{\"variable\": \"coal\", \"component 0\": 0.9810473468195338, \"component 1\": -2.4448066930378376, \"component 2\": 2.1694947146335624, \"label\": \"coal\"}, {\"variable\": \"oil\", \"component 0\": 0.7508967431060225, \"component 1\": -2.5897317036096577, \"component 2\": -2.161022059579648, \"label\": \"oil\"}, {\"variable\": \"gas\", \"component 0\": -3.694517868249385, \"component 1\": 1.131235670220065, \"component 2\": -0.2836737246966873, \"label\": \"gas\"}, {\"variable\": \"nuclear\", \"component 0\": 1.322437831969654, \"component 1\": -0.016057665709922096, \"component 2\": 1.1732979457889494, \"label\": \"nuclear\"}, {\"variable\": \"hydro\", \"component 0\": 1.8767473363399203, \"component 1\": 4.604423444561435, \"component 2\": -0.04795815496062146, \"label\": \"hydro\"}, {\"variable\": \"wind\", \"component 0\": 2.2105568320108224, \"component 1\": -0.9984329958118455, \"component 2\": -1.067816629107604, \"label\": \"wind\"}, {\"variable\": \"solar\", \"component 0\": 1.7714605849411402, \"component 1\": -3.6429558552734256, \"component 2\": 0.0029629852657689273, \"label\": \"solar\"}, {\"variable\": \"other renewables\", \"component 0\": 2.679496725923172, \"component 1\": 3.1956762460643593, \"component 2\": -0.24635147510319505, \"label\": \"other renewables\"}]}}, {\"mode\": \"vega-lite\"});\n",
       "</script>"
      ],
      "text/plain": [
       "alt.LayerChart(...)"
      ]
     },
     "execution_count": 12,
     "metadata": {},
     "output_type": "execute_result"
    }
   ],
   "source": [
    "pca.plot(\n",
    "    dataset,\n",
    "    x_component=0,\n",
    "    y_component=1,\n",
    "    color_rows_by='continent',\n",
    "    show_row_markers=True,\n",
    "    show_column_markers=True,\n",
    "    show_row_labels=False,\n",
    "    row_labels_column=None,  # for DataFrames with a MultiIndex\n",
    "    show_column_labels=False\n",
    ")"
   ]
  },
  {
   "attachments": {},
   "cell_type": "markdown",
   "metadata": {},
   "source": [
    "## Contributions"
   ]
  },
  {
   "cell_type": "code",
   "execution_count": 20,
   "metadata": {
    "execution": {
     "iopub.execute_input": "2024-09-07T18:18:09.598983Z",
     "iopub.status.busy": "2024-09-07T18:18:09.598739Z",
     "iopub.status.idle": "2024-09-07T18:18:09.610045Z",
     "shell.execute_reply": "2024-09-07T18:18:09.609783Z"
    }
   },
   "outputs": [
    {
     "data": {
      "text/html": [
       "<style type=\"text/css\">\n",
       "</style>\n",
       "<table id=\"T_856b5\">\n",
       "  <thead>\n",
       "    <tr>\n",
       "      <th class=\"blank\" >&nbsp;</th>\n",
       "      <th class=\"index_name level0\" >component</th>\n",
       "      <th id=\"T_856b5_level0_col0\" class=\"col_heading level0 col0\" >0</th>\n",
       "      <th id=\"T_856b5_level0_col1\" class=\"col_heading level0 col1\" >1</th>\n",
       "      <th id=\"T_856b5_level0_col2\" class=\"col_heading level0 col2\" >2</th>\n",
       "    </tr>\n",
       "    <tr>\n",
       "      <th class=\"index_name level0\" >continent</th>\n",
       "      <th class=\"index_name level1\" >country</th>\n",
       "      <th class=\"blank col0\" >&nbsp;</th>\n",
       "      <th class=\"blank col1\" >&nbsp;</th>\n",
       "      <th class=\"blank col2\" >&nbsp;</th>\n",
       "    </tr>\n",
       "  </thead>\n",
       "  <tbody>\n",
       "    <tr>\n",
       "      <th id=\"T_856b5_level0_row0\" class=\"row_heading level0 row0\" >Africa</th>\n",
       "      <th id=\"T_856b5_level1_row0\" class=\"row_heading level1 row0\" >Algeria</th>\n",
       "      <td id=\"T_856b5_row0_col0\" class=\"data row0 col0\" >3%</td>\n",
       "      <td id=\"T_856b5_row0_col1\" class=\"data row0 col1\" >0%</td>\n",
       "      <td id=\"T_856b5_row0_col2\" class=\"data row0 col2\" >0%</td>\n",
       "    </tr>\n",
       "    <tr>\n",
       "      <th id=\"T_856b5_level0_row1\" class=\"row_heading level0 row1\" >South America</th>\n",
       "      <th id=\"T_856b5_level1_row1\" class=\"row_heading level1 row1\" >Argentina</th>\n",
       "      <td id=\"T_856b5_row1_col0\" class=\"data row1 col0\" >1%</td>\n",
       "      <td id=\"T_856b5_row1_col1\" class=\"data row1 col1\" >1%</td>\n",
       "      <td id=\"T_856b5_row1_col2\" class=\"data row1 col2\" >0%</td>\n",
       "    </tr>\n",
       "    <tr>\n",
       "      <th id=\"T_856b5_level0_row2\" class=\"row_heading level0 row2\" >Oceania</th>\n",
       "      <th id=\"T_856b5_level1_row2\" class=\"row_heading level1 row2\" >Australia</th>\n",
       "      <td id=\"T_856b5_row2_col0\" class=\"data row2 col0\" >0%</td>\n",
       "      <td id=\"T_856b5_row2_col1\" class=\"data row2 col1\" >2%</td>\n",
       "      <td id=\"T_856b5_row2_col2\" class=\"data row2 col2\" >0%</td>\n",
       "    </tr>\n",
       "    <tr>\n",
       "      <th id=\"T_856b5_level0_row3\" class=\"row_heading level0 row3\" >Europe</th>\n",
       "      <th id=\"T_856b5_level1_row3\" class=\"row_heading level1 row3\" >Austria</th>\n",
       "      <td id=\"T_856b5_row3_col0\" class=\"data row3 col0\" >0%</td>\n",
       "      <td id=\"T_856b5_row3_col1\" class=\"data row3 col1\" >1%</td>\n",
       "      <td id=\"T_856b5_row3_col2\" class=\"data row3 col2\" >0%</td>\n",
       "    </tr>\n",
       "    <tr>\n",
       "      <th id=\"T_856b5_level0_row4\" class=\"row_heading level0 row4\" >Asia</th>\n",
       "      <th id=\"T_856b5_level1_row4\" class=\"row_heading level1 row4\" >Azerbaijan</th>\n",
       "      <td id=\"T_856b5_row4_col0\" class=\"data row4 col0\" >3%</td>\n",
       "      <td id=\"T_856b5_row4_col1\" class=\"data row4 col1\" >0%</td>\n",
       "      <td id=\"T_856b5_row4_col2\" class=\"data row4 col2\" >0%</td>\n",
       "    </tr>\n",
       "  </tbody>\n",
       "</table>\n"
      ],
      "text/plain": [
       "<pandas.io.formats.style.Styler at 0x12eec60d0>"
      ]
     },
     "execution_count": 20,
     "metadata": {},
     "output_type": "execute_result"
    }
   ],
   "source": [
    "pca.row_contributions_.head().style.format('{:.0%}')"
   ]
  },
  {
   "attachments": {},
   "cell_type": "markdown",
   "metadata": {},
   "source": [
    "Observations with high contributions and different signs can be opposed to help interpret the component, because these observations represent the two endpoints of this component."
   ]
  },
  {
   "attachments": {},
   "cell_type": "markdown",
   "metadata": {},
   "source": [
    "Column contributions are also available."
   ]
  },
  {
   "cell_type": "code",
   "execution_count": 21,
   "metadata": {
    "execution": {
     "iopub.execute_input": "2024-09-07T18:18:09.611924Z",
     "iopub.status.busy": "2024-09-07T18:18:09.611615Z",
     "iopub.status.idle": "2024-09-07T18:18:09.623032Z",
     "shell.execute_reply": "2024-09-07T18:18:09.622794Z"
    }
   },
   "outputs": [
    {
     "data": {
      "text/html": [
       "<style type=\"text/css\">\n",
       "</style>\n",
       "<table id=\"T_a63df\">\n",
       "  <thead>\n",
       "    <tr>\n",
       "      <th class=\"index_name level0\" >component</th>\n",
       "      <th id=\"T_a63df_level0_col0\" class=\"col_heading level0 col0\" >0</th>\n",
       "      <th id=\"T_a63df_level0_col1\" class=\"col_heading level0 col1\" >1</th>\n",
       "      <th id=\"T_a63df_level0_col2\" class=\"col_heading level0 col2\" >2</th>\n",
       "    </tr>\n",
       "    <tr>\n",
       "      <th class=\"index_name level0\" >variable</th>\n",
       "      <th class=\"blank col0\" >&nbsp;</th>\n",
       "      <th class=\"blank col1\" >&nbsp;</th>\n",
       "      <th class=\"blank col2\" >&nbsp;</th>\n",
       "    </tr>\n",
       "  </thead>\n",
       "  <tbody>\n",
       "    <tr>\n",
       "      <th id=\"T_a63df_level0_row0\" class=\"row_heading level0 row0\" >coal</th>\n",
       "      <td id=\"T_a63df_row0_col0\" class=\"data row0 col0\" >3%</td>\n",
       "      <td id=\"T_a63df_row0_col1\" class=\"data row0 col1\" >10%</td>\n",
       "      <td id=\"T_a63df_row0_col2\" class=\"data row0 col2\" >39%</td>\n",
       "    </tr>\n",
       "    <tr>\n",
       "      <th id=\"T_a63df_level0_row1\" class=\"row_heading level0 row1\" >oil</th>\n",
       "      <td id=\"T_a63df_row1_col0\" class=\"data row1 col0\" >2%</td>\n",
       "      <td id=\"T_a63df_row1_col1\" class=\"data row1 col1\" >11%</td>\n",
       "      <td id=\"T_a63df_row1_col2\" class=\"data row1 col2\" >39%</td>\n",
       "    </tr>\n",
       "    <tr>\n",
       "      <th id=\"T_a63df_level0_row2\" class=\"row_heading level0 row2\" >gas</th>\n",
       "      <td id=\"T_a63df_row2_col0\" class=\"data row2 col0\" >38%</td>\n",
       "      <td id=\"T_a63df_row2_col1\" class=\"data row2 col1\" >2%</td>\n",
       "      <td id=\"T_a63df_row2_col2\" class=\"data row2 col2\" >1%</td>\n",
       "    </tr>\n",
       "    <tr>\n",
       "      <th id=\"T_a63df_level0_row3\" class=\"row_heading level0 row3\" >nuclear</th>\n",
       "      <td id=\"T_a63df_row3_col0\" class=\"data row3 col0\" >5%</td>\n",
       "      <td id=\"T_a63df_row3_col1\" class=\"data row3 col1\" >0%</td>\n",
       "      <td id=\"T_a63df_row3_col2\" class=\"data row3 col2\" >11%</td>\n",
       "    </tr>\n",
       "    <tr>\n",
       "      <th id=\"T_a63df_level0_row4\" class=\"row_heading level0 row4\" >hydro</th>\n",
       "      <td id=\"T_a63df_row4_col0\" class=\"data row4 col0\" >10%</td>\n",
       "      <td id=\"T_a63df_row4_col1\" class=\"data row4 col1\" >36%</td>\n",
       "      <td id=\"T_a63df_row4_col2\" class=\"data row4 col2\" >0%</td>\n",
       "    </tr>\n",
       "    <tr>\n",
       "      <th id=\"T_a63df_level0_row5\" class=\"row_heading level0 row5\" >wind</th>\n",
       "      <td id=\"T_a63df_row5_col0\" class=\"data row5 col0\" >14%</td>\n",
       "      <td id=\"T_a63df_row5_col1\" class=\"data row5 col1\" >2%</td>\n",
       "      <td id=\"T_a63df_row5_col2\" class=\"data row5 col2\" >9%</td>\n",
       "    </tr>\n",
       "    <tr>\n",
       "      <th id=\"T_a63df_level0_row6\" class=\"row_heading level0 row6\" >solar</th>\n",
       "      <td id=\"T_a63df_row6_col0\" class=\"data row6 col0\" >9%</td>\n",
       "      <td id=\"T_a63df_row6_col1\" class=\"data row6 col1\" >22%</td>\n",
       "      <td id=\"T_a63df_row6_col2\" class=\"data row6 col2\" >0%</td>\n",
       "    </tr>\n",
       "    <tr>\n",
       "      <th id=\"T_a63df_level0_row7\" class=\"row_heading level0 row7\" >other renewables</th>\n",
       "      <td id=\"T_a63df_row7_col0\" class=\"data row7 col0\" >20%</td>\n",
       "      <td id=\"T_a63df_row7_col1\" class=\"data row7 col1\" >17%</td>\n",
       "      <td id=\"T_a63df_row7_col2\" class=\"data row7 col2\" >1%</td>\n",
       "    </tr>\n",
       "  </tbody>\n",
       "</table>\n"
      ],
      "text/plain": [
       "<pandas.io.formats.style.Styler at 0x12eec5e50>"
      ]
     },
     "execution_count": 21,
     "metadata": {},
     "output_type": "execute_result"
    }
   ],
   "source": [
    "pca.column_contributions_.style.format('{:.0%}')"
   ]
  },
  {
   "attachments": {},
   "cell_type": "markdown",
   "metadata": {},
   "source": [
    "## Cosine similarities"
   ]
  },
  {
   "cell_type": "code",
   "execution_count": 22,
   "metadata": {
    "execution": {
     "iopub.execute_input": "2024-09-07T18:18:09.624524Z",
     "iopub.status.busy": "2024-09-07T18:18:09.624452Z",
     "iopub.status.idle": "2024-09-07T18:18:09.635629Z",
     "shell.execute_reply": "2024-09-07T18:18:09.635368Z"
    }
   },
   "outputs": [
    {
     "data": {
      "text/html": [
       "<div>\n",
       "<style scoped>\n",
       "    .dataframe tbody tr th:only-of-type {\n",
       "        vertical-align: middle;\n",
       "    }\n",
       "\n",
       "    .dataframe tbody tr th {\n",
       "        vertical-align: top;\n",
       "    }\n",
       "\n",
       "    .dataframe thead th {\n",
       "        text-align: right;\n",
       "    }\n",
       "</style>\n",
       "<table border=\"1\" class=\"dataframe\">\n",
       "  <thead>\n",
       "    <tr style=\"text-align: right;\">\n",
       "      <th></th>\n",
       "      <th>component</th>\n",
       "      <th>0</th>\n",
       "      <th>1</th>\n",
       "      <th>2</th>\n",
       "    </tr>\n",
       "    <tr>\n",
       "      <th>continent</th>\n",
       "      <th>country</th>\n",
       "      <th></th>\n",
       "      <th></th>\n",
       "      <th></th>\n",
       "    </tr>\n",
       "  </thead>\n",
       "  <tbody>\n",
       "    <tr>\n",
       "      <th>Africa</th>\n",
       "      <th>Algeria</th>\n",
       "      <td>0.902764</td>\n",
       "      <td>0.027238</td>\n",
       "      <td>0.028445</td>\n",
       "    </tr>\n",
       "    <tr>\n",
       "      <th>South America</th>\n",
       "      <th>Argentina</th>\n",
       "      <td>0.626517</td>\n",
       "      <td>0.259936</td>\n",
       "      <td>0.061309</td>\n",
       "    </tr>\n",
       "    <tr>\n",
       "      <th>Oceania</th>\n",
       "      <th>Australia</th>\n",
       "      <td>0.008468</td>\n",
       "      <td>0.439999</td>\n",
       "      <td>0.057570</td>\n",
       "    </tr>\n",
       "    <tr>\n",
       "      <th>Europe</th>\n",
       "      <th>Austria</th>\n",
       "      <td>0.236087</td>\n",
       "      <td>0.334470</td>\n",
       "      <td>0.089643</td>\n",
       "    </tr>\n",
       "    <tr>\n",
       "      <th>Asia</th>\n",
       "      <th>Azerbaijan</th>\n",
       "      <td>0.868801</td>\n",
       "      <td>0.072377</td>\n",
       "      <td>0.024190</td>\n",
       "    </tr>\n",
       "  </tbody>\n",
       "</table>\n",
       "</div>"
      ],
      "text/plain": [
       "component                        0         1         2\n",
       "continent     country                                 \n",
       "Africa        Algeria     0.902764  0.027238  0.028445\n",
       "South America Argentina   0.626517  0.259936  0.061309\n",
       "Oceania       Australia   0.008468  0.439999  0.057570\n",
       "Europe        Austria     0.236087  0.334470  0.089643\n",
       "Asia          Azerbaijan  0.868801  0.072377  0.024190"
      ]
     },
     "execution_count": 22,
     "metadata": {},
     "output_type": "execute_result"
    }
   ],
   "source": [
    "pca.row_cosine_similarities(dataset).head()"
   ]
  },
  {
   "cell_type": "code",
   "execution_count": 23,
   "metadata": {
    "execution": {
     "iopub.execute_input": "2024-09-07T18:18:09.637215Z",
     "iopub.status.busy": "2024-09-07T18:18:09.637124Z",
     "iopub.status.idle": "2024-09-07T18:18:09.648777Z",
     "shell.execute_reply": "2024-09-07T18:18:09.648534Z"
    }
   },
   "outputs": [
    {
     "data": {
      "text/html": [
       "<div>\n",
       "<style scoped>\n",
       "    .dataframe tbody tr th:only-of-type {\n",
       "        vertical-align: middle;\n",
       "    }\n",
       "\n",
       "    .dataframe tbody tr th {\n",
       "        vertical-align: top;\n",
       "    }\n",
       "\n",
       "    .dataframe thead th {\n",
       "        text-align: right;\n",
       "    }\n",
       "</style>\n",
       "<table border=\"1\" class=\"dataframe\">\n",
       "  <thead>\n",
       "    <tr style=\"text-align: right;\">\n",
       "      <th>component</th>\n",
       "      <th>0</th>\n",
       "      <th>1</th>\n",
       "      <th>2</th>\n",
       "    </tr>\n",
       "    <tr>\n",
       "      <th>variable</th>\n",
       "      <th></th>\n",
       "      <th></th>\n",
       "      <th></th>\n",
       "    </tr>\n",
       "  </thead>\n",
       "  <tbody>\n",
       "    <tr>\n",
       "      <th>coal</th>\n",
       "      <td>0.052994</td>\n",
       "      <td>0.156400</td>\n",
       "      <td>0.548707</td>\n",
       "    </tr>\n",
       "    <tr>\n",
       "      <th>oil</th>\n",
       "      <td>0.031046</td>\n",
       "      <td>0.175492</td>\n",
       "      <td>0.544430</td>\n",
       "    </tr>\n",
       "    <tr>\n",
       "      <th>gas</th>\n",
       "      <td>0.751563</td>\n",
       "      <td>0.033485</td>\n",
       "      <td>0.009381</td>\n",
       "    </tr>\n",
       "    <tr>\n",
       "      <th>nuclear</th>\n",
       "      <td>0.096294</td>\n",
       "      <td>0.000007</td>\n",
       "      <td>0.160487</td>\n",
       "    </tr>\n",
       "    <tr>\n",
       "      <th>hydro</th>\n",
       "      <td>0.193937</td>\n",
       "      <td>0.554750</td>\n",
       "      <td>0.000268</td>\n",
       "    </tr>\n",
       "    <tr>\n",
       "      <th>wind</th>\n",
       "      <td>0.269062</td>\n",
       "      <td>0.026085</td>\n",
       "      <td>0.132928</td>\n",
       "    </tr>\n",
       "    <tr>\n",
       "      <th>solar</th>\n",
       "      <td>0.172788</td>\n",
       "      <td>0.347260</td>\n",
       "      <td>0.000001</td>\n",
       "    </tr>\n",
       "    <tr>\n",
       "      <th>other renewables</th>\n",
       "      <td>0.395327</td>\n",
       "      <td>0.267222</td>\n",
       "      <td>0.007075</td>\n",
       "    </tr>\n",
       "  </tbody>\n",
       "</table>\n",
       "</div>"
      ],
      "text/plain": [
       "component                0         1         2\n",
       "variable                                      \n",
       "coal              0.052994  0.156400  0.548707\n",
       "oil               0.031046  0.175492  0.544430\n",
       "gas               0.751563  0.033485  0.009381\n",
       "nuclear           0.096294  0.000007  0.160487\n",
       "hydro             0.193937  0.554750  0.000268\n",
       "wind              0.269062  0.026085  0.132928\n",
       "solar             0.172788  0.347260  0.000001\n",
       "other renewables  0.395327  0.267222  0.007075"
      ]
     },
     "execution_count": 23,
     "metadata": {},
     "output_type": "execute_result"
    }
   ],
   "source": [
    "pca.column_cosine_similarities_"
   ]
  },
  {
   "attachments": {},
   "cell_type": "markdown",
   "metadata": {},
   "source": [
    "## Column correlations"
   ]
  },
  {
   "cell_type": "code",
   "execution_count": 24,
   "metadata": {
    "execution": {
     "iopub.execute_input": "2024-09-07T18:18:09.650202Z",
     "iopub.status.busy": "2024-09-07T18:18:09.650126Z",
     "iopub.status.idle": "2024-09-07T18:18:09.661890Z",
     "shell.execute_reply": "2024-09-07T18:18:09.661599Z"
    }
   },
   "outputs": [
    {
     "data": {
      "text/html": [
       "<div>\n",
       "<style scoped>\n",
       "    .dataframe tbody tr th:only-of-type {\n",
       "        vertical-align: middle;\n",
       "    }\n",
       "\n",
       "    .dataframe tbody tr th {\n",
       "        vertical-align: top;\n",
       "    }\n",
       "\n",
       "    .dataframe thead th {\n",
       "        text-align: right;\n",
       "    }\n",
       "</style>\n",
       "<table border=\"1\" class=\"dataframe\">\n",
       "  <thead>\n",
       "    <tr style=\"text-align: right;\">\n",
       "      <th>component</th>\n",
       "      <th>0</th>\n",
       "      <th>1</th>\n",
       "      <th>2</th>\n",
       "    </tr>\n",
       "    <tr>\n",
       "      <th>variable</th>\n",
       "      <th></th>\n",
       "      <th></th>\n",
       "      <th></th>\n",
       "    </tr>\n",
       "  </thead>\n",
       "  <tbody>\n",
       "    <tr>\n",
       "      <th>coal</th>\n",
       "      <td>0.230205</td>\n",
       "      <td>-0.395474</td>\n",
       "      <td>0.740748</td>\n",
       "    </tr>\n",
       "    <tr>\n",
       "      <th>oil</th>\n",
       "      <td>0.176200</td>\n",
       "      <td>-0.418917</td>\n",
       "      <td>-0.737855</td>\n",
       "    </tr>\n",
       "    <tr>\n",
       "      <th>gas</th>\n",
       "      <td>-0.866927</td>\n",
       "      <td>0.182990</td>\n",
       "      <td>-0.096857</td>\n",
       "    </tr>\n",
       "    <tr>\n",
       "      <th>nuclear</th>\n",
       "      <td>0.310313</td>\n",
       "      <td>-0.002598</td>\n",
       "      <td>0.400608</td>\n",
       "    </tr>\n",
       "    <tr>\n",
       "      <th>hydro</th>\n",
       "      <td>0.440383</td>\n",
       "      <td>0.744815</td>\n",
       "      <td>-0.016375</td>\n",
       "    </tr>\n",
       "    <tr>\n",
       "      <th>wind</th>\n",
       "      <td>0.518712</td>\n",
       "      <td>-0.161507</td>\n",
       "      <td>-0.364593</td>\n",
       "    </tr>\n",
       "    <tr>\n",
       "      <th>solar</th>\n",
       "      <td>0.415677</td>\n",
       "      <td>-0.589288</td>\n",
       "      <td>0.001012</td>\n",
       "    </tr>\n",
       "    <tr>\n",
       "      <th>other renewables</th>\n",
       "      <td>0.628750</td>\n",
       "      <td>0.516935</td>\n",
       "      <td>-0.084114</td>\n",
       "    </tr>\n",
       "  </tbody>\n",
       "</table>\n",
       "</div>"
      ],
      "text/plain": [
       "component                0         1         2\n",
       "variable                                      \n",
       "coal              0.230205 -0.395474  0.740748\n",
       "oil               0.176200 -0.418917 -0.737855\n",
       "gas              -0.866927  0.182990 -0.096857\n",
       "nuclear           0.310313 -0.002598  0.400608\n",
       "hydro             0.440383  0.744815 -0.016375\n",
       "wind              0.518712 -0.161507 -0.364593\n",
       "solar             0.415677 -0.589288  0.001012\n",
       "other renewables  0.628750  0.516935 -0.084114"
      ]
     },
     "execution_count": 24,
     "metadata": {},
     "output_type": "execute_result"
    }
   ],
   "source": [
    "pca.column_correlations"
   ]
  },
  {
   "cell_type": "code",
   "execution_count": 25,
   "metadata": {
    "execution": {
     "iopub.execute_input": "2024-09-07T18:18:09.663703Z",
     "iopub.status.busy": "2024-09-07T18:18:09.663552Z",
     "iopub.status.idle": "2024-09-07T18:18:09.674395Z",
     "shell.execute_reply": "2024-09-07T18:18:09.674130Z"
    }
   },
   "outputs": [
    {
     "data": {
      "text/plain": [
       "True"
      ]
     },
     "execution_count": 25,
     "metadata": {},
     "output_type": "execute_result"
    }
   ],
   "source": [
    "(pca.column_correlations ** 2).equals(pca.column_cosine_similarities_)"
   ]
  },
  {
   "attachments": {},
   "cell_type": "markdown",
   "metadata": {},
   "source": [
    "## Inverse transformation"
   ]
  },
  {
   "attachments": {},
   "cell_type": "markdown",
   "metadata": {},
   "source": [
    "You can transform row projections back into their original space by using the `inverse_transform` method."
   ]
  },
  {
   "cell_type": "code",
   "execution_count": 26,
   "metadata": {
    "execution": {
     "iopub.execute_input": "2024-09-07T18:18:09.675742Z",
     "iopub.status.busy": "2024-09-07T18:18:09.675648Z",
     "iopub.status.idle": "2024-09-07T18:18:09.687793Z",
     "shell.execute_reply": "2024-09-07T18:18:09.687538Z"
    }
   },
   "outputs": [
    {
     "data": {
      "text/html": [
       "<div>\n",
       "<style scoped>\n",
       "    .dataframe tbody tr th:only-of-type {\n",
       "        vertical-align: middle;\n",
       "    }\n",
       "\n",
       "    .dataframe tbody tr th {\n",
       "        vertical-align: top;\n",
       "    }\n",
       "\n",
       "    .dataframe thead th {\n",
       "        text-align: right;\n",
       "    }\n",
       "</style>\n",
       "<table border=\"1\" class=\"dataframe\">\n",
       "  <thead>\n",
       "    <tr style=\"text-align: right;\">\n",
       "      <th></th>\n",
       "      <th></th>\n",
       "      <th>0</th>\n",
       "      <th>1</th>\n",
       "      <th>2</th>\n",
       "      <th>3</th>\n",
       "      <th>4</th>\n",
       "      <th>5</th>\n",
       "      <th>6</th>\n",
       "      <th>7</th>\n",
       "    </tr>\n",
       "    <tr>\n",
       "      <th>continent</th>\n",
       "      <th>country</th>\n",
       "      <th></th>\n",
       "      <th></th>\n",
       "      <th></th>\n",
       "      <th></th>\n",
       "      <th></th>\n",
       "      <th></th>\n",
       "      <th></th>\n",
       "      <th></th>\n",
       "    </tr>\n",
       "  </thead>\n",
       "  <tbody>\n",
       "    <tr>\n",
       "      <th>Africa</th>\n",
       "      <th>Algeria</th>\n",
       "      <td>0.024204</td>\n",
       "      <td>0.369866</td>\n",
       "      <td>0.599244</td>\n",
       "      <td>-0.007082</td>\n",
       "      <td>0.024826</td>\n",
       "      <td>-0.003249</td>\n",
       "      <td>0.000650</td>\n",
       "      <td>-0.008460</td>\n",
       "    </tr>\n",
       "    <tr>\n",
       "      <th>South America</th>\n",
       "      <th>Argentina</th>\n",
       "      <td>0.027773</td>\n",
       "      <td>0.366342</td>\n",
       "      <td>0.487562</td>\n",
       "      <td>0.008596</td>\n",
       "      <td>0.090082</td>\n",
       "      <td>0.006963</td>\n",
       "      <td>0.001391</td>\n",
       "      <td>0.011292</td>\n",
       "    </tr>\n",
       "    <tr>\n",
       "      <th>Oceania</th>\n",
       "      <th>Australia</th>\n",
       "      <td>0.287372</td>\n",
       "      <td>0.425348</td>\n",
       "      <td>0.208594</td>\n",
       "      <td>0.056641</td>\n",
       "      <td>-0.018484</td>\n",
       "      <td>0.025867</td>\n",
       "      <td>0.015104</td>\n",
       "      <td>-0.000441</td>\n",
       "    </tr>\n",
       "    <tr>\n",
       "      <th>Europe</th>\n",
       "      <th>Austria</th>\n",
       "      <td>0.060875</td>\n",
       "      <td>0.410393</td>\n",
       "      <td>0.219553</td>\n",
       "      <td>0.040122</td>\n",
       "      <td>0.183231</td>\n",
       "      <td>0.034237</td>\n",
       "      <td>0.006167</td>\n",
       "      <td>0.045423</td>\n",
       "    </tr>\n",
       "    <tr>\n",
       "      <th>Asia</th>\n",
       "      <th>Azerbaijan</th>\n",
       "      <td>0.013098</td>\n",
       "      <td>0.354083</td>\n",
       "      <td>0.606928</td>\n",
       "      <td>-0.006558</td>\n",
       "      <td>0.042620</td>\n",
       "      <td>-0.004640</td>\n",
       "      <td>-0.000439</td>\n",
       "      <td>-0.005092</td>\n",
       "    </tr>\n",
       "  </tbody>\n",
       "</table>\n",
       "</div>"
      ],
      "text/plain": [
       "                                 0         1         2         3         4  \\\n",
       "continent     country                                                        \n",
       "Africa        Algeria     0.024204  0.369866  0.599244 -0.007082  0.024826   \n",
       "South America Argentina   0.027773  0.366342  0.487562  0.008596  0.090082   \n",
       "Oceania       Australia   0.287372  0.425348  0.208594  0.056641 -0.018484   \n",
       "Europe        Austria     0.060875  0.410393  0.219553  0.040122  0.183231   \n",
       "Asia          Azerbaijan  0.013098  0.354083  0.606928 -0.006558  0.042620   \n",
       "\n",
       "                                 5         6         7  \n",
       "continent     country                                   \n",
       "Africa        Algeria    -0.003249  0.000650 -0.008460  \n",
       "South America Argentina   0.006963  0.001391  0.011292  \n",
       "Oceania       Australia   0.025867  0.015104 -0.000441  \n",
       "Europe        Austria     0.034237  0.006167  0.045423  \n",
       "Asia          Azerbaijan -0.004640 -0.000439 -0.005092  "
      ]
     },
     "execution_count": 26,
     "metadata": {},
     "output_type": "execute_result"
    }
   ],
   "source": [
    "reconstructed = pca.inverse_transform(pca.transform(dataset))\n",
    "reconstructed.head()"
   ]
  },
  {
   "attachments": {},
   "cell_type": "markdown",
   "metadata": {},
   "source": [
    "This allows measuring the reconstruction error of the PCA. This is usually defined as the $L^2$ norm between the reconstructed dataset and the original dataset."
   ]
  },
  {
   "cell_type": "code",
   "execution_count": 27,
   "metadata": {
    "execution": {
     "iopub.execute_input": "2024-09-07T18:18:09.689286Z",
     "iopub.status.busy": "2024-09-07T18:18:09.689191Z",
     "iopub.status.idle": "2024-09-07T18:18:09.699469Z",
     "shell.execute_reply": "2024-09-07T18:18:09.699201Z"
    }
   },
   "outputs": [
    {
     "data": {
      "text/plain": [
       "np.float64(1.1927159589872411)"
      ]
     },
     "execution_count": 27,
     "metadata": {},
     "output_type": "execute_result"
    }
   ],
   "source": [
    "import numpy as np\n",
    "\n",
    "np.linalg.norm(reconstructed.values - dataset.values, ord=2)"
   ]
  },
  {
   "attachments": {},
   "cell_type": "markdown",
   "metadata": {},
   "source": [
    "## Supplementary data"
   ]
  },
  {
   "attachments": {},
   "cell_type": "markdown",
   "metadata": {},
   "source": [
    "Active rows and columns make up the dataset you fit the PCA with. Anything you provide afterwards is considered supplementary data.\n",
    "\n",
    "For example, we can fit the PCA on all countries that are not part of North America."
   ]
  },
  {
   "cell_type": "code",
   "execution_count": 28,
   "metadata": {
    "execution": {
     "iopub.execute_input": "2024-09-07T18:18:09.700856Z",
     "iopub.status.busy": "2024-09-07T18:18:09.700772Z",
     "iopub.status.idle": "2024-09-07T18:18:09.714208Z",
     "shell.execute_reply": "2024-09-07T18:18:09.712997Z"
    }
   },
   "outputs": [],
   "source": [
    "active = dataset.query(\"continent != 'North America'\")\n",
    "pca = prince.PCA().fit(active)"
   ]
  },
  {
   "attachments": {},
   "cell_type": "markdown",
   "metadata": {},
   "source": [
    "The data for North America can still be projected onto the principal components."
   ]
  },
  {
   "cell_type": "code",
   "execution_count": 29,
   "metadata": {
    "execution": {
     "iopub.execute_input": "2024-09-07T18:18:09.722890Z",
     "iopub.status.busy": "2024-09-07T18:18:09.722560Z",
     "iopub.status.idle": "2024-09-07T18:18:09.749331Z",
     "shell.execute_reply": "2024-09-07T18:18:09.747427Z"
    }
   },
   "outputs": [
    {
     "data": {
      "text/html": [
       "<div>\n",
       "<style scoped>\n",
       "    .dataframe tbody tr th:only-of-type {\n",
       "        vertical-align: middle;\n",
       "    }\n",
       "\n",
       "    .dataframe tbody tr th {\n",
       "        vertical-align: top;\n",
       "    }\n",
       "\n",
       "    .dataframe thead th {\n",
       "        text-align: right;\n",
       "    }\n",
       "</style>\n",
       "<table border=\"1\" class=\"dataframe\">\n",
       "  <thead>\n",
       "    <tr style=\"text-align: right;\">\n",
       "      <th></th>\n",
       "      <th>component</th>\n",
       "      <th>0</th>\n",
       "      <th>1</th>\n",
       "    </tr>\n",
       "    <tr>\n",
       "      <th>continent</th>\n",
       "      <th>country</th>\n",
       "      <th></th>\n",
       "      <th></th>\n",
       "    </tr>\n",
       "  </thead>\n",
       "  <tbody>\n",
       "    <tr>\n",
       "      <th rowspan=\"4\" valign=\"top\">North America</th>\n",
       "      <th>Canada</th>\n",
       "      <td>0.009864</td>\n",
       "      <td>1.332859</td>\n",
       "    </tr>\n",
       "    <tr>\n",
       "      <th>Mexico</th>\n",
       "      <td>-0.695023</td>\n",
       "      <td>-0.402230</td>\n",
       "    </tr>\n",
       "    <tr>\n",
       "      <th>Trinidad and Tobago</th>\n",
       "      <td>-3.072833</td>\n",
       "      <td>1.393067</td>\n",
       "    </tr>\n",
       "    <tr>\n",
       "      <th>United States</th>\n",
       "      <td>-0.226122</td>\n",
       "      <td>-0.433260</td>\n",
       "    </tr>\n",
       "  </tbody>\n",
       "</table>\n",
       "</div>"
      ],
      "text/plain": [
       "component                                 0         1\n",
       "continent     country                                \n",
       "North America Canada               0.009864  1.332859\n",
       "              Mexico              -0.695023 -0.402230\n",
       "              Trinidad and Tobago -3.072833  1.393067\n",
       "              United States       -0.226122 -0.433260"
      ]
     },
     "execution_count": 29,
     "metadata": {},
     "output_type": "execute_result"
    }
   ],
   "source": [
    "pca.transform(dataset).query(\"continent == 'North America'\")"
   ]
  },
  {
   "attachments": {},
   "cell_type": "markdown",
   "metadata": {},
   "source": [
    "As for supplementary, they must be provided during the `fit` call."
   ]
  },
  {
   "cell_type": "code",
   "execution_count": 30,
   "metadata": {
    "execution": {
     "iopub.execute_input": "2024-09-07T18:18:09.756636Z",
     "iopub.status.busy": "2024-09-07T18:18:09.756084Z",
     "iopub.status.idle": "2024-09-07T18:18:09.788183Z",
     "shell.execute_reply": "2024-09-07T18:18:09.786350Z"
    }
   },
   "outputs": [
    {
     "data": {
      "text/html": [
       "<div>\n",
       "<style scoped>\n",
       "    .dataframe tbody tr th:only-of-type {\n",
       "        vertical-align: middle;\n",
       "    }\n",
       "\n",
       "    .dataframe tbody tr th {\n",
       "        vertical-align: top;\n",
       "    }\n",
       "\n",
       "    .dataframe thead th {\n",
       "        text-align: right;\n",
       "    }\n",
       "</style>\n",
       "<table border=\"1\" class=\"dataframe\">\n",
       "  <thead>\n",
       "    <tr style=\"text-align: right;\">\n",
       "      <th>component</th>\n",
       "      <th>0</th>\n",
       "      <th>1</th>\n",
       "    </tr>\n",
       "    <tr>\n",
       "      <th>variable</th>\n",
       "      <th></th>\n",
       "      <th></th>\n",
       "    </tr>\n",
       "  </thead>\n",
       "  <tbody>\n",
       "    <tr>\n",
       "      <th>coal</th>\n",
       "      <td>0.621633</td>\n",
       "      <td>-0.380008</td>\n",
       "    </tr>\n",
       "    <tr>\n",
       "      <th>oil</th>\n",
       "      <td>0.048966</td>\n",
       "      <td>0.948650</td>\n",
       "    </tr>\n",
       "    <tr>\n",
       "      <th>gas</th>\n",
       "      <td>-0.916078</td>\n",
       "      <td>-0.331546</td>\n",
       "    </tr>\n",
       "    <tr>\n",
       "      <th>nuclear</th>\n",
       "      <td>0.384458</td>\n",
       "      <td>-0.401675</td>\n",
       "    </tr>\n",
       "    <tr>\n",
       "      <th>other renewables</th>\n",
       "      <td>0.467116</td>\n",
       "      <td>0.086656</td>\n",
       "    </tr>\n",
       "    <tr>\n",
       "      <th>hydro</th>\n",
       "      <td>2.192240</td>\n",
       "      <td>0.329911</td>\n",
       "    </tr>\n",
       "    <tr>\n",
       "      <th>wind</th>\n",
       "      <td>1.739201</td>\n",
       "      <td>1.637625</td>\n",
       "    </tr>\n",
       "    <tr>\n",
       "      <th>solar</th>\n",
       "      <td>2.233130</td>\n",
       "      <td>0.677610</td>\n",
       "    </tr>\n",
       "  </tbody>\n",
       "</table>\n",
       "</div>"
      ],
      "text/plain": [
       "component                0         1\n",
       "variable                            \n",
       "coal              0.621633 -0.380008\n",
       "oil               0.048966  0.948650\n",
       "gas              -0.916078 -0.331546\n",
       "nuclear           0.384458 -0.401675\n",
       "other renewables  0.467116  0.086656\n",
       "hydro             2.192240  0.329911\n",
       "wind              1.739201  1.637625\n",
       "solar             2.233130  0.677610"
      ]
     },
     "execution_count": 30,
     "metadata": {},
     "output_type": "execute_result"
    }
   ],
   "source": [
    "pca = prince.PCA().fit(dataset, supplementary_columns=['hydro', 'wind', 'solar'])\n",
    "pca.column_correlations"
   ]
  },
  {
   "attachments": {},
   "cell_type": "markdown",
   "metadata": {},
   "source": [
    "There can be supplementary rows and columns at the same time."
   ]
  },
  {
   "cell_type": "code",
   "execution_count": 31,
   "metadata": {
    "execution": {
     "iopub.execute_input": "2024-09-07T18:18:09.794815Z",
     "iopub.status.busy": "2024-09-07T18:18:09.793516Z",
     "iopub.status.idle": "2024-09-07T18:18:09.812414Z",
     "shell.execute_reply": "2024-09-07T18:18:09.811103Z"
    }
   },
   "outputs": [],
   "source": [
    "pca = prince.PCA().fit(active, supplementary_columns=['hydro', 'wind', 'solar'])"
   ]
  },
  {
   "cell_type": "markdown",
   "metadata": {},
   "source": [
    "## Weighting\n",
    "\n",
    "Rows and columns can be weighted differently when fitting the PCA."
   ]
  },
  {
   "cell_type": "code",
   "execution_count": 43,
   "metadata": {},
   "outputs": [
    {
     "data": {
      "text/html": [
       "<div>\n",
       "<style scoped>\n",
       "    .dataframe tbody tr th:only-of-type {\n",
       "        vertical-align: middle;\n",
       "    }\n",
       "\n",
       "    .dataframe tbody tr th {\n",
       "        vertical-align: top;\n",
       "    }\n",
       "\n",
       "    .dataframe thead th {\n",
       "        text-align: right;\n",
       "    }\n",
       "</style>\n",
       "<table border=\"1\" class=\"dataframe\">\n",
       "  <thead>\n",
       "    <tr style=\"text-align: right;\">\n",
       "      <th></th>\n",
       "      <th>component</th>\n",
       "      <th>0</th>\n",
       "      <th>1</th>\n",
       "    </tr>\n",
       "    <tr>\n",
       "      <th>continent</th>\n",
       "      <th>country</th>\n",
       "      <th></th>\n",
       "      <th></th>\n",
       "    </tr>\n",
       "  </thead>\n",
       "  <tbody>\n",
       "    <tr>\n",
       "      <th>Africa</th>\n",
       "      <th>Algeria</th>\n",
       "      <td>-1.512601</td>\n",
       "      <td>-1.806884</td>\n",
       "    </tr>\n",
       "    <tr>\n",
       "      <th>South America</th>\n",
       "      <th>Argentina</th>\n",
       "      <td>-0.403372</td>\n",
       "      <td>-1.475517</td>\n",
       "    </tr>\n",
       "    <tr>\n",
       "      <th>Oceania</th>\n",
       "      <th>Australia</th>\n",
       "      <td>-1.441339</td>\n",
       "      <td>1.394480</td>\n",
       "    </tr>\n",
       "    <tr>\n",
       "      <th>Europe</th>\n",
       "      <th>Austria</th>\n",
       "      <td>1.521697</td>\n",
       "      <td>0.040025</td>\n",
       "    </tr>\n",
       "    <tr>\n",
       "      <th>Asia</th>\n",
       "      <th>Azerbaijan</th>\n",
       "      <td>-1.272744</td>\n",
       "      <td>-1.980454</td>\n",
       "    </tr>\n",
       "  </tbody>\n",
       "</table>\n",
       "</div>"
      ],
      "text/plain": [
       "component                        0         1\n",
       "continent     country                       \n",
       "Africa        Algeria    -1.512601 -1.806884\n",
       "South America Argentina  -0.403372 -1.475517\n",
       "Oceania       Australia  -1.441339  1.394480\n",
       "Europe        Austria     1.521697  0.040025\n",
       "Asia          Azerbaijan -1.272744 -1.980454"
      ]
     },
     "execution_count": 43,
     "metadata": {},
     "output_type": "execute_result"
    }
   ],
   "source": [
    "row_weights = np.ones(active.shape[0])\n",
    "row_weights[active.index.get_level_values('continent') == 'Europe'] = 2\n",
    "\n",
    "column_weights = np.ones(active.shape[1])\n",
    "column_weights[active.columns.isin(['hydro', 'wind', 'solar', 'other renewables'])] = 2\n",
    "\n",
    "pca = prince.PCA().fit(\n",
    "    active,\n",
    "    sample_weight=row_weights,\n",
    "    column_weight=column_weights\n",
    ")\n",
    "pca.transform(dataset).head()"
   ]
  },
  {
   "attachments": {},
   "cell_type": "markdown",
   "metadata": {},
   "source": [
    "## Performance"
   ]
  },
  {
   "attachments": {},
   "cell_type": "markdown",
   "metadata": {},
   "source": [
    "Under the hood, Prince uses a [randomised version of SVD](https://research.facebook.com/blog/2014/9/fast-randomized-svd/). This is much faster than traditional SVD. However, the results may have a small inherent randomness. This can be controlled with the `random_state` parameter. The accurary of the results can be increased by providing a higher `n_iter` parameter.\n",
    "\n",
    "By default `prince` uses scikit-learn's randomized SVD implementation -- the one used in [`TruncatedSVD`](http://scikit-learn.org/stable/modules/generated/sklearn.decomposition.TruncatedSVD.html).\n",
    "\n",
    "Prince supports different SVD backends. For the while, the only other supported randomized backend is [Facebook's randomized SVD implementation](https://research.facebook.com/blog/fast-randomized-svd/), called [fbpca](http://fbpca.readthedocs.org/en/latest/):"
   ]
  },
  {
   "cell_type": "code",
   "execution_count": 24,
   "metadata": {
    "execution": {
     "iopub.execute_input": "2024-09-07T18:18:09.817178Z",
     "iopub.status.busy": "2024-09-07T18:18:09.816879Z",
     "iopub.status.idle": "2024-09-07T18:18:09.840874Z",
     "shell.execute_reply": "2024-09-07T18:18:09.840091Z"
    }
   },
   "outputs": [
    {
     "data": {
      "text/html": [
       "<style>#sk-container-id-1 {color: black;background-color: white;}#sk-container-id-1 pre{padding: 0;}#sk-container-id-1 div.sk-toggleable {background-color: white;}#sk-container-id-1 label.sk-toggleable__label {cursor: pointer;display: block;width: 100%;margin-bottom: 0;padding: 0.3em;box-sizing: border-box;text-align: center;}#sk-container-id-1 label.sk-toggleable__label-arrow:before {content: \"▸\";float: left;margin-right: 0.25em;color: #696969;}#sk-container-id-1 label.sk-toggleable__label-arrow:hover:before {color: black;}#sk-container-id-1 div.sk-estimator:hover label.sk-toggleable__label-arrow:before {color: black;}#sk-container-id-1 div.sk-toggleable__content {max-height: 0;max-width: 0;overflow: hidden;text-align: left;background-color: #f0f8ff;}#sk-container-id-1 div.sk-toggleable__content pre {margin: 0.2em;color: black;border-radius: 0.25em;background-color: #f0f8ff;}#sk-container-id-1 input.sk-toggleable__control:checked~div.sk-toggleable__content {max-height: 200px;max-width: 100%;overflow: auto;}#sk-container-id-1 input.sk-toggleable__control:checked~label.sk-toggleable__label-arrow:before {content: \"▾\";}#sk-container-id-1 div.sk-estimator input.sk-toggleable__control:checked~label.sk-toggleable__label {background-color: #d4ebff;}#sk-container-id-1 div.sk-label input.sk-toggleable__control:checked~label.sk-toggleable__label {background-color: #d4ebff;}#sk-container-id-1 input.sk-hidden--visually {border: 0;clip: rect(1px 1px 1px 1px);clip: rect(1px, 1px, 1px, 1px);height: 1px;margin: -1px;overflow: hidden;padding: 0;position: absolute;width: 1px;}#sk-container-id-1 div.sk-estimator {font-family: monospace;background-color: #f0f8ff;border: 1px dotted black;border-radius: 0.25em;box-sizing: border-box;margin-bottom: 0.5em;}#sk-container-id-1 div.sk-estimator:hover {background-color: #d4ebff;}#sk-container-id-1 div.sk-parallel-item::after {content: \"\";width: 100%;border-bottom: 1px solid gray;flex-grow: 1;}#sk-container-id-1 div.sk-label:hover label.sk-toggleable__label {background-color: #d4ebff;}#sk-container-id-1 div.sk-serial::before {content: \"\";position: absolute;border-left: 1px solid gray;box-sizing: border-box;top: 0;bottom: 0;left: 50%;z-index: 0;}#sk-container-id-1 div.sk-serial {display: flex;flex-direction: column;align-items: center;background-color: white;padding-right: 0.2em;padding-left: 0.2em;position: relative;}#sk-container-id-1 div.sk-item {position: relative;z-index: 1;}#sk-container-id-1 div.sk-parallel {display: flex;align-items: stretch;justify-content: center;background-color: white;position: relative;}#sk-container-id-1 div.sk-item::before, #sk-container-id-1 div.sk-parallel-item::before {content: \"\";position: absolute;border-left: 1px solid gray;box-sizing: border-box;top: 0;bottom: 0;left: 50%;z-index: -1;}#sk-container-id-1 div.sk-parallel-item {display: flex;flex-direction: column;z-index: 1;position: relative;background-color: white;}#sk-container-id-1 div.sk-parallel-item:first-child::after {align-self: flex-end;width: 50%;}#sk-container-id-1 div.sk-parallel-item:last-child::after {align-self: flex-start;width: 50%;}#sk-container-id-1 div.sk-parallel-item:only-child::after {width: 0;}#sk-container-id-1 div.sk-dashed-wrapped {border: 1px dashed gray;margin: 0 0.4em 0.5em 0.4em;box-sizing: border-box;padding-bottom: 0.4em;background-color: white;}#sk-container-id-1 div.sk-label label {font-family: monospace;font-weight: bold;display: inline-block;line-height: 1.2em;}#sk-container-id-1 div.sk-label-container {text-align: center;}#sk-container-id-1 div.sk-container {/* jupyter's `normalize.less` sets `[hidden] { display: none; }` but bootstrap.min.css set `[hidden] { display: none !important; }` so we also need the `!important` here to be able to override the default hidden behavior on the sphinx rendered scikit-learn.org. See: https://github.com/scikit-learn/scikit-learn/issues/21755 */display: inline-block !important;position: relative;}#sk-container-id-1 div.sk-text-repr-fallback {display: none;}</style><div id=\"sk-container-id-1\" class=\"sk-top-container\"><div class=\"sk-text-repr-fallback\"><pre>PCA(engine=&#x27;fbpca&#x27;)</pre><b>In a Jupyter environment, please rerun this cell to show the HTML representation or trust the notebook. <br />On GitHub, the HTML representation is unable to render, please try loading this page with nbviewer.org.</b></div><div class=\"sk-container\" hidden><div class=\"sk-item\"><div class=\"sk-estimator sk-toggleable\"><input class=\"sk-toggleable__control sk-hidden--visually\" id=\"sk-estimator-id-1\" type=\"checkbox\" checked><label for=\"sk-estimator-id-1\" class=\"sk-toggleable__label sk-toggleable__label-arrow\">PCA</label><div class=\"sk-toggleable__content\"><pre>PCA(engine=&#x27;fbpca&#x27;)</pre></div></div></div></div></div>"
      ],
      "text/plain": [
       "PCA(engine='fbpca')"
      ]
     },
     "execution_count": 24,
     "metadata": {},
     "output_type": "execute_result"
    }
   ],
   "source": [
    "prince.PCA(engine='fbpca')"
   ]
  },
  {
   "attachments": {},
   "cell_type": "markdown",
   "metadata": {},
   "source": [
    "You can also use a non-randomized SVD implementation, using the [`scipy.linalg.svd` function](https://docs.scipy.org/doc/scipy/reference/generated/scipy.linalg.svd.html):"
   ]
  },
  {
   "cell_type": "code",
   "execution_count": 25,
   "metadata": {
    "execution": {
     "iopub.execute_input": "2024-09-07T18:18:09.844608Z",
     "iopub.status.busy": "2024-09-07T18:18:09.844485Z",
     "iopub.status.idle": "2024-09-07T18:18:09.859276Z",
     "shell.execute_reply": "2024-09-07T18:18:09.858882Z"
    }
   },
   "outputs": [
    {
     "data": {
      "text/html": [
       "<style>#sk-container-id-2 {color: black;background-color: white;}#sk-container-id-2 pre{padding: 0;}#sk-container-id-2 div.sk-toggleable {background-color: white;}#sk-container-id-2 label.sk-toggleable__label {cursor: pointer;display: block;width: 100%;margin-bottom: 0;padding: 0.3em;box-sizing: border-box;text-align: center;}#sk-container-id-2 label.sk-toggleable__label-arrow:before {content: \"▸\";float: left;margin-right: 0.25em;color: #696969;}#sk-container-id-2 label.sk-toggleable__label-arrow:hover:before {color: black;}#sk-container-id-2 div.sk-estimator:hover label.sk-toggleable__label-arrow:before {color: black;}#sk-container-id-2 div.sk-toggleable__content {max-height: 0;max-width: 0;overflow: hidden;text-align: left;background-color: #f0f8ff;}#sk-container-id-2 div.sk-toggleable__content pre {margin: 0.2em;color: black;border-radius: 0.25em;background-color: #f0f8ff;}#sk-container-id-2 input.sk-toggleable__control:checked~div.sk-toggleable__content {max-height: 200px;max-width: 100%;overflow: auto;}#sk-container-id-2 input.sk-toggleable__control:checked~label.sk-toggleable__label-arrow:before {content: \"▾\";}#sk-container-id-2 div.sk-estimator input.sk-toggleable__control:checked~label.sk-toggleable__label {background-color: #d4ebff;}#sk-container-id-2 div.sk-label input.sk-toggleable__control:checked~label.sk-toggleable__label {background-color: #d4ebff;}#sk-container-id-2 input.sk-hidden--visually {border: 0;clip: rect(1px 1px 1px 1px);clip: rect(1px, 1px, 1px, 1px);height: 1px;margin: -1px;overflow: hidden;padding: 0;position: absolute;width: 1px;}#sk-container-id-2 div.sk-estimator {font-family: monospace;background-color: #f0f8ff;border: 1px dotted black;border-radius: 0.25em;box-sizing: border-box;margin-bottom: 0.5em;}#sk-container-id-2 div.sk-estimator:hover {background-color: #d4ebff;}#sk-container-id-2 div.sk-parallel-item::after {content: \"\";width: 100%;border-bottom: 1px solid gray;flex-grow: 1;}#sk-container-id-2 div.sk-label:hover label.sk-toggleable__label {background-color: #d4ebff;}#sk-container-id-2 div.sk-serial::before {content: \"\";position: absolute;border-left: 1px solid gray;box-sizing: border-box;top: 0;bottom: 0;left: 50%;z-index: 0;}#sk-container-id-2 div.sk-serial {display: flex;flex-direction: column;align-items: center;background-color: white;padding-right: 0.2em;padding-left: 0.2em;position: relative;}#sk-container-id-2 div.sk-item {position: relative;z-index: 1;}#sk-container-id-2 div.sk-parallel {display: flex;align-items: stretch;justify-content: center;background-color: white;position: relative;}#sk-container-id-2 div.sk-item::before, #sk-container-id-2 div.sk-parallel-item::before {content: \"\";position: absolute;border-left: 1px solid gray;box-sizing: border-box;top: 0;bottom: 0;left: 50%;z-index: -1;}#sk-container-id-2 div.sk-parallel-item {display: flex;flex-direction: column;z-index: 1;position: relative;background-color: white;}#sk-container-id-2 div.sk-parallel-item:first-child::after {align-self: flex-end;width: 50%;}#sk-container-id-2 div.sk-parallel-item:last-child::after {align-self: flex-start;width: 50%;}#sk-container-id-2 div.sk-parallel-item:only-child::after {width: 0;}#sk-container-id-2 div.sk-dashed-wrapped {border: 1px dashed gray;margin: 0 0.4em 0.5em 0.4em;box-sizing: border-box;padding-bottom: 0.4em;background-color: white;}#sk-container-id-2 div.sk-label label {font-family: monospace;font-weight: bold;display: inline-block;line-height: 1.2em;}#sk-container-id-2 div.sk-label-container {text-align: center;}#sk-container-id-2 div.sk-container {/* jupyter's `normalize.less` sets `[hidden] { display: none; }` but bootstrap.min.css set `[hidden] { display: none !important; }` so we also need the `!important` here to be able to override the default hidden behavior on the sphinx rendered scikit-learn.org. See: https://github.com/scikit-learn/scikit-learn/issues/21755 */display: inline-block !important;position: relative;}#sk-container-id-2 div.sk-text-repr-fallback {display: none;}</style><div id=\"sk-container-id-2\" class=\"sk-top-container\"><div class=\"sk-text-repr-fallback\"><pre>PCA(engine=&#x27;scipy&#x27;)</pre><b>In a Jupyter environment, please rerun this cell to show the HTML representation or trust the notebook. <br />On GitHub, the HTML representation is unable to render, please try loading this page with nbviewer.org.</b></div><div class=\"sk-container\" hidden><div class=\"sk-item\"><div class=\"sk-estimator sk-toggleable\"><input class=\"sk-toggleable__control sk-hidden--visually\" id=\"sk-estimator-id-2\" type=\"checkbox\" checked><label for=\"sk-estimator-id-2\" class=\"sk-toggleable__label sk-toggleable__label-arrow\">PCA</label><div class=\"sk-toggleable__content\"><pre>PCA(engine=&#x27;scipy&#x27;)</pre></div></div></div></div></div>"
      ],
      "text/plain": [
       "PCA(engine='scipy')"
      ]
     },
     "execution_count": 25,
     "metadata": {},
     "output_type": "execute_result"
    }
   ],
   "source": [
    "prince.PCA(engine='scipy')"
   ]
  },
  {
   "attachments": {},
   "cell_type": "markdown",
   "metadata": {},
   "source": [
    "Here is a very crude benchmark that compares each engine on different dataset sizes."
   ]
  },
  {
   "cell_type": "code",
   "execution_count": 26,
   "metadata": {
    "execution": {
     "iopub.execute_input": "2024-09-07T18:18:09.861549Z",
     "iopub.status.busy": "2024-09-07T18:18:09.861344Z",
     "iopub.status.idle": "2024-09-07T18:18:38.365399Z",
     "shell.execute_reply": "2024-09-07T18:18:38.363501Z"
    }
   },
   "outputs": [],
   "source": [
    "import itertools\n",
    "import numpy as np\n",
    "import pandas as pd\n",
    "\n",
    "N = [100, 10_000, 100_000]\n",
    "P = [3, 10, 30]\n",
    "ENGINES = ['sklearn', 'fbpca', 'scipy']\n",
    "\n",
    "perf = []\n",
    "\n",
    "for n, p, engine in itertools.product(N, P, ENGINES):\n",
    "\n",
    "    # Too slow\n",
    "    if engine == 'scipy' and n > 10_000:\n",
    "        continue\n",
    "\n",
    "    X = pd.DataFrame(np.random.random(size=(n, p)))\n",
    "    duration = %timeit -q -n 1 -r 3 -o prince.PCA(engine=engine, n_iter=3).fit(X)\n",
    "    perf.append({\n",
    "        'n': n,\n",
    "        'p': p,\n",
    "        'engine': engine,\n",
    "        'seconds': duration.average\n",
    "    })"
   ]
  },
  {
   "cell_type": "code",
   "execution_count": 27,
   "metadata": {
    "execution": {
     "iopub.execute_input": "2024-09-07T18:18:38.375608Z",
     "iopub.status.busy": "2024-09-07T18:18:38.375241Z",
     "iopub.status.idle": "2024-09-07T18:18:38.404614Z",
     "shell.execute_reply": "2024-09-07T18:18:38.403218Z"
    }
   },
   "outputs": [
    {
     "data": {
      "text/html": [
       "<div>\n",
       "<style scoped>\n",
       "    .dataframe tbody tr th:only-of-type {\n",
       "        vertical-align: middle;\n",
       "    }\n",
       "\n",
       "    .dataframe tbody tr th {\n",
       "        vertical-align: top;\n",
       "    }\n",
       "\n",
       "    .dataframe thead th {\n",
       "        text-align: right;\n",
       "    }\n",
       "</style>\n",
       "<table border=\"1\" class=\"dataframe\">\n",
       "  <thead>\n",
       "    <tr style=\"text-align: right;\">\n",
       "      <th></th>\n",
       "      <th></th>\n",
       "      <th>engine</th>\n",
       "      <th>seconds</th>\n",
       "    </tr>\n",
       "    <tr>\n",
       "      <th>n</th>\n",
       "      <th>p</th>\n",
       "      <th></th>\n",
       "      <th></th>\n",
       "    </tr>\n",
       "  </thead>\n",
       "  <tbody>\n",
       "    <tr>\n",
       "      <th rowspan=\"9\" valign=\"top\">100</th>\n",
       "      <th>3</th>\n",
       "      <td>fbpca</td>\n",
       "      <td>0.000901</td>\n",
       "    </tr>\n",
       "    <tr>\n",
       "      <th>3</th>\n",
       "      <td>scipy</td>\n",
       "      <td>0.001422</td>\n",
       "    </tr>\n",
       "    <tr>\n",
       "      <th>3</th>\n",
       "      <td>sklearn</td>\n",
       "      <td>0.010913</td>\n",
       "    </tr>\n",
       "    <tr>\n",
       "      <th>10</th>\n",
       "      <td>scipy</td>\n",
       "      <td>0.000967</td>\n",
       "    </tr>\n",
       "    <tr>\n",
       "      <th>10</th>\n",
       "      <td>fbpca</td>\n",
       "      <td>0.001173</td>\n",
       "    </tr>\n",
       "    <tr>\n",
       "      <th>10</th>\n",
       "      <td>sklearn</td>\n",
       "      <td>0.001576</td>\n",
       "    </tr>\n",
       "    <tr>\n",
       "      <th>30</th>\n",
       "      <td>fbpca</td>\n",
       "      <td>0.001033</td>\n",
       "    </tr>\n",
       "    <tr>\n",
       "      <th>30</th>\n",
       "      <td>sklearn</td>\n",
       "      <td>0.001215</td>\n",
       "    </tr>\n",
       "    <tr>\n",
       "      <th>30</th>\n",
       "      <td>scipy</td>\n",
       "      <td>0.002014</td>\n",
       "    </tr>\n",
       "    <tr>\n",
       "      <th rowspan=\"9\" valign=\"top\">10000</th>\n",
       "      <th>3</th>\n",
       "      <td>fbpca</td>\n",
       "      <td>0.001674</td>\n",
       "    </tr>\n",
       "    <tr>\n",
       "      <th>3</th>\n",
       "      <td>sklearn</td>\n",
       "      <td>0.071915</td>\n",
       "    </tr>\n",
       "    <tr>\n",
       "      <th>3</th>\n",
       "      <td>scipy</td>\n",
       "      <td>0.250581</td>\n",
       "    </tr>\n",
       "    <tr>\n",
       "      <th>10</th>\n",
       "      <td>fbpca</td>\n",
       "      <td>0.070721</td>\n",
       "    </tr>\n",
       "    <tr>\n",
       "      <th>10</th>\n",
       "      <td>scipy</td>\n",
       "      <td>0.684833</td>\n",
       "    </tr>\n",
       "    <tr>\n",
       "      <th>10</th>\n",
       "      <td>sklearn</td>\n",
       "      <td>0.727941</td>\n",
       "    </tr>\n",
       "    <tr>\n",
       "      <th>30</th>\n",
       "      <td>sklearn</td>\n",
       "      <td>0.699837</td>\n",
       "    </tr>\n",
       "    <tr>\n",
       "      <th>30</th>\n",
       "      <td>fbpca</td>\n",
       "      <td>0.866371</td>\n",
       "    </tr>\n",
       "    <tr>\n",
       "      <th>30</th>\n",
       "      <td>scipy</td>\n",
       "      <td>1.020118</td>\n",
       "    </tr>\n",
       "    <tr>\n",
       "      <th rowspan=\"6\" valign=\"top\">100000</th>\n",
       "      <th>3</th>\n",
       "      <td>fbpca</td>\n",
       "      <td>0.118162</td>\n",
       "    </tr>\n",
       "    <tr>\n",
       "      <th>3</th>\n",
       "      <td>sklearn</td>\n",
       "      <td>0.235635</td>\n",
       "    </tr>\n",
       "    <tr>\n",
       "      <th>10</th>\n",
       "      <td>fbpca</td>\n",
       "      <td>0.434168</td>\n",
       "    </tr>\n",
       "    <tr>\n",
       "      <th>10</th>\n",
       "      <td>sklearn</td>\n",
       "      <td>1.308237</td>\n",
       "    </tr>\n",
       "    <tr>\n",
       "      <th>30</th>\n",
       "      <td>fbpca</td>\n",
       "      <td>1.375646</td>\n",
       "    </tr>\n",
       "    <tr>\n",
       "      <th>30</th>\n",
       "      <td>sklearn</td>\n",
       "      <td>1.581494</td>\n",
       "    </tr>\n",
       "  </tbody>\n",
       "</table>\n",
       "</div>"
      ],
      "text/plain": [
       "            engine   seconds\n",
       "n      p                    \n",
       "100    3     fbpca  0.000901\n",
       "       3     scipy  0.001422\n",
       "       3   sklearn  0.010913\n",
       "       10    scipy  0.000967\n",
       "       10    fbpca  0.001173\n",
       "       10  sklearn  0.001576\n",
       "       30    fbpca  0.001033\n",
       "       30  sklearn  0.001215\n",
       "       30    scipy  0.002014\n",
       "10000  3     fbpca  0.001674\n",
       "       3   sklearn  0.071915\n",
       "       3     scipy  0.250581\n",
       "       10    fbpca  0.070721\n",
       "       10    scipy  0.684833\n",
       "       10  sklearn  0.727941\n",
       "       30  sklearn  0.699837\n",
       "       30    fbpca  0.866371\n",
       "       30    scipy  1.020118\n",
       "100000 3     fbpca  0.118162\n",
       "       3   sklearn  0.235635\n",
       "       10    fbpca  0.434168\n",
       "       10  sklearn  1.308237\n",
       "       30    fbpca  1.375646\n",
       "       30  sklearn  1.581494"
      ]
     },
     "execution_count": 27,
     "metadata": {},
     "output_type": "execute_result"
    }
   ],
   "source": [
    "(\n",
    "    pd.DataFrame(perf)\n",
    "    .set_index(['n', 'p'])\n",
    "    .groupby(['n', 'p'], group_keys=False)\n",
    "    .apply(lambda x: x[['engine', 'seconds']]\n",
    "    .sort_values('seconds'))\n",
    ")"
   ]
  }
 ],
 "metadata": {
  "kernelspec": {
   "display_name": "prince-NQ1O93Uh-py3.13",
   "language": "python",
   "name": "python3"
  },
  "language_info": {
   "codemirror_mode": {
    "name": "ipython",
    "version": 3
   },
   "file_extension": ".py",
   "mimetype": "text/x-python",
   "name": "python",
   "nbconvert_exporter": "python",
   "pygments_lexer": "ipython3",
   "version": "3.13.0"
  }
 },
 "nbformat": 4,
 "nbformat_minor": 2
}
