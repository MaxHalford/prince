{
 "cells": [
  {
   "attachments": {},
   "cell_type": "markdown",
   "metadata": {},
   "source": [
    "+++\n",
    "title = \"Principal component analysis\"\n",
    "menu = \"main\"\n",
    "weight = 1\n",
    "toc = true\n",
    "aliases = [\"pca\"]\n",
    "+++"
   ]
  },
  {
   "attachments": {},
   "cell_type": "markdown",
   "metadata": {},
   "source": [
    "## Resources\n",
    "\n",
    "- [*Principal component analysis*](https://personal.utdallas.edu/~herve/abdi-awPCA2010.pdf) by Hervé Abdi and Lynne J. Williams is excellent at explaining PCA interpretation. It also covers some extensions to PCA.\n",
    "- [*A Tutorial on Principal Component Analysis*](https://arxiv.org/pdf/1404.1100.pdf) by Jonathon Shlens goes into more detail on the intuition behind PCA, while also discussing its applicability and limits."
   ]
  },
  {
   "attachments": {},
   "cell_type": "markdown",
   "metadata": {},
   "source": [
    "## Data\n",
    "\n",
    "PCA assumes you have a dataframe consisting of numerical variables. This includes booleans and integers.\n",
    "\n",
    "As an example, let's use a dataset describing the energy mix of each country in the world, in 2019. The dataset is normalized into percentages, which makes countries comparable with one another."
   ]
  },
  {
   "cell_type": "code",
   "execution_count": 2,
   "metadata": {
    "execution": {
     "iopub.execute_input": "2023-02-22T13:45:25.236770Z",
     "iopub.status.busy": "2023-02-22T13:45:25.236393Z",
     "iopub.status.idle": "2023-02-22T13:45:25.851785Z",
     "shell.execute_reply": "2023-02-22T13:45:25.851491Z"
    }
   },
   "outputs": [
    {
     "data": {
      "text/html": [
       "<style type=\"text/css\">\n",
       "</style>\n",
       "<table id=\"T_13108\">\n",
       "  <thead>\n",
       "    <tr>\n",
       "      <th class=\"blank\" >&nbsp;</th>\n",
       "      <th class=\"blank level0\" >&nbsp;</th>\n",
       "      <th id=\"T_13108_level0_col0\" class=\"col_heading level0 col0\" >coal</th>\n",
       "      <th id=\"T_13108_level0_col1\" class=\"col_heading level0 col1\" >oil</th>\n",
       "      <th id=\"T_13108_level0_col2\" class=\"col_heading level0 col2\" >gas</th>\n",
       "      <th id=\"T_13108_level0_col3\" class=\"col_heading level0 col3\" >nuclear</th>\n",
       "      <th id=\"T_13108_level0_col4\" class=\"col_heading level0 col4\" >hydro</th>\n",
       "      <th id=\"T_13108_level0_col5\" class=\"col_heading level0 col5\" >wind</th>\n",
       "      <th id=\"T_13108_level0_col6\" class=\"col_heading level0 col6\" >solar</th>\n",
       "      <th id=\"T_13108_level0_col7\" class=\"col_heading level0 col7\" >other renewables</th>\n",
       "    </tr>\n",
       "    <tr>\n",
       "      <th class=\"index_name level0\" >continent</th>\n",
       "      <th class=\"index_name level1\" >country</th>\n",
       "      <th class=\"blank col0\" >&nbsp;</th>\n",
       "      <th class=\"blank col1\" >&nbsp;</th>\n",
       "      <th class=\"blank col2\" >&nbsp;</th>\n",
       "      <th class=\"blank col3\" >&nbsp;</th>\n",
       "      <th class=\"blank col4\" >&nbsp;</th>\n",
       "      <th class=\"blank col5\" >&nbsp;</th>\n",
       "      <th class=\"blank col6\" >&nbsp;</th>\n",
       "      <th class=\"blank col7\" >&nbsp;</th>\n",
       "    </tr>\n",
       "  </thead>\n",
       "  <tbody>\n",
       "    <tr>\n",
       "      <th id=\"T_13108_level0_row0\" class=\"row_heading level0 row0\" >Africa</th>\n",
       "      <th id=\"T_13108_level1_row0\" class=\"row_heading level1 row0\" >Algeria</th>\n",
       "      <td id=\"T_13108_row0_col0\" class=\"data row0 col0\" >1%</td>\n",
       "      <td id=\"T_13108_row0_col1\" class=\"data row0 col1\" >35%</td>\n",
       "      <td id=\"T_13108_row0_col2\" class=\"data row0 col2\" >64%</td>\n",
       "      <td id=\"T_13108_row0_col3\" class=\"data row0 col3\" >0%</td>\n",
       "      <td id=\"T_13108_row0_col4\" class=\"data row0 col4\" >0%</td>\n",
       "      <td id=\"T_13108_row0_col5\" class=\"data row0 col5\" >0%</td>\n",
       "      <td id=\"T_13108_row0_col6\" class=\"data row0 col6\" >0%</td>\n",
       "      <td id=\"T_13108_row0_col7\" class=\"data row0 col7\" >0%</td>\n",
       "    </tr>\n",
       "    <tr>\n",
       "      <th id=\"T_13108_level0_row1\" class=\"row_heading level0 row1\" >South America</th>\n",
       "      <th id=\"T_13108_level1_row1\" class=\"row_heading level1 row1\" >Argentina</th>\n",
       "      <td id=\"T_13108_row1_col0\" class=\"data row1 col0\" >1%</td>\n",
       "      <td id=\"T_13108_row1_col1\" class=\"data row1 col1\" >35%</td>\n",
       "      <td id=\"T_13108_row1_col2\" class=\"data row1 col2\" >50%</td>\n",
       "      <td id=\"T_13108_row1_col3\" class=\"data row1 col3\" >2%</td>\n",
       "      <td id=\"T_13108_row1_col4\" class=\"data row1 col4\" >10%</td>\n",
       "      <td id=\"T_13108_row1_col5\" class=\"data row1 col5\" >1%</td>\n",
       "      <td id=\"T_13108_row1_col6\" class=\"data row1 col6\" >0%</td>\n",
       "      <td id=\"T_13108_row1_col7\" class=\"data row1 col7\" >1%</td>\n",
       "    </tr>\n",
       "    <tr>\n",
       "      <th id=\"T_13108_level0_row2\" class=\"row_heading level0 row2\" >Oceania</th>\n",
       "      <th id=\"T_13108_level1_row2\" class=\"row_heading level1 row2\" >Australia</th>\n",
       "      <td id=\"T_13108_row2_col0\" class=\"data row2 col0\" >28%</td>\n",
       "      <td id=\"T_13108_row2_col1\" class=\"data row2 col1\" >34%</td>\n",
       "      <td id=\"T_13108_row2_col2\" class=\"data row2 col2\" >30%</td>\n",
       "      <td id=\"T_13108_row2_col3\" class=\"data row2 col3\" >0%</td>\n",
       "      <td id=\"T_13108_row2_col4\" class=\"data row2 col4\" >2%</td>\n",
       "      <td id=\"T_13108_row2_col5\" class=\"data row2 col5\" >3%</td>\n",
       "      <td id=\"T_13108_row2_col6\" class=\"data row2 col6\" >3%</td>\n",
       "      <td id=\"T_13108_row2_col7\" class=\"data row2 col7\" >1%</td>\n",
       "    </tr>\n",
       "    <tr>\n",
       "      <th id=\"T_13108_level0_row3\" class=\"row_heading level0 row3\" >Europe</th>\n",
       "      <th id=\"T_13108_level1_row3\" class=\"row_heading level1 row3\" >Austria</th>\n",
       "      <td id=\"T_13108_row3_col0\" class=\"data row3 col0\" >9%</td>\n",
       "      <td id=\"T_13108_row3_col1\" class=\"data row3 col1\" >37%</td>\n",
       "      <td id=\"T_13108_row3_col2\" class=\"data row3 col2\" >22%</td>\n",
       "      <td id=\"T_13108_row3_col3\" class=\"data row3 col3\" >0%</td>\n",
       "      <td id=\"T_13108_row3_col4\" class=\"data row3 col4\" >25%</td>\n",
       "      <td id=\"T_13108_row3_col5\" class=\"data row3 col5\" >4%</td>\n",
       "      <td id=\"T_13108_row3_col6\" class=\"data row3 col6\" >1%</td>\n",
       "      <td id=\"T_13108_row3_col7\" class=\"data row3 col7\" >3%</td>\n",
       "    </tr>\n",
       "    <tr>\n",
       "      <th id=\"T_13108_level0_row4\" class=\"row_heading level0 row4\" >Asia</th>\n",
       "      <th id=\"T_13108_level1_row4\" class=\"row_heading level1 row4\" >Azerbaijan</th>\n",
       "      <td id=\"T_13108_row4_col0\" class=\"data row4 col0\" >0%</td>\n",
       "      <td id=\"T_13108_row4_col1\" class=\"data row4 col1\" >33%</td>\n",
       "      <td id=\"T_13108_row4_col2\" class=\"data row4 col2\" >65%</td>\n",
       "      <td id=\"T_13108_row4_col3\" class=\"data row4 col3\" >0%</td>\n",
       "      <td id=\"T_13108_row4_col4\" class=\"data row4 col4\" >2%</td>\n",
       "      <td id=\"T_13108_row4_col5\" class=\"data row4 col5\" >0%</td>\n",
       "      <td id=\"T_13108_row4_col6\" class=\"data row4 col6\" >0%</td>\n",
       "      <td id=\"T_13108_row4_col7\" class=\"data row4 col7\" >0%</td>\n",
       "    </tr>\n",
       "  </tbody>\n",
       "</table>\n"
      ],
      "text/plain": [
       "<pandas.io.formats.style.Styler at 0x116fc3790>"
      ]
     },
     "execution_count": 2,
     "metadata": {},
     "output_type": "execute_result"
    }
   ],
   "source": [
    "import prince\n",
    "\n",
    "dataset = prince.datasets.load_energy_mix(year=2019, normalize=True)\n",
    "dataset.head().style.format('{:.0%}')  "
   ]
  },
  {
   "attachments": {},
   "cell_type": "markdown",
   "metadata": {},
   "source": [
    "## Fitting"
   ]
  },
  {
   "attachments": {},
   "cell_type": "markdown",
   "metadata": {},
   "source": [
    "The `PCA` estimator implements the `fit/transform` API from scikit-learn."
   ]
  },
  {
   "cell_type": "code",
   "execution_count": 34,
   "metadata": {
    "execution": {
     "iopub.execute_input": "2023-02-22T13:45:25.864987Z",
     "iopub.status.busy": "2023-02-22T13:45:25.864788Z",
     "iopub.status.idle": "2023-02-22T13:45:25.891997Z",
     "shell.execute_reply": "2023-02-22T13:45:25.891067Z"
    }
   },
   "outputs": [],
   "source": [
    "pca = prince.PCA(\n",
    "    n_components=3,\n",
    "    n_iter=3,\n",
    "    rescale_with_mean=True,\n",
    "    rescale_with_std=True,\n",
    "    copy=True,\n",
    "    check_input=True,\n",
    "    engine='sklearn',\n",
    "    random_state=42\n",
    ")\n",
    "pca = pca.fit(dataset)"
   ]
  },
  {
   "attachments": {},
   "cell_type": "markdown",
   "metadata": {},
   "source": [
    "The available parameters are:\n",
    "\n",
    "- `n_components` — the number of components that are computed. You only need two if your intention is to visualize the two major components.\n",
    "- `n_iter` — the number of iterations used for computing the SVD.\n",
    "- `rescale_with_mean` — whether to substract each column's mean\n",
    "- `rescale_with_std` — whether to divide each column by it's standard deviation\n",
    "- `copy` — if `False` then the computations will be done inplace which can have possible side-effects on the input data\n",
    "- `engine` — what SVD engine to use (should be one of `['fbpca', 'sklearn']`)\n",
    "- `random_state` — controls the randomness of the SVD results.\n",
    "\n",
    "These methods are common to other Prince estimators."
   ]
  },
  {
   "attachments": {},
   "cell_type": "markdown",
   "metadata": {},
   "source": [
    "## Eigenvalues\n",
    "\n",
    "The importance of a principal component is indicated by the proportion of dataset inertia it explains. This is called the explained inertia, and is obtained by dividing the eigenvalues obtained with SVD by the total inertia.\n",
    "\n",
    "The ideal situation is when a large share of inertia is explained by a low number of principal components."
   ]
  },
  {
   "cell_type": "code",
   "execution_count": 36,
   "metadata": {},
   "outputs": [
    {
     "data": {
      "text/html": [
       "<div>\n",
       "<style scoped>\n",
       "    .dataframe tbody tr th:only-of-type {\n",
       "        vertical-align: middle;\n",
       "    }\n",
       "\n",
       "    .dataframe tbody tr th {\n",
       "        vertical-align: top;\n",
       "    }\n",
       "\n",
       "    .dataframe thead th {\n",
       "        text-align: right;\n",
       "    }\n",
       "</style>\n",
       "<table border=\"1\" class=\"dataframe\">\n",
       "  <thead>\n",
       "    <tr style=\"text-align: right;\">\n",
       "      <th></th>\n",
       "      <th>eigenvalue</th>\n",
       "      <th>% of variance</th>\n",
       "      <th>% of variance (cumulative)</th>\n",
       "    </tr>\n",
       "    <tr>\n",
       "      <th>component</th>\n",
       "      <th></th>\n",
       "      <th></th>\n",
       "      <th></th>\n",
       "    </tr>\n",
       "  </thead>\n",
       "  <tbody>\n",
       "    <tr>\n",
       "      <th>0</th>\n",
       "      <td>1.963</td>\n",
       "      <td>24.54%</td>\n",
       "      <td>24.54%</td>\n",
       "    </tr>\n",
       "    <tr>\n",
       "      <th>1</th>\n",
       "      <td>1.561</td>\n",
       "      <td>19.51%</td>\n",
       "      <td>44.05%</td>\n",
       "    </tr>\n",
       "    <tr>\n",
       "      <th>2</th>\n",
       "      <td>1.403</td>\n",
       "      <td>17.54%</td>\n",
       "      <td>61.59%</td>\n",
       "    </tr>\n",
       "  </tbody>\n",
       "</table>\n",
       "</div>"
      ],
      "text/plain": [
       "          eigenvalue % of variance % of variance (cumulative)\n",
       "component                                                    \n",
       "0              1.963        24.54%                     24.54%\n",
       "1              1.561        19.51%                     44.05%\n",
       "2              1.403        17.54%                     61.59%"
      ]
     },
     "execution_count": 36,
     "metadata": {},
     "output_type": "execute_result"
    }
   ],
   "source": [
    "pca.eigenvalues_summary"
   ]
  },
  {
   "attachments": {},
   "cell_type": "markdown",
   "metadata": {},
   "source": [
    "In this dataset, the first three components explain ~62% of the dataset inertia. This isn't great, but isn't bad either.\n",
    "\n",
    "The columns in the above table are also available as separate attributes:"
   ]
  },
  {
   "cell_type": "code",
   "execution_count": 37,
   "metadata": {},
   "outputs": [
    {
     "data": {
      "text/plain": [
       "array([1.96301214, 1.56069986, 1.40327823])"
      ]
     },
     "execution_count": 37,
     "metadata": {},
     "output_type": "execute_result"
    }
   ],
   "source": [
    "pca.eigenvalues_"
   ]
  },
  {
   "cell_type": "code",
   "execution_count": 38,
   "metadata": {},
   "outputs": [
    {
     "data": {
      "text/plain": [
       "array([24.5376518 , 19.50874822, 17.54097785])"
      ]
     },
     "execution_count": 38,
     "metadata": {},
     "output_type": "execute_result"
    }
   ],
   "source": [
    "pca.percentage_of_variance_"
   ]
  },
  {
   "cell_type": "code",
   "execution_count": 39,
   "metadata": {},
   "outputs": [
    {
     "data": {
      "text/plain": [
       "array([24.5376518 , 44.04640003, 61.58737788])"
      ]
     },
     "execution_count": 39,
     "metadata": {},
     "output_type": "execute_result"
    }
   ],
   "source": [
    "pca.cumulative_percentage_of_variance_"
   ]
  },
  {
   "attachments": {},
   "cell_type": "markdown",
   "metadata": {},
   "source": [
    "Eigenvalues can also be visualized with a [scree plot](https://www.wikiwand.com/en/Scree_plot)."
   ]
  },
  {
   "cell_type": "code",
   "execution_count": 5,
   "metadata": {},
   "outputs": [
    {
     "data": {
      "text/html": [
       "\n",
       "<div id=\"altair-viz-4e5993fb554b457b819f6ed7d653b796\"></div>\n",
       "<script type=\"text/javascript\">\n",
       "  var VEGA_DEBUG = (typeof VEGA_DEBUG == \"undefined\") ? {} : VEGA_DEBUG;\n",
       "  (function(spec, embedOpt){\n",
       "    let outputDiv = document.currentScript.previousElementSibling;\n",
       "    if (outputDiv.id !== \"altair-viz-4e5993fb554b457b819f6ed7d653b796\") {\n",
       "      outputDiv = document.getElementById(\"altair-viz-4e5993fb554b457b819f6ed7d653b796\");\n",
       "    }\n",
       "    const paths = {\n",
       "      \"vega\": \"https://cdn.jsdelivr.net/npm//vega@5?noext\",\n",
       "      \"vega-lib\": \"https://cdn.jsdelivr.net/npm//vega-lib?noext\",\n",
       "      \"vega-lite\": \"https://cdn.jsdelivr.net/npm//vega-lite@4.17.0?noext\",\n",
       "      \"vega-embed\": \"https://cdn.jsdelivr.net/npm//vega-embed@6?noext\",\n",
       "    };\n",
       "\n",
       "    function maybeLoadScript(lib, version) {\n",
       "      var key = `${lib.replace(\"-\", \"\")}_version`;\n",
       "      return (VEGA_DEBUG[key] == version) ?\n",
       "        Promise.resolve(paths[lib]) :\n",
       "        new Promise(function(resolve, reject) {\n",
       "          var s = document.createElement('script');\n",
       "          document.getElementsByTagName(\"head\")[0].appendChild(s);\n",
       "          s.async = true;\n",
       "          s.onload = () => {\n",
       "            VEGA_DEBUG[key] = version;\n",
       "            return resolve(paths[lib]);\n",
       "          };\n",
       "          s.onerror = () => reject(`Error loading script: ${paths[lib]}`);\n",
       "          s.src = paths[lib];\n",
       "        });\n",
       "    }\n",
       "\n",
       "    function showError(err) {\n",
       "      outputDiv.innerHTML = `<div class=\"error\" style=\"color:red;\">${err}</div>`;\n",
       "      throw err;\n",
       "    }\n",
       "\n",
       "    function displayChart(vegaEmbed) {\n",
       "      vegaEmbed(outputDiv, spec, embedOpt)\n",
       "        .catch(err => showError(`Javascript Error: ${err.message}<br>This usually means there's a typo in your chart specification. See the javascript console for the full traceback.`));\n",
       "    }\n",
       "\n",
       "    if(typeof define === \"function\" && define.amd) {\n",
       "      requirejs.config({paths});\n",
       "      require([\"vega-embed\"], displayChart, err => showError(`Error loading script: ${err.message}`));\n",
       "    } else {\n",
       "      maybeLoadScript(\"vega\", \"5\")\n",
       "        .then(() => maybeLoadScript(\"vega-lite\", \"4.17.0\"))\n",
       "        .then(() => maybeLoadScript(\"vega-embed\", \"6\"))\n",
       "        .catch(showError)\n",
       "        .then(() => displayChart(vegaEmbed));\n",
       "    }\n",
       "  })({\"config\": {\"view\": {\"continuousWidth\": 400, \"continuousHeight\": 300}}, \"data\": {\"name\": \"data-6fcf8330645eee19b2933252fc53e2fc\"}, \"mark\": {\"type\": \"bar\", \"size\": 10}, \"encoding\": {\"tooltip\": [{\"field\": \"component\", \"type\": \"nominal\"}, {\"field\": \"eigenvalue\", \"type\": \"quantitative\"}, {\"field\": \"% of variance\", \"type\": \"quantitative\"}, {\"field\": \"% of variance (cumulative)\", \"type\": \"quantitative\"}], \"x\": {\"field\": \"component\", \"type\": \"nominal\"}, \"y\": {\"field\": \"eigenvalue\", \"type\": \"quantitative\"}}, \"$schema\": \"https://vega.github.io/schema/vega-lite/v4.17.0.json\", \"datasets\": {\"data-6fcf8330645eee19b2933252fc53e2fc\": [{\"component\": \"0\", \"eigenvalue\": 1.9630121441911277, \"% of variance\": 24.537651802389096, \"% of variance (cumulative)\": 24.537651802389096}, {\"component\": \"1\", \"eigenvalue\": 1.5606998579915559, \"% of variance\": 19.508748224894447, \"% of variance (cumulative)\": 44.04640002728354}, {\"component\": \"2\", \"eigenvalue\": 1.4032782280687068, \"% of variance\": 17.540977850858834, \"% of variance (cumulative)\": 61.58737787814238}, {\"component\": \"3\", \"eigenvalue\": 1.088220662211763, \"% of variance\": 13.602758277647037, \"% of variance (cumulative)\": 75.19013615578942}]}}, {\"mode\": \"vega-lite\"});\n",
       "</script>"
      ],
      "text/plain": [
       "alt.Chart(...)"
      ]
     },
     "execution_count": 5,
     "metadata": {},
     "output_type": "execute_result"
    }
   ],
   "source": [
    "pca.scree_plot()"
   ]
  },
  {
   "attachments": {},
   "cell_type": "markdown",
   "metadata": {},
   "source": [
    "## Coordinates\n",
    "\n",
    "The row principal coordinates can be obtained once the `PCA` has been fitted to the data."
   ]
  },
  {
   "cell_type": "code",
   "execution_count": 6,
   "metadata": {
    "execution": {
     "iopub.execute_input": "2023-02-22T13:45:25.896847Z",
     "iopub.status.busy": "2023-02-22T13:45:25.896487Z",
     "iopub.status.idle": "2023-02-22T13:45:25.919095Z",
     "shell.execute_reply": "2023-02-22T13:45:25.918326Z"
    }
   },
   "outputs": [
    {
     "data": {
      "text/html": [
       "<div>\n",
       "<style scoped>\n",
       "    .dataframe tbody tr th:only-of-type {\n",
       "        vertical-align: middle;\n",
       "    }\n",
       "\n",
       "    .dataframe tbody tr th {\n",
       "        vertical-align: top;\n",
       "    }\n",
       "\n",
       "    .dataframe thead th {\n",
       "        text-align: right;\n",
       "    }\n",
       "</style>\n",
       "<table border=\"1\" class=\"dataframe\">\n",
       "  <thead>\n",
       "    <tr style=\"text-align: right;\">\n",
       "      <th></th>\n",
       "      <th>component</th>\n",
       "      <th>0</th>\n",
       "      <th>1</th>\n",
       "      <th>2</th>\n",
       "      <th>3</th>\n",
       "    </tr>\n",
       "    <tr>\n",
       "      <th>continent</th>\n",
       "      <th>country</th>\n",
       "      <th></th>\n",
       "      <th></th>\n",
       "      <th></th>\n",
       "      <th></th>\n",
       "    </tr>\n",
       "  </thead>\n",
       "  <tbody>\n",
       "    <tr>\n",
       "      <th>Africa</th>\n",
       "      <th>Algeria</th>\n",
       "      <td>-2.189068</td>\n",
       "      <td>0.380243</td>\n",
       "      <td>-0.388572</td>\n",
       "      <td>0.336561</td>\n",
       "    </tr>\n",
       "    <tr>\n",
       "      <th>South America</th>\n",
       "      <th>Argentina</th>\n",
       "      <td>-1.244981</td>\n",
       "      <td>0.801917</td>\n",
       "      <td>-0.389456</td>\n",
       "      <td>0.293335</td>\n",
       "    </tr>\n",
       "    <tr>\n",
       "      <th>Oceania</th>\n",
       "      <th>Australia</th>\n",
       "      <td>0.203969</td>\n",
       "      <td>-1.470254</td>\n",
       "      <td>0.531819</td>\n",
       "      <td>0.202603</td>\n",
       "    </tr>\n",
       "    <tr>\n",
       "      <th>Europe</th>\n",
       "      <th>Austria</th>\n",
       "      <td>0.847122</td>\n",
       "      <td>1.008296</td>\n",
       "      <td>-0.521998</td>\n",
       "      <td>-0.214031</td>\n",
       "    </tr>\n",
       "    <tr>\n",
       "      <th>Asia</th>\n",
       "      <th>Azerbaijan</th>\n",
       "      <td>-2.190535</td>\n",
       "      <td>0.632250</td>\n",
       "      <td>-0.365515</td>\n",
       "      <td>0.344389</td>\n",
       "    </tr>\n",
       "  </tbody>\n",
       "</table>\n",
       "</div>"
      ],
      "text/plain": [
       "component                        0         1         2         3\n",
       "continent     country                                           \n",
       "Africa        Algeria    -2.189068  0.380243 -0.388572  0.336561\n",
       "South America Argentina  -1.244981  0.801917 -0.389456  0.293335\n",
       "Oceania       Australia   0.203969 -1.470254  0.531819  0.202603\n",
       "Europe        Austria     0.847122  1.008296 -0.521998 -0.214031\n",
       "Asia          Azerbaijan -2.190535  0.632250 -0.365515  0.344389"
      ]
     },
     "execution_count": 6,
     "metadata": {},
     "output_type": "execute_result"
    }
   ],
   "source": [
    "pca.transform(dataset).head()"
   ]
  },
  {
   "attachments": {},
   "cell_type": "markdown",
   "metadata": {},
   "source": [
    "The `transform` method is in fact an alias for `row_coordinates`:"
   ]
  },
  {
   "cell_type": "code",
   "execution_count": 45,
   "metadata": {},
   "outputs": [
    {
     "data": {
      "text/plain": [
       "True"
      ]
     },
     "execution_count": 45,
     "metadata": {},
     "output_type": "execute_result"
    }
   ],
   "source": [
    "pca.transform(dataset).equals(pca.row_coordinates(dataset))"
   ]
  },
  {
   "attachments": {},
   "cell_type": "markdown",
   "metadata": {},
   "source": [
    "This is transforming the original dataset into factor scores."
   ]
  },
  {
   "attachments": {},
   "cell_type": "markdown",
   "metadata": {},
   "source": [
    "The column coordinates are obtained during the PCA training process."
   ]
  },
  {
   "cell_type": "code",
   "execution_count": 46,
   "metadata": {},
   "outputs": [
    {
     "data": {
      "text/html": [
       "<div>\n",
       "<style scoped>\n",
       "    .dataframe tbody tr th:only-of-type {\n",
       "        vertical-align: middle;\n",
       "    }\n",
       "\n",
       "    .dataframe tbody tr th {\n",
       "        vertical-align: top;\n",
       "    }\n",
       "\n",
       "    .dataframe thead th {\n",
       "        text-align: right;\n",
       "    }\n",
       "</style>\n",
       "<table border=\"1\" class=\"dataframe\">\n",
       "  <thead>\n",
       "    <tr style=\"text-align: right;\">\n",
       "      <th>component</th>\n",
       "      <th>0</th>\n",
       "      <th>1</th>\n",
       "      <th>2</th>\n",
       "      <th>3</th>\n",
       "    </tr>\n",
       "    <tr>\n",
       "      <th>variable</th>\n",
       "      <th></th>\n",
       "      <th></th>\n",
       "      <th></th>\n",
       "      <th></th>\n",
       "    </tr>\n",
       "  </thead>\n",
       "  <tbody>\n",
       "    <tr>\n",
       "      <th>coal</th>\n",
       "      <td>0.230205</td>\n",
       "      <td>-0.395474</td>\n",
       "      <td>0.740748</td>\n",
       "      <td>-0.409552</td>\n",
       "    </tr>\n",
       "    <tr>\n",
       "      <th>oil</th>\n",
       "      <td>0.176200</td>\n",
       "      <td>-0.418917</td>\n",
       "      <td>-0.737855</td>\n",
       "      <td>-0.330527</td>\n",
       "    </tr>\n",
       "    <tr>\n",
       "      <th>gas</th>\n",
       "      <td>-0.866927</td>\n",
       "      <td>0.182990</td>\n",
       "      <td>-0.096857</td>\n",
       "      <td>0.369908</td>\n",
       "    </tr>\n",
       "    <tr>\n",
       "      <th>nuclear</th>\n",
       "      <td>0.310313</td>\n",
       "      <td>-0.002598</td>\n",
       "      <td>0.400608</td>\n",
       "      <td>0.612367</td>\n",
       "    </tr>\n",
       "    <tr>\n",
       "      <th>hydro</th>\n",
       "      <td>0.440383</td>\n",
       "      <td>0.744815</td>\n",
       "      <td>-0.016375</td>\n",
       "      <td>-0.179789</td>\n",
       "    </tr>\n",
       "    <tr>\n",
       "      <th>wind</th>\n",
       "      <td>0.518712</td>\n",
       "      <td>-0.161507</td>\n",
       "      <td>-0.364593</td>\n",
       "      <td>0.413134</td>\n",
       "    </tr>\n",
       "    <tr>\n",
       "      <th>solar</th>\n",
       "      <td>0.415677</td>\n",
       "      <td>-0.589288</td>\n",
       "      <td>0.001012</td>\n",
       "      <td>0.308925</td>\n",
       "    </tr>\n",
       "    <tr>\n",
       "      <th>other renewables</th>\n",
       "      <td>0.628750</td>\n",
       "      <td>0.516935</td>\n",
       "      <td>-0.084114</td>\n",
       "      <td>0.031241</td>\n",
       "    </tr>\n",
       "  </tbody>\n",
       "</table>\n",
       "</div>"
      ],
      "text/plain": [
       "component                0         1         2         3\n",
       "variable                                                \n",
       "coal              0.230205 -0.395474  0.740748 -0.409552\n",
       "oil               0.176200 -0.418917 -0.737855 -0.330527\n",
       "gas              -0.866927  0.182990 -0.096857  0.369908\n",
       "nuclear           0.310313 -0.002598  0.400608  0.612367\n",
       "hydro             0.440383  0.744815 -0.016375 -0.179789\n",
       "wind              0.518712 -0.161507 -0.364593  0.413134\n",
       "solar             0.415677 -0.589288  0.001012  0.308925\n",
       "other renewables  0.628750  0.516935 -0.084114  0.031241"
      ]
     },
     "execution_count": 46,
     "metadata": {},
     "output_type": "execute_result"
    }
   ],
   "source": [
    "pca.column_coordinates_"
   ]
  },
  {
   "attachments": {},
   "cell_type": "markdown",
   "metadata": {},
   "source": [
    "## Visualization"
   ]
  },
  {
   "attachments": {},
   "cell_type": "markdown",
   "metadata": {},
   "source": [
    "The row and column coordinates be visualized together with a scatter chart."
   ]
  },
  {
   "cell_type": "code",
   "execution_count": 52,
   "metadata": {
    "execution": {
     "iopub.execute_input": "2023-02-22T13:45:25.923729Z",
     "iopub.status.busy": "2023-02-22T13:45:25.923164Z",
     "iopub.status.idle": "2023-02-22T13:45:25.991215Z",
     "shell.execute_reply": "2023-02-22T13:45:25.990418Z"
    }
   },
   "outputs": [
    {
     "data": {
      "text/html": [
       "\n",
       "<div id=\"altair-viz-2d626afd04924e64be9fe5abcc8678a4\"></div>\n",
       "<script type=\"text/javascript\">\n",
       "  var VEGA_DEBUG = (typeof VEGA_DEBUG == \"undefined\") ? {} : VEGA_DEBUG;\n",
       "  (function(spec, embedOpt){\n",
       "    let outputDiv = document.currentScript.previousElementSibling;\n",
       "    if (outputDiv.id !== \"altair-viz-2d626afd04924e64be9fe5abcc8678a4\") {\n",
       "      outputDiv = document.getElementById(\"altair-viz-2d626afd04924e64be9fe5abcc8678a4\");\n",
       "    }\n",
       "    const paths = {\n",
       "      \"vega\": \"https://cdn.jsdelivr.net/npm//vega@5?noext\",\n",
       "      \"vega-lib\": \"https://cdn.jsdelivr.net/npm//vega-lib?noext\",\n",
       "      \"vega-lite\": \"https://cdn.jsdelivr.net/npm//vega-lite@4.17.0?noext\",\n",
       "      \"vega-embed\": \"https://cdn.jsdelivr.net/npm//vega-embed@6?noext\",\n",
       "    };\n",
       "\n",
       "    function maybeLoadScript(lib, version) {\n",
       "      var key = `${lib.replace(\"-\", \"\")}_version`;\n",
       "      return (VEGA_DEBUG[key] == version) ?\n",
       "        Promise.resolve(paths[lib]) :\n",
       "        new Promise(function(resolve, reject) {\n",
       "          var s = document.createElement('script');\n",
       "          document.getElementsByTagName(\"head\")[0].appendChild(s);\n",
       "          s.async = true;\n",
       "          s.onload = () => {\n",
       "            VEGA_DEBUG[key] = version;\n",
       "            return resolve(paths[lib]);\n",
       "          };\n",
       "          s.onerror = () => reject(`Error loading script: ${paths[lib]}`);\n",
       "          s.src = paths[lib];\n",
       "        });\n",
       "    }\n",
       "\n",
       "    function showError(err) {\n",
       "      outputDiv.innerHTML = `<div class=\"error\" style=\"color:red;\">${err}</div>`;\n",
       "      throw err;\n",
       "    }\n",
       "\n",
       "    function displayChart(vegaEmbed) {\n",
       "      vegaEmbed(outputDiv, spec, embedOpt)\n",
       "        .catch(err => showError(`Javascript Error: ${err.message}<br>This usually means there's a typo in your chart specification. See the javascript console for the full traceback.`));\n",
       "    }\n",
       "\n",
       "    if(typeof define === \"function\" && define.amd) {\n",
       "      requirejs.config({paths});\n",
       "      require([\"vega-embed\"], displayChart, err => showError(`Error loading script: ${err.message}`));\n",
       "    } else {\n",
       "      maybeLoadScript(\"vega\", \"5\")\n",
       "        .then(() => maybeLoadScript(\"vega-lite\", \"4.17.0\"))\n",
       "        .then(() => maybeLoadScript(\"vega-embed\", \"6\"))\n",
       "        .catch(showError)\n",
       "        .then(() => displayChart(vegaEmbed));\n",
       "    }\n",
       "  })({\"config\": {\"view\": {\"continuousWidth\": 400, \"continuousHeight\": 300}}, \"layer\": [{\"mark\": {\"type\": \"circle\", \"size\": 50}, \"encoding\": {\"color\": {\"field\": \"continent\", \"type\": \"nominal\"}, \"tooltip\": [{\"field\": \"continent\", \"type\": \"nominal\"}, {\"field\": \"country\", \"type\": \"nominal\"}, {\"field\": \"component 0\", \"type\": \"quantitative\"}, {\"field\": \"component 1\", \"type\": \"quantitative\"}], \"x\": {\"axis\": {\"title\": \"component 0 \\u2014 24.54%\"}, \"field\": \"component 0\", \"scale\": {\"zero\": false}, \"type\": \"quantitative\"}, \"y\": {\"axis\": {\"title\": \"component 1 \\u2014 19.51%\"}, \"field\": \"component 1\", \"scale\": {\"zero\": false}, \"type\": \"quantitative\"}}}, {\"data\": {\"name\": \"data-725ffad0ca4c6d9b193a9a8f6761f655\"}, \"mark\": {\"type\": \"square\", \"color\": \"green\", \"size\": 50}, \"encoding\": {\"tooltip\": [{\"field\": \"variable\", \"type\": \"nominal\"}], \"x\": {\"field\": \"component 0\", \"scale\": {\"zero\": false}, \"type\": \"quantitative\"}, \"y\": {\"field\": \"component 1\", \"scale\": {\"zero\": false}, \"type\": \"quantitative\"}}}], \"data\": {\"name\": \"data-355b83fdc63421421c1ce95fd2806f7d\"}, \"$schema\": \"https://vega.github.io/schema/vega-lite/v4.17.0.json\", \"datasets\": {\"data-355b83fdc63421421c1ce95fd2806f7d\": [{\"continent\": \"Africa\", \"country\": \"Algeria\", \"component 0\": -2.1890683235018233, \"component 1\": 0.3802430845833857, \"component 2\": -0.38857200885287535, \"component 3\": 0.3365614451539336}, {\"continent\": \"South America\", \"country\": \"Argentina\", \"component 0\": -1.2449809136844547, \"component 1\": 0.8019170914196425, \"component 2\": -0.3894555350426134, \"component 3\": 0.29333540618729065}, {\"continent\": \"Oceania\", \"country\": \"Australia\", \"component 0\": 0.20396903697829905, \"component 1\": -1.470253963268879, \"component 2\": 0.5318189014543244, \"component 3\": 0.20260263484070937}, {\"continent\": \"Europe\", \"country\": \"Austria\", \"component 0\": 0.8471216351969489, \"component 1\": 1.0082962135958828, \"component 2\": -0.5219975517003386, \"component 3\": -0.21403111456821397}, {\"continent\": \"Asia\", \"country\": \"Azerbaijan\", \"component 0\": -2.190534789276698, \"component 1\": 0.6322502201648152, \"component 2\": -0.3655152611379308, \"component 3\": 0.3443892197996473}, {\"continent\": \"Asia\", \"country\": \"Bangladesh\", \"component 0\": -2.3971270086304, \"component 1\": 0.5978805199941836, \"component 2\": 0.40469847963659195, \"component 3\": 0.5386494186468507}, {\"continent\": \"Europe\", \"country\": \"Belarus\", \"component 0\": -2.249012696615155, \"component 1\": 0.5130378176751523, \"component 2\": -0.11468609899301206, \"component 3\": 0.3560478317686008}, {\"continent\": \"Europe\", \"country\": \"Belgium\", \"component 0\": 0.5129552509797374, \"component 1\": -0.7918525399485158, \"component 2\": -0.400805133561515, \"component 3\": 1.0953031988628117}, {\"continent\": \"South America\", \"country\": \"Brazil\", \"component 0\": 1.4326021939469056, \"component 1\": 1.6174697914843033, \"component 2\": -0.7258786903436064, \"component 3\": -0.5299045666708682}, {\"continent\": \"Europe\", \"country\": \"Bulgaria\", \"component 0\": 1.1854225672961205, \"component 1\": -1.0657556131268628, \"component 2\": 1.7702403719829118, \"component 3\": 1.3180849896906877}, {\"continent\": \"North America\", \"country\": \"Canada\", \"component 0\": -0.04935611938254242, \"component 1\": 1.3314516816840904, \"component 2\": 0.0184727703938132, \"component 3\": 0.18213521686695844}, {\"continent\": \"South America\", \"country\": \"Chile\", \"component 0\": 1.870148862132147, \"component 1\": -1.0171233793722603, \"component 2\": -0.4074232445136813, \"component 3\": 0.14923123329021906}, {\"continent\": \"Asia\", \"country\": \"China\", \"component 0\": 0.8976977193613257, \"component 1\": -0.9862977117676487, \"component 2\": 2.363994882035523, \"component 3\": -0.8765855446859865}, {\"continent\": \"South America\", \"country\": \"Colombia\", \"component 0\": -0.21546953617959347, \"component 1\": 1.235349594629521, \"component 2\": 0.10620523150315202, \"component 3\": -1.0219289784382288}, {\"continent\": \"Europe\", \"country\": \"Croatia\", \"component 0\": -0.026051450970706772, \"component 1\": 0.8354359363062168, \"component 2\": -0.774255397318505, \"component 3\": -0.2241760596626515}, {\"continent\": \"Asia\", \"country\": \"Cyprus\", \"component 0\": 0.8687868577482043, \"component 1\": -2.089658829543803, \"component 2\": -2.695608316196079, \"component 3\": -1.2490327028693906}, {\"continent\": \"Europe\", \"country\": \"Czechia\", \"component 0\": 0.6274389636722499, \"component 1\": -0.5459233709325043, \"component 2\": 2.071009507937302, \"component 3\": 0.5558323999885885}, {\"continent\": \"Europe\", \"country\": \"Denmark\", \"component 0\": 3.0954896363993383, \"component 1\": -0.6040755184733296, \"component 2\": -2.602856386619385, \"component 3\": 1.9526269634805182}, {\"continent\": \"South America\", \"country\": \"Ecuador\", \"component 0\": 0.6808765946846796, \"component 1\": 0.8603121903708817, \"component 2\": -1.4821750668448872, \"component 3\": -1.7058733927033385}, {\"continent\": \"Africa\", \"country\": \"Egypt\", \"component 0\": -1.5166340436710188, \"component 1\": 0.009928284038989089, \"component 2\": -0.5178544939343204, \"component 3\": 0.30166122566434267}, {\"continent\": \"Europe\", \"country\": \"Estonia\", \"component 0\": 0.8785647112733624, \"component 1\": -0.5073678406599711, \"component 2\": 1.972950295963322, \"component 3\": -1.4709428834945577}, {\"continent\": \"Europe\", \"country\": \"Finland\", \"component 0\": 2.290822972733853, \"component 1\": 1.3361049807594134, \"component 2\": 0.4412819223445058, \"component 3\": 1.0244709859122505}, {\"continent\": \"Europe\", \"country\": \"France\", \"component 0\": 1.176724338916868, \"component 1\": -0.15904669014179965, \"component 2\": 1.3000451899880228, \"component 3\": 3.0163314636307432}, {\"continent\": \"Europe\", \"country\": \"Germany\", \"component 0\": 1.6987226706793859, \"component 1\": -1.6244462947865197, \"component 2\": -0.27013965709612114, \"component 3\": 1.6493006638739165}, {\"continent\": \"Europe\", \"country\": \"Greece\", \"component 0\": 1.1641812187144118, \"component 1\": -2.19599177029954, \"component 2\": -1.261484748709455, \"component 3\": 0.3354366669156622}, {\"continent\": \"Asia\", \"country\": \"Hong Kong\", \"component 0\": -0.18207387572526562, \"component 1\": -0.9960252506516332, \"component 2\": -0.8216993717345471, \"component 3\": -1.8123368646615845}, {\"continent\": \"Europe\", \"country\": \"Hungary\", \"component 0\": -0.17172022935545586, \"component 1\": -0.3171973578019041, \"component 2\": 0.4412107040751169, \"component 3\": 1.2202072718048358}, {\"continent\": \"Europe\", \"country\": \"Iceland\", \"component 0\": 4.261623746019558, \"component 1\": 6.181965785949938, \"component 2\": -0.0494473774179157, \"component 3\": -1.0734253159087248}, {\"continent\": \"Asia\", \"country\": \"India\", \"component 0\": 0.7067920410516929, \"component 1\": -1.2084451380419892, \"component 2\": 1.8921935429102172, \"component 3\": -1.2290097255023582}, {\"continent\": \"Asia\", \"country\": \"Indonesia\", \"component 0\": -0.253397015857427, \"component 1\": -0.35062638725575496, \"component 2\": 1.0012779252240034, \"component 3\": -1.480586786707095}, {\"continent\": \"Asia\", \"country\": \"Iran\", \"component 0\": -2.2430866645115692, \"component 1\": 0.6641418816126279, \"component 2\": -0.2753243349531549, \"component 3\": 0.36550644693351847}, {\"continent\": \"Asia\", \"country\": \"Iraq\", \"component 0\": -1.0580052057598144, \"component 1\": -0.3503945146153497, \"component 2\": -1.5499735586527297, \"component 3\": -0.8877620575006854}, {\"continent\": \"Europe\", \"country\": \"Ireland\", \"component 0\": 0.5336963001246187, \"component 1\": -0.4485682100956032, \"component 2\": -1.8190945994870873, \"component 3\": 0.7914914028828495}, {\"continent\": \"Asia\", \"country\": \"Israel\", \"component 0\": -0.4335780208045791, \"component 1\": -1.3590787033978484, \"component 2\": -0.00982205788815815, \"component 3\": -0.13037765027458015}, {\"continent\": \"Europe\", \"country\": \"Italy\", \"component 0\": 0.5310378262342746, \"component 1\": -0.9881351985051243, \"component 2\": -0.6555419826155741, \"component 3\": 1.0601878593436749}, {\"continent\": \"Asia\", \"country\": \"Japan\", \"component 0\": 0.9244620897722294, \"component 1\": -1.8774672876612908, \"component 2\": 0.562496372765546, \"component 3\": 0.26949020366384685}, {\"continent\": \"Asia\", \"country\": \"Kazakhstan\", \"component 0\": -0.4712425702426596, \"component 1\": -0.4409135299104643, \"component 2\": 2.2147867824958647, \"component 3\": -1.432305550294615}, {\"continent\": \"Asia\", \"country\": \"Kuwait\", \"component 0\": -1.7748853192929983, \"component 1\": 0.09643076396919852, \"component 2\": -0.8635229264379645, \"component 3\": -0.16405395685138974}, {\"continent\": \"Europe\", \"country\": \"Latvia\", \"component 0\": 0.017284536269702066, \"component 1\": 1.1793376092784738, \"component 2\": -1.011450597901127, \"component 3\": -0.644764818567091}, {\"continent\": \"Europe\", \"country\": \"Lithuania\", \"component 0\": -0.15035909811193407, \"component 1\": -0.28967543229430537, \"component 2\": -1.516006048025831, \"component 3\": -0.049031648861428634}, {\"continent\": \"Europe\", \"country\": \"Luxembourg\", \"component 0\": 0.020479631335571843, \"component 1\": -0.9037156673027422, \"component 2\": -2.001629098524809, \"component 3\": -0.9818322149959696}, {\"continent\": \"Asia\", \"country\": \"Malaysia\", \"component 0\": -0.9976183920795465, \"component 1\": 0.09023205134833762, \"component 2\": 0.37269472544858684, \"component 3\": -0.7445698325739817}, {\"continent\": \"North America\", \"country\": \"Mexico\", \"component 0\": -0.592788752192353, \"component 1\": -0.5044827811882522, \"component 2\": -0.5464486342203411, \"component 3\": 0.38230851641816466}, {\"continent\": \"Africa\", \"country\": \"Morocco\", \"component 0\": 0.9505858665860268, \"component 1\": -1.8601647853914747, \"component 2\": -0.47433965213458223, \"component 3\": -0.9268221096966671}, {\"continent\": \"Europe\", \"country\": \"Netherlands\", \"component 0\": -0.3677161721064315, \"component 1\": -0.700778674056845, \"component 2\": -0.7817802429951419, \"component 3\": 0.28025768695664566}, {\"continent\": \"Oceania\", \"country\": \"New Zealand\", \"component 0\": 1.1874655793567415, \"component 1\": 2.106798494577382, \"component 2\": -0.56114920151885, \"component 3\": -0.7012173845436392}, {\"continent\": \"Europe\", \"country\": \"North Macedonia\", \"component 0\": 0.20630503558060567, \"component 1\": -0.34293744791685327, \"component 2\": 0.926578726742162, \"component 3\": -1.6390023774000688}, {\"continent\": \"Europe\", \"country\": \"Norway\", \"component 0\": 1.2610276286722495, \"component 1\": 3.434346314734909, \"component 2\": 0.02985717657952377, \"component 3\": -0.9979450148949482}, {\"continent\": \"Asia\", \"country\": \"Oman\", \"component 0\": -2.0859852511976067, \"component 1\": 0.3506924216317761, \"component 2\": -0.5926625994332704, \"component 3\": 0.09221727106200059}, {\"continent\": \"Asia\", \"country\": \"Pakistan\", \"component 0\": -1.1124312900847926, \"component 1\": 0.5706273023800105, \"component 2\": 0.5735798414309855, \"component 3\": 0.10570158286083}, {\"continent\": \"South America\", \"country\": \"Peru\", \"component 0\": 0.076343965897632, \"component 1\": 1.0433687069166357, \"component 2\": -0.7441762552237378, \"component 3\": -0.5838909236488903}, {\"continent\": \"Asia\", \"country\": \"Philippines\", \"component 0\": 0.8894342072409059, \"component 1\": -0.24689641490558673, \"component 2\": 0.5587667860124724, \"component 3\": -1.4789896452705176}, {\"continent\": \"Europe\", \"country\": \"Poland\", \"component 0\": 0.11371335920010885, \"component 1\": -0.5857586276139334, \"component 2\": 1.2282640075958857, \"component 3\": -1.0636376237589085}, {\"continent\": \"Europe\", \"country\": \"Portugal\", \"component 0\": 1.3844655532695138, \"component 1\": -0.4524740714133119, \"component 2\": -1.7529969439179967, \"component 3\": 0.7913714592379008}, {\"continent\": \"Asia\", \"country\": \"Qatar\", \"component 0\": -2.5816881977308666, \"component 1\": 0.7363708049471228, \"component 2\": -0.145774207031997, \"component 3\": 0.5925799250304673}, {\"continent\": \"Europe\", \"country\": \"Romania\", \"component 0\": 0.25827830907700455, \"component 1\": -0.1778903725331528, \"component 2\": 0.20806232182943288, \"component 3\": 0.7112128576047942}, {\"continent\": \"Europe\", \"country\": \"Russia\", \"component 0\": -1.5975710877684557, \"component 1\": 0.7482393765483546, \"component 2\": 0.8398588569996351, \"component 3\": 0.495304508249283}, {\"continent\": \"Asia\", \"country\": \"Saudi Arabia\", \"component 0\": -1.2169511229281027, \"component 1\": -0.34523765455730027, \"component 2\": -1.4084090472883335, \"component 3\": -0.6743682662778391}, {\"continent\": \"Asia\", \"country\": \"Singapore\", \"component 0\": -0.33198779523005784, \"component 1\": -0.9423859681500143, \"component 2\": -2.2075233740086415, \"component 3\": -1.584638147184922}, {\"continent\": \"Europe\", \"country\": \"Slovakia\", \"component 0\": 0.19621358496738664, \"component 1\": 0.19712575555516065, \"component 2\": 1.6149297395661737, \"component 3\": 1.2754898966328727}, {\"continent\": \"Europe\", \"country\": \"Slovenia\", \"component 0\": 0.7777098608044026, \"component 1\": 0.14121326856371014, \"component 2\": 1.018454759984398, \"component 3\": 0.5192727429857225}, {\"continent\": \"Africa\", \"country\": \"South Africa\", \"component 0\": 0.5767047177260597, \"component 1\": -1.4441788820576515, \"component 2\": 2.92878968940891, \"component 3\": -1.519839744591912}, {\"continent\": \"Asia\", \"country\": \"South Korea\", \"component 0\": 0.21255919897857214, \"component 1\": -0.8402899582816511, \"component 2\": 0.9040241202682368, \"component 3\": -0.1822739647532943}, {\"continent\": \"Europe\", \"country\": \"Spain\", \"component 0\": 1.2887741609981125, \"component 1\": -1.3591702196892823, \"component 2\": -1.0402238383885598, \"component 3\": 1.6998483460311646}, {\"continent\": \"Asia\", \"country\": \"Sri Lanka\", \"component 0\": 0.7667849113239487, \"component 1\": -0.849815150314963, \"component 2\": -0.9378616716015267, \"component 3\": -1.6243052175945731}, {\"continent\": \"Europe\", \"country\": \"Sweden\", \"component 0\": 2.701213347286986, \"component 1\": 1.7632391683044362, \"component 2\": 0.6496430133001325, \"component 3\": 2.1287716784050734}, {\"continent\": \"Europe\", \"country\": \"Switzerland\", \"component 0\": 1.362772095537243, \"component 1\": 0.6501185516707244, \"component 2\": 0.36092090701766094, \"component 3\": 0.9284928426310205}, {\"continent\": \"Asia\", \"country\": \"Taiwan\", \"component 0\": -0.004197824507348786, \"component 1\": -0.8782300182476133, \"component 2\": 1.0279478546885539, \"component 3\": -0.640344094375609}, {\"continent\": \"Asia\", \"country\": \"Thailand\", \"component 0\": -0.4932957709392967, \"component 1\": -0.36354288186353073, \"component 2\": -0.48103035604310834, \"component 3\": -0.5015628496667942}, {\"continent\": \"North America\", \"country\": \"Trinidad and Tobago\", \"component 0\": -3.154195968923132, \"component 1\": 1.1571089913273234, \"component 2\": 0.3960492989914883, \"component 3\": 1.152986646261689}, {\"continent\": \"Asia\", \"country\": \"Turkey\", \"component 0\": 0.48907944384074975, \"component 1\": -0.24278543765700988, \"component 2\": 0.5178495315387395, \"component 3\": -0.25221446991635743}, {\"continent\": \"Asia\", \"country\": \"Turkmenistan\", \"component 0\": -2.7846323628628515, \"component 1\": 0.877772686226518, \"component 2\": 0.04176680205759131, \"component 3\": 0.7860878218398635}, {\"continent\": \"Europe\", \"country\": \"Ukraine\", \"component 0\": -0.1381753195659796, \"component 1\": -0.19800889876224256, \"component 2\": 2.6915173157901426, \"component 3\": 1.3700987939825278}, {\"continent\": \"Asia\", \"country\": \"United Arab Emirates\", \"component 0\": -1.7351268299856146, \"component 1\": -0.10457038663938835, \"component 2\": -0.5342744711637439, \"component 3\": 0.24761198276763993}, {\"continent\": \"Europe\", \"country\": \"United Kingdom\", \"component 0\": 0.6423607687028626, \"component 1\": -0.32629836707261894, \"component 2\": -0.8481142361091378, \"component 3\": 1.489797274100862}, {\"continent\": \"North America\", \"country\": \"United States\", \"component 0\": -0.1444837390548087, \"component 1\": -0.4650541756038503, \"component 2\": 0.04667262341160476, \"component 3\": 0.6557617419450326}, {\"continent\": \"Asia\", \"country\": \"Uzbekistan\", \"component 0\": -3.0562470286777024, \"component 1\": 1.3756770657885564, \"component 2\": 0.7986303616593644, \"component 3\": 1.124361025845009}, {\"continent\": \"South America\", \"country\": \"Venezuela\", \"component 0\": -0.9960196887867527, \"component 1\": 1.6832972113795317, \"component 2\": -0.24758555952975558, \"component 3\": -0.36997570687202563}, {\"continent\": \"Asia\", \"country\": \"Vietnam\", \"component 0\": 0.43900247962720396, \"component 1\": -0.38879424564503096, \"component 2\": 1.9690284940800515, \"component 3\": -1.524859543811323}], \"data-725ffad0ca4c6d9b193a9a8f6761f655\": [{\"variable\": \"coal\", \"component 0\": 0.230205059218531, \"component 1\": -0.3954739928509997, \"component 2\": 0.7407478667651939, \"component 3\": -0.40955234702204707}, {\"variable\": \"oil\", \"component 0\": 0.17619968065162395, \"component 1\": -0.4189171848047792, \"component 2\": -0.7378549806407537, \"component 3\": -0.33052676404393033}, {\"variable\": \"gas\", \"component 0\": -0.8669272766513348, \"component 1\": 0.18298963620780567, \"component 2\": -0.09685698011110348, \"component 3\": 0.3699081264138578}, {\"variable\": \"nuclear\", \"component 0\": 0.3103131366782066, \"component 1\": -0.0025975015498222987, \"component 2\": 0.4006084663681456, \"component 3\": 0.6123671369080909}, {\"variable\": \"hydro\", \"component 0\": 0.4403831610176404, \"component 1\": 0.7448154202060033, \"component 2\": -0.0163747349746629, \"component 3\": -0.179789011947019}, {\"variable\": \"wind\", \"component 0\": 0.5187123415283995, \"component 1\": -0.1615073635769731, \"component 2\": -0.36459313994754994, \"component 3\": 0.41313382022413225}, {\"variable\": \"solar\", \"component 0\": 0.4156773780406406, \"component 1\": -0.5892876119685019, \"component 2\": 0.0010116756680984193, \"component 3\": 0.3089245697368804}, {\"variable\": \"other renewables\", \"component 0\": 0.6287501866925463, \"component 1\": 0.5169352851041867, \"component 2\": -0.08411374705190805, \"component 3\": 0.03124149711735093}]}}, {\"mode\": \"vega-lite\"});\n",
       "</script>"
      ],
      "text/plain": [
       "alt.LayerChart(...)"
      ]
     },
     "execution_count": 52,
     "metadata": {},
     "output_type": "execute_result"
    }
   ],
   "source": [
    "pca.plot(\n",
    "    dataset,\n",
    "    x_component=0,\n",
    "    y_component=1,\n",
    "    color_by='continent',\n",
    "    show_rows=True,\n",
    "    show_columns=True\n",
    ")"
   ]
  },
  {
   "attachments": {},
   "cell_type": "markdown",
   "metadata": {},
   "source": [
    "## Contributions"
   ]
  },
  {
   "cell_type": "code",
   "execution_count": 7,
   "metadata": {},
   "outputs": [
    {
     "data": {
      "text/html": [
       "<style type=\"text/css\">\n",
       "</style>\n",
       "<table id=\"T_46b75\">\n",
       "  <thead>\n",
       "    <tr>\n",
       "      <th class=\"blank\" >&nbsp;</th>\n",
       "      <th class=\"index_name level0\" >component</th>\n",
       "      <th id=\"T_46b75_level0_col0\" class=\"col_heading level0 col0\" >0</th>\n",
       "      <th id=\"T_46b75_level0_col1\" class=\"col_heading level0 col1\" >1</th>\n",
       "      <th id=\"T_46b75_level0_col2\" class=\"col_heading level0 col2\" >2</th>\n",
       "      <th id=\"T_46b75_level0_col3\" class=\"col_heading level0 col3\" >3</th>\n",
       "    </tr>\n",
       "    <tr>\n",
       "      <th class=\"index_name level0\" >continent</th>\n",
       "      <th class=\"index_name level1\" >country</th>\n",
       "      <th class=\"blank col0\" >&nbsp;</th>\n",
       "      <th class=\"blank col1\" >&nbsp;</th>\n",
       "      <th class=\"blank col2\" >&nbsp;</th>\n",
       "      <th class=\"blank col3\" >&nbsp;</th>\n",
       "    </tr>\n",
       "  </thead>\n",
       "  <tbody>\n",
       "    <tr>\n",
       "      <th id=\"T_46b75_level0_row0\" class=\"row_heading level0 row0\" >Africa</th>\n",
       "      <th id=\"T_46b75_level1_row0\" class=\"row_heading level1 row0\" >Algeria</th>\n",
       "      <td id=\"T_46b75_row0_col0\" class=\"data row0 col0\" >3%</td>\n",
       "      <td id=\"T_46b75_row0_col1\" class=\"data row0 col1\" >0%</td>\n",
       "      <td id=\"T_46b75_row0_col2\" class=\"data row0 col2\" >0%</td>\n",
       "      <td id=\"T_46b75_row0_col3\" class=\"data row0 col3\" >0%</td>\n",
       "    </tr>\n",
       "    <tr>\n",
       "      <th id=\"T_46b75_level0_row1\" class=\"row_heading level0 row1\" >South America</th>\n",
       "      <th id=\"T_46b75_level1_row1\" class=\"row_heading level1 row1\" >Argentina</th>\n",
       "      <td id=\"T_46b75_row1_col0\" class=\"data row1 col0\" >1%</td>\n",
       "      <td id=\"T_46b75_row1_col1\" class=\"data row1 col1\" >1%</td>\n",
       "      <td id=\"T_46b75_row1_col2\" class=\"data row1 col2\" >0%</td>\n",
       "      <td id=\"T_46b75_row1_col3\" class=\"data row1 col3\" >0%</td>\n",
       "    </tr>\n",
       "    <tr>\n",
       "      <th id=\"T_46b75_level0_row2\" class=\"row_heading level0 row2\" >Oceania</th>\n",
       "      <th id=\"T_46b75_level1_row2\" class=\"row_heading level1 row2\" >Australia</th>\n",
       "      <td id=\"T_46b75_row2_col0\" class=\"data row2 col0\" >0%</td>\n",
       "      <td id=\"T_46b75_row2_col1\" class=\"data row2 col1\" >2%</td>\n",
       "      <td id=\"T_46b75_row2_col2\" class=\"data row2 col2\" >0%</td>\n",
       "      <td id=\"T_46b75_row2_col3\" class=\"data row2 col3\" >0%</td>\n",
       "    </tr>\n",
       "    <tr>\n",
       "      <th id=\"T_46b75_level0_row3\" class=\"row_heading level0 row3\" >Europe</th>\n",
       "      <th id=\"T_46b75_level1_row3\" class=\"row_heading level1 row3\" >Austria</th>\n",
       "      <td id=\"T_46b75_row3_col0\" class=\"data row3 col0\" >0%</td>\n",
       "      <td id=\"T_46b75_row3_col1\" class=\"data row3 col1\" >1%</td>\n",
       "      <td id=\"T_46b75_row3_col2\" class=\"data row3 col2\" >0%</td>\n",
       "      <td id=\"T_46b75_row3_col3\" class=\"data row3 col3\" >0%</td>\n",
       "    </tr>\n",
       "    <tr>\n",
       "      <th id=\"T_46b75_level0_row4\" class=\"row_heading level0 row4\" >Asia</th>\n",
       "      <th id=\"T_46b75_level1_row4\" class=\"row_heading level1 row4\" >Azerbaijan</th>\n",
       "      <td id=\"T_46b75_row4_col0\" class=\"data row4 col0\" >3%</td>\n",
       "      <td id=\"T_46b75_row4_col1\" class=\"data row4 col1\" >0%</td>\n",
       "      <td id=\"T_46b75_row4_col2\" class=\"data row4 col2\" >0%</td>\n",
       "      <td id=\"T_46b75_row4_col3\" class=\"data row4 col3\" >0%</td>\n",
       "    </tr>\n",
       "  </tbody>\n",
       "</table>\n"
      ],
      "text/plain": [
       "<pandas.io.formats.style.Styler at 0x116ff2320>"
      ]
     },
     "execution_count": 7,
     "metadata": {},
     "output_type": "execute_result"
    }
   ],
   "source": [
    "pca.row_contributions_.head().style.format('{:.0%}')  "
   ]
  },
  {
   "attachments": {},
   "cell_type": "markdown",
   "metadata": {},
   "source": [
    "Observations with high contributions and different signs can be opposed to help interpret the component, because these observations represent the two endpoints of this component."
   ]
  },
  {
   "attachments": {},
   "cell_type": "markdown",
   "metadata": {},
   "source": [
    "Column contributions are also available."
   ]
  },
  {
   "cell_type": "code",
   "execution_count": 10,
   "metadata": {},
   "outputs": [
    {
     "data": {
      "text/html": [
       "<style type=\"text/css\">\n",
       "</style>\n",
       "<table id=\"T_01c2b\">\n",
       "  <thead>\n",
       "    <tr>\n",
       "      <th class=\"index_name level0\" >component</th>\n",
       "      <th id=\"T_01c2b_level0_col0\" class=\"col_heading level0 col0\" >0</th>\n",
       "      <th id=\"T_01c2b_level0_col1\" class=\"col_heading level0 col1\" >1</th>\n",
       "      <th id=\"T_01c2b_level0_col2\" class=\"col_heading level0 col2\" >2</th>\n",
       "      <th id=\"T_01c2b_level0_col3\" class=\"col_heading level0 col3\" >3</th>\n",
       "    </tr>\n",
       "    <tr>\n",
       "      <th class=\"index_name level0\" >variable</th>\n",
       "      <th class=\"blank col0\" >&nbsp;</th>\n",
       "      <th class=\"blank col1\" >&nbsp;</th>\n",
       "      <th class=\"blank col2\" >&nbsp;</th>\n",
       "      <th class=\"blank col3\" >&nbsp;</th>\n",
       "    </tr>\n",
       "  </thead>\n",
       "  <tbody>\n",
       "    <tr>\n",
       "      <th id=\"T_01c2b_level0_row0\" class=\"row_heading level0 row0\" >coal</th>\n",
       "      <td id=\"T_01c2b_row0_col0\" class=\"data row0 col0\" >3%</td>\n",
       "      <td id=\"T_01c2b_row0_col1\" class=\"data row0 col1\" >10%</td>\n",
       "      <td id=\"T_01c2b_row0_col2\" class=\"data row0 col2\" >39%</td>\n",
       "      <td id=\"T_01c2b_row0_col3\" class=\"data row0 col3\" >15%</td>\n",
       "    </tr>\n",
       "    <tr>\n",
       "      <th id=\"T_01c2b_level0_row1\" class=\"row_heading level0 row1\" >oil</th>\n",
       "      <td id=\"T_01c2b_row1_col0\" class=\"data row1 col0\" >2%</td>\n",
       "      <td id=\"T_01c2b_row1_col1\" class=\"data row1 col1\" >11%</td>\n",
       "      <td id=\"T_01c2b_row1_col2\" class=\"data row1 col2\" >39%</td>\n",
       "      <td id=\"T_01c2b_row1_col3\" class=\"data row1 col3\" >10%</td>\n",
       "    </tr>\n",
       "    <tr>\n",
       "      <th id=\"T_01c2b_level0_row2\" class=\"row_heading level0 row2\" >gas</th>\n",
       "      <td id=\"T_01c2b_row2_col0\" class=\"data row2 col0\" >38%</td>\n",
       "      <td id=\"T_01c2b_row2_col1\" class=\"data row2 col1\" >2%</td>\n",
       "      <td id=\"T_01c2b_row2_col2\" class=\"data row2 col2\" >1%</td>\n",
       "      <td id=\"T_01c2b_row2_col3\" class=\"data row2 col3\" >13%</td>\n",
       "    </tr>\n",
       "    <tr>\n",
       "      <th id=\"T_01c2b_level0_row3\" class=\"row_heading level0 row3\" >nuclear</th>\n",
       "      <td id=\"T_01c2b_row3_col0\" class=\"data row3 col0\" >5%</td>\n",
       "      <td id=\"T_01c2b_row3_col1\" class=\"data row3 col1\" >0%</td>\n",
       "      <td id=\"T_01c2b_row3_col2\" class=\"data row3 col2\" >11%</td>\n",
       "      <td id=\"T_01c2b_row3_col3\" class=\"data row3 col3\" >34%</td>\n",
       "    </tr>\n",
       "    <tr>\n",
       "      <th id=\"T_01c2b_level0_row4\" class=\"row_heading level0 row4\" >hydro</th>\n",
       "      <td id=\"T_01c2b_row4_col0\" class=\"data row4 col0\" >10%</td>\n",
       "      <td id=\"T_01c2b_row4_col1\" class=\"data row4 col1\" >36%</td>\n",
       "      <td id=\"T_01c2b_row4_col2\" class=\"data row4 col2\" >0%</td>\n",
       "      <td id=\"T_01c2b_row4_col3\" class=\"data row4 col3\" >3%</td>\n",
       "    </tr>\n",
       "    <tr>\n",
       "      <th id=\"T_01c2b_level0_row5\" class=\"row_heading level0 row5\" >wind</th>\n",
       "      <td id=\"T_01c2b_row5_col0\" class=\"data row5 col0\" >14%</td>\n",
       "      <td id=\"T_01c2b_row5_col1\" class=\"data row5 col1\" >2%</td>\n",
       "      <td id=\"T_01c2b_row5_col2\" class=\"data row5 col2\" >9%</td>\n",
       "      <td id=\"T_01c2b_row5_col3\" class=\"data row5 col3\" >16%</td>\n",
       "    </tr>\n",
       "    <tr>\n",
       "      <th id=\"T_01c2b_level0_row6\" class=\"row_heading level0 row6\" >solar</th>\n",
       "      <td id=\"T_01c2b_row6_col0\" class=\"data row6 col0\" >9%</td>\n",
       "      <td id=\"T_01c2b_row6_col1\" class=\"data row6 col1\" >22%</td>\n",
       "      <td id=\"T_01c2b_row6_col2\" class=\"data row6 col2\" >0%</td>\n",
       "      <td id=\"T_01c2b_row6_col3\" class=\"data row6 col3\" >9%</td>\n",
       "    </tr>\n",
       "    <tr>\n",
       "      <th id=\"T_01c2b_level0_row7\" class=\"row_heading level0 row7\" >other renewables</th>\n",
       "      <td id=\"T_01c2b_row7_col0\" class=\"data row7 col0\" >20%</td>\n",
       "      <td id=\"T_01c2b_row7_col1\" class=\"data row7 col1\" >17%</td>\n",
       "      <td id=\"T_01c2b_row7_col2\" class=\"data row7 col2\" >1%</td>\n",
       "      <td id=\"T_01c2b_row7_col3\" class=\"data row7 col3\" >0%</td>\n",
       "    </tr>\n",
       "  </tbody>\n",
       "</table>\n"
      ],
      "text/plain": [
       "<pandas.io.formats.style.Styler at 0x116ff0700>"
      ]
     },
     "execution_count": 10,
     "metadata": {},
     "output_type": "execute_result"
    }
   ],
   "source": [
    "pca.column_contributions_.style.format('{:.0%}')  "
   ]
  },
  {
   "attachments": {},
   "cell_type": "markdown",
   "metadata": {},
   "source": [
    "## Cosine similarities"
   ]
  },
  {
   "cell_type": "code",
   "execution_count": 30,
   "metadata": {},
   "outputs": [
    {
     "data": {
      "text/html": [
       "<div>\n",
       "<style scoped>\n",
       "    .dataframe tbody tr th:only-of-type {\n",
       "        vertical-align: middle;\n",
       "    }\n",
       "\n",
       "    .dataframe tbody tr th {\n",
       "        vertical-align: top;\n",
       "    }\n",
       "\n",
       "    .dataframe thead th {\n",
       "        text-align: right;\n",
       "    }\n",
       "</style>\n",
       "<table border=\"1\" class=\"dataframe\">\n",
       "  <thead>\n",
       "    <tr style=\"text-align: right;\">\n",
       "      <th></th>\n",
       "      <th>component</th>\n",
       "      <th>0</th>\n",
       "      <th>1</th>\n",
       "      <th>2</th>\n",
       "      <th>3</th>\n",
       "    </tr>\n",
       "    <tr>\n",
       "      <th>continent</th>\n",
       "      <th>country</th>\n",
       "      <th></th>\n",
       "      <th></th>\n",
       "      <th></th>\n",
       "      <th></th>\n",
       "    </tr>\n",
       "  </thead>\n",
       "  <tbody>\n",
       "    <tr>\n",
       "      <th>Africa</th>\n",
       "      <th>Algeria</th>\n",
       "      <td>0.902764</td>\n",
       "      <td>0.027238</td>\n",
       "      <td>0.028445</td>\n",
       "      <td>0.021340</td>\n",
       "    </tr>\n",
       "    <tr>\n",
       "      <th>South America</th>\n",
       "      <th>Argentina</th>\n",
       "      <td>0.626517</td>\n",
       "      <td>0.259936</td>\n",
       "      <td>0.061309</td>\n",
       "      <td>0.034781</td>\n",
       "    </tr>\n",
       "    <tr>\n",
       "      <th>Oceania</th>\n",
       "      <th>Australia</th>\n",
       "      <td>0.008468</td>\n",
       "      <td>0.439999</td>\n",
       "      <td>0.057570</td>\n",
       "      <td>0.008355</td>\n",
       "    </tr>\n",
       "    <tr>\n",
       "      <th>Europe</th>\n",
       "      <th>Austria</th>\n",
       "      <td>0.236087</td>\n",
       "      <td>0.334470</td>\n",
       "      <td>0.089643</td>\n",
       "      <td>0.015071</td>\n",
       "    </tr>\n",
       "    <tr>\n",
       "      <th>Asia</th>\n",
       "      <th>Azerbaijan</th>\n",
       "      <td>0.868801</td>\n",
       "      <td>0.072377</td>\n",
       "      <td>0.024190</td>\n",
       "      <td>0.021474</td>\n",
       "    </tr>\n",
       "  </tbody>\n",
       "</table>\n",
       "</div>"
      ],
      "text/plain": [
       "component                        0         1         2         3\n",
       "continent     country                                           \n",
       "Africa        Algeria     0.902764  0.027238  0.028445  0.021340\n",
       "South America Argentina   0.626517  0.259936  0.061309  0.034781\n",
       "Oceania       Australia   0.008468  0.439999  0.057570  0.008355\n",
       "Europe        Austria     0.236087  0.334470  0.089643  0.015071\n",
       "Asia          Azerbaijan  0.868801  0.072377  0.024190  0.021474"
      ]
     },
     "execution_count": 30,
     "metadata": {},
     "output_type": "execute_result"
    }
   ],
   "source": [
    "pca.row_cosine_similarities(dataset).head()"
   ]
  },
  {
   "cell_type": "code",
   "execution_count": 11,
   "metadata": {},
   "outputs": [
    {
     "data": {
      "text/html": [
       "<div>\n",
       "<style scoped>\n",
       "    .dataframe tbody tr th:only-of-type {\n",
       "        vertical-align: middle;\n",
       "    }\n",
       "\n",
       "    .dataframe tbody tr th {\n",
       "        vertical-align: top;\n",
       "    }\n",
       "\n",
       "    .dataframe thead th {\n",
       "        text-align: right;\n",
       "    }\n",
       "</style>\n",
       "<table border=\"1\" class=\"dataframe\">\n",
       "  <thead>\n",
       "    <tr style=\"text-align: right;\">\n",
       "      <th>component</th>\n",
       "      <th>0</th>\n",
       "      <th>1</th>\n",
       "      <th>2</th>\n",
       "      <th>3</th>\n",
       "    </tr>\n",
       "    <tr>\n",
       "      <th>variable</th>\n",
       "      <th></th>\n",
       "      <th></th>\n",
       "      <th></th>\n",
       "      <th></th>\n",
       "    </tr>\n",
       "  </thead>\n",
       "  <tbody>\n",
       "    <tr>\n",
       "      <th>coal</th>\n",
       "      <td>0.052994</td>\n",
       "      <td>0.156400</td>\n",
       "      <td>0.548707</td>\n",
       "      <td>0.167733</td>\n",
       "    </tr>\n",
       "    <tr>\n",
       "      <th>oil</th>\n",
       "      <td>0.031046</td>\n",
       "      <td>0.175492</td>\n",
       "      <td>0.544430</td>\n",
       "      <td>0.109248</td>\n",
       "    </tr>\n",
       "    <tr>\n",
       "      <th>gas</th>\n",
       "      <td>0.751563</td>\n",
       "      <td>0.033485</td>\n",
       "      <td>0.009381</td>\n",
       "      <td>0.136832</td>\n",
       "    </tr>\n",
       "    <tr>\n",
       "      <th>nuclear</th>\n",
       "      <td>0.096294</td>\n",
       "      <td>0.000007</td>\n",
       "      <td>0.160487</td>\n",
       "      <td>0.374994</td>\n",
       "    </tr>\n",
       "    <tr>\n",
       "      <th>hydro</th>\n",
       "      <td>0.193937</td>\n",
       "      <td>0.554750</td>\n",
       "      <td>0.000268</td>\n",
       "      <td>0.032324</td>\n",
       "    </tr>\n",
       "    <tr>\n",
       "      <th>wind</th>\n",
       "      <td>0.269062</td>\n",
       "      <td>0.026085</td>\n",
       "      <td>0.132928</td>\n",
       "      <td>0.170680</td>\n",
       "    </tr>\n",
       "    <tr>\n",
       "      <th>solar</th>\n",
       "      <td>0.172788</td>\n",
       "      <td>0.347260</td>\n",
       "      <td>0.000001</td>\n",
       "      <td>0.095434</td>\n",
       "    </tr>\n",
       "    <tr>\n",
       "      <th>other renewables</th>\n",
       "      <td>0.395327</td>\n",
       "      <td>0.267222</td>\n",
       "      <td>0.007075</td>\n",
       "      <td>0.000976</td>\n",
       "    </tr>\n",
       "  </tbody>\n",
       "</table>\n",
       "</div>"
      ],
      "text/plain": [
       "component                0         1         2         3\n",
       "variable                                                \n",
       "coal              0.052994  0.156400  0.548707  0.167733\n",
       "oil               0.031046  0.175492  0.544430  0.109248\n",
       "gas               0.751563  0.033485  0.009381  0.136832\n",
       "nuclear           0.096294  0.000007  0.160487  0.374994\n",
       "hydro             0.193937  0.554750  0.000268  0.032324\n",
       "wind              0.269062  0.026085  0.132928  0.170680\n",
       "solar             0.172788  0.347260  0.000001  0.095434\n",
       "other renewables  0.395327  0.267222  0.007075  0.000976"
      ]
     },
     "execution_count": 11,
     "metadata": {},
     "output_type": "execute_result"
    }
   ],
   "source": [
    "pca.column_cosine_similarities_"
   ]
  },
  {
   "attachments": {},
   "cell_type": "markdown",
   "metadata": {},
   "source": [
    "## Column correlations"
   ]
  },
  {
   "cell_type": "code",
   "execution_count": 40,
   "metadata": {},
   "outputs": [
    {
     "data": {
      "text/html": [
       "<div>\n",
       "<style scoped>\n",
       "    .dataframe tbody tr th:only-of-type {\n",
       "        vertical-align: middle;\n",
       "    }\n",
       "\n",
       "    .dataframe tbody tr th {\n",
       "        vertical-align: top;\n",
       "    }\n",
       "\n",
       "    .dataframe thead th {\n",
       "        text-align: right;\n",
       "    }\n",
       "</style>\n",
       "<table border=\"1\" class=\"dataframe\">\n",
       "  <thead>\n",
       "    <tr style=\"text-align: right;\">\n",
       "      <th>component</th>\n",
       "      <th>0</th>\n",
       "      <th>1</th>\n",
       "      <th>2</th>\n",
       "      <th>3</th>\n",
       "    </tr>\n",
       "    <tr>\n",
       "      <th>variable</th>\n",
       "      <th></th>\n",
       "      <th></th>\n",
       "      <th></th>\n",
       "      <th></th>\n",
       "    </tr>\n",
       "  </thead>\n",
       "  <tbody>\n",
       "    <tr>\n",
       "      <th>coal</th>\n",
       "      <td>0.230205</td>\n",
       "      <td>-0.395474</td>\n",
       "      <td>0.740748</td>\n",
       "      <td>-0.409552</td>\n",
       "    </tr>\n",
       "    <tr>\n",
       "      <th>oil</th>\n",
       "      <td>0.176200</td>\n",
       "      <td>-0.418917</td>\n",
       "      <td>-0.737855</td>\n",
       "      <td>-0.330527</td>\n",
       "    </tr>\n",
       "    <tr>\n",
       "      <th>gas</th>\n",
       "      <td>-0.866927</td>\n",
       "      <td>0.182990</td>\n",
       "      <td>-0.096857</td>\n",
       "      <td>0.369908</td>\n",
       "    </tr>\n",
       "    <tr>\n",
       "      <th>nuclear</th>\n",
       "      <td>0.310313</td>\n",
       "      <td>-0.002598</td>\n",
       "      <td>0.400608</td>\n",
       "      <td>0.612367</td>\n",
       "    </tr>\n",
       "    <tr>\n",
       "      <th>hydro</th>\n",
       "      <td>0.440383</td>\n",
       "      <td>0.744815</td>\n",
       "      <td>-0.016375</td>\n",
       "      <td>-0.179789</td>\n",
       "    </tr>\n",
       "    <tr>\n",
       "      <th>wind</th>\n",
       "      <td>0.518712</td>\n",
       "      <td>-0.161507</td>\n",
       "      <td>-0.364593</td>\n",
       "      <td>0.413134</td>\n",
       "    </tr>\n",
       "    <tr>\n",
       "      <th>solar</th>\n",
       "      <td>0.415677</td>\n",
       "      <td>-0.589288</td>\n",
       "      <td>0.001012</td>\n",
       "      <td>0.308925</td>\n",
       "    </tr>\n",
       "    <tr>\n",
       "      <th>other renewables</th>\n",
       "      <td>0.628750</td>\n",
       "      <td>0.516935</td>\n",
       "      <td>-0.084114</td>\n",
       "      <td>0.031241</td>\n",
       "    </tr>\n",
       "  </tbody>\n",
       "</table>\n",
       "</div>"
      ],
      "text/plain": [
       "component                0         1         2         3\n",
       "variable                                                \n",
       "coal              0.230205 -0.395474  0.740748 -0.409552\n",
       "oil               0.176200 -0.418917 -0.737855 -0.330527\n",
       "gas              -0.866927  0.182990 -0.096857  0.369908\n",
       "nuclear           0.310313 -0.002598  0.400608  0.612367\n",
       "hydro             0.440383  0.744815 -0.016375 -0.179789\n",
       "wind              0.518712 -0.161507 -0.364593  0.413134\n",
       "solar             0.415677 -0.589288  0.001012  0.308925\n",
       "other renewables  0.628750  0.516935 -0.084114  0.031241"
      ]
     },
     "execution_count": 40,
     "metadata": {},
     "output_type": "execute_result"
    }
   ],
   "source": [
    "pca.column_correlations"
   ]
  },
  {
   "cell_type": "code",
   "execution_count": 12,
   "metadata": {},
   "outputs": [
    {
     "data": {
      "text/plain": [
       "True"
      ]
     },
     "execution_count": 12,
     "metadata": {},
     "output_type": "execute_result"
    }
   ],
   "source": [
    "(pca.column_correlations ** 2).equals(pca.column_cosine_similarities_)"
   ]
  },
  {
   "attachments": {},
   "cell_type": "markdown",
   "metadata": {},
   "source": [
    "## Inverse transformation"
   ]
  },
  {
   "attachments": {},
   "cell_type": "markdown",
   "metadata": {},
   "source": [
    "You can transform row projections back into their original space by using the `inverse_transform` method."
   ]
  },
  {
   "cell_type": "code",
   "execution_count": 13,
   "metadata": {
    "execution": {
     "iopub.execute_input": "2023-02-22T13:45:26.164125Z",
     "iopub.status.busy": "2023-02-22T13:45:26.164039Z",
     "iopub.status.idle": "2023-02-22T13:45:26.177292Z",
     "shell.execute_reply": "2023-02-22T13:45:26.176975Z"
    }
   },
   "outputs": [
    {
     "data": {
      "text/html": [
       "<div>\n",
       "<style scoped>\n",
       "    .dataframe tbody tr th:only-of-type {\n",
       "        vertical-align: middle;\n",
       "    }\n",
       "\n",
       "    .dataframe tbody tr th {\n",
       "        vertical-align: top;\n",
       "    }\n",
       "\n",
       "    .dataframe thead th {\n",
       "        text-align: right;\n",
       "    }\n",
       "</style>\n",
       "<table border=\"1\" class=\"dataframe\">\n",
       "  <thead>\n",
       "    <tr style=\"text-align: right;\">\n",
       "      <th></th>\n",
       "      <th></th>\n",
       "      <th>0</th>\n",
       "      <th>1</th>\n",
       "      <th>2</th>\n",
       "      <th>3</th>\n",
       "      <th>4</th>\n",
       "      <th>5</th>\n",
       "      <th>6</th>\n",
       "      <th>7</th>\n",
       "    </tr>\n",
       "    <tr>\n",
       "      <th>continent</th>\n",
       "      <th>country</th>\n",
       "      <th></th>\n",
       "      <th></th>\n",
       "      <th></th>\n",
       "      <th></th>\n",
       "      <th></th>\n",
       "      <th></th>\n",
       "      <th></th>\n",
       "      <th></th>\n",
       "    </tr>\n",
       "  </thead>\n",
       "  <tbody>\n",
       "    <tr>\n",
       "      <th>Africa</th>\n",
       "      <th>Algeria</th>\n",
       "      <td>0.001834</td>\n",
       "      <td>0.352874</td>\n",
       "      <td>0.624762</td>\n",
       "      <td>0.007815</td>\n",
       "      <td>0.017921</td>\n",
       "      <td>0.001360</td>\n",
       "      <td>0.001560</td>\n",
       "      <td>-0.008127</td>\n",
       "    </tr>\n",
       "    <tr>\n",
       "      <th>South America</th>\n",
       "      <th>Argentina</th>\n",
       "      <td>0.008276</td>\n",
       "      <td>0.351532</td>\n",
       "      <td>0.509802</td>\n",
       "      <td>0.021580</td>\n",
       "      <td>0.084064</td>\n",
       "      <td>0.010980</td>\n",
       "      <td>0.002184</td>\n",
       "      <td>0.011583</td>\n",
       "    </tr>\n",
       "    <tr>\n",
       "      <th>Oceania</th>\n",
       "      <th>Australia</th>\n",
       "      <td>0.273906</td>\n",
       "      <td>0.415119</td>\n",
       "      <td>0.223955</td>\n",
       "      <td>0.065609</td>\n",
       "      <td>-0.022641</td>\n",
       "      <td>0.028642</td>\n",
       "      <td>0.015652</td>\n",
       "      <td>-0.000241</td>\n",
       "    </tr>\n",
       "    <tr>\n",
       "      <th>Europe</th>\n",
       "      <th>Austria</th>\n",
       "      <td>0.075100</td>\n",
       "      <td>0.421199</td>\n",
       "      <td>0.203325</td>\n",
       "      <td>0.030648</td>\n",
       "      <td>0.187622</td>\n",
       "      <td>0.031305</td>\n",
       "      <td>0.005588</td>\n",
       "      <td>0.045211</td>\n",
       "    </tr>\n",
       "    <tr>\n",
       "      <th>Asia</th>\n",
       "      <th>Azerbaijan</th>\n",
       "      <td>-0.009791</td>\n",
       "      <td>0.336696</td>\n",
       "      <td>0.633039</td>\n",
       "      <td>0.008686</td>\n",
       "      <td>0.035554</td>\n",
       "      <td>0.000077</td>\n",
       "      <td>0.000492</td>\n",
       "      <td>-0.004752</td>\n",
       "    </tr>\n",
       "  </tbody>\n",
       "</table>\n",
       "</div>"
      ],
      "text/plain": [
       "                                 0         1         2         3         4  \\\n",
       "continent     country                                                        \n",
       "Africa        Algeria     0.001834  0.352874  0.624762  0.007815  0.017921   \n",
       "South America Argentina   0.008276  0.351532  0.509802  0.021580  0.084064   \n",
       "Oceania       Australia   0.273906  0.415119  0.223955  0.065609 -0.022641   \n",
       "Europe        Austria     0.075100  0.421199  0.203325  0.030648  0.187622   \n",
       "Asia          Azerbaijan -0.009791  0.336696  0.633039  0.008686  0.035554   \n",
       "\n",
       "                                 5         6         7  \n",
       "continent     country                                   \n",
       "Africa        Algeria     0.001360  0.001560 -0.008127  \n",
       "South America Argentina   0.010980  0.002184  0.011583  \n",
       "Oceania       Australia   0.028642  0.015652 -0.000241  \n",
       "Europe        Austria     0.031305  0.005588  0.045211  \n",
       "Asia          Azerbaijan  0.000077  0.000492 -0.004752  "
      ]
     },
     "execution_count": 13,
     "metadata": {},
     "output_type": "execute_result"
    }
   ],
   "source": [
    "reconstructed = pca.inverse_transform(pca.transform(dataset))\n",
    "reconstructed.head()"
   ]
  },
  {
   "attachments": {},
   "cell_type": "markdown",
   "metadata": {},
   "source": [
    "This allows measuring the reconstruction error of the PCA. This is usually defined as the $L^2$ norm between the reconstructed dataset and the original dataset."
   ]
  },
  {
   "cell_type": "code",
   "execution_count": 14,
   "metadata": {},
   "outputs": [
    {
     "data": {
      "text/plain": [
       "0.8759916059569246"
      ]
     },
     "execution_count": 14,
     "metadata": {},
     "output_type": "execute_result"
    }
   ],
   "source": [
    "import numpy as np\n",
    "\n",
    "np.linalg.norm(reconstructed.values - dataset.values, ord=2)"
   ]
  },
  {
   "attachments": {},
   "cell_type": "markdown",
   "metadata": {},
   "source": [
    "## Supplementary data"
   ]
  },
  {
   "attachments": {},
   "cell_type": "markdown",
   "metadata": {},
   "source": [
    "Active rows and columns make up the dataset you fit the PCA with. Anything you provide afterwards is considered supplementary data.\n",
    "\n",
    "For example, we can fit the PCA on all countries that are not part of North America."
   ]
  },
  {
   "cell_type": "code",
   "execution_count": 24,
   "metadata": {},
   "outputs": [],
   "source": [
    "active = dataset.query(\"continent != 'North America'\")\n",
    "pca = prince.PCA().fit(active)"
   ]
  },
  {
   "attachments": {},
   "cell_type": "markdown",
   "metadata": {},
   "source": [
    "The data for North America can still be projected onto the principal components."
   ]
  },
  {
   "cell_type": "code",
   "execution_count": 25,
   "metadata": {},
   "outputs": [
    {
     "data": {
      "text/html": [
       "<div>\n",
       "<style scoped>\n",
       "    .dataframe tbody tr th:only-of-type {\n",
       "        vertical-align: middle;\n",
       "    }\n",
       "\n",
       "    .dataframe tbody tr th {\n",
       "        vertical-align: top;\n",
       "    }\n",
       "\n",
       "    .dataframe thead th {\n",
       "        text-align: right;\n",
       "    }\n",
       "</style>\n",
       "<table border=\"1\" class=\"dataframe\">\n",
       "  <thead>\n",
       "    <tr style=\"text-align: right;\">\n",
       "      <th></th>\n",
       "      <th>component</th>\n",
       "      <th>0</th>\n",
       "      <th>1</th>\n",
       "    </tr>\n",
       "    <tr>\n",
       "      <th>continent</th>\n",
       "      <th>country</th>\n",
       "      <th></th>\n",
       "      <th></th>\n",
       "    </tr>\n",
       "  </thead>\n",
       "  <tbody>\n",
       "    <tr>\n",
       "      <th rowspan=\"4\" valign=\"top\">North America</th>\n",
       "      <th>Canada</th>\n",
       "      <td>0.009864</td>\n",
       "      <td>1.332859</td>\n",
       "    </tr>\n",
       "    <tr>\n",
       "      <th>Mexico</th>\n",
       "      <td>-0.695023</td>\n",
       "      <td>-0.402230</td>\n",
       "    </tr>\n",
       "    <tr>\n",
       "      <th>Trinidad and Tobago</th>\n",
       "      <td>-3.072833</td>\n",
       "      <td>1.393067</td>\n",
       "    </tr>\n",
       "    <tr>\n",
       "      <th>United States</th>\n",
       "      <td>-0.226122</td>\n",
       "      <td>-0.433260</td>\n",
       "    </tr>\n",
       "  </tbody>\n",
       "</table>\n",
       "</div>"
      ],
      "text/plain": [
       "component                                 0         1\n",
       "continent     country                                \n",
       "North America Canada               0.009864  1.332859\n",
       "              Mexico              -0.695023 -0.402230\n",
       "              Trinidad and Tobago -3.072833  1.393067\n",
       "              United States       -0.226122 -0.433260"
      ]
     },
     "execution_count": 25,
     "metadata": {},
     "output_type": "execute_result"
    }
   ],
   "source": [
    "pca.transform(dataset).query(\"continent == 'North America'\")"
   ]
  },
  {
   "attachments": {},
   "cell_type": "markdown",
   "metadata": {},
   "source": [
    "As for supplementary, they must be provided during the `fit` call."
   ]
  },
  {
   "cell_type": "code",
   "execution_count": 32,
   "metadata": {},
   "outputs": [
    {
     "data": {
      "text/html": [
       "<div>\n",
       "<style scoped>\n",
       "    .dataframe tbody tr th:only-of-type {\n",
       "        vertical-align: middle;\n",
       "    }\n",
       "\n",
       "    .dataframe tbody tr th {\n",
       "        vertical-align: top;\n",
       "    }\n",
       "\n",
       "    .dataframe thead th {\n",
       "        text-align: right;\n",
       "    }\n",
       "</style>\n",
       "<table border=\"1\" class=\"dataframe\">\n",
       "  <thead>\n",
       "    <tr style=\"text-align: right;\">\n",
       "      <th>component</th>\n",
       "      <th>0</th>\n",
       "      <th>1</th>\n",
       "    </tr>\n",
       "    <tr>\n",
       "      <th>variable</th>\n",
       "      <th></th>\n",
       "      <th></th>\n",
       "    </tr>\n",
       "  </thead>\n",
       "  <tbody>\n",
       "    <tr>\n",
       "      <th>coal</th>\n",
       "      <td>0.621633</td>\n",
       "      <td>-0.380008</td>\n",
       "    </tr>\n",
       "    <tr>\n",
       "      <th>oil</th>\n",
       "      <td>0.048966</td>\n",
       "      <td>0.948650</td>\n",
       "    </tr>\n",
       "    <tr>\n",
       "      <th>gas</th>\n",
       "      <td>-0.916078</td>\n",
       "      <td>-0.331546</td>\n",
       "    </tr>\n",
       "    <tr>\n",
       "      <th>nuclear</th>\n",
       "      <td>0.384458</td>\n",
       "      <td>-0.401675</td>\n",
       "    </tr>\n",
       "    <tr>\n",
       "      <th>other renewables</th>\n",
       "      <td>0.467116</td>\n",
       "      <td>0.086656</td>\n",
       "    </tr>\n",
       "    <tr>\n",
       "      <th>hydro</th>\n",
       "      <td>0.246646</td>\n",
       "      <td>0.037118</td>\n",
       "    </tr>\n",
       "    <tr>\n",
       "      <th>wind</th>\n",
       "      <td>0.195675</td>\n",
       "      <td>0.184247</td>\n",
       "    </tr>\n",
       "    <tr>\n",
       "      <th>solar</th>\n",
       "      <td>0.251247</td>\n",
       "      <td>0.076237</td>\n",
       "    </tr>\n",
       "  </tbody>\n",
       "</table>\n",
       "</div>"
      ],
      "text/plain": [
       "component                0         1\n",
       "variable                            \n",
       "coal              0.621633 -0.380008\n",
       "oil               0.048966  0.948650\n",
       "gas              -0.916078 -0.331546\n",
       "nuclear           0.384458 -0.401675\n",
       "other renewables  0.467116  0.086656\n",
       "hydro             0.246646  0.037118\n",
       "wind              0.195675  0.184247\n",
       "solar             0.251247  0.076237"
      ]
     },
     "execution_count": 32,
     "metadata": {},
     "output_type": "execute_result"
    }
   ],
   "source": [
    "pca = prince.PCA().fit(dataset, supplementary_columns=['hydro', 'wind', 'solar'])\n",
    "pca.column_correlations"
   ]
  },
  {
   "attachments": {},
   "cell_type": "markdown",
   "metadata": {},
   "source": [
    "There can be supplementary rows and columns at the same time."
   ]
  },
  {
   "cell_type": "code",
   "execution_count": 33,
   "metadata": {},
   "outputs": [],
   "source": [
    "pca = prince.PCA().fit(active, supplementary_columns=['hydro', 'wind', 'solar'])"
   ]
  },
  {
   "attachments": {},
   "cell_type": "markdown",
   "metadata": {},
   "source": [
    "## Performance"
   ]
  },
  {
   "attachments": {},
   "cell_type": "markdown",
   "metadata": {},
   "source": [
    "Under the hood, Prince uses a [randomised version of SVD](https://research.facebook.com/blog/2014/9/fast-randomized-svd/). This is much faster than traditional SVD. However, the results may have a small inherent randomness. This can be controlled with the `random_state` parameter. The accurary of the results can be increased by providing a higher `n_iter` parameter.\n",
    "\n",
    "By default `prince` uses scikit-learn's randomized SVD implementation -- the one used in [`TruncatedSVD`](http://scikit-learn.org/stable/modules/generated/sklearn.decomposition.TruncatedSVD.html).\n",
    "\n",
    "Prince supports different SVD backends. For the while, the only other supported randomized backend is [Facebook's randomized SVD implementation](https://research.facebook.com/blog/fast-randomized-svd/), called [fbpca](http://fbpca.readthedocs.org/en/latest/):"
   ]
  },
  {
   "cell_type": "code",
   "execution_count": 67,
   "metadata": {},
   "outputs": [
    {
     "data": {
      "text/html": [
       "<style>#sk-container-id-3 {color: black;background-color: white;}#sk-container-id-3 pre{padding: 0;}#sk-container-id-3 div.sk-toggleable {background-color: white;}#sk-container-id-3 label.sk-toggleable__label {cursor: pointer;display: block;width: 100%;margin-bottom: 0;padding: 0.3em;box-sizing: border-box;text-align: center;}#sk-container-id-3 label.sk-toggleable__label-arrow:before {content: \"▸\";float: left;margin-right: 0.25em;color: #696969;}#sk-container-id-3 label.sk-toggleable__label-arrow:hover:before {color: black;}#sk-container-id-3 div.sk-estimator:hover label.sk-toggleable__label-arrow:before {color: black;}#sk-container-id-3 div.sk-toggleable__content {max-height: 0;max-width: 0;overflow: hidden;text-align: left;background-color: #f0f8ff;}#sk-container-id-3 div.sk-toggleable__content pre {margin: 0.2em;color: black;border-radius: 0.25em;background-color: #f0f8ff;}#sk-container-id-3 input.sk-toggleable__control:checked~div.sk-toggleable__content {max-height: 200px;max-width: 100%;overflow: auto;}#sk-container-id-3 input.sk-toggleable__control:checked~label.sk-toggleable__label-arrow:before {content: \"▾\";}#sk-container-id-3 div.sk-estimator input.sk-toggleable__control:checked~label.sk-toggleable__label {background-color: #d4ebff;}#sk-container-id-3 div.sk-label input.sk-toggleable__control:checked~label.sk-toggleable__label {background-color: #d4ebff;}#sk-container-id-3 input.sk-hidden--visually {border: 0;clip: rect(1px 1px 1px 1px);clip: rect(1px, 1px, 1px, 1px);height: 1px;margin: -1px;overflow: hidden;padding: 0;position: absolute;width: 1px;}#sk-container-id-3 div.sk-estimator {font-family: monospace;background-color: #f0f8ff;border: 1px dotted black;border-radius: 0.25em;box-sizing: border-box;margin-bottom: 0.5em;}#sk-container-id-3 div.sk-estimator:hover {background-color: #d4ebff;}#sk-container-id-3 div.sk-parallel-item::after {content: \"\";width: 100%;border-bottom: 1px solid gray;flex-grow: 1;}#sk-container-id-3 div.sk-label:hover label.sk-toggleable__label {background-color: #d4ebff;}#sk-container-id-3 div.sk-serial::before {content: \"\";position: absolute;border-left: 1px solid gray;box-sizing: border-box;top: 0;bottom: 0;left: 50%;z-index: 0;}#sk-container-id-3 div.sk-serial {display: flex;flex-direction: column;align-items: center;background-color: white;padding-right: 0.2em;padding-left: 0.2em;position: relative;}#sk-container-id-3 div.sk-item {position: relative;z-index: 1;}#sk-container-id-3 div.sk-parallel {display: flex;align-items: stretch;justify-content: center;background-color: white;position: relative;}#sk-container-id-3 div.sk-item::before, #sk-container-id-3 div.sk-parallel-item::before {content: \"\";position: absolute;border-left: 1px solid gray;box-sizing: border-box;top: 0;bottom: 0;left: 50%;z-index: -1;}#sk-container-id-3 div.sk-parallel-item {display: flex;flex-direction: column;z-index: 1;position: relative;background-color: white;}#sk-container-id-3 div.sk-parallel-item:first-child::after {align-self: flex-end;width: 50%;}#sk-container-id-3 div.sk-parallel-item:last-child::after {align-self: flex-start;width: 50%;}#sk-container-id-3 div.sk-parallel-item:only-child::after {width: 0;}#sk-container-id-3 div.sk-dashed-wrapped {border: 1px dashed gray;margin: 0 0.4em 0.5em 0.4em;box-sizing: border-box;padding-bottom: 0.4em;background-color: white;}#sk-container-id-3 div.sk-label label {font-family: monospace;font-weight: bold;display: inline-block;line-height: 1.2em;}#sk-container-id-3 div.sk-label-container {text-align: center;}#sk-container-id-3 div.sk-container {/* jupyter's `normalize.less` sets `[hidden] { display: none; }` but bootstrap.min.css set `[hidden] { display: none !important; }` so we also need the `!important` here to be able to override the default hidden behavior on the sphinx rendered scikit-learn.org. See: https://github.com/scikit-learn/scikit-learn/issues/21755 */display: inline-block !important;position: relative;}#sk-container-id-3 div.sk-text-repr-fallback {display: none;}</style><div id=\"sk-container-id-3\" class=\"sk-top-container\"><div class=\"sk-text-repr-fallback\"><pre>PCA(engine=&#x27;fbpca&#x27;)</pre><b>In a Jupyter environment, please rerun this cell to show the HTML representation or trust the notebook. <br />On GitHub, the HTML representation is unable to render, please try loading this page with nbviewer.org.</b></div><div class=\"sk-container\" hidden><div class=\"sk-item\"><div class=\"sk-estimator sk-toggleable\"><input class=\"sk-toggleable__control sk-hidden--visually\" id=\"sk-estimator-id-3\" type=\"checkbox\" checked><label for=\"sk-estimator-id-3\" class=\"sk-toggleable__label sk-toggleable__label-arrow\">PCA</label><div class=\"sk-toggleable__content\"><pre>PCA(engine=&#x27;fbpca&#x27;)</pre></div></div></div></div></div>"
      ],
      "text/plain": [
       "PCA(engine='fbpca')"
      ]
     },
     "execution_count": 67,
     "metadata": {},
     "output_type": "execute_result"
    }
   ],
   "source": [
    "prince.PCA(engine='fbpca')"
   ]
  },
  {
   "attachments": {},
   "cell_type": "markdown",
   "metadata": {},
   "source": [
    "You can also use a non-randomized SVD implementation, using the [`scipy.linalg.svd` function](https://docs.scipy.org/doc/scipy/reference/generated/scipy.linalg.svd.html):"
   ]
  },
  {
   "cell_type": "code",
   "execution_count": 65,
   "metadata": {},
   "outputs": [
    {
     "data": {
      "text/html": [
       "<style>#sk-container-id-1 {color: black;background-color: white;}#sk-container-id-1 pre{padding: 0;}#sk-container-id-1 div.sk-toggleable {background-color: white;}#sk-container-id-1 label.sk-toggleable__label {cursor: pointer;display: block;width: 100%;margin-bottom: 0;padding: 0.3em;box-sizing: border-box;text-align: center;}#sk-container-id-1 label.sk-toggleable__label-arrow:before {content: \"▸\";float: left;margin-right: 0.25em;color: #696969;}#sk-container-id-1 label.sk-toggleable__label-arrow:hover:before {color: black;}#sk-container-id-1 div.sk-estimator:hover label.sk-toggleable__label-arrow:before {color: black;}#sk-container-id-1 div.sk-toggleable__content {max-height: 0;max-width: 0;overflow: hidden;text-align: left;background-color: #f0f8ff;}#sk-container-id-1 div.sk-toggleable__content pre {margin: 0.2em;color: black;border-radius: 0.25em;background-color: #f0f8ff;}#sk-container-id-1 input.sk-toggleable__control:checked~div.sk-toggleable__content {max-height: 200px;max-width: 100%;overflow: auto;}#sk-container-id-1 input.sk-toggleable__control:checked~label.sk-toggleable__label-arrow:before {content: \"▾\";}#sk-container-id-1 div.sk-estimator input.sk-toggleable__control:checked~label.sk-toggleable__label {background-color: #d4ebff;}#sk-container-id-1 div.sk-label input.sk-toggleable__control:checked~label.sk-toggleable__label {background-color: #d4ebff;}#sk-container-id-1 input.sk-hidden--visually {border: 0;clip: rect(1px 1px 1px 1px);clip: rect(1px, 1px, 1px, 1px);height: 1px;margin: -1px;overflow: hidden;padding: 0;position: absolute;width: 1px;}#sk-container-id-1 div.sk-estimator {font-family: monospace;background-color: #f0f8ff;border: 1px dotted black;border-radius: 0.25em;box-sizing: border-box;margin-bottom: 0.5em;}#sk-container-id-1 div.sk-estimator:hover {background-color: #d4ebff;}#sk-container-id-1 div.sk-parallel-item::after {content: \"\";width: 100%;border-bottom: 1px solid gray;flex-grow: 1;}#sk-container-id-1 div.sk-label:hover label.sk-toggleable__label {background-color: #d4ebff;}#sk-container-id-1 div.sk-serial::before {content: \"\";position: absolute;border-left: 1px solid gray;box-sizing: border-box;top: 0;bottom: 0;left: 50%;z-index: 0;}#sk-container-id-1 div.sk-serial {display: flex;flex-direction: column;align-items: center;background-color: white;padding-right: 0.2em;padding-left: 0.2em;position: relative;}#sk-container-id-1 div.sk-item {position: relative;z-index: 1;}#sk-container-id-1 div.sk-parallel {display: flex;align-items: stretch;justify-content: center;background-color: white;position: relative;}#sk-container-id-1 div.sk-item::before, #sk-container-id-1 div.sk-parallel-item::before {content: \"\";position: absolute;border-left: 1px solid gray;box-sizing: border-box;top: 0;bottom: 0;left: 50%;z-index: -1;}#sk-container-id-1 div.sk-parallel-item {display: flex;flex-direction: column;z-index: 1;position: relative;background-color: white;}#sk-container-id-1 div.sk-parallel-item:first-child::after {align-self: flex-end;width: 50%;}#sk-container-id-1 div.sk-parallel-item:last-child::after {align-self: flex-start;width: 50%;}#sk-container-id-1 div.sk-parallel-item:only-child::after {width: 0;}#sk-container-id-1 div.sk-dashed-wrapped {border: 1px dashed gray;margin: 0 0.4em 0.5em 0.4em;box-sizing: border-box;padding-bottom: 0.4em;background-color: white;}#sk-container-id-1 div.sk-label label {font-family: monospace;font-weight: bold;display: inline-block;line-height: 1.2em;}#sk-container-id-1 div.sk-label-container {text-align: center;}#sk-container-id-1 div.sk-container {/* jupyter's `normalize.less` sets `[hidden] { display: none; }` but bootstrap.min.css set `[hidden] { display: none !important; }` so we also need the `!important` here to be able to override the default hidden behavior on the sphinx rendered scikit-learn.org. See: https://github.com/scikit-learn/scikit-learn/issues/21755 */display: inline-block !important;position: relative;}#sk-container-id-1 div.sk-text-repr-fallback {display: none;}</style><div id=\"sk-container-id-1\" class=\"sk-top-container\"><div class=\"sk-text-repr-fallback\"><pre>PCA(engine=&#x27;scipy&#x27;)</pre><b>In a Jupyter environment, please rerun this cell to show the HTML representation or trust the notebook. <br />On GitHub, the HTML representation is unable to render, please try loading this page with nbviewer.org.</b></div><div class=\"sk-container\" hidden><div class=\"sk-item\"><div class=\"sk-estimator sk-toggleable\"><input class=\"sk-toggleable__control sk-hidden--visually\" id=\"sk-estimator-id-1\" type=\"checkbox\" checked><label for=\"sk-estimator-id-1\" class=\"sk-toggleable__label sk-toggleable__label-arrow\">PCA</label><div class=\"sk-toggleable__content\"><pre>PCA(engine=&#x27;scipy&#x27;)</pre></div></div></div></div></div>"
      ],
      "text/plain": [
       "PCA(engine='scipy')"
      ]
     },
     "execution_count": 65,
     "metadata": {},
     "output_type": "execute_result"
    }
   ],
   "source": [
    "prince.PCA(engine='scipy')"
   ]
  },
  {
   "attachments": {},
   "cell_type": "markdown",
   "metadata": {},
   "source": [
    "Here is a very crude benchmark that compares each engine on different dataset sizes."
   ]
  },
  {
   "cell_type": "code",
   "execution_count": 31,
   "metadata": {},
   "outputs": [],
   "source": [
    "import itertools\n",
    "import numpy as np\n",
    "\n",
    "N = [100, 10_000, 100_000]\n",
    "P = [3, 10, 30]\n",
    "ENGINES = ['sklearn', 'fbpca', 'scipy']\n",
    "\n",
    "perf = []\n",
    "\n",
    "for n, p, engine in itertools.product(N, P, ENGINES):\n",
    "\n",
    "    # Too slow\n",
    "    if engine == 'scipy' and n > 10_000:\n",
    "        continue\n",
    "\n",
    "    X = pd.DataFrame(np.random.random(size=(n, p)))\n",
    "    duration = %timeit -q -n 1 -r 3 -o prince.PCA(engine=engine, n_iter=3).fit(X)\n",
    "    perf.append({\n",
    "        'n': n,\n",
    "        'p': p,\n",
    "        'engine': engine,\n",
    "        'seconds': duration.average\n",
    "    })"
   ]
  },
  {
   "cell_type": "code",
   "execution_count": 32,
   "metadata": {},
   "outputs": [
    {
     "data": {
      "text/html": [
       "<div>\n",
       "<style scoped>\n",
       "    .dataframe tbody tr th:only-of-type {\n",
       "        vertical-align: middle;\n",
       "    }\n",
       "\n",
       "    .dataframe tbody tr th {\n",
       "        vertical-align: top;\n",
       "    }\n",
       "\n",
       "    .dataframe thead th {\n",
       "        text-align: right;\n",
       "    }\n",
       "</style>\n",
       "<table border=\"1\" class=\"dataframe\">\n",
       "  <thead>\n",
       "    <tr style=\"text-align: right;\">\n",
       "      <th></th>\n",
       "      <th></th>\n",
       "      <th>engine</th>\n",
       "      <th>duration</th>\n",
       "    </tr>\n",
       "    <tr>\n",
       "      <th>n</th>\n",
       "      <th>p</th>\n",
       "      <th></th>\n",
       "      <th></th>\n",
       "    </tr>\n",
       "  </thead>\n",
       "  <tbody>\n",
       "    <tr>\n",
       "      <th rowspan=\"9\" valign=\"top\">100</th>\n",
       "      <th>3</th>\n",
       "      <td>fbpca</td>\n",
       "      <td>0.000818</td>\n",
       "    </tr>\n",
       "    <tr>\n",
       "      <th>3</th>\n",
       "      <td>sklearn</td>\n",
       "      <td>0.003405</td>\n",
       "    </tr>\n",
       "    <tr>\n",
       "      <th>3</th>\n",
       "      <td>scipy</td>\n",
       "      <td>0.022696</td>\n",
       "    </tr>\n",
       "    <tr>\n",
       "      <th>10</th>\n",
       "      <td>fbpca</td>\n",
       "      <td>0.002599</td>\n",
       "    </tr>\n",
       "    <tr>\n",
       "      <th>10</th>\n",
       "      <td>scipy</td>\n",
       "      <td>0.003026</td>\n",
       "    </tr>\n",
       "    <tr>\n",
       "      <th>10</th>\n",
       "      <td>sklearn</td>\n",
       "      <td>0.006835</td>\n",
       "    </tr>\n",
       "    <tr>\n",
       "      <th>30</th>\n",
       "      <td>scipy</td>\n",
       "      <td>0.001455</td>\n",
       "    </tr>\n",
       "    <tr>\n",
       "      <th>30</th>\n",
       "      <td>fbpca</td>\n",
       "      <td>0.001526</td>\n",
       "    </tr>\n",
       "    <tr>\n",
       "      <th>30</th>\n",
       "      <td>sklearn</td>\n",
       "      <td>0.004369</td>\n",
       "    </tr>\n",
       "    <tr>\n",
       "      <th rowspan=\"9\" valign=\"top\">10000</th>\n",
       "      <th>3</th>\n",
       "      <td>fbpca</td>\n",
       "      <td>0.003056</td>\n",
       "    </tr>\n",
       "    <tr>\n",
       "      <th>3</th>\n",
       "      <td>sklearn</td>\n",
       "      <td>0.166077</td>\n",
       "    </tr>\n",
       "    <tr>\n",
       "      <th>3</th>\n",
       "      <td>scipy</td>\n",
       "      <td>0.335397</td>\n",
       "    </tr>\n",
       "    <tr>\n",
       "      <th>10</th>\n",
       "      <td>fbpca</td>\n",
       "      <td>0.269857</td>\n",
       "    </tr>\n",
       "    <tr>\n",
       "      <th>10</th>\n",
       "      <td>scipy</td>\n",
       "      <td>0.614554</td>\n",
       "    </tr>\n",
       "    <tr>\n",
       "      <th>10</th>\n",
       "      <td>sklearn</td>\n",
       "      <td>0.855684</td>\n",
       "    </tr>\n",
       "    <tr>\n",
       "      <th>30</th>\n",
       "      <td>sklearn</td>\n",
       "      <td>1.067292</td>\n",
       "    </tr>\n",
       "    <tr>\n",
       "      <th>30</th>\n",
       "      <td>fbpca</td>\n",
       "      <td>1.169046</td>\n",
       "    </tr>\n",
       "    <tr>\n",
       "      <th>30</th>\n",
       "      <td>scipy</td>\n",
       "      <td>1.650976</td>\n",
       "    </tr>\n",
       "    <tr>\n",
       "      <th rowspan=\"6\" valign=\"top\">100000</th>\n",
       "      <th>3</th>\n",
       "      <td>fbpca</td>\n",
       "      <td>0.121617</td>\n",
       "    </tr>\n",
       "    <tr>\n",
       "      <th>3</th>\n",
       "      <td>sklearn</td>\n",
       "      <td>0.500503</td>\n",
       "    </tr>\n",
       "    <tr>\n",
       "      <th>10</th>\n",
       "      <td>fbpca</td>\n",
       "      <td>0.574221</td>\n",
       "    </tr>\n",
       "    <tr>\n",
       "      <th>10</th>\n",
       "      <td>sklearn</td>\n",
       "      <td>1.637214</td>\n",
       "    </tr>\n",
       "    <tr>\n",
       "      <th>30</th>\n",
       "      <td>fbpca</td>\n",
       "      <td>1.452501</td>\n",
       "    </tr>\n",
       "    <tr>\n",
       "      <th>30</th>\n",
       "      <td>sklearn</td>\n",
       "      <td>1.673517</td>\n",
       "    </tr>\n",
       "  </tbody>\n",
       "</table>\n",
       "</div>"
      ],
      "text/plain": [
       "            engine  duration\n",
       "n      p                    \n",
       "100    3     fbpca  0.000818\n",
       "       3   sklearn  0.003405\n",
       "       3     scipy  0.022696\n",
       "       10    fbpca  0.002599\n",
       "       10    scipy  0.003026\n",
       "       10  sklearn  0.006835\n",
       "       30    scipy  0.001455\n",
       "       30    fbpca  0.001526\n",
       "       30  sklearn  0.004369\n",
       "10000  3     fbpca  0.003056\n",
       "       3   sklearn  0.166077\n",
       "       3     scipy  0.335397\n",
       "       10    fbpca  0.269857\n",
       "       10    scipy  0.614554\n",
       "       10  sklearn  0.855684\n",
       "       30  sklearn  1.067292\n",
       "       30    fbpca  1.169046\n",
       "       30    scipy  1.650976\n",
       "100000 3     fbpca  0.121617\n",
       "       3   sklearn  0.500503\n",
       "       10    fbpca  0.574221\n",
       "       10  sklearn  1.637214\n",
       "       30    fbpca  1.452501\n",
       "       30  sklearn  1.673517"
      ]
     },
     "execution_count": 32,
     "metadata": {},
     "output_type": "execute_result"
    }
   ],
   "source": [
    "(\n",
    "    pd.DataFrame(perf)\n",
    "    .set_index(['n', 'p'])\n",
    "    .groupby(['n', 'p'], group_keys=False)\n",
    "    .apply(lambda x: x[['engine', 'seconds']]\n",
    "    .sort_values('duration'))\n",
    ")"
   ]
  }
 ],
 "metadata": {
  "kernelspec": {
   "display_name": ".venv",
   "language": "python",
   "name": "python3"
  },
  "language_info": {
   "codemirror_mode": {
    "name": "ipython",
    "version": 3
   },
   "file_extension": ".py",
   "mimetype": "text/x-python",
   "name": "python",
   "nbconvert_exporter": "python",
   "pygments_lexer": "ipython3",
   "version": "3.10.8"
  },
  "vscode": {
   "interpreter": {
    "hash": "441c2ec70d9faeb70e7723f55150c6260f4a26a9c828b90915d3399002e14f43"
   }
  }
 },
 "nbformat": 4,
 "nbformat_minor": 2
}
