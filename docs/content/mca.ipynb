{
 "cells": [
  {
   "attachments": {},
   "cell_type": "markdown",
   "metadata": {},
   "source": [
    "+++\n",
    "title = \"Multiple correspondence analysis\"\n",
    "menu = \"main\"\n",
    "weight = 3\n",
    "toc = true\n",
    "aliases = [\"mca\"]\n",
    "+++"
   ]
  },
  {
   "attachments": {},
   "cell_type": "markdown",
   "metadata": {},
   "source": [
    "## Resources"
   ]
  },
  {
   "attachments": {},
   "cell_type": "markdown",
   "metadata": {},
   "source": [
    "- [Computation of Multiple Correspondence Analysis, with code in R](https://core.ac.uk/download/pdf/6591520.pdf)"
   ]
  },
  {
   "attachments": {},
   "cell_type": "markdown",
   "metadata": {},
   "source": [
    "## Data\n",
    "\n",
    "Multiple correspondence analysis is an extension of correspondence analysis. It should be used when you have more than two categorical variables. The idea is to one-hot encode a dataset, before applying correspondence analysis to it.\n",
    "\n",
    "As an example, we're going to use the [balloons dataset](https://archive.ics.uci.edu/ml/machine-learning-databases/balloons/) taken from the [UCI datasets website](https://archive.ics.uci.edu/ml/datasets.html)."
   ]
  },
  {
   "cell_type": "code",
   "execution_count": 1,
   "metadata": {
    "execution": {
     "iopub.execute_input": "2023-10-11T22:33:02.082588Z",
     "iopub.status.busy": "2023-10-11T22:33:02.082011Z",
     "iopub.status.idle": "2023-10-11T22:33:02.659863Z",
     "shell.execute_reply": "2023-10-11T22:33:02.659244Z"
    }
   },
   "outputs": [
    {
     "data": {
      "text/html": [
       "<div>\n",
       "<style scoped>\n",
       "    .dataframe tbody tr th:only-of-type {\n",
       "        vertical-align: middle;\n",
       "    }\n",
       "\n",
       "    .dataframe tbody tr th {\n",
       "        vertical-align: top;\n",
       "    }\n",
       "\n",
       "    .dataframe thead th {\n",
       "        text-align: right;\n",
       "    }\n",
       "</style>\n",
       "<table border=\"1\" class=\"dataframe\">\n",
       "  <thead>\n",
       "    <tr style=\"text-align: right;\">\n",
       "      <th></th>\n",
       "      <th>Color</th>\n",
       "      <th>Size</th>\n",
       "      <th>Action</th>\n",
       "      <th>Age</th>\n",
       "      <th>Inflated</th>\n",
       "    </tr>\n",
       "  </thead>\n",
       "  <tbody>\n",
       "    <tr>\n",
       "      <th>0</th>\n",
       "      <td>YELLOW</td>\n",
       "      <td>SMALL</td>\n",
       "      <td>STRETCH</td>\n",
       "      <td>ADULT</td>\n",
       "      <td>T</td>\n",
       "    </tr>\n",
       "    <tr>\n",
       "      <th>1</th>\n",
       "      <td>YELLOW</td>\n",
       "      <td>SMALL</td>\n",
       "      <td>STRETCH</td>\n",
       "      <td>CHILD</td>\n",
       "      <td>F</td>\n",
       "    </tr>\n",
       "    <tr>\n",
       "      <th>2</th>\n",
       "      <td>YELLOW</td>\n",
       "      <td>SMALL</td>\n",
       "      <td>DIP</td>\n",
       "      <td>ADULT</td>\n",
       "      <td>F</td>\n",
       "    </tr>\n",
       "    <tr>\n",
       "      <th>3</th>\n",
       "      <td>YELLOW</td>\n",
       "      <td>SMALL</td>\n",
       "      <td>DIP</td>\n",
       "      <td>CHILD</td>\n",
       "      <td>F</td>\n",
       "    </tr>\n",
       "    <tr>\n",
       "      <th>4</th>\n",
       "      <td>YELLOW</td>\n",
       "      <td>LARGE</td>\n",
       "      <td>STRETCH</td>\n",
       "      <td>ADULT</td>\n",
       "      <td>T</td>\n",
       "    </tr>\n",
       "  </tbody>\n",
       "</table>\n",
       "</div>"
      ],
      "text/plain": [
       "    Color   Size   Action    Age Inflated\n",
       "0  YELLOW  SMALL  STRETCH  ADULT        T\n",
       "1  YELLOW  SMALL  STRETCH  CHILD        F\n",
       "2  YELLOW  SMALL      DIP  ADULT        F\n",
       "3  YELLOW  SMALL      DIP  CHILD        F\n",
       "4  YELLOW  LARGE  STRETCH  ADULT        T"
      ]
     },
     "execution_count": 1,
     "metadata": {},
     "output_type": "execute_result"
    }
   ],
   "source": [
    "import pandas as pd\n",
    "\n",
    "dataset = pd.read_csv('https://archive.ics.uci.edu/ml/machine-learning-databases/balloons/adult+stretch.data')\n",
    "dataset.columns = ['Color', 'Size', 'Action', 'Age', 'Inflated']\n",
    "dataset.head()"
   ]
  },
  {
   "attachments": {},
   "cell_type": "markdown",
   "metadata": {},
   "source": [
    "## Fitting"
   ]
  },
  {
   "cell_type": "code",
   "execution_count": 13,
   "metadata": {
    "execution": {
     "iopub.execute_input": "2023-10-11T22:33:02.663561Z",
     "iopub.status.busy": "2023-10-11T22:33:02.663294Z",
     "iopub.status.idle": "2023-10-11T22:33:03.034826Z",
     "shell.execute_reply": "2023-10-11T22:33:03.033990Z"
    }
   },
   "outputs": [
    {
     "name": "stdout",
     "output_type": "stream",
     "text": [
      "(19, 5)\n"
     ]
    }
   ],
   "source": [
    "import prince\n",
    "\n",
    "mca = prince.MCA(\n",
    "    n_components=3,\n",
    "    n_iter=3,\n",
    "    copy=True,\n",
    "    check_input=True,\n",
    "    engine='sklearn',\n",
    "    random_state=42,\n",
    "    one_hot=True,\n",
    "    get_dummies=True\n",
    ")\n",
    "mca = mca.fit(dataset)"
   ]
  },
  {
   "cell_type": "markdown",
   "metadata": {},
   "source": [
    "The way MCA works is that it one-hot encodes the dataset, and then fits a correspondence analysis. In case your dataset is already one-hot encoded, you can specify `one_hot=False` to skip this step."
   ]
  },
  {
   "cell_type": "code",
   "execution_count": 14,
   "metadata": {
    "execution": {
     "iopub.execute_input": "2023-10-11T22:33:03.039813Z",
     "iopub.status.busy": "2023-10-11T22:33:03.039240Z",
     "iopub.status.idle": "2023-10-11T22:33:03.067718Z",
     "shell.execute_reply": "2023-10-11T22:33:03.066635Z"
    }
   },
   "outputs": [
    {
     "name": "stdout",
     "output_type": "stream",
     "text": [
      "(19, 10)\n"
     ]
    }
   ],
   "source": [
    "one_hot = pd.get_dummies(dataset)\n",
    "\n",
    "mca_no_one_hot = prince.MCA(one_hot=False)\n",
    "mca_no_one_hot = mca_no_one_hot.fit(one_hot)"
   ]
  },
  {
   "attachments": {},
   "cell_type": "markdown",
   "metadata": {},
   "source": [
    "## Eigenvalues"
   ]
  },
  {
   "cell_type": "code",
   "execution_count": 15,
   "metadata": {
    "execution": {
     "iopub.execute_input": "2023-10-11T22:33:03.080736Z",
     "iopub.status.busy": "2023-10-11T22:33:03.080281Z",
     "iopub.status.idle": "2023-10-11T22:33:03.106296Z",
     "shell.execute_reply": "2023-10-11T22:33:03.105505Z"
    }
   },
   "outputs": [
    {
     "data": {
      "text/html": [
       "<div>\n",
       "<style scoped>\n",
       "    .dataframe tbody tr th:only-of-type {\n",
       "        vertical-align: middle;\n",
       "    }\n",
       "\n",
       "    .dataframe tbody tr th {\n",
       "        vertical-align: top;\n",
       "    }\n",
       "\n",
       "    .dataframe thead th {\n",
       "        text-align: right;\n",
       "    }\n",
       "</style>\n",
       "<table border=\"1\" class=\"dataframe\">\n",
       "  <thead>\n",
       "    <tr style=\"text-align: right;\">\n",
       "      <th></th>\n",
       "      <th>eigenvalue</th>\n",
       "      <th>% of variance</th>\n",
       "      <th>% of variance (cumulative)</th>\n",
       "    </tr>\n",
       "    <tr>\n",
       "      <th>component</th>\n",
       "      <th></th>\n",
       "      <th></th>\n",
       "      <th></th>\n",
       "    </tr>\n",
       "  </thead>\n",
       "  <tbody>\n",
       "    <tr>\n",
       "      <th>0</th>\n",
       "      <td>0.402</td>\n",
       "      <td>40.17%</td>\n",
       "      <td>40.17%</td>\n",
       "    </tr>\n",
       "    <tr>\n",
       "      <th>1</th>\n",
       "      <td>0.211</td>\n",
       "      <td>21.11%</td>\n",
       "      <td>61.28%</td>\n",
       "    </tr>\n",
       "    <tr>\n",
       "      <th>2</th>\n",
       "      <td>0.186</td>\n",
       "      <td>18.56%</td>\n",
       "      <td>79.84%</td>\n",
       "    </tr>\n",
       "  </tbody>\n",
       "</table>\n",
       "</div>"
      ],
      "text/plain": [
       "          eigenvalue % of variance % of variance (cumulative)\n",
       "component                                                    \n",
       "0              0.402        40.17%                     40.17%\n",
       "1              0.211        21.11%                     61.28%\n",
       "2              0.186        18.56%                     79.84%"
      ]
     },
     "execution_count": 15,
     "metadata": {},
     "output_type": "execute_result"
    }
   ],
   "source": [
    "mca.eigenvalues_summary"
   ]
  },
  {
   "attachments": {},
   "cell_type": "markdown",
   "metadata": {},
   "source": [
    "## Coordinates"
   ]
  },
  {
   "cell_type": "code",
   "execution_count": 16,
   "metadata": {
    "execution": {
     "iopub.execute_input": "2023-10-11T22:33:03.111432Z",
     "iopub.status.busy": "2023-10-11T22:33:03.110774Z",
     "iopub.status.idle": "2023-10-11T22:33:03.132756Z",
     "shell.execute_reply": "2023-10-11T22:33:03.131990Z"
    }
   },
   "outputs": [
    {
     "data": {
      "text/html": [
       "<div>\n",
       "<style scoped>\n",
       "    .dataframe tbody tr th:only-of-type {\n",
       "        vertical-align: middle;\n",
       "    }\n",
       "\n",
       "    .dataframe tbody tr th {\n",
       "        vertical-align: top;\n",
       "    }\n",
       "\n",
       "    .dataframe thead th {\n",
       "        text-align: right;\n",
       "    }\n",
       "</style>\n",
       "<table border=\"1\" class=\"dataframe\">\n",
       "  <thead>\n",
       "    <tr style=\"text-align: right;\">\n",
       "      <th></th>\n",
       "      <th>0</th>\n",
       "      <th>1</th>\n",
       "      <th>2</th>\n",
       "    </tr>\n",
       "  </thead>\n",
       "  <tbody>\n",
       "    <tr>\n",
       "      <th>0</th>\n",
       "      <td>0.705387</td>\n",
       "      <td>5.369158e-15</td>\n",
       "      <td>0.758639</td>\n",
       "    </tr>\n",
       "    <tr>\n",
       "      <th>1</th>\n",
       "      <td>-0.386586</td>\n",
       "      <td>5.724889e-15</td>\n",
       "      <td>0.626063</td>\n",
       "    </tr>\n",
       "    <tr>\n",
       "      <th>2</th>\n",
       "      <td>-0.386586</td>\n",
       "      <td>4.807799e-15</td>\n",
       "      <td>0.626063</td>\n",
       "    </tr>\n",
       "    <tr>\n",
       "      <th>3</th>\n",
       "      <td>-0.852014</td>\n",
       "      <td>5.108782e-15</td>\n",
       "      <td>0.562447</td>\n",
       "    </tr>\n",
       "    <tr>\n",
       "      <th>4</th>\n",
       "      <td>0.783539</td>\n",
       "      <td>-6.333333e-01</td>\n",
       "      <td>0.130201</td>\n",
       "    </tr>\n",
       "  </tbody>\n",
       "</table>\n",
       "</div>"
      ],
      "text/plain": [
       "          0             1         2\n",
       "0  0.705387  5.369158e-15  0.758639\n",
       "1 -0.386586  5.724889e-15  0.626063\n",
       "2 -0.386586  4.807799e-15  0.626063\n",
       "3 -0.852014  5.108782e-15  0.562447\n",
       "4  0.783539 -6.333333e-01  0.130201"
      ]
     },
     "execution_count": 16,
     "metadata": {},
     "output_type": "execute_result"
    }
   ],
   "source": [
    "mca.row_coordinates(dataset).head()"
   ]
  },
  {
   "cell_type": "code",
   "execution_count": 17,
   "metadata": {
    "execution": {
     "iopub.execute_input": "2023-10-11T22:33:03.136728Z",
     "iopub.status.busy": "2023-10-11T22:33:03.136411Z",
     "iopub.status.idle": "2023-10-11T22:33:03.162413Z",
     "shell.execute_reply": "2023-10-11T22:33:03.161656Z"
    }
   },
   "outputs": [
    {
     "data": {
      "text/html": [
       "<div>\n",
       "<style scoped>\n",
       "    .dataframe tbody tr th:only-of-type {\n",
       "        vertical-align: middle;\n",
       "    }\n",
       "\n",
       "    .dataframe tbody tr th {\n",
       "        vertical-align: top;\n",
       "    }\n",
       "\n",
       "    .dataframe thead th {\n",
       "        text-align: right;\n",
       "    }\n",
       "</style>\n",
       "<table border=\"1\" class=\"dataframe\">\n",
       "  <thead>\n",
       "    <tr style=\"text-align: right;\">\n",
       "      <th></th>\n",
       "      <th>0</th>\n",
       "      <th>1</th>\n",
       "      <th>2</th>\n",
       "    </tr>\n",
       "  </thead>\n",
       "  <tbody>\n",
       "    <tr>\n",
       "      <th>Color_PURPLE</th>\n",
       "      <td>0.117308</td>\n",
       "      <td>6.892024e-01</td>\n",
       "      <td>-0.641270</td>\n",
       "    </tr>\n",
       "    <tr>\n",
       "      <th>Color_YELLOW</th>\n",
       "      <td>-0.130342</td>\n",
       "      <td>-7.657805e-01</td>\n",
       "      <td>0.712523</td>\n",
       "    </tr>\n",
       "    <tr>\n",
       "      <th>Size_LARGE</th>\n",
       "      <td>0.117308</td>\n",
       "      <td>-6.892024e-01</td>\n",
       "      <td>-0.641270</td>\n",
       "    </tr>\n",
       "    <tr>\n",
       "      <th>Size_SMALL</th>\n",
       "      <td>-0.130342</td>\n",
       "      <td>7.657805e-01</td>\n",
       "      <td>0.712523</td>\n",
       "    </tr>\n",
       "    <tr>\n",
       "      <th>Action_DIP</th>\n",
       "      <td>-0.853864</td>\n",
       "      <td>-6.209900e-16</td>\n",
       "      <td>-0.079340</td>\n",
       "    </tr>\n",
       "  </tbody>\n",
       "</table>\n",
       "</div>"
      ],
      "text/plain": [
       "                     0             1         2\n",
       "Color_PURPLE  0.117308  6.892024e-01 -0.641270\n",
       "Color_YELLOW -0.130342 -7.657805e-01  0.712523\n",
       "Size_LARGE    0.117308 -6.892024e-01 -0.641270\n",
       "Size_SMALL   -0.130342  7.657805e-01  0.712523\n",
       "Action_DIP   -0.853864 -6.209900e-16 -0.079340"
      ]
     },
     "execution_count": 17,
     "metadata": {},
     "output_type": "execute_result"
    }
   ],
   "source": [
    "mca.column_coordinates(dataset).head()"
   ]
  },
  {
   "attachments": {},
   "cell_type": "markdown",
   "metadata": {},
   "source": [
    "## Visualization"
   ]
  },
  {
   "cell_type": "code",
   "execution_count": 18,
   "metadata": {
    "execution": {
     "iopub.execute_input": "2023-10-11T22:33:03.165704Z",
     "iopub.status.busy": "2023-10-11T22:33:03.165569Z",
     "iopub.status.idle": "2023-10-11T22:33:03.259662Z",
     "shell.execute_reply": "2023-10-11T22:33:03.257553Z"
    }
   },
   "outputs": [
    {
     "name": "stderr",
     "output_type": "stream",
     "text": [
      "/opt/anaconda3/envs/nibm_ml/lib/python3.10/site-packages/altair/utils/core.py:384: FutureWarning: the convert_dtype parameter is deprecated and will be removed in a future version.  Do ``ser.astype(object).apply()`` instead if you want ``convert_dtype=False``.\n",
      "  col = df[col_name].apply(to_list_if_array, convert_dtype=False)\n",
      "/opt/anaconda3/envs/nibm_ml/lib/python3.10/site-packages/altair/utils/core.py:384: FutureWarning: the convert_dtype parameter is deprecated and will be removed in a future version.  Do ``ser.astype(object).apply()`` instead if you want ``convert_dtype=False``.\n",
      "  col = df[col_name].apply(to_list_if_array, convert_dtype=False)\n",
      "/opt/anaconda3/envs/nibm_ml/lib/python3.10/site-packages/altair/utils/core.py:384: FutureWarning: the convert_dtype parameter is deprecated and will be removed in a future version.  Do ``ser.astype(object).apply()`` instead if you want ``convert_dtype=False``.\n",
      "  col = df[col_name].apply(to_list_if_array, convert_dtype=False)\n",
      "/opt/anaconda3/envs/nibm_ml/lib/python3.10/site-packages/altair/utils/core.py:384: FutureWarning: the convert_dtype parameter is deprecated and will be removed in a future version.  Do ``ser.astype(object).apply()`` instead if you want ``convert_dtype=False``.\n",
      "  col = df[col_name].apply(to_list_if_array, convert_dtype=False)\n",
      "/opt/anaconda3/envs/nibm_ml/lib/python3.10/site-packages/altair/utils/core.py:384: FutureWarning: the convert_dtype parameter is deprecated and will be removed in a future version.  Do ``ser.astype(object).apply()`` instead if you want ``convert_dtype=False``.\n",
      "  col = df[col_name].apply(to_list_if_array, convert_dtype=False)\n"
     ]
    },
    {
     "data": {
      "text/html": [
       "\n",
       "<div id=\"altair-viz-23aa94dca9904c75b7465910e120ca1f\"></div>\n",
       "<script type=\"text/javascript\">\n",
       "  var VEGA_DEBUG = (typeof VEGA_DEBUG == \"undefined\") ? {} : VEGA_DEBUG;\n",
       "  (function(spec, embedOpt){\n",
       "    let outputDiv = document.currentScript.previousElementSibling;\n",
       "    if (outputDiv.id !== \"altair-viz-23aa94dca9904c75b7465910e120ca1f\") {\n",
       "      outputDiv = document.getElementById(\"altair-viz-23aa94dca9904c75b7465910e120ca1f\");\n",
       "    }\n",
       "    const paths = {\n",
       "      \"vega\": \"https://cdn.jsdelivr.net/npm//vega@5?noext\",\n",
       "      \"vega-lib\": \"https://cdn.jsdelivr.net/npm//vega-lib?noext\",\n",
       "      \"vega-lite\": \"https://cdn.jsdelivr.net/npm//vega-lite@4.17.0?noext\",\n",
       "      \"vega-embed\": \"https://cdn.jsdelivr.net/npm//vega-embed@6?noext\",\n",
       "    };\n",
       "\n",
       "    function maybeLoadScript(lib, version) {\n",
       "      var key = `${lib.replace(\"-\", \"\")}_version`;\n",
       "      return (VEGA_DEBUG[key] == version) ?\n",
       "        Promise.resolve(paths[lib]) :\n",
       "        new Promise(function(resolve, reject) {\n",
       "          var s = document.createElement('script');\n",
       "          document.getElementsByTagName(\"head\")[0].appendChild(s);\n",
       "          s.async = true;\n",
       "          s.onload = () => {\n",
       "            VEGA_DEBUG[key] = version;\n",
       "            return resolve(paths[lib]);\n",
       "          };\n",
       "          s.onerror = () => reject(`Error loading script: ${paths[lib]}`);\n",
       "          s.src = paths[lib];\n",
       "        });\n",
       "    }\n",
       "\n",
       "    function showError(err) {\n",
       "      outputDiv.innerHTML = `<div class=\"error\" style=\"color:red;\">${err}</div>`;\n",
       "      throw err;\n",
       "    }\n",
       "\n",
       "    function displayChart(vegaEmbed) {\n",
       "      vegaEmbed(outputDiv, spec, embedOpt)\n",
       "        .catch(err => showError(`Javascript Error: ${err.message}<br>This usually means there's a typo in your chart specification. See the javascript console for the full traceback.`));\n",
       "    }\n",
       "\n",
       "    if(typeof define === \"function\" && define.amd) {\n",
       "      requirejs.config({paths});\n",
       "      require([\"vega-embed\"], displayChart, err => showError(`Error loading script: ${err.message}`));\n",
       "    } else {\n",
       "      maybeLoadScript(\"vega\", \"5\")\n",
       "        .then(() => maybeLoadScript(\"vega-lite\", \"4.17.0\"))\n",
       "        .then(() => maybeLoadScript(\"vega-embed\", \"6\"))\n",
       "        .catch(showError)\n",
       "        .then(() => displayChart(vegaEmbed));\n",
       "    }\n",
       "  })({\"config\": {\"view\": {\"continuousWidth\": 400, \"continuousHeight\": 300}}, \"layer\": [{\"data\": {\"name\": \"data-77fcb8e636b3df57514d60e150c9d9f1\"}, \"mark\": {\"type\": \"circle\", \"size\": 50}, \"encoding\": {\"color\": {\"field\": \"variable\", \"type\": \"nominal\"}, \"tooltip\": [{\"field\": \"variable\", \"type\": \"nominal\"}, {\"field\": \"value\", \"type\": \"nominal\"}, {\"field\": \"component 0\", \"type\": \"quantitative\"}, {\"field\": \"component 1\", \"type\": \"quantitative\"}], \"x\": {\"axis\": {\"title\": \"component 0 \\u2014 40.17%\"}, \"field\": \"component 0\", \"scale\": {\"zero\": false}, \"type\": \"quantitative\"}, \"y\": {\"axis\": {\"title\": \"component 1 \\u2014 21.11%\"}, \"field\": \"component 1\", \"scale\": {\"zero\": false}, \"type\": \"quantitative\"}}, \"selection\": {\"selector002\": {\"type\": \"interval\", \"bind\": \"scales\", \"encodings\": [\"x\", \"y\"]}}}, {\"data\": {\"name\": \"data-711147a303e3ceea7e2371bc22d80b7a\"}, \"mark\": {\"type\": \"circle\", \"size\": 50}, \"encoding\": {\"color\": {\"field\": \"variable\", \"type\": \"nominal\"}, \"tooltip\": [{\"field\": \"variable\", \"type\": \"nominal\"}, {\"field\": \"value\", \"type\": \"nominal\"}, {\"field\": \"component 0\", \"type\": \"quantitative\"}, {\"field\": \"component 1\", \"type\": \"quantitative\"}], \"x\": {\"axis\": {\"title\": \"component 0 \\u2014 40.17%\"}, \"field\": \"component 0\", \"scale\": {\"zero\": false}, \"type\": \"quantitative\"}, \"y\": {\"axis\": {\"title\": \"component 1 \\u2014 21.11%\"}, \"field\": \"component 1\", \"scale\": {\"zero\": false}, \"type\": \"quantitative\"}}}], \"$schema\": \"https://vega.github.io/schema/vega-lite/v4.17.0.json\", \"datasets\": {\"data-77fcb8e636b3df57514d60e150c9d9f1\": [{\"component 0\": 0.705386799624833, \"component 1\": 5.369157675281349e-15, \"component 2\": 0.7586391105690958, \"variable\": \"row\", \"value\": \"0\", \"label\": 0}, {\"component 0\": -0.3865862994959901, \"component 1\": 5.724889175530574e-15, \"component 2\": 0.626063081684002, \"variable\": \"row\", \"value\": \"1\", \"label\": 1}, {\"component 0\": -0.38658629949599027, \"component 1\": 4.807799212409681e-15, \"component 2\": 0.6260630816840012, \"variable\": \"row\", \"value\": \"2\", \"label\": 2}, {\"component 0\": -0.8520140574664052, \"component 1\": 5.1087824590383175e-15, \"component 2\": 0.5624474892356488, \"variable\": \"row\", \"value\": \"3\", \"label\": 3}, {\"component 0\": 0.7835387510478179, \"component 1\": -0.6333333333333329, \"component 2\": 0.13020069134918655, \"variable\": \"row\", \"value\": \"4\", \"label\": 4}, {\"component 0\": 0.7835387510478179, \"component 1\": -0.6333333333333329, \"component 2\": 0.13020069134918655, \"variable\": \"row\", \"value\": \"5\", \"label\": 5}, {\"component 0\": -0.3084343480730051, \"component 1\": -0.6333333333333324, \"component 2\": -0.002375337535907171, \"variable\": \"row\", \"value\": \"6\", \"label\": 6}, {\"component 0\": -0.30843434807300524, \"component 1\": -0.6333333333333334, \"component 2\": -0.0023753375359081112, \"variable\": \"row\", \"value\": \"7\", \"label\": 7}, {\"component 0\": -0.7738621060434202, \"component 1\": -0.6333333333333331, \"component 2\": -0.06599092998426041, \"variable\": \"row\", \"value\": \"8\", \"label\": 8}, {\"component 0\": 0.7835387510478189, \"component 1\": 0.6333333333333334, \"component 2\": 0.1302006913491765, \"variable\": \"row\", \"value\": \"9\", \"label\": 9}, {\"component 0\": 0.7835387510478189, \"component 1\": 0.6333333333333334, \"component 2\": 0.1302006913491765, \"variable\": \"row\", \"value\": \"10\", \"label\": 10}, {\"component 0\": -0.3084343480730041, \"component 1\": 0.6333333333333339, \"component 2\": -0.0023753375359172324, \"variable\": \"row\", \"value\": \"11\", \"label\": 11}, {\"component 0\": -0.3084343480730043, \"component 1\": 0.6333333333333329, \"component 2\": -0.0023753375359181726, \"variable\": \"row\", \"value\": \"12\", \"label\": 12}, {\"component 0\": -0.7738621060434193, \"component 1\": 0.6333333333333332, \"component 2\": -0.06599092998427047, \"variable\": \"row\", \"value\": \"13\", \"label\": 13}, {\"component 0\": 0.8616907024708039, \"component 1\": -4.703117939444958e-15, \"component 2\": -0.49823772787073284, \"variable\": \"row\", \"value\": \"14\", \"label\": 14}, {\"component 0\": 0.8616907024708039, \"component 1\": -4.703117939444958e-15, \"component 2\": -0.49823772787073284, \"variable\": \"row\", \"value\": \"15\", \"label\": 15}, {\"component 0\": -0.23028239665001912, \"component 1\": -4.347386439195733e-15, \"component 2\": -0.6308137567558266, \"variable\": \"row\", \"value\": \"16\", \"label\": 16}, {\"component 0\": -0.23028239665001932, \"component 1\": -5.2644764023166255e-15, \"component 2\": -0.6308137567558275, \"variable\": \"row\", \"value\": \"17\", \"label\": 17}, {\"component 0\": -0.6957101546204343, \"component 1\": -4.963493155687989e-15, \"component 2\": -0.6944293492041799, \"variable\": \"row\", \"value\": \"18\", \"label\": 18}], \"data-711147a303e3ceea7e2371bc22d80b7a\": [{\"component 0\": 0.11730760677191546, \"component 1\": 0.6892024376045062, \"component 2\": -0.6412704755837051, \"variable\": \"column\", \"value\": \"Color_PURPLE\", \"label\": \"Color_PURPLE\"}, {\"component 0\": -0.13034178530212806, \"component 1\": -0.7657804862272294, \"component 2\": 0.7125227506485615, \"variable\": \"column\", \"value\": \"Color_YELLOW\", \"label\": \"Color_YELLOW\"}, {\"component 0\": 0.1173076067719144, \"component 1\": -0.6892024376045159, \"component 2\": -0.641270475583695, \"variable\": \"column\", \"value\": \"Size_LARGE\", \"label\": \"Size_LARGE\"}, {\"component 0\": -0.13034178530212692, \"component 1\": 0.7657804862272393, \"component 2\": 0.7125227506485502, \"variable\": \"column\", \"value\": \"Size_SMALL\", \"label\": \"Size_SMALL\"}, {\"component 0\": -0.8538641988881541, \"component 1\": -6.209900073327629e-16, \"component 2\": -0.0793400134079546, \"variable\": \"column\", \"value\": \"Action_DIP\", \"label\": \"Action_DIP\"}, {\"component 0\": 0.6209921446459306, \"component 1\": 2.1065276378011284e-16, \"component 2\": 0.05770182793305838, \"variable\": \"column\", \"value\": \"Action_STRETCH\", \"label\": \"Action_STRETCH\"}, {\"component 0\": 0.6209921446459306, \"component 1\": -6.15834260569712e-16, \"component 2\": 0.05770182793305778, \"variable\": \"column\", \"value\": \"Age_ADULT\", \"label\": \"Age_ADULT\"}, {\"component 0\": -0.8538641988881541, \"component 1\": 4.810967786383547e-16, \"component 2\": -0.0793400134079539, \"variable\": \"column\", \"value\": \"Age_CHILD\", \"label\": \"Age_CHILD\"}, {\"component 0\": -0.7314664035372919, \"component 1\": 9.568847313504198e-17, \"component 2\": -0.054731083980793564, \"variable\": \"column\", \"value\": \"Inflated_F\", \"label\": \"Inflated_F\"}, {\"component 0\": 1.253942406063929, \"component 1\": -6.325533971750396e-16, \"component 2\": 0.09382471539564684, \"variable\": \"column\", \"value\": \"Inflated_T\", \"label\": \"Inflated_T\"}]}}, {\"mode\": \"vega-lite\"});\n",
       "</script>"
      ],
      "text/plain": [
       "alt.LayerChart(...)"
      ]
     },
     "execution_count": 18,
     "metadata": {},
     "output_type": "execute_result"
    }
   ],
   "source": [
    "mca.plot(\n",
    "    dataset,\n",
    "    x_component=0,\n",
    "    y_component=1,\n",
    "    show_column_markers=True,\n",
    "    show_row_markers=True,\n",
    "    show_column_labels=False,\n",
    "    show_row_labels=False\n",
    ")"
   ]
  },
  {
   "attachments": {},
   "cell_type": "markdown",
   "metadata": {},
   "source": [
    "## Contributions"
   ]
  },
  {
   "cell_type": "code",
   "execution_count": 19,
   "metadata": {
    "execution": {
     "iopub.execute_input": "2023-10-11T22:33:03.264339Z",
     "iopub.status.busy": "2023-10-11T22:33:03.264020Z",
     "iopub.status.idle": "2023-10-11T22:33:03.462877Z",
     "shell.execute_reply": "2023-10-11T22:33:03.462506Z"
    }
   },
   "outputs": [
    {
     "data": {
      "text/html": [
       "<style type=\"text/css\">\n",
       "</style>\n",
       "<table id=\"T_db76b\">\n",
       "  <thead>\n",
       "    <tr>\n",
       "      <th class=\"blank level0\" >&nbsp;</th>\n",
       "      <th id=\"T_db76b_level0_col0\" class=\"col_heading level0 col0\" >0</th>\n",
       "      <th id=\"T_db76b_level0_col1\" class=\"col_heading level0 col1\" >1</th>\n",
       "      <th id=\"T_db76b_level0_col2\" class=\"col_heading level0 col2\" >2</th>\n",
       "    </tr>\n",
       "  </thead>\n",
       "  <tbody>\n",
       "    <tr>\n",
       "      <th id=\"T_db76b_level0_row0\" class=\"row_heading level0 row0\" >0</th>\n",
       "      <td id=\"T_db76b_row0_col0\" class=\"data row0 col0\" >7%</td>\n",
       "      <td id=\"T_db76b_row0_col1\" class=\"data row0 col1\" >0%</td>\n",
       "      <td id=\"T_db76b_row0_col2\" class=\"data row0 col2\" >16%</td>\n",
       "    </tr>\n",
       "    <tr>\n",
       "      <th id=\"T_db76b_level0_row1\" class=\"row_heading level0 row1\" >1</th>\n",
       "      <td id=\"T_db76b_row1_col0\" class=\"data row1 col0\" >2%</td>\n",
       "      <td id=\"T_db76b_row1_col1\" class=\"data row1 col1\" >0%</td>\n",
       "      <td id=\"T_db76b_row1_col2\" class=\"data row1 col2\" >11%</td>\n",
       "    </tr>\n",
       "    <tr>\n",
       "      <th id=\"T_db76b_level0_row2\" class=\"row_heading level0 row2\" >2</th>\n",
       "      <td id=\"T_db76b_row2_col0\" class=\"data row2 col0\" >2%</td>\n",
       "      <td id=\"T_db76b_row2_col1\" class=\"data row2 col1\" >0%</td>\n",
       "      <td id=\"T_db76b_row2_col2\" class=\"data row2 col2\" >11%</td>\n",
       "    </tr>\n",
       "    <tr>\n",
       "      <th id=\"T_db76b_level0_row3\" class=\"row_heading level0 row3\" >3</th>\n",
       "      <td id=\"T_db76b_row3_col0\" class=\"data row3 col0\" >10%</td>\n",
       "      <td id=\"T_db76b_row3_col1\" class=\"data row3 col1\" >0%</td>\n",
       "      <td id=\"T_db76b_row3_col2\" class=\"data row3 col2\" >9%</td>\n",
       "    </tr>\n",
       "    <tr>\n",
       "      <th id=\"T_db76b_level0_row4\" class=\"row_heading level0 row4\" >4</th>\n",
       "      <td id=\"T_db76b_row4_col0\" class=\"data row4 col0\" >8%</td>\n",
       "      <td id=\"T_db76b_row4_col1\" class=\"data row4 col1\" >10%</td>\n",
       "      <td id=\"T_db76b_row4_col2\" class=\"data row4 col2\" >0%</td>\n",
       "    </tr>\n",
       "  </tbody>\n",
       "</table>\n"
      ],
      "text/plain": [
       "<pandas.io.formats.style.Styler at 0x7f879d1a1f90>"
      ]
     },
     "execution_count": 19,
     "metadata": {},
     "output_type": "execute_result"
    }
   ],
   "source": [
    "mca.row_contributions_.head().style.format('{:.0%}')"
   ]
  },
  {
   "cell_type": "code",
   "execution_count": 20,
   "metadata": {
    "execution": {
     "iopub.execute_input": "2023-10-11T22:33:03.464586Z",
     "iopub.status.busy": "2023-10-11T22:33:03.464427Z",
     "iopub.status.idle": "2023-10-11T22:33:03.476388Z",
     "shell.execute_reply": "2023-10-11T22:33:03.476145Z"
    }
   },
   "outputs": [
    {
     "data": {
      "text/html": [
       "<style type=\"text/css\">\n",
       "</style>\n",
       "<table id=\"T_ccbc0\">\n",
       "  <thead>\n",
       "    <tr>\n",
       "      <th class=\"blank level0\" >&nbsp;</th>\n",
       "      <th id=\"T_ccbc0_level0_col0\" class=\"col_heading level0 col0\" >0</th>\n",
       "      <th id=\"T_ccbc0_level0_col1\" class=\"col_heading level0 col1\" >1</th>\n",
       "      <th id=\"T_ccbc0_level0_col2\" class=\"col_heading level0 col2\" >2</th>\n",
       "    </tr>\n",
       "  </thead>\n",
       "  <tbody>\n",
       "    <tr>\n",
       "      <th id=\"T_ccbc0_level0_row0\" class=\"row_heading level0 row0\" >Color_PURPLE</th>\n",
       "      <td id=\"T_ccbc0_row0_col0\" class=\"data row0 col0\" >0%</td>\n",
       "      <td id=\"T_ccbc0_row0_col1\" class=\"data row0 col1\" >24%</td>\n",
       "      <td id=\"T_ccbc0_row0_col2\" class=\"data row0 col2\" >23%</td>\n",
       "    </tr>\n",
       "    <tr>\n",
       "      <th id=\"T_ccbc0_level0_row1\" class=\"row_heading level0 row1\" >Color_YELLOW</th>\n",
       "      <td id=\"T_ccbc0_row1_col0\" class=\"data row1 col0\" >0%</td>\n",
       "      <td id=\"T_ccbc0_row1_col1\" class=\"data row1 col1\" >26%</td>\n",
       "      <td id=\"T_ccbc0_row1_col2\" class=\"data row1 col2\" >26%</td>\n",
       "    </tr>\n",
       "    <tr>\n",
       "      <th id=\"T_ccbc0_level0_row2\" class=\"row_heading level0 row2\" >Size_LARGE</th>\n",
       "      <td id=\"T_ccbc0_row2_col0\" class=\"data row2 col0\" >0%</td>\n",
       "      <td id=\"T_ccbc0_row2_col1\" class=\"data row2 col1\" >24%</td>\n",
       "      <td id=\"T_ccbc0_row2_col2\" class=\"data row2 col2\" >23%</td>\n",
       "    </tr>\n",
       "    <tr>\n",
       "      <th id=\"T_ccbc0_level0_row3\" class=\"row_heading level0 row3\" >Size_SMALL</th>\n",
       "      <td id=\"T_ccbc0_row3_col0\" class=\"data row3 col0\" >0%</td>\n",
       "      <td id=\"T_ccbc0_row3_col1\" class=\"data row3 col1\" >26%</td>\n",
       "      <td id=\"T_ccbc0_row3_col2\" class=\"data row3 col2\" >26%</td>\n",
       "    </tr>\n",
       "    <tr>\n",
       "      <th id=\"T_ccbc0_level0_row4\" class=\"row_heading level0 row4\" >Action_DIP</th>\n",
       "      <td id=\"T_ccbc0_row4_col0\" class=\"data row4 col0\" >15%</td>\n",
       "      <td id=\"T_ccbc0_row4_col1\" class=\"data row4 col1\" >0%</td>\n",
       "      <td id=\"T_ccbc0_row4_col2\" class=\"data row4 col2\" >0%</td>\n",
       "    </tr>\n",
       "  </tbody>\n",
       "</table>\n"
      ],
      "text/plain": [
       "<pandas.io.formats.style.Styler at 0x7f879d1f0b20>"
      ]
     },
     "execution_count": 20,
     "metadata": {},
     "output_type": "execute_result"
    }
   ],
   "source": [
    "mca.column_contributions_.head().style.format('{:.0%}')"
   ]
  },
  {
   "attachments": {},
   "cell_type": "markdown",
   "metadata": {},
   "source": [
    "## Cosine similarities"
   ]
  },
  {
   "cell_type": "code",
   "execution_count": 21,
   "metadata": {
    "execution": {
     "iopub.execute_input": "2023-10-11T22:33:03.478001Z",
     "iopub.status.busy": "2023-10-11T22:33:03.477898Z",
     "iopub.status.idle": "2023-10-11T22:33:03.493137Z",
     "shell.execute_reply": "2023-10-11T22:33:03.492852Z"
    }
   },
   "outputs": [
    {
     "data": {
      "text/html": [
       "<div>\n",
       "<style scoped>\n",
       "    .dataframe tbody tr th:only-of-type {\n",
       "        vertical-align: middle;\n",
       "    }\n",
       "\n",
       "    .dataframe tbody tr th {\n",
       "        vertical-align: top;\n",
       "    }\n",
       "\n",
       "    .dataframe thead th {\n",
       "        text-align: right;\n",
       "    }\n",
       "</style>\n",
       "<table border=\"1\" class=\"dataframe\">\n",
       "  <thead>\n",
       "    <tr style=\"text-align: right;\">\n",
       "      <th></th>\n",
       "      <th>0</th>\n",
       "      <th>1</th>\n",
       "      <th>2</th>\n",
       "    </tr>\n",
       "  </thead>\n",
       "  <tbody>\n",
       "    <tr>\n",
       "      <th>0</th>\n",
       "      <td>0.461478</td>\n",
       "      <td>2.673675e-29</td>\n",
       "      <td>0.533786</td>\n",
       "    </tr>\n",
       "    <tr>\n",
       "      <th>1</th>\n",
       "      <td>0.152256</td>\n",
       "      <td>3.338988e-29</td>\n",
       "      <td>0.399316</td>\n",
       "    </tr>\n",
       "    <tr>\n",
       "      <th>2</th>\n",
       "      <td>0.152256</td>\n",
       "      <td>2.354904e-29</td>\n",
       "      <td>0.399316</td>\n",
       "    </tr>\n",
       "    <tr>\n",
       "      <th>3</th>\n",
       "      <td>0.653335</td>\n",
       "      <td>2.348969e-29</td>\n",
       "      <td>0.284712</td>\n",
       "    </tr>\n",
       "    <tr>\n",
       "      <th>4</th>\n",
       "      <td>0.592606</td>\n",
       "      <td>3.871772e-01</td>\n",
       "      <td>0.016363</td>\n",
       "    </tr>\n",
       "  </tbody>\n",
       "</table>\n",
       "</div>"
      ],
      "text/plain": [
       "          0             1         2\n",
       "0  0.461478  2.673675e-29  0.533786\n",
       "1  0.152256  3.338988e-29  0.399316\n",
       "2  0.152256  2.354904e-29  0.399316\n",
       "3  0.653335  2.348969e-29  0.284712\n",
       "4  0.592606  3.871772e-01  0.016363"
      ]
     },
     "execution_count": 21,
     "metadata": {},
     "output_type": "execute_result"
    }
   ],
   "source": [
    "mca.row_cosine_similarities(dataset).head()"
   ]
  },
  {
   "cell_type": "code",
   "execution_count": 22,
   "metadata": {
    "execution": {
     "iopub.execute_input": "2023-10-11T22:33:03.494732Z",
     "iopub.status.busy": "2023-10-11T22:33:03.494614Z",
     "iopub.status.idle": "2023-10-11T22:33:03.509326Z",
     "shell.execute_reply": "2023-10-11T22:33:03.509043Z"
    }
   },
   "outputs": [
    {
     "data": {
      "text/html": [
       "<div>\n",
       "<style scoped>\n",
       "    .dataframe tbody tr th:only-of-type {\n",
       "        vertical-align: middle;\n",
       "    }\n",
       "\n",
       "    .dataframe tbody tr th {\n",
       "        vertical-align: top;\n",
       "    }\n",
       "\n",
       "    .dataframe thead th {\n",
       "        text-align: right;\n",
       "    }\n",
       "</style>\n",
       "<table border=\"1\" class=\"dataframe\">\n",
       "  <thead>\n",
       "    <tr style=\"text-align: right;\">\n",
       "      <th></th>\n",
       "      <th>0</th>\n",
       "      <th>1</th>\n",
       "      <th>2</th>\n",
       "    </tr>\n",
       "  </thead>\n",
       "  <tbody>\n",
       "    <tr>\n",
       "      <th>Color_PURPLE</th>\n",
       "      <td>0.015290</td>\n",
       "      <td>5.277778e-01</td>\n",
       "      <td>0.456920</td>\n",
       "    </tr>\n",
       "    <tr>\n",
       "      <th>Color_YELLOW</th>\n",
       "      <td>0.015290</td>\n",
       "      <td>5.277778e-01</td>\n",
       "      <td>0.456920</td>\n",
       "    </tr>\n",
       "    <tr>\n",
       "      <th>Size_LARGE</th>\n",
       "      <td>0.015290</td>\n",
       "      <td>5.277778e-01</td>\n",
       "      <td>0.456920</td>\n",
       "    </tr>\n",
       "    <tr>\n",
       "      <th>Size_SMALL</th>\n",
       "      <td>0.015290</td>\n",
       "      <td>5.277778e-01</td>\n",
       "      <td>0.456920</td>\n",
       "    </tr>\n",
       "    <tr>\n",
       "      <th>Action_DIP</th>\n",
       "      <td>0.530243</td>\n",
       "      <td>2.804572e-31</td>\n",
       "      <td>0.004578</td>\n",
       "    </tr>\n",
       "  </tbody>\n",
       "</table>\n",
       "</div>"
      ],
      "text/plain": [
       "                     0             1         2\n",
       "Color_PURPLE  0.015290  5.277778e-01  0.456920\n",
       "Color_YELLOW  0.015290  5.277778e-01  0.456920\n",
       "Size_LARGE    0.015290  5.277778e-01  0.456920\n",
       "Size_SMALL    0.015290  5.277778e-01  0.456920\n",
       "Action_DIP    0.530243  2.804572e-31  0.004578"
      ]
     },
     "execution_count": 22,
     "metadata": {},
     "output_type": "execute_result"
    }
   ],
   "source": [
    "mca.column_cosine_similarities(dataset).head()"
   ]
  },
  {
   "cell_type": "code",
   "execution_count": null,
   "metadata": {},
   "outputs": [],
   "source": []
  }
 ],
 "metadata": {
  "kernelspec": {
   "display_name": ".venv",
   "language": "python",
   "name": "python3"
  },
  "language_info": {
   "codemirror_mode": {
    "name": "ipython",
    "version": 3
   },
   "file_extension": ".py",
   "mimetype": "text/x-python",
   "name": "python",
   "nbconvert_exporter": "python",
   "pygments_lexer": "ipython3",
   "version": "3.10.14"
  },
  "vscode": {
   "interpreter": {
    "hash": "441c2ec70d9faeb70e7723f55150c6260f4a26a9c828b90915d3399002e14f43"
   }
  }
 },
 "nbformat": 4,
 "nbformat_minor": 2
}
