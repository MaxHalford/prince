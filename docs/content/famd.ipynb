{
 "cells": [
  {
   "attachments": {},
   "cell_type": "markdown",
   "metadata": {},
   "source": [
    "+++\n",
    "title = \"Factor analysis of mixed data\"\n",
    "menu = \"main\"\n",
    "weight = 5\n",
    "toc = true\n",
    "aliases = [\"famd\"]\n",
    "+++"
   ]
  },
  {
   "attachments": {},
   "cell_type": "markdown",
   "metadata": {},
   "source": [
    "## Resources\n",
    "\n",
    "🤷‍♂️"
   ]
  },
  {
   "attachments": {},
   "cell_type": "markdown",
   "metadata": {},
   "source": [
    "## Data"
   ]
  },
  {
   "attachments": {},
   "cell_type": "markdown",
   "metadata": {},
   "source": [
    "Factor analysis of mixed data is a general purpose method. It supports both numeric and categorical data."
   ]
  },
  {
   "cell_type": "code",
   "execution_count": 3,
   "metadata": {},
   "outputs": [
    {
     "data": {
      "text/html": [
       "<div>\n",
       "<style scoped>\n",
       "    .dataframe tbody tr th:only-of-type {\n",
       "        vertical-align: middle;\n",
       "    }\n",
       "\n",
       "    .dataframe tbody tr th {\n",
       "        vertical-align: top;\n",
       "    }\n",
       "\n",
       "    .dataframe thead th {\n",
       "        text-align: right;\n",
       "    }\n",
       "</style>\n",
       "<table border=\"1\" class=\"dataframe\">\n",
       "  <thead>\n",
       "    <tr style=\"text-align: right;\">\n",
       "      <th></th>\n",
       "      <th>is_organic</th>\n",
       "      <th>style</th>\n",
       "      <th>alcohol_by_volume</th>\n",
       "      <th>international_bitterness_units</th>\n",
       "      <th>standard_reference_method</th>\n",
       "      <th>final_gravity</th>\n",
       "    </tr>\n",
       "    <tr>\n",
       "      <th>name</th>\n",
       "      <th></th>\n",
       "      <th></th>\n",
       "      <th></th>\n",
       "      <th></th>\n",
       "      <th></th>\n",
       "      <th></th>\n",
       "    </tr>\n",
       "  </thead>\n",
       "  <tbody>\n",
       "    <tr>\n",
       "      <th>Lightshine Radler</th>\n",
       "      <td>False</td>\n",
       "      <td>Blonde</td>\n",
       "      <td>4.50</td>\n",
       "      <td>20.0</td>\n",
       "      <td>5.0</td>\n",
       "      <td>1.012</td>\n",
       "    </tr>\n",
       "    <tr>\n",
       "      <th>LightSwitch Lager</th>\n",
       "      <td>False</td>\n",
       "      <td>American Light Lager</td>\n",
       "      <td>3.95</td>\n",
       "      <td>7.5</td>\n",
       "      <td>3.0</td>\n",
       "      <td>1.005</td>\n",
       "    </tr>\n",
       "    <tr>\n",
       "      <th>Lightwave Belgian Pale</th>\n",
       "      <td>False</td>\n",
       "      <td>Belgian Pale</td>\n",
       "      <td>5.00</td>\n",
       "      <td>25.0</td>\n",
       "      <td>9.0</td>\n",
       "      <td>1.011</td>\n",
       "    </tr>\n",
       "    <tr>\n",
       "      <th>Like Weisse</th>\n",
       "      <td>False</td>\n",
       "      <td>Berlinerweisse</td>\n",
       "      <td>3.10</td>\n",
       "      <td>4.5</td>\n",
       "      <td>3.0</td>\n",
       "      <td>1.005</td>\n",
       "    </tr>\n",
       "    <tr>\n",
       "      <th>Lil Heaven Session IPA</th>\n",
       "      <td>False</td>\n",
       "      <td>Session</td>\n",
       "      <td>4.55</td>\n",
       "      <td>20.0</td>\n",
       "      <td>2.0</td>\n",
       "      <td>1.007</td>\n",
       "    </tr>\n",
       "  </tbody>\n",
       "</table>\n",
       "</div>"
      ],
      "text/plain": [
       "                        is_organic                 style  alcohol_by_volume  \\\n",
       "name                                                                          \n",
       "Lightshine Radler            False                Blonde               4.50   \n",
       "LightSwitch Lager            False  American Light Lager               3.95   \n",
       "Lightwave Belgian Pale       False          Belgian Pale               5.00   \n",
       "Like Weisse                  False        Berlinerweisse               3.10   \n",
       "Lil Heaven Session IPA       False               Session               4.55   \n",
       "\n",
       "                        international_bitterness_units  \\\n",
       "name                                                     \n",
       "Lightshine Radler                                 20.0   \n",
       "LightSwitch Lager                                  7.5   \n",
       "Lightwave Belgian Pale                            25.0   \n",
       "Like Weisse                                        4.5   \n",
       "Lil Heaven Session IPA                            20.0   \n",
       "\n",
       "                        standard_reference_method  final_gravity  \n",
       "name                                                              \n",
       "Lightshine Radler                             5.0          1.012  \n",
       "LightSwitch Lager                             3.0          1.005  \n",
       "Lightwave Belgian Pale                        9.0          1.011  \n",
       "Like Weisse                                   3.0          1.005  \n",
       "Lil Heaven Session IPA                        2.0          1.007  "
      ]
     },
     "execution_count": 3,
     "metadata": {},
     "output_type": "execute_result"
    }
   ],
   "source": [
    "import prince\n",
    "\n",
    "dataset = prince.datasets.load_beers().head(1000)\n",
    "dataset.head()"
   ]
  },
  {
   "attachments": {},
   "cell_type": "markdown",
   "metadata": {},
   "source": [
    "## Fitting"
   ]
  },
  {
   "cell_type": "code",
   "execution_count": 4,
   "metadata": {},
   "outputs": [],
   "source": [
    "famd = prince.FAMD(\n",
    "    n_components=2,\n",
    "    n_iter=3,\n",
    "    copy=True,\n",
    "    check_input=True,\n",
    "    random_state=42,\n",
    "    engine=\"sklearn\"\n",
    ")\n",
    "famd = famd.fit(dataset)"
   ]
  },
  {
   "attachments": {},
   "cell_type": "markdown",
   "metadata": {},
   "source": [
    "## Eigenvalues"
   ]
  },
  {
   "cell_type": "code",
   "execution_count": 5,
   "metadata": {},
   "outputs": [
    {
     "data": {
      "text/html": [
       "<div>\n",
       "<style scoped>\n",
       "    .dataframe tbody tr th:only-of-type {\n",
       "        vertical-align: middle;\n",
       "    }\n",
       "\n",
       "    .dataframe tbody tr th {\n",
       "        vertical-align: top;\n",
       "    }\n",
       "\n",
       "    .dataframe thead th {\n",
       "        text-align: right;\n",
       "    }\n",
       "</style>\n",
       "<table border=\"1\" class=\"dataframe\">\n",
       "  <thead>\n",
       "    <tr style=\"text-align: right;\">\n",
       "      <th></th>\n",
       "      <th>eigenvalue</th>\n",
       "      <th>% of variance</th>\n",
       "      <th>% of variance (cumulative)</th>\n",
       "    </tr>\n",
       "    <tr>\n",
       "      <th>component</th>\n",
       "      <th></th>\n",
       "      <th></th>\n",
       "      <th></th>\n",
       "    </tr>\n",
       "  </thead>\n",
       "  <tbody>\n",
       "    <tr>\n",
       "      <th>0</th>\n",
       "      <td>3.735</td>\n",
       "      <td>3.70%</td>\n",
       "      <td>3.70%</td>\n",
       "    </tr>\n",
       "    <tr>\n",
       "      <th>1</th>\n",
       "      <td>1.662</td>\n",
       "      <td>1.65%</td>\n",
       "      <td>5.34%</td>\n",
       "    </tr>\n",
       "  </tbody>\n",
       "</table>\n",
       "</div>"
      ],
      "text/plain": [
       "          eigenvalue % of variance % of variance (cumulative)\n",
       "component                                                    \n",
       "0              3.735         3.70%                      3.70%\n",
       "1              1.662         1.65%                      5.34%"
      ]
     },
     "execution_count": 5,
     "metadata": {},
     "output_type": "execute_result"
    }
   ],
   "source": [
    "famd.eigenvalues_summary"
   ]
  },
  {
   "attachments": {},
   "cell_type": "markdown",
   "metadata": {},
   "source": [
    "## Coordinates"
   ]
  },
  {
   "cell_type": "code",
   "execution_count": 6,
   "metadata": {},
   "outputs": [
    {
     "data": {
      "text/html": [
       "<div>\n",
       "<style scoped>\n",
       "    .dataframe tbody tr th:only-of-type {\n",
       "        vertical-align: middle;\n",
       "    }\n",
       "\n",
       "    .dataframe tbody tr th {\n",
       "        vertical-align: top;\n",
       "    }\n",
       "\n",
       "    .dataframe thead th {\n",
       "        text-align: right;\n",
       "    }\n",
       "</style>\n",
       "<table border=\"1\" class=\"dataframe\">\n",
       "  <thead>\n",
       "    <tr style=\"text-align: right;\">\n",
       "      <th>component</th>\n",
       "      <th>0</th>\n",
       "      <th>1</th>\n",
       "    </tr>\n",
       "    <tr>\n",
       "      <th>name</th>\n",
       "      <th></th>\n",
       "      <th></th>\n",
       "    </tr>\n",
       "  </thead>\n",
       "  <tbody>\n",
       "    <tr>\n",
       "      <th>Lightshine Radler</th>\n",
       "      <td>-1.795872</td>\n",
       "      <td>-0.316854</td>\n",
       "    </tr>\n",
       "    <tr>\n",
       "      <th>LightSwitch Lager</th>\n",
       "      <td>-3.351119</td>\n",
       "      <td>-0.193896</td>\n",
       "    </tr>\n",
       "    <tr>\n",
       "      <th>Lightwave Belgian Pale</th>\n",
       "      <td>-1.429076</td>\n",
       "      <td>-0.083288</td>\n",
       "    </tr>\n",
       "    <tr>\n",
       "      <th>Like Weisse</th>\n",
       "      <td>-3.774585</td>\n",
       "      <td>-0.255144</td>\n",
       "    </tr>\n",
       "    <tr>\n",
       "      <th>Lil Heaven Session IPA</th>\n",
       "      <td>-2.570021</td>\n",
       "      <td>-0.069867</td>\n",
       "    </tr>\n",
       "  </tbody>\n",
       "</table>\n",
       "</div>"
      ],
      "text/plain": [
       "component                      0         1\n",
       "name                                      \n",
       "Lightshine Radler      -1.795872 -0.316854\n",
       "LightSwitch Lager      -3.351119 -0.193896\n",
       "Lightwave Belgian Pale -1.429076 -0.083288\n",
       "Like Weisse            -3.774585 -0.255144\n",
       "Lil Heaven Session IPA -2.570021 -0.069867"
      ]
     },
     "execution_count": 6,
     "metadata": {},
     "output_type": "execute_result"
    }
   ],
   "source": [
    "famd.row_coordinates(dataset).head()"
   ]
  },
  {
   "cell_type": "code",
   "execution_count": 7,
   "metadata": {},
   "outputs": [
    {
     "data": {
      "text/html": [
       "<div>\n",
       "<style scoped>\n",
       "    .dataframe tbody tr th:only-of-type {\n",
       "        vertical-align: middle;\n",
       "    }\n",
       "\n",
       "    .dataframe tbody tr th {\n",
       "        vertical-align: top;\n",
       "    }\n",
       "\n",
       "    .dataframe thead th {\n",
       "        text-align: right;\n",
       "    }\n",
       "</style>\n",
       "<table border=\"1\" class=\"dataframe\">\n",
       "  <thead>\n",
       "    <tr style=\"text-align: right;\">\n",
       "      <th>component</th>\n",
       "      <th>0</th>\n",
       "      <th>1</th>\n",
       "    </tr>\n",
       "    <tr>\n",
       "      <th>variable</th>\n",
       "      <th></th>\n",
       "      <th></th>\n",
       "    </tr>\n",
       "  </thead>\n",
       "  <tbody>\n",
       "    <tr>\n",
       "      <th>alcohol_by_volume</th>\n",
       "      <td>8.474727e-01</td>\n",
       "      <td>0.024329</td>\n",
       "    </tr>\n",
       "    <tr>\n",
       "      <th>international_bitterness_units</th>\n",
       "      <td>6.648504e-01</td>\n",
       "      <td>0.224303</td>\n",
       "    </tr>\n",
       "    <tr>\n",
       "      <th>standard_reference_method</th>\n",
       "      <td>3.828369e-01</td>\n",
       "      <td>0.386307</td>\n",
       "    </tr>\n",
       "    <tr>\n",
       "      <th>final_gravity</th>\n",
       "      <td>8.401140e-01</td>\n",
       "      <td>0.025106</td>\n",
       "    </tr>\n",
       "    <tr>\n",
       "      <th>is_organic</th>\n",
       "      <td>6.361371e-07</td>\n",
       "      <td>0.002685</td>\n",
       "    </tr>\n",
       "    <tr>\n",
       "      <th>style</th>\n",
       "      <td>9.994811e-01</td>\n",
       "      <td>0.999218</td>\n",
       "    </tr>\n",
       "  </tbody>\n",
       "</table>\n",
       "</div>"
      ],
      "text/plain": [
       "component                                  0         1\n",
       "variable                                              \n",
       "alcohol_by_volume               8.474727e-01  0.024329\n",
       "international_bitterness_units  6.648504e-01  0.224303\n",
       "standard_reference_method       3.828369e-01  0.386307\n",
       "final_gravity                   8.401140e-01  0.025106\n",
       "is_organic                      6.361371e-07  0.002685\n",
       "style                           9.994811e-01  0.999218"
      ]
     },
     "execution_count": 7,
     "metadata": {},
     "output_type": "execute_result"
    }
   ],
   "source": [
    "famd.column_coordinates_"
   ]
  },
  {
   "attachments": {},
   "cell_type": "markdown",
   "metadata": {},
   "source": [
    "## Visualization"
   ]
  },
  {
   "cell_type": "code",
   "execution_count": 8,
   "metadata": {},
   "outputs": [
    {
     "data": {
      "text/html": [
       "\n",
       "<div id=\"altair-viz-6fff65ec0cce4059957d6ca2fd7a9da1\"></div>\n",
       "<script type=\"text/javascript\">\n",
       "  var VEGA_DEBUG = (typeof VEGA_DEBUG == \"undefined\") ? {} : VEGA_DEBUG;\n",
       "  (function(spec, embedOpt){\n",
       "    let outputDiv = document.currentScript.previousElementSibling;\n",
       "    if (outputDiv.id !== \"altair-viz-6fff65ec0cce4059957d6ca2fd7a9da1\") {\n",
       "      outputDiv = document.getElementById(\"altair-viz-6fff65ec0cce4059957d6ca2fd7a9da1\");\n",
       "    }\n",
       "    const paths = {\n",
       "      \"vega\": \"https://cdn.jsdelivr.net/npm//vega@5?noext\",\n",
       "      \"vega-lib\": \"https://cdn.jsdelivr.net/npm//vega-lib?noext\",\n",
       "      \"vega-lite\": \"https://cdn.jsdelivr.net/npm//vega-lite@4.17.0?noext\",\n",
       "      \"vega-embed\": \"https://cdn.jsdelivr.net/npm//vega-embed@6?noext\",\n",
       "    };\n",
       "\n",
       "    function maybeLoadScript(lib, version) {\n",
       "      var key = `${lib.replace(\"-\", \"\")}_version`;\n",
       "      return (VEGA_DEBUG[key] == version) ?\n",
       "        Promise.resolve(paths[lib]) :\n",
       "        new Promise(function(resolve, reject) {\n",
       "          var s = document.createElement('script');\n",
       "          document.getElementsByTagName(\"head\")[0].appendChild(s);\n",
       "          s.async = true;\n",
       "          s.onload = () => {\n",
       "            VEGA_DEBUG[key] = version;\n",
       "            return resolve(paths[lib]);\n",
       "          };\n",
       "          s.onerror = () => reject(`Error loading script: ${paths[lib]}`);\n",
       "          s.src = paths[lib];\n",
       "        });\n",
       "    }\n",
       "\n",
       "    function showError(err) {\n",
       "      outputDiv.innerHTML = `<div class=\"error\" style=\"color:red;\">${err}</div>`;\n",
       "      throw err;\n",
       "    }\n",
       "\n",
       "    function displayChart(vegaEmbed) {\n",
       "      vegaEmbed(outputDiv, spec, embedOpt)\n",
       "        .catch(err => showError(`Javascript Error: ${err.message}<br>This usually means there's a typo in your chart specification. See the javascript console for the full traceback.`));\n",
       "    }\n",
       "\n",
       "    if(typeof define === \"function\" && define.amd) {\n",
       "      requirejs.config({paths});\n",
       "      require([\"vega-embed\"], displayChart, err => showError(`Error loading script: ${err.message}`));\n",
       "    } else {\n",
       "      maybeLoadScript(\"vega\", \"5\")\n",
       "        .then(() => maybeLoadScript(\"vega-lite\", \"4.17.0\"))\n",
       "        .then(() => maybeLoadScript(\"vega-embed\", \"6\"))\n",
       "        .catch(showError)\n",
       "        .then(() => displayChart(vegaEmbed));\n",
       "    }\n",
       "  })({\"config\": {\"view\": {\"continuousWidth\": 400, \"continuousHeight\": 300}}, \"layer\": [{\"mark\": {\"type\": \"circle\", \"size\": 50}, \"encoding\": {\"tooltip\": [{\"field\": \"name\", \"type\": \"nominal\"}, {\"field\": \"component 0\", \"type\": \"quantitative\"}, {\"field\": \"component 1\", \"type\": \"quantitative\"}], \"x\": {\"axis\": {\"title\": \"component 0 \\u2014 3.70%\"}, \"field\": \"component 0\", \"scale\": {\"zero\": false}, \"type\": \"quantitative\"}, \"y\": {\"axis\": {\"title\": \"component 1 \\u2014 1.65%\"}, \"field\": \"component 1\", \"scale\": {\"zero\": false}, \"type\": \"quantitative\"}}, \"selection\": {\"selector001\": {\"type\": \"interval\", \"bind\": \"scales\", \"encodings\": [\"x\", \"y\"]}}}, {\"data\": {\"name\": \"data-449ea4a3d5b72b27d1f17fab0f824032\"}, \"mark\": {\"type\": \"square\", \"color\": \"green\", \"size\": 50}, \"encoding\": {\"tooltip\": [{\"field\": \"variable\", \"type\": \"nominal\"}], \"x\": {\"field\": \"component 0\", \"scale\": {\"zero\": false}, \"type\": \"quantitative\"}, \"y\": {\"field\": \"component 1\", \"scale\": {\"zero\": false}, \"type\": \"quantitative\"}}}], \"data\": {\"name\": \"data-869660b75fd34dfad7f2c03a0f30f9ee\"}, \"$schema\": \"https://vega.github.io/schema/vega-lite/v4.17.0.json\", \"datasets\": {\"data-869660b75fd34dfad7f2c03a0f30f9ee\": [{\"name\": \"Lightshine Radler\", \"component 0\": -1.7958718999882755, \"component 1\": -0.3168542809014389}, {\"name\": \"LightSwitch Lager\", \"component 0\": -3.3511190230612335, \"component 1\": -0.193895500628686}, {\"name\": \"Lightwave Belgian Pale\", \"component 0\": -1.429076350418711, \"component 1\": -0.08328799245390109}, {\"name\": \"Like Weisse\", \"component 0\": -3.774585143410996, \"component 1\": -0.2551442776251495}, {\"name\": \"Lil Heaven Session IPA\", \"component 0\": -2.570020523764774, \"component 1\": -0.06986716482668646}, {\"name\": \"Lil One\", \"component 0\": 3.029340662999709, \"component 1\": -0.16304983703932402}, {\"name\": \"Lil Sipa\", \"component 0\": 0.7977651921466918, \"component 1\": -1.2926904038224214}, {\"name\": \"Lil Timmy\", \"component 0\": -1.3126475922307228, \"component 1\": -0.23084156023002272}, {\"name\": \"Lil Wheezy\", \"component 0\": -0.3004331387642417, \"component 1\": 0.5446878915675295}, {\"name\": \"Lil' Bandit Brown Ale\", \"component 0\": -1.2427481055900917, \"component 1\": 0.9375182579236649}, {\"name\": \"Lil' Crispy\", \"component 0\": -1.0715704862314948, \"component 1\": -0.17934969339944057}, {\"name\": \"Lil' Juice\", \"component 0\": 0.7977651921466918, \"component 1\": -1.2926904038224214}, {\"name\": \"Lil' Juicy\", \"component 0\": 0.20915617830745648, \"component 1\": -1.3403881994806957}, {\"name\": \"Lil' Opal\", \"component 0\": -0.889611607760833, \"component 1\": -0.3243080943003819}, {\"name\": \"Lil' Squeezy\", \"component 0\": -1.0715704862314948, \"component 1\": -0.17934969339944057}, {\"name\": \"Lil' Squig\", \"component 0\": -1.1173861962116771, \"component 1\": -0.20478040430246067}, {\"name\": \"Lil' Sunshine\", \"component 0\": -2.101135991047534, \"component 1\": 0.2970282215684862}, {\"name\": \"LIL'B\", \"component 0\": 0.06473924836588163, \"component 1\": 1.6226358507232133}, {\"name\": \"Lil's Pils\", \"component 0\": -0.6330631098612627, \"component 1\": -0.30884238608084963}, {\"name\": \"Lila\", \"component 0\": 0.20915617830745648, \"component 1\": -1.3403881994806957}, {\"name\": \"Lilac Wheat Ale\", \"component 0\": -1.970529240956362, \"component 1\": 0.0012470917859071836}, {\"name\": \"Liliko'i Kepolo\", \"component 0\": 1.4318251696093767, \"component 1\": 1.821917333829712}, {\"name\": \"Lilikoi Saison\", \"component 0\": -0.889611607760833, \"component 1\": -0.3243080943003819}, {\"name\": \"Lilikoi Wheat\", \"component 0\": -1.6371016827226015, \"component 1\": 0.06120407737554239}, {\"name\": \"Lilith Bourbon Barrel Aged\", \"component 0\": 1.7786257306016078, \"component 1\": 0.8240963364362089}, {\"name\": \"Lilith Oporto Aged\", \"component 0\": 1.7786257306016078, \"component 1\": 0.8240963364362089}, {\"name\": \"Lilja's Hoi Polloi\", \"component 0\": 3.10625182428805, \"component 1\": 2.122813230723401}, {\"name\": \"Lilja\\u2019s Pulling Boat Pale Ale\", \"component 0\": -1.0715704862314948, \"component 1\": -0.17934969339944057}, {\"name\": \"Lily\", \"component 0\": 0.7977651921466918, \"component 1\": -1.2926904038224214}, {\"name\": \"Lily & Seamus\", \"component 0\": -1.891489955278801, \"component 1\": -0.028727353771294158}, {\"name\": \"Lily Flagg Milk Stout\", \"component 0\": 0.14604237883643884, \"component 1\": 3.445862746014915}, {\"name\": \"Lily Water\", \"component 0\": -2.723402126687143, \"component 1\": 0.39525513649760435}, {\"name\": \"Lily's Cream Ale\", \"component 0\": -2.471866427339535, \"component 1\": -0.7272831125902498}, {\"name\": \"Lil\\u2019 Gruesome\", \"component 0\": 3.8320408578465814, \"component 1\": 2.006078887014931}, {\"name\": \"Limbo IPA\", \"component 0\": 0.7977651921466918, \"component 1\": -1.2926904038224214}, {\"name\": \"Lime & Ginger Berliner Weisse\", \"component 0\": -3.774585143410996, \"component 1\": -0.2551442776251495}, {\"name\": \"Lime Pils\", \"component 0\": -0.6920169760821689, \"component 1\": -0.17652668415232833}, {\"name\": \"Lime Pilsner\", \"component 0\": -1.9447691607380753, \"component 1\": -1.0453401185874989}, {\"name\": \"Lime Wheat Ale\", \"component 0\": -2.412082370276882, \"component 1\": -0.27052487640678885}, {\"name\": \"LimeLeaf\", \"component 0\": -2.471866427339535, \"component 1\": -0.7272831125902498}, {\"name\": \"LimeLight\", \"component 0\": -1.6807142766364571, \"component 1\": 0.6669115860166044}, {\"name\": \"Limestone\", \"component 0\": -2.6251139649955197, \"component 1\": -0.2289920834310774}, {\"name\": \"Limey B!\", \"component 0\": -1.6371016827226015, \"component 1\": 0.06120407737554239}, {\"name\": \"Yosemite Falls IPA\", \"component 0\": 0.7977651921466918, \"component 1\": -1.2926904038224214}, {\"name\": \"Yosemite Scooter\", \"component 0\": -1.0715704862314948, \"component 1\": -0.17934969339944057}, {\"name\": \"Yoshi's Nectar\", \"component 0\": -2.723402126687143, \"component 1\": 0.39525513649760435}, {\"name\": \"You & I\", \"component 0\": -1.190164212415274, \"component 1\": -0.8202089650555299}, {\"name\": \"You Are The Brut Squad\", \"component 0\": 0.7977651921466918, \"component 1\": -1.2926904038224214}, {\"name\": \"You Big Dummy\", \"component 0\": 3.194589824646642, \"component 1\": -2.5586372237379003}, {\"name\": \"You Can Call Me Ale\", \"component 0\": 0.7996885357311798, \"component 1\": -1.081518428575759}, {\"name\": \"You Enjoy My Stout\", \"component 0\": 4.471184299528401, \"component 1\": 1.9068723166791817}, {\"name\": \"You Like 'A Da Juice\", \"component 0\": 0.20915617830745648, \"component 1\": -1.3403881994806957}, {\"name\": \"You Never Even Call Me By My Name\", \"component 0\": -0.889611607760833, \"component 1\": -0.3243080943003819}, {\"name\": \"You're In The Jungle Baby!\", \"component 0\": 4.471184299528401, \"component 1\": 1.9068723166791817}, {\"name\": \"You're My Boy, Blue\", \"component 0\": 1.4318251696093767, \"component 1\": 1.821917333829712}, {\"name\": \"You're My Boy, Blue!\", \"component 0\": -1.7958718999882755, \"component 1\": -0.3168542809014389}, {\"name\": \"Young Grasshopper\", \"component 0\": -1.0715704862314948, \"component 1\": -0.17934969339944057}, {\"name\": \"Young's Winter Warmer\", \"component 0\": 1.4279409845948867, \"component 1\": 1.8601816282595298}, {\"name\": \"Youngers Special Bitter\", \"component 0\": -0.5928925179600867, \"component 1\": 0.2416921663601462}, {\"name\": \"Younger\\u2019s Best\", \"component 0\": -1.613212613805574, \"component 1\": -0.7126030787636587}, {\"name\": \"Young\\u2019s Bitter\", \"component 0\": -2.198229797594715, \"component 1\": 1.301188450131474}, {\"name\": \"Young\\u2019s Double Chocolate Stout\", \"component 0\": 3.8339642014310695, \"component 1\": 2.2172508622615927}, {\"name\": \"Young\\u2019s Hummingbird\", \"component 0\": -2.5680971801802865, \"component 1\": 0.1413048104199756}, {\"name\": \"Young\\u2019s London Gold\", \"component 0\": -1.7939485564037876, \"component 1\": -0.1056823056547768}, {\"name\": \"Your Black Heart Russian Imperial Stout\", \"component 0\": 4.471184299528401, \"component 1\": 1.9068723166791817}, {\"name\": \"Your IPA\", \"component 0\": 0.7977651921466918, \"component 1\": -1.2926904038224214}, {\"name\": \"Your Local Nitro Brown Ale\", \"component 0\": -0.21579036158618245, \"component 1\": 1.1051617666066806}, {\"name\": \"Your Mom\", \"component 0\": 4.3086571483671285, \"component 1\": -1.1056016047104917}, {\"name\": \"Ypsi Gypsi Pale Ale\", \"component 0\": -1.0715704862314948, \"component 1\": -0.17934969339944057}, {\"name\": \"YR Berliner: Wood Will Fall Down\", \"component 0\": -3.774585143410996, \"component 1\": -0.2551442776251495}, {\"name\": \"YR IPA: Hair in the Mailbox\", \"component 0\": -1.07397413164133, \"component 1\": -0.574733447798631}, {\"name\": \"YR Pale: Stick a Finger in the Soil\", \"component 0\": -1.0715704862314948, \"component 1\": -0.17934969339944057}, {\"name\": \"Yu Lu\", \"component 0\": -1.0715704862314948, \"component 1\": -0.17934969339944057}, {\"name\": \"Yuengling Black & Tan\", \"component 0\": 3.8320408578465814, \"component 1\": 2.006078887014931}, {\"name\": \"Yuengling Bock Beer\", \"component 0\": -2.2001531411792032, \"component 1\": 1.090016474884812}, {\"name\": \"Yuengling Lager Light\", \"component 0\": -3.3511190230612335, \"component 1\": -0.193895500628686}, {\"name\": \"Yuengling Light Beer (Premium)\", \"component 0\": -3.3511190230612335, \"component 1\": -0.193895500628686}, {\"name\": \"Yuengling Porter\", \"component 0\": -0.7210215427841452, \"component 1\": 1.659663623178681}, {\"name\": \"Yuengling Premium Beer\", \"component 0\": -2.020915892181228, \"component 1\": 0.5534985132129379}, {\"name\": \"Yuengling Summer Wheat\", \"component 0\": -1.6807142766364571, \"component 1\": 0.6669115860166044}, {\"name\": \"Yuengling Traditional Lager\", \"component 0\": -2.020915892181228, \"component 1\": 0.5534985132129379}, {\"name\": \"Yukon Gold Lager\", \"component 0\": -2.723402126687143, \"component 1\": 0.39525513649760435}, {\"name\": \"Yule Ale\", \"component 0\": 4.3086571483671285, \"component 1\": -1.1056016047104917}, {\"name\": \"Yule Bock\", \"component 0\": 1.2932210843801841, \"component 1\": 1.8370065144401517}, {\"name\": \"Yule Shoot Your Eye Out\", \"component 0\": 1.4279409845948867, \"component 1\": 1.8601816282595298}, {\"name\": \"Yule Smith \\u2013 Summer\", \"component 0\": 2.276885337667576, \"component 1\": -2.5332017705506225}, {\"name\": \"Yule Tide\", \"component 0\": 0.33268642427243234, \"component 1\": -0.6176905080436438}, {\"name\": \"Hollow Point\", \"component 0\": -0.7210215427841452, \"component 1\": 1.659663623178681}, {\"name\": \"Holloway\", \"component 0\": -3.774585143410996, \"component 1\": -0.2551442776251495}, {\"name\": \"Hollowtoberfest\", \"component 0\": -0.48155911553306935, \"component 1\": -0.9497467493853}, {\"name\": \"Holly Jolly\", \"component 0\": 1.4279409845948867, \"component 1\": 1.8601816282595298}, {\"name\": \"Holly King\", \"component 0\": 3.029340662999709, \"component 1\": -0.16304983703932402}, {\"name\": \"Holsten Pilsener\", \"component 0\": -1.9447691607380753, \"component 1\": -1.0453401185874989}, {\"name\": \"Holy Beer\", \"component 0\": 2.243937109279094, \"component 1\": -0.21646391943938292}, {\"name\": \"Holy Brew Honey Blonde\", \"component 0\": -1.7958718999882755, \"component 1\": -0.3168542809014389}, {\"name\": \"Holy Cacao\\u2122\", \"component 0\": 0.14604237883643884, \"component 1\": 3.445862746014915}, {\"name\": \"Holy City Pilsner\", \"component 0\": -1.9447691607380753, \"component 1\": -1.0453401185874989}, {\"name\": \"Holy Cow\", \"component 0\": 0.14604237883643884, \"component 1\": 3.445862746014915}, {\"name\": \"Holy Cowbell\", \"component 0\": 1.7850672038825126, \"component 1\": 1.9100457410784935}, {\"name\": \"Holy Funshine\", \"component 0\": -0.889611607760833, \"component 1\": -0.3243080943003819}, {\"name\": \"Holy Grounds Coffee Stout\", \"component 0\": 1.9503979514287368, \"component 1\": 1.9718116390337133}, {\"name\": \"Holy G\\u00fcnter\", \"component 0\": -1.785731792266487, \"component 1\": -0.3509452672219862}, {\"name\": \"Holy Jim Falls\", \"component 0\": -0.3494380700259833, \"component 1\": -0.9583951758259899}, {\"name\": \"Holy Mackerel Mack In Black\", \"component 0\": -0.6308386822057129, \"component 1\": 1.8062768147174162}, {\"name\": \"Holy Mackerel Special Golden Ale\", \"component 0\": 1.1261562911487968, \"component 1\": -0.2536985045398252}, {\"name\": \"Holy Mole Brown Ale\", \"component 0\": -0.21579036158618245, \"component 1\": 1.1051617666066806}, {\"name\": \"Holy Moley\", \"component 0\": 1.9503979514287368, \"component 1\": 1.9718116390337133}, {\"name\": \"Holy Moly!\", \"component 0\": 4.471184299528401, \"component 1\": 1.9068723166791817}, {\"name\": \"Holy Moses Raspberry White Ale\", \"component 0\": -2.412082370276882, \"component 1\": -0.27052487640678885}, {\"name\": \"Holy Moses White Ale\", \"component 0\": -2.412082370276882, \"component 1\": -0.27052487640678885}, {\"name\": \"Holy Roller IPA\", \"component 0\": 0.7977651921466918, \"component 1\": -1.2926904038224214}, {\"name\": \"Holy Toledo!\", \"component 0\": 0.7977651921466918, \"component 1\": -1.2926904038224214}, {\"name\": \"Home\", \"component 0\": 3.194589824646642, \"component 1\": -2.5586372237379003}, {\"name\": \"Home From Home\", \"component 0\": 0.7977651921466918, \"component 1\": -1.2926904038224214}, {\"name\": \"Home Plate\", \"component 0\": 1.9503979514287368, \"component 1\": 1.9718116390337133}, {\"name\": \"Home Rule\", \"component 0\": 0.7977651921466918, \"component 1\": -1.2926904038224214}, {\"name\": \"Homecoming\", \"component 0\": 1.4371918397872945, \"component 1\": 1.9735984206123742}, {\"name\": \"Homefront\", \"component 0\": 0.7996885357311798, \"component 1\": -1.081518428575759}, {\"name\": \"Homefront IPA\", \"component 0\": 0.7977651921466918, \"component 1\": -1.2926904038224214}, {\"name\": \"Homeguys Helles\", \"component 0\": -1.785731792266487, \"component 1\": -0.3509452672219862}, {\"name\": \"Homeland Stout\", \"component 0\": 1.7850672038825126, \"component 1\": 1.9100457410784935}, {\"name\": \"Silverstream Pale Ale\", \"component 0\": -1.07397413164133, \"component 1\": -0.574733447798631}, {\"name\": \"Simcoe Bomb\", \"component 0\": 0.7977651921466918, \"component 1\": -1.2926904038224214}, {\"name\": \"Simcoe De Mayo\", \"component 0\": 0.7977651921466918, \"component 1\": -1.2926904038224214}, {\"name\": \"Simcoe IPA\", \"component 0\": 0.7977651921466918, \"component 1\": -1.2926904038224214}, {\"name\": \"Simcoe Motion\", \"component 0\": 0.7977651921466918, \"component 1\": -1.2926904038224214}, {\"name\": \"Simcoe Ninja\", \"component 0\": 2.276885337667576, \"component 1\": -2.5332017705506225}, {\"name\": \"Simcoe Pale Ale - Single Hop Series\", \"component 0\": -1.0715704862314948, \"component 1\": -0.17934969339944057}, {\"name\": \"Simcoe Sensation Session Ale\", \"component 0\": 0.7977651921466918, \"component 1\": -1.2926904038224214}, {\"name\": \"Simcoe Silly Ale\", \"component 0\": 1.1261562911487968, \"component 1\": -0.2536985045398252}, {\"name\": \"Simcoe Single Hop IPA\", \"component 0\": 0.7977651921466918, \"component 1\": -1.2926904038224214}, {\"name\": \"Simcoe SIPA\", \"component 0\": 0.7977651921466918, \"component 1\": -1.2926904038224214}, {\"name\": \"Simcoe Triangles\", \"component 0\": 0.7977651921466918, \"component 1\": -1.2926904038224214}, {\"name\": \"Simmer Down\", \"component 0\": -2.570020523764774, \"component 1\": -0.06986716482668646}, {\"name\": \"Simmer Down Brown\", \"component 0\": -0.21579036158618245, \"component 1\": 1.1051617666066806}, {\"name\": \"Simmons Island Imperial Blonde\", \"component 0\": -1.7958718999882755, \"component 1\": -0.3168542809014389}, {\"name\": \"Simpel\", \"component 0\": -1.429076350418711, \"component 1\": -0.08328799245390109}, {\"name\": \"Simple Cycle\", \"component 0\": 0.7977651921466918, \"component 1\": -1.2926904038224214}, {\"name\": \"Simple Life\", \"component 0\": -0.889611607760833, \"component 1\": -0.3243080943003819}, {\"name\": \"Simple Means\", \"component 0\": -0.8550173490464535, \"component 1\": -1.380480312921566}, {\"name\": \"Simtra 3x IPA\", \"component 0\": 2.276885337667576, \"component 1\": -2.5332017705506225}, {\"name\": \"Sin City IPA\", \"component 0\": 0.7977651921466918, \"component 1\": -1.2926904038224214}, {\"name\": \"Sin Eater\", \"component 0\": 1.7786257306016078, \"component 1\": 0.8240963364362089}, {\"name\": \"Sin Mint Temptress\", \"component 0\": 3.8320408578465814, \"component 1\": 2.006078887014931}, {\"name\": \"Sin-Bin Belgian Pale\", \"component 0\": -1.429076350418711, \"component 1\": -0.08328799245390109}, {\"name\": \"Sinebrychoff Porter\", \"component 0\": 1.9503979514287368, \"component 1\": 1.9718116390337133}, {\"name\": \"SINFUL STOUT\", \"component 0\": 0.14604237883643884, \"component 1\": 3.445862746014915}, {\"name\": \"Singapore IPA\", \"component 0\": 0.7977651921466918, \"component 1\": -1.2926904038224214}, {\"name\": \"Singel\", \"component 0\": -0.9803855756063737, \"component 1\": 0.1059384539082724}, {\"name\": \"Singha Light\", \"component 0\": -2.9234132233483385, \"component 1\": 0.07382503440661979}, {\"name\": \"Single Batch - Belgian Style Saison Ale\", \"component 0\": -0.889611607760833, \"component 1\": -0.3243080943003819}, {\"name\": \"Single Batch - Double India Pale Ale\", \"component 0\": 2.276885337667576, \"component 1\": -2.5332017705506225}, {\"name\": \"Single Blonde\", \"component 0\": -1.7958718999882755, \"component 1\": -0.3168542809014389}, {\"name\": \"Single Chair Ale\", \"component 0\": -1.7958718999882755, \"component 1\": -0.3168542809014389}, {\"name\": \"Single Fin\", \"component 0\": -0.9803855756063737, \"component 1\": 0.1059384539082724}, {\"name\": \"Single Hop Amarillo\", \"component 0\": 0.7977651921466918, \"component 1\": -1.2926904038224214}, {\"name\": \"Single Hop Amarillo IPA\", \"component 0\": 0.7977651921466918, \"component 1\": -1.2926904038224214}, {\"name\": \"Single Hop APA (CTZ)\", \"component 0\": -1.0715704862314948, \"component 1\": -0.17934969339944057}, {\"name\": \"Single Hop Big Daddy - Azacca IPA\", \"component 0\": 0.7977651921466918, \"component 1\": -1.2926904038224214}, {\"name\": \"Single Hop Big Daddy - Citra IPA\", \"component 0\": 0.7977651921466918, \"component 1\": -1.2926904038224214}, {\"name\": \"Single Hop Citra\", \"component 0\": 2.276885337667576, \"component 1\": -2.5332017705506225}, {\"name\": \"Single Hop Citra IPL\", \"component 0\": -2.723402126687143, \"component 1\": 0.39525513649760435}, {\"name\": \"Single Hop Galaxy\", \"component 0\": 0.7977651921466918, \"component 1\": -1.2926904038224214}, {\"name\": \"Single Hop HBC-291\", \"component 0\": 2.276885337667576, \"component 1\": -2.5332017705506225}, {\"name\": \"English Dark Mild\", \"component 0\": -2.2162322087901996, \"component 1\": 1.6519241394987343}, {\"name\": \"English IPA\", \"component 0\": 0.17240276390482404, \"component 1\": -1.2763108334435451}, {\"name\": \"English Northern Ale\", \"component 0\": -1.2427481055900917, \"component 1\": 0.9375182579236649}, {\"name\": \"English Nut Brown\", \"component 0\": -1.2427481055900917, \"component 1\": 0.9375182579236649}, {\"name\": \"English Old Ale w/gingerbread spices\", \"component 0\": 2.0565899908320766, \"component 1\": 0.3396648454545555}, {\"name\": \"English Pale\", \"component 0\": -1.3126475922307228, \"component 1\": -0.23084156023002272}, {\"name\": \"English Pale Ale\", \"component 0\": -1.3126475922307228, \"component 1\": -0.23084156023002272}, {\"name\": \"English Six Grain Ale\", \"component 0\": -1.3126475922307228, \"component 1\": -0.23084156023002272}, {\"name\": \"English Special Bitter Ale\", \"component 0\": -0.5928925179600867, \"component 1\": 0.2416921663601462}, {\"name\": \"English Style Ale\", \"component 0\": -1.3126475922307228, \"component 1\": -0.23084156023002272}, {\"name\": \"English Style India Pale Ale\", \"component 0\": 0.17240276390482404, \"component 1\": -1.2763108334435451}, {\"name\": \"English Style Summer Ale\", \"component 0\": -2.101135991047534, \"component 1\": 0.2970282215684862}, {\"name\": \"English Summer Ale\", \"component 0\": -2.101135991047534, \"component 1\": 0.2970282215684862}, {\"name\": \"English-Style Ale\", \"component 0\": -2.2001531411792032, \"component 1\": 1.090016474884812}, {\"name\": \"English-Style Barley Wine Ale\", \"component 0\": 3.573245139837401, \"component 1\": 1.047416013000053}, {\"name\": \"English-Style Old Ale\", \"component 0\": 2.0565899908320766, \"component 1\": 0.3396648454545555}, {\"name\": \"Englishman\", \"component 0\": -1.2427481055900917, \"component 1\": 0.9375182579236649}, {\"name\": \"Enigma\", \"component 0\": -1.4087956275174818, \"component 1\": 0.270231695164711}, {\"name\": \"Enjoy After 07.04.16\", \"component 0\": 2.276885337667576, \"component 1\": -2.5332017705506225}, {\"name\": \"Enjoy After 10.31.15\", \"component 0\": 2.276885337667576, \"component 1\": -2.5332017705506225}, {\"name\": \"Enjoy By 02.14.16 Black IPA\", \"component 0\": 2.276885337667576, \"component 1\": -2.5332017705506225}, {\"name\": \"Enjoy By 02.14.16 Unfiltered\", \"component 0\": 0.7977651921466918, \"component 1\": -1.2926904038224214}, {\"name\": \"Enjoy By 02.14.17 Chocolate & Coffee IPA\", \"component 0\": 0.7977651921466918, \"component 1\": -1.2926904038224214}, {\"name\": \"Enjoy By 07.04.15 IPA\", \"component 0\": 0.7977651921466918, \"component 1\": -1.2926904038224214}, {\"name\": \"Enjoy By 07.04.16\", \"component 0\": 2.276885337667576, \"component 1\": -2.5332017705506225}, {\"name\": \"Enjoy By 07.04.17 Unfiltered IPA\", \"component 0\": 2.276885337667576, \"component 1\": -2.5332017705506225}, {\"name\": \"Enjoy By 07.04.19 Unfiltered IPA\", \"component 0\": 2.276885337667576, \"component 1\": -2.5332017705506225}, {\"name\": \"Enjoy By 07.25.16 Tangerine IPA\", \"component 0\": 0.7977651921466918, \"component 1\": -1.2926904038224214}, {\"name\": \"Enjoy By 09.04.17 Unfiltered IPA\", \"component 0\": 2.276885337667576, \"component 1\": -2.5332017705506225}, {\"name\": \"Enjoy By 09.05.16 Unfiltered IPA\", \"component 0\": 2.276885337667576, \"component 1\": -2.5332017705506225}, {\"name\": \"Enjoy By 10.31.15\", \"component 0\": 0.7977651921466918, \"component 1\": -1.2926904038224214}, {\"name\": \"Enjoy By 10.31.16 Tangerine IPA\", \"component 0\": 2.276885337667576, \"component 1\": -2.5332017705506225}, {\"name\": \"Enjoy By 12.25.15 IPA\", \"component 0\": 2.276885337667576, \"component 1\": -2.5332017705506225}, {\"name\": \"Enjoy By 12.25.16 Unfiltered IPA\", \"component 0\": 2.276885337667576, \"component 1\": -2.5332017705506225}, {\"name\": \"Enjoy By 12.25.17 Unfiltered IPA\", \"component 0\": 2.276885337667576, \"component 1\": -2.5332017705506225}, {\"name\": \"Enjoy by 4.20.16\", \"component 0\": 0.7977651921466918, \"component 1\": -1.2926904038224214}, {\"name\": \"Enjoy By 5.30.16 Tangerine IPA\", \"component 0\": 2.276885337667576, \"component 1\": -2.5332017705506225}, {\"name\": \"Enjoy By IPA 02.14.14\", \"component 0\": 2.276885337667576, \"component 1\": -2.5332017705506225}, {\"name\": \"Enjoy By IPA 02.14.15\", \"component 0\": 2.276885337667576, \"component 1\": -2.5332017705506225}, {\"name\": \"Enjoy By IPA 02.15.13\", \"component 0\": 2.276885337667576, \"component 1\": -2.5332017705506225}, {\"name\": \"Enjoy By IPA 04.01.13\", \"component 0\": 2.276885337667576, \"component 1\": -2.5332017705506225}, {\"name\": \"Enjoy By IPA 04.20.15\", \"component 0\": 0.7977651921466918, \"component 1\": -1.2926904038224214}, {\"name\": \"Enjoy By IPA 07.04.14\", \"component 0\": 2.276885337667576, \"component 1\": -2.5332017705506225}, {\"name\": \"Enjoy By IPA 10.31.14\", \"component 0\": 0.7977651921466918, \"component 1\": -1.2926904038224214}, {\"name\": \"Enjoy By IPA 12.26.14\", \"component 0\": 2.276885337667576, \"component 1\": -2.5332017705506225}, {\"name\": \"Enjoy By IPA 3.14.15\", \"component 0\": 2.276885337667576, \"component 1\": -2.5332017705506225}, {\"name\": \"Enjoy By IPA 5.17.13\", \"component 0\": 2.276885337667576, \"component 1\": -2.5332017705506225}, {\"name\": \"Enkel\", \"component 0\": -1.1030969737846155, \"component 1\": 2.947282273920805}, {\"name\": \"Tectonic Event\", \"component 0\": 2.276885337667576, \"component 1\": -2.5332017705506225}, {\"name\": \"Teddy Bear Kisses\", \"component 0\": 4.471184299528401, \"component 1\": 1.9068723166791817}, {\"name\": \"Teddy Roosevelt American Badass\", \"component 0\": 2.276885337667576, \"component 1\": -2.5332017705506225}, {\"name\": \"Teeny Tiny Test Batch IPA\", \"component 0\": 0.7977651921466918, \"component 1\": -1.2926904038224214}, {\"name\": \"Teikoku IPA\", \"component 0\": 0.7977651921466918, \"component 1\": -1.2926904038224214}, {\"name\": \"Tejas Clara\", \"component 0\": -3.3511190230612335, \"component 1\": -0.193895500628686}, {\"name\": \"Tejas Lager\", \"component 0\": -0.6920169760821689, \"component 1\": -0.17652668415232833}, {\"name\": \"Tejas Negra\", \"component 0\": -0.6920169760821689, \"component 1\": -0.17652668415232833}, {\"name\": \"Telephone Lines\", \"component 0\": -0.6920169760821689, \"component 1\": -0.17652668415232833}, {\"name\": \"Telesto\", \"component 0\": 0.7977651921466918, \"component 1\": -1.2926904038224214}, {\"name\": \"Tell Shaky And Boxcar Joe\", \"component 0\": 2.276885337667576, \"component 1\": -2.5332017705506225}, {\"name\": \"Tell Tale Heart IPA\", \"component 0\": 0.7977651921466918, \"component 1\": -1.2926904038224214}, {\"name\": \"Tell Tale Red\", \"component 0\": -0.3004331387642417, \"component 1\": 0.5446878915675295}, {\"name\": \"Tempelier\", \"component 0\": -1.429076350418711, \"component 1\": -0.08328799245390109}, {\"name\": \"Tempest\", \"component 0\": 1.7786257306016078, \"component 1\": 0.8240963364362089}, {\"name\": \"Tempest Coffee Porter\", \"component 0\": -0.7210215427841452, \"component 1\": 1.659663623178681}, {\"name\": \"Temple Br\\u00e4u\", \"component 0\": -0.6425402870396948, \"component 1\": -0.11216408392485198}, {\"name\": \"Temple of Stone IPA\", \"component 0\": 0.7977651921466918, \"component 1\": -1.2926904038224214}, {\"name\": \"Templeton\", \"component 0\": -2.107574840873011, \"component 1\": -0.6382705663844058}, {\"name\": \"Templeton Red\", \"component 0\": -1.429178346709751, \"component 1\": 1.5130440619651886}, {\"name\": \"Temporal Purgatory\", \"component 0\": 0.7977651921466918, \"component 1\": -1.2926904038224214}, {\"name\": \"Temporary Insanity\", \"component 0\": 4.471184299528401, \"component 1\": 1.9068723166791817}, {\"name\": \"Temptress\", \"component 0\": -0.9803855756063737, \"component 1\": 0.1059384539082724}, {\"name\": \"TEN Anniversary Ale - Dry-hopped Barleywine\", \"component 0\": 4.310580491951616, \"component 1\": -0.8944296294638283}, {\"name\": \"Ten Bitter Years\", \"component 0\": 2.276885337667576, \"component 1\": -2.5332017705506225}, {\"name\": \"Ten FIDY\", \"component 0\": 4.471184299528401, \"component 1\": 1.9068723166791817}, {\"name\": \"Ten Hills Pale Ale\", \"component 0\": -1.0715704862314948, \"component 1\": -0.17934969339944057}, {\"name\": \"Ten Minutes of Pleasure\", \"component 0\": -3.774585143410996, \"component 1\": -0.2551442776251495}, {\"name\": \"Ten Penny Ale\", \"component 0\": -1.7843583213603107, \"component 1\": 1.1258847652125772}, {\"name\": \"Ten Penny American Bitter\", \"component 0\": -1.0715704862314948, \"component 1\": -0.17934969339944057}, {\"name\": \"Ten Pin Porter\", \"component 0\": 0.06473924836588163, \"component 1\": 1.6226358507232133}, {\"name\": \"Ten Pound Test\", \"component 0\": 0.7977651921466918, \"component 1\": -1.2926904038224214}, {\"name\": \"Ten Tickles\", \"component 0\": 0.7977651921466918, \"component 1\": -1.2926904038224214}, {\"name\": \"Ten Years Alt\", \"component 0\": -0.8550173490464535, \"component 1\": -1.380480312921566}, {\"name\": \"Tenacity\", \"component 0\": 0.7977651921466918, \"component 1\": -1.2926904038224214}, {\"name\": \"Tenaya Creek Craft Pilsner\", \"component 0\": -0.6330631098612627, \"component 1\": -0.30884238608084963}, {\"name\": \"Tenaya Creek Oktoberfest\", \"component 0\": -0.6406495193409999, \"component 1\": 0.9147001240260422}, {\"name\": \"Tenebris\", \"component 0\": 4.3086571483671285, \"component 1\": -1.1056016047104917}, {\"name\": \"Tenebris Aged in Bourbon Barrels\", \"component 0\": 4.3086571483671285, \"component 1\": -1.1056016047104917}, {\"name\": \"Tenebris Aged in Cognac Barrels\", \"component 0\": 4.3086571483671285, \"component 1\": -1.1056016047104917}, {\"name\": \"Tenebris Aged in Port Barrels\", \"component 0\": 4.3086571483671285, \"component 1\": -1.1056016047104917}, {\"name\": \"Tenebris Aged in Tequila Barrels\", \"component 0\": 4.3086571483671285, \"component 1\": -1.1056016047104917}, {\"name\": \"Fisherman's Homeport Pale Ale\", \"component 0\": -1.0715704862314948, \"component 1\": -0.17934969339944057}, {\"name\": \"Fisherman's Honey Pilsner\", \"component 0\": -1.9932893985754985, \"component 1\": 0.27846481817211216}, {\"name\": \"Fisherman's IPA\", \"component 0\": 0.7977651921466918, \"component 1\": -1.2926904038224214}, {\"name\": \"Fisherman's NAVIGATOR\", \"component 0\": 0.621126492516488, \"component 1\": 1.681537411039195}, {\"name\": \"Fisherman's Pils\", \"component 0\": -0.6330631098612627, \"component 1\": -0.30884238608084963}, {\"name\": \"Fisherman's Pumpkin Stout\", \"component 0\": 1.4371918397872945, \"component 1\": 1.9735984206123742}, {\"name\": \"Fisherman's Rock Porter\", \"component 0\": -0.7210215427841452, \"component 1\": 1.659663623178681}, {\"name\": \"Fisherman's Sunrise Saison\", \"component 0\": -0.889611607760833, \"component 1\": -0.3243080943003819}, {\"name\": \"Fisherman's Tea Party\", \"component 0\": 4.3086571483671285, \"component 1\": -1.1056016047104917}, {\"name\": \"Fishin' In The Dark\", \"component 0\": -0.6308386822057129, \"component 1\": 1.8062768147174162}, {\"name\": \"Fishoid Family DDH Hazy IPA\", \"component 0\": 0.7977651921466918, \"component 1\": -1.2926904038224214}, {\"name\": \"Fishwater Double IPA\", \"component 0\": 2.276885337667576, \"component 1\": -2.5332017705506225}, {\"name\": \"Fist City\", \"component 0\": -1.0715704862314948, \"component 1\": -0.17934969339944057}, {\"name\": \"Fistful of Cake\", \"component 0\": 0.14604237883643884, \"component 1\": 3.445862746014915}, {\"name\": \"Fistful of Hops\", \"component 0\": -1.0715704862314948, \"component 1\": -0.17934969339944057}, {\"name\": \"Fistful of Hops - Orange\", \"component 0\": 0.7977651921466918, \"component 1\": -1.2926904038224214}, {\"name\": \"Fisticuffs\", \"component 0\": 4.310580491951616, \"component 1\": -0.8944296294638283}, {\"name\": \"Fisticuffs IPA\", \"component 0\": 0.7977651921466918, \"component 1\": -1.2926904038224214}, {\"name\": \"Fistmas Ale\", \"component 0\": -0.3004331387642417, \"component 1\": 0.5446878915675295}, {\"name\": \"Five\", \"component 0\": -0.889611607760833, \"component 1\": -0.3243080943003819}, {\"name\": \"Five AM Red Ale\", \"component 0\": -0.3004331387642417, \"component 1\": 0.5446878915675295}, {\"name\": \"Five Bridge Bitter\", \"component 0\": -2.5680971801802865, \"component 1\": 0.1413048104199756}, {\"name\": \"Five Fin\", \"component 0\": -0.6920169760821689, \"component 1\": -0.17652668415232833}, {\"name\": \"Five Hop - Experimental IPA\", \"component 0\": 0.7977651921466918, \"component 1\": -1.2926904038224214}, {\"name\": \"Five Mile\", \"component 0\": -1.0715704862314948, \"component 1\": -0.17934969339944057}, {\"name\": \"Five n Dime\", \"component 0\": -1.0715704862314948, \"component 1\": -0.17934969339944057}, {\"name\": \"Five O'Clock Shadow\", \"component 0\": 0.7977651921466918, \"component 1\": -1.2926904038224214}, {\"name\": \"Five Points IPA\", \"component 0\": 0.7977651921466918, \"component 1\": -1.2926904038224214}, {\"name\": \"Five-0\", \"component 0\": 0.20915617830745648, \"component 1\": -1.3403881994806957}, {\"name\": \"FivePine Porter\", \"component 0\": 0.06473924836588163, \"component 1\": 1.6226358507232133}, {\"name\": \"Fix 1864 Spezial\", \"component 0\": -2.723402126687143, \"component 1\": 0.39525513649760435}, {\"name\": \"FIX Dark\", \"component 0\": 1.795007239945916, \"component 1\": 1.478266342571855}, {\"name\": \"FIX Hellas\", \"component 0\": -2.723402126687143, \"component 1\": 0.39525513649760435}, {\"name\": \"Fix Royale\", \"component 0\": -1.6807142766364571, \"component 1\": 0.6669115860166044}, {\"name\": \"Fixed Gear\", \"component 0\": -1.1173861962116771, \"component 1\": -0.20478040430246067}, {\"name\": \"Fizzy Good, Make Feel Nice\", \"component 0\": 3.8320408578465814, \"component 1\": 2.006078887014931}, {\"name\": \"Flack Briday Imperial Stout\", \"component 0\": 4.471184299528401, \"component 1\": 1.9068723166791817}, {\"name\": \"Flag Stop Milepost 1\", \"component 0\": -0.9803855756063737, \"component 1\": 0.1059384539082724}, {\"name\": \"Flagraiser IPA\", \"component 0\": 0.7977651921466918, \"component 1\": -1.2926904038224214}, {\"name\": \"Flagship\", \"component 0\": -2.471866427339535, \"component 1\": -0.7272831125902498}, {\"name\": \"Flagship India Pale Ale\", \"component 0\": 0.7977651921466918, \"component 1\": -1.2926904038224214}, {\"name\": \"Flagship IPA\", \"component 0\": 0.7977651921466918, \"component 1\": -1.2926904038224214}, {\"name\": \"FLAle Ale\", \"component 0\": -1.0715704862314948, \"component 1\": -0.17934969339944057}, {\"name\": \"Flamberge\", \"component 0\": -0.872311760395272, \"component 1\": 2.027501304950462}, {\"name\": \"Miami Weiss\", \"component 0\": -1.6371016827226015, \"component 1\": 0.06120407737554239}, {\"name\": \"MIAOU\", \"component 0\": -2.412082370276882, \"component 1\": -0.27052487640678885}, {\"name\": \"Micanopy Moonbeam\", \"component 0\": 0.20915617830745648, \"component 1\": -1.3403881994806957}, {\"name\": \"Michael Faricy\\u2019s Irish Stout\", \"component 0\": -0.24943886743180332, \"component 1\": 1.3917349986799414}, {\"name\": \"Michael J. Bocks\", \"component 0\": -0.02559351072874966, \"component 1\": -0.33264556383177085}, {\"name\": \"Michael Shea's Irish Amber\", \"component 0\": -1.429178346709751, \"component 1\": 1.5130440619651886}, {\"name\": \"Michelob AmberBock\", \"component 0\": -2.020915892181228, \"component 1\": 0.5534985132129379}, {\"name\": \"Michelob Black & Tan\", \"component 0\": -2.020915892181228, \"component 1\": 0.5534985132129379}, {\"name\": \"Michelob Ginger Wheat\", \"component 0\": -2.410159026692394, \"component 1\": -0.0593529011601269}, {\"name\": \"Michelob Golden Draft\", \"component 0\": -2.020915892181228, \"component 1\": 0.5534985132129379}, {\"name\": \"Michelob Golden Draft Light\", \"component 0\": -4.192653575909671, \"component 1\": 0.5661376940085597}, {\"name\": \"Michelob Honey Lager\", \"component 0\": -2.020915892181228, \"component 1\": 0.5534985132129379}, {\"name\": \"Michelob Irish Red\", \"component 0\": -1.429178346709751, \"component 1\": 1.5130440619651886}, {\"name\": \"Michelob Light\", \"component 0\": -3.3511190230612335, \"component 1\": -0.193895500628686}, {\"name\": \"Michelob Original Lager\", \"component 0\": -2.020915892181228, \"component 1\": 0.5534985132129379}, {\"name\": \"Michelob Pale Ale\", \"component 0\": -1.3126475922307228, \"component 1\": -0.23084156023002272}, {\"name\": \"Michelob Porter\", \"component 0\": -0.7210215427841452, \"component 1\": 1.659663623178681}, {\"name\": \"Michelob Ultra\", \"component 0\": -2.020915892181228, \"component 1\": 0.5534985132129379}, {\"name\": \"Michelob Ultra Amber\", \"component 0\": -2.020915892181228, \"component 1\": 0.5534985132129379}, {\"name\": \"Michelob Ultra Lime Cactus\", \"component 0\": -4.1907302323251825, \"component 1\": 0.7773096692552217}, {\"name\": \"Michelob Ultra Pure Gold\", \"component 0\": -3.3511190230612335, \"component 1\": -0.193895500628686}, {\"name\": \"Michigan Awesome Hatter\", \"component 0\": -1.0715704862314948, \"component 1\": -0.17934969339944057}, {\"name\": \"Michigan Hatter\", \"component 0\": 0.7977651921466918, \"component 1\": -1.2926904038224214}, {\"name\": \"Michigan Nut Brown Ale\", \"component 0\": -0.21579036158618245, \"component 1\": 1.1051617666066806}, {\"name\": \"Michigan Wheat Ale\", \"component 0\": -1.6371016827226015, \"component 1\": 0.06120407737554239}, {\"name\": \"Michigantuan\", \"component 0\": 2.276885337667576, \"component 1\": -2.5332017705506225}, {\"name\": \"Michigunder\", \"component 0\": -1.2483116438016675, \"component 1\": -0.07299153821776852}, {\"name\": \"Michilimackinac Line 5 Stout\", \"component 0\": 1.9503979514287368, \"component 1\": 1.9718116390337133}, {\"name\": \"Mick\", \"component 0\": -3.774585143410996, \"component 1\": -0.2551442776251495}, {\"name\": \"Mickey's\", \"component 0\": -1.7511375767726212, \"component 1\": -0.5441787661664728}, {\"name\": \"Mickey's Ice\", \"component 0\": -3.3511190230612335, \"component 1\": -0.193895500628686}, {\"name\": \"Mid Coast IPA\", \"component 0\": 0.7977651921466918, \"component 1\": -1.2926904038224214}, {\"name\": \"Mid Mountain Mild Ale\", \"component 0\": -2.773680519583299, \"component 1\": 0.6915299824829414}, {\"name\": \"Mid Winter India Pale Ale\", \"component 0\": 0.7977651921466918, \"component 1\": -1.2926904038224214}, {\"name\": \"Middle Ages Apricot Ale\", \"component 0\": 1.4318251696093767, \"component 1\": 1.821917333829712}, {\"name\": \"Middle Man - SC\", \"component 0\": 0.7977651921466918, \"component 1\": -1.2926904038224214}, {\"name\": \"Middle Out\", \"component 0\": -0.6425402870396948, \"component 1\": -0.11216408392485198}, {\"name\": \"Midnight Ale\", \"component 0\": 1.795007239945916, \"component 1\": 1.478266342571855}, {\"name\": \"Midnight Crossing\", \"component 0\": 1.795007239945916, \"component 1\": 1.478266342571855}, {\"name\": \"Midnight Cut\", \"component 0\": 0.06473924836588163, \"component 1\": 1.6226358507232133}, {\"name\": \"Midnight Expression\", \"component 0\": -0.6308386822057129, \"component 1\": 1.8062768147174162}, {\"name\": \"Midnight Flight\", \"component 0\": 4.471184299528401, \"component 1\": 1.9068723166791817}, {\"name\": \"Frosty Goggles\", \"component 0\": -1.0715704862314948, \"component 1\": -0.17934969339944057}, {\"name\": \"Frosty Knuckle Seas Spray IPA\", \"component 0\": 0.7977651921466918, \"component 1\": -1.2926904038224214}, {\"name\": \"Froth of Khan\", \"component 0\": -0.21579036158618245, \"component 1\": 1.1051617666066806}, {\"name\": \"Frou Frou\", \"component 0\": 0.7977651921466918, \"component 1\": -1.2926904038224214}, {\"name\": \"Frozen Goat\", \"component 0\": 1.5176754048627803, \"component 1\": 2.0975682141548804}, {\"name\": \"Frucht: Boysenberry\", \"component 0\": -3.774585143410996, \"component 1\": -0.2551442776251495}, {\"name\": \"Frucht: Passion Fruit\", \"component 0\": -3.774585143410996, \"component 1\": -0.2551442776251495}, {\"name\": \"Frucht: Peach\", \"component 0\": -3.774585143410996, \"component 1\": -0.2551442776251495}, {\"name\": \"Frucht: Pineapple, Prickly Pear & Dragon Fruit\", \"component 0\": -3.774585143410996, \"component 1\": -0.2551442776251495}, {\"name\": \"Fr\\u00fch K\\u00f6lsch\", \"component 0\": -2.107574840873011, \"component 1\": -0.6382705663844058}, {\"name\": \"Fr\\u00fch Radler\", \"component 0\": 1.4318251696093767, \"component 1\": 1.821917333829712}, {\"name\": \"Fruhauf\", \"component 0\": -0.48155911553306935, \"component 1\": -0.9497467493853}, {\"name\": \"Fruhbock\", \"component 0\": 1.2932210843801841, \"component 1\": 1.8370065144401517}, {\"name\": \"Fruhlingsbier\", \"component 0\": -1.2483116438016675, \"component 1\": -0.07299153821776852}, {\"name\": \"Fruit Fight NE IPA\", \"component 0\": 0.7977651921466918, \"component 1\": -1.2926904038224214}, {\"name\": \"Fruit-Full Fort\", \"component 0\": 3.029340662999709, \"component 1\": -0.16304983703932402}, {\"name\": \"Fruitesse\", \"component 0\": 1.4318251696093767, \"component 1\": 1.821917333829712}, {\"name\": \"Fruitful Life Citrus IPA\", \"component 0\": 0.7977651921466918, \"component 1\": -1.2926904038224214}, {\"name\": \"Fruition\", \"component 0\": -1.970529240956362, \"component 1\": 0.0012470917859071836}, {\"name\": \"Fruitsmack\", \"component 0\": 0.7977651921466918, \"component 1\": -1.2926904038224214}, {\"name\": \"Fruittanomyces\", \"component 0\": -2.412082370276882, \"component 1\": -0.27052487640678885}, {\"name\": \"Fr\\u00fct\", \"component 0\": -3.774585143410996, \"component 1\": -0.2551442776251495}, {\"name\": \"Fr\\u00fct Br\\u00fct\", \"component 0\": 0.7977651921466918, \"component 1\": -1.2926904038224214}, {\"name\": \"Frye's Leap IPA\", \"component 0\": 0.7977651921466918, \"component 1\": -1.2926904038224214}, {\"name\": \"FSB\", \"component 0\": 4.471184299528401, \"component 1\": 1.9068723166791817}, {\"name\": \"Fu Manbrew\", \"component 0\": -2.412082370276882, \"component 1\": -0.27052487640678885}, {\"name\": \"Fubark\", \"component 0\": 4.471184299528401, \"component 1\": 1.9068723166791817}, {\"name\": \"Fuck Art - This Is Hygge\", \"component 0\": -0.889611607760833, \"component 1\": -0.3243080943003819}, {\"name\": \"Fuck Art Let's Dance!\", \"component 0\": 0.33268642427243234, \"component 1\": -0.6176905080436438}, {\"name\": \"Fuck Art This Is Architecture\", \"component 0\": -0.889611607760833, \"component 1\": -0.3243080943003819}, {\"name\": \"Fudge Ripple Tripel\", \"component 0\": 0.33268642427243234, \"component 1\": -0.6176905080436438}, {\"name\": \"Fudgesicle\", \"component 0\": 4.471184299528401, \"component 1\": 1.9068723166791817}, {\"name\": \"Fudgie the Beer\", \"component 0\": 1.9503979514287368, \"component 1\": 1.9718116390337133}, {\"name\": \"Fuego del Otono\", \"component 0\": -0.3004331387642417, \"component 1\": 0.5446878915675295}, {\"name\": \"Fuel Cafe\", \"component 0\": -1.1154628526271892, \"component 1\": 0.006391570944201265}, {\"name\": \"Fugee\", \"component 0\": -0.21579036158618245, \"component 1\": 1.1051617666066806}, {\"name\": \"Belgo\", \"component 0\": -1.429076350418711, \"component 1\": -0.08328799245390109}, {\"name\": \"Belgo Anise Imperial Russian Stout\", \"component 0\": 4.471184299528401, \"component 1\": 1.9068723166791817}, {\"name\": \"Belgo Hoptologist DIPA\", \"component 0\": 2.276885337667576, \"component 1\": -2.5332017705506225}, {\"name\": \"Belgo Sutra\", \"component 0\": 1.7786257306016078, \"component 1\": 0.8240963364362089}, {\"name\": \"Belgoo Arbo\", \"component 0\": -0.3004331387642417, \"component 1\": 0.5446878915675295}, {\"name\": \"Belgoo Luppo\", \"component 0\": -1.7958718999882755, \"component 1\": -0.3168542809014389}, {\"name\": \"Belgorado\", \"component 0\": -1.429076350418711, \"component 1\": -0.08328799245390109}, {\"name\": \"Believer Double Red Ale\", \"component 0\": -1.429178346709751, \"component 1\": 1.5130440619651886}, {\"name\": \"Beligique du Noire\", \"component 0\": 1.7786257306016078, \"component 1\": 0.8240963364362089}, {\"name\": \"Belikin Beer\", \"component 0\": -2.9234132233483385, \"component 1\": 0.07382503440661979}, {\"name\": \"Beljoe\", \"component 0\": 1.1261562911487968, \"component 1\": -0.2536985045398252}, {\"name\": \"Bell Ringer Ale\", \"component 0\": -1.0715704862314948, \"component 1\": -0.17934969339944057}, {\"name\": \"Bell's Lager Beer (Lager Of The Lakes)\", \"component 0\": -2.020915892181228, \"component 1\": 0.5534985132129379}, {\"name\": \"Bella\", \"component 0\": -0.9803855756063737, \"component 1\": 0.1059384539082724}, {\"name\": \"Bella Ciao\", \"component 0\": -0.889611607760833, \"component 1\": -0.3243080943003819}, {\"name\": \"Bella Vigna Tripel\", \"component 0\": 0.33268642427243234, \"component 1\": -0.6176905080436438}, {\"name\": \"Bellaire Brown\", \"component 0\": -0.21579036158618245, \"component 1\": 1.1051617666066806}, {\"name\": \"Belle\", \"component 0\": 0.20915617830745648, \"component 1\": -1.3403881994806957}, {\"name\": \"Belle Fermi\\u00e8re\", \"component 0\": -0.889611607760833, \"component 1\": -0.3243080943003819}, {\"name\": \"Belle Gunness Stout\", \"component 0\": 1.9503979514287368, \"component 1\": 1.9718116390337133}, {\"name\": \"Belle Starr\", \"component 0\": 0.35340917655464865, \"component 1\": 1.2962648171575692}, {\"name\": \"Belle Wringer\", \"component 0\": -2.412082370276882, \"component 1\": -0.27052487640678885}, {\"name\": \"Bellrinnger\", \"component 0\": -1.3126475922307228, \"component 1\": -0.23084156023002272}, {\"name\": \"Belly Flop\", \"component 0\": -1.7958718999882755, \"component 1\": -0.3168542809014389}, {\"name\": \"Belly Itch'N Brown\", \"component 0\": -1.2427481055900917, \"component 1\": 0.9375182579236649}, {\"name\": \"Belly Up Blonde Ale\", \"component 0\": -1.7958718999882755, \"component 1\": -0.3168542809014389}, {\"name\": \"Bellyslide Wit\", \"component 0\": -2.412082370276882, \"component 1\": -0.27052487640678885}, {\"name\": \"Belma Pale Ale\", \"component 0\": -1.0715704862314948, \"component 1\": -0.17934969339944057}, {\"name\": \"Below Decks\", \"component 0\": 4.3086571483671285, \"component 1\": -1.1056016047104917}, {\"name\": \"Belt & Suspenders\", \"component 0\": 0.7977651921466918, \"component 1\": -1.2926904038224214}, {\"name\": \"Beltaine Scottish Ale\", \"component 0\": 1.4881601370364892, \"component 1\": 2.151475123928629}, {\"name\": \"Belux\", \"component 0\": -1.429076350418711, \"component 1\": -0.08328799245390109}, {\"name\": \"Belzebuth\", \"component 0\": -0.9803855756063737, \"component 1\": 0.1059384539082724}, {\"name\": \"Ben & Jerry's Salted Caramel Brownie\", \"component 0\": -0.21579036158618245, \"component 1\": 1.1051617666066806}, {\"name\": \"Ben & Jerry\\u2019s Chocolate Chip Cookie Dough Ale\", \"component 0\": -1.7958718999882755, \"component 1\": -0.3168542809014389}, {\"name\": \"Ben Light\", \"component 0\": -0.6920169760821689, \"component 1\": -0.17652668415232833}, {\"name\": \"Benard, Belgian Dubbel\", \"component 0\": 0.35340917655464865, \"component 1\": 1.2962648171575692}, {\"name\": \"Bench Life\", \"component 0\": -3.3511190230612335, \"component 1\": -0.193895500628686}, {\"name\": \"Bench Weiss\", \"component 0\": -1.4189372776346867, \"component 1\": 1.6837006900247216}, {\"name\": \"Bender\", \"component 0\": -0.21579036158618245, \"component 1\": 1.1051617666066806}, {\"name\": \"BendTheKnee\", \"component 0\": -1.6351783391381136, \"component 1\": 0.27237605262220443}, {\"name\": \"Benediction\", \"component 0\": 0.35340917655464865, \"component 1\": 1.2962648171575692}, {\"name\": \"Benediktiner Dunkel Weissbier\", \"component 0\": -1.4189372776346867, \"component 1\": 1.6837006900247216}, {\"name\": \"Benediktiner Hell\", \"component 0\": -1.785731792266487, \"component 1\": -0.3509452672219862}, {\"name\": \"Winter Warmer Barley Wine\", \"component 0\": 4.3086571483671285, \"component 1\": -1.1056016047104917}, {\"name\": \"Winter Warmer Gratitude\", \"component 0\": 1.4279409845948867, \"component 1\": 1.8601816282595298}, {\"name\": \"Winter Welcome\", \"component 0\": 2.0565899908320766, \"component 1\": 0.3396648454545555}, {\"name\": \"Winter Wheat\", \"component 0\": -1.4189372776346867, \"component 1\": 1.6837006900247216}, {\"name\": \"Winter Wheat Doppelbock\", \"component 0\": 0.6230498361009761, \"component 1\": 1.892709386285857}, {\"name\": \"Winter White Ale\", \"component 0\": -2.412082370276882, \"component 1\": -0.27052487640678885}, {\"name\": \"Winter Wisdom Hazelnut Brown Ale\", \"component 0\": -0.21579036158618245, \"component 1\": 1.1051617666066806}, {\"name\": \"Winter Witbier\", \"component 0\": -2.412082370276882, \"component 1\": -0.27052487640678885}, {\"name\": \"Winter YuleSmith\", \"component 0\": 3.194589824646642, \"component 1\": -2.5586372237379003}, {\"name\": \"Winter's Bite\", \"component 0\": 1.795007239945916, \"component 1\": 1.478266342571855}, {\"name\": \"Winter's Bracer Imperial Stout\", \"component 0\": 4.471184299528401, \"component 1\": 1.9068723166791817}, {\"name\": \"WinterBock\", \"component 0\": 1.2932210843801841, \"component 1\": 1.8370065144401517}, {\"name\": \"Winterbraun\", \"component 0\": -1.2427481055900917, \"component 1\": 0.9375182579236649}, {\"name\": \"Winterbrewed\", \"component 0\": 1.1547027081755126, \"component 1\": -0.10568547640558036}, {\"name\": \"Winterfest\", \"component 0\": 2.0565899908320766, \"component 1\": 0.3396648454545555}, {\"name\": \"Winterfish Organic Seasonal Ale\", \"component 0\": -1.0715704862314948, \"component 1\": -0.17934969339944057}, {\"name\": \"Winterhook Robust Winter Ale\", \"component 0\": -0.21579036158618245, \"component 1\": 1.1051617666066806}, {\"name\": \"Winterizer\", \"component 0\": 1.4279409845948867, \"component 1\": 1.8601816282595298}, {\"name\": \"Winterland\", \"component 0\": 1.4279409845948867, \"component 1\": 1.8601816282595298}, {\"name\": \"Winterlude\", \"component 0\": 0.33268642427243234, \"component 1\": -0.6176905080436438}, {\"name\": \"Winters Pale\", \"component 0\": -1.0715704862314948, \"component 1\": -0.17934969339944057}, {\"name\": \"Winterthur Wheat\", \"component 0\": -1.6371016827226015, \"component 1\": 0.06120407737554239}, {\"name\": \"Wintertime Ale\", \"component 0\": -0.21579036158618245, \"component 1\": 1.1051617666066806}, {\"name\": \"Wintervention\", \"component 0\": 1.4279409845948867, \"component 1\": 1.8601816282595298}, {\"name\": \"Wintervrund\", \"component 0\": 1.7786257306016078, \"component 1\": 0.8240963364362089}, {\"name\": \"Wipeout\", \"component 0\": 0.7977651921466918, \"component 1\": -1.2926904038224214}, {\"name\": \"Wire Cutter Hoppy Scotch Ale\", \"component 0\": 1.4881601370364892, \"component 1\": 2.151475123928629}, {\"name\": \"Wireglass Wheat\", \"component 0\": -3.774585143410996, \"component 1\": -0.2551442776251495}, {\"name\": \"Wireless IPA\", \"component 0\": 0.7977651921466918, \"component 1\": -1.2926904038224214}, {\"name\": \"Wisco Disco\", \"component 0\": -0.3004331387642417, \"component 1\": 0.5446878915675295}, {\"name\": \"WISCoast Wheat\", \"component 0\": -1.6351783391381136, \"component 1\": 0.27237605262220443}, {\"name\": \"Wisconsin Amber\", \"component 0\": -0.6425402870396948, \"component 1\": -0.11216408392485198}, {\"name\": \"Wisconsin Red Pale Ale\", \"component 0\": -1.0715704862314948, \"component 1\": -0.17934969339944057}, {\"name\": \"Wisconsinite\", \"component 0\": -3.774585143410996, \"component 1\": -0.2551442776251495}, {\"name\": \"WisconZin IPA\", \"component 0\": 0.7977651921466918, \"component 1\": -1.2926904038224214}, {\"name\": \"Wisdom IPA\", \"component 0\": 0.7977651921466918, \"component 1\": -1.2926904038224214}, {\"name\": \"Wisdom Seeker Double IPA\", \"component 0\": 2.276885337667576, \"component 1\": -2.5332017705506225}, {\"name\": \"Wise And Gray\", \"component 0\": 0.7977651921466918, \"component 1\": -1.2926904038224214}, {\"name\": \"Wise Cracker Wit\", \"component 0\": -2.412082370276882, \"component 1\": -0.27052487640678885}, {\"name\": \"Moscow\", \"component 0\": 4.471184299528401, \"component 1\": 1.9068723166791817}, {\"name\": \"Moscow Mule\", \"component 0\": 1.4318251696093767, \"component 1\": 1.821917333829712}, {\"name\": \"Moses and the Misfits\", \"component 0\": -2.471866427339535, \"component 1\": -0.7272831125902498}, {\"name\": \"Mosh Pit Tart Ale\", \"component 0\": 1.4318251696093767, \"component 1\": 1.821917333829712}, {\"name\": \"Mosquito Pass Citra IPA\", \"component 0\": 0.7977651921466918, \"component 1\": -1.2926904038224214}, {\"name\": \"Mosquito's Revenge Pale Ale\", \"component 0\": -1.0715704862314948, \"component 1\": -0.17934969339944057}, {\"name\": \"Most Beer Judges are Boneheads\", \"component 0\": -0.6920169760821689, \"component 1\": -0.17652668415232833}, {\"name\": \"Most Mobbed Double Ipa\", \"component 0\": 2.276885337667576, \"component 1\": -2.5332017705506225}, {\"name\": \"Most Premium\", \"component 0\": 4.471184299528401, \"component 1\": 1.9068723166791817}, {\"name\": \"Mostly Cloudy\", \"component 0\": -2.412082370276882, \"component 1\": -0.27052487640678885}, {\"name\": \"Mostly Harmless\", \"component 0\": -2.107574840873011, \"component 1\": -0.6382705663844058}, {\"name\": \"Mother Ale\", \"component 0\": -1.7958718999882755, \"component 1\": -0.3168542809014389}, {\"name\": \"Mother Earth Cali Creamin'\", \"component 0\": -2.471866427339535, \"component 1\": -0.7272831125902498}, {\"name\": \"Mother Fuggle\\u2122\", \"component 0\": -0.21579036158618245, \"component 1\": 1.1051617666066806}, {\"name\": \"Mother Gose\", \"component 0\": -2.0186717880951717, \"component 1\": 1.5124107494151244}, {\"name\": \"Mother Grundy Porter\", \"component 0\": 0.06473924836588163, \"component 1\": 1.6226358507232133}, {\"name\": \"Mother Handsome\", \"component 0\": 2.276885337667576, \"component 1\": -2.5332017705506225}, {\"name\": \"Mother Hopper\", \"component 0\": 2.276885337667576, \"component 1\": -2.5332017705506225}, {\"name\": \"Mother Lager\", \"component 0\": -2.723402126687143, \"component 1\": 0.39525513649760435}, {\"name\": \"Mother Lode Golden Ale\", \"component 0\": -1.7958718999882755, \"component 1\": -0.3168542809014389}, {\"name\": \"Mother of Dreadnaught\", \"component 0\": 2.276885337667576, \"component 1\": -2.5332017705506225}, {\"name\": \"Mother of Human Kindness M.O.H.K\", \"component 0\": 1.9503979514287368, \"component 1\": 1.9718116390337133}, {\"name\": \"Mother of the Gut\", \"component 0\": -1.429076350418711, \"component 1\": -0.08328799245390109}, {\"name\": \"Mother Shucher Oyster Stout\", \"component 0\": 3.8320408578465814, \"component 1\": 2.006078887014931}, {\"name\": \"Mother Trucker\", \"component 0\": -1.0715704862314948, \"component 1\": -0.17934969339944057}, {\"name\": \"Mother's Beach Blonde\", \"component 0\": -1.785731792266487, \"component 1\": -0.3509452672219862}, {\"name\": \"Mother's Doozy!\", \"component 0\": 2.276885337667576, \"component 1\": -2.5332017705506225}, {\"name\": \"Mother's Milk\", \"component 0\": 0.14604237883643884, \"component 1\": 3.445862746014915}, {\"name\": \"Motherland\", \"component 0\": 4.471184299528401, \"component 1\": 1.9068723166791817}, {\"name\": \"Motherland Barley Wine\", \"component 0\": 3.573245139837401, \"component 1\": 1.047416013000053}, {\"name\": \"Mothership Cream Ale\", \"component 0\": -2.471866427339535, \"component 1\": -0.7272831125902498}, {\"name\": \"Mothership Wit\", \"component 0\": -2.412082370276882, \"component 1\": -0.27052487640678885}, {\"name\": \"Mother\\u2019s Milk\", \"component 0\": 0.14604237883643884, \"component 1\": 3.445862746014915}, {\"name\": \"Mothman Black IPA\", \"component 0\": 0.7977651921466918, \"component 1\": -1.2926904038224214}, {\"name\": \"Motorcycle Oil\", \"component 0\": -0.7210215427841452, \"component 1\": 1.659663623178681}, {\"name\": \"Motte & Bailey\", \"component 0\": -2.4579816586441425, \"component 1\": 1.1372195852685383}, {\"name\": \"Mottzenbock\", \"component 0\": 1.5176754048627803, \"component 1\": 2.0975682141548804}, {\"name\": \"Motueka Hennepin\", \"component 0\": -0.889611607760833, \"component 1\": -0.3243080943003819}, {\"name\": \"Motueka IPA\", \"component 0\": 0.7977651921466918, \"component 1\": -1.2926904038224214}, {\"name\": \"Motueka K\\u00f6lsch\", \"component 0\": -2.107574840873011, \"component 1\": -0.6382705663844058}, {\"name\": \"Mound Builder IPA\", \"component 0\": 0.7977651921466918, \"component 1\": -1.2926904038224214}, {\"name\": \"Mount Joy Light\", \"component 0\": -3.3511190230612335, \"component 1\": -0.193895500628686}, {\"name\": \"Mount Remarkable\", \"component 0\": -2.723402126687143, \"component 1\": 0.39525513649760435}, {\"name\": \"Mount Stoutmore\", \"component 0\": 4.471184299528401, \"component 1\": 1.9068723166791817}, {\"name\": \"Mount Washington Resort: Amber Ale\", \"component 0\": -0.2985097951797537, \"component 1\": 0.7558598668141915}, {\"name\": \"Galaxy High\", \"component 0\": 2.276885337667576, \"component 1\": -2.5332017705506225}, {\"name\": \"Galaxy Hopped Barleywine\", \"component 0\": 4.3086571483671285, \"component 1\": -1.1056016047104917}, {\"name\": \"Galaxy Imperial\", \"component 0\": 2.276885337667576, \"component 1\": -2.5332017705506225}, {\"name\": \"Galaxy India Pale Ale\", \"component 0\": 0.7977651921466918, \"component 1\": -1.2926904038224214}, {\"name\": \"Galaxy Slayer\", \"component 0\": 2.278808681252064, \"component 1\": -2.32202979530396}, {\"name\": \"Galaxy Unicorn\", \"component 0\": 2.276885337667576, \"component 1\": -2.5332017705506225}, {\"name\": \"Galaxy-Hero IPA\", \"component 0\": 0.7977651921466918, \"component 1\": -1.2926904038224214}, {\"name\": \"Gale Force IPA\", \"component 0\": 0.7977651921466918, \"component 1\": -1.2926904038224214}, {\"name\": \"Galena Gold Amber\", \"component 0\": -0.3004331387642417, \"component 1\": 0.5446878915675295}, {\"name\": \"Galena Golden\", \"component 0\": -2.107574840873011, \"component 1\": -0.6382705663844058}, {\"name\": \"Galena Single Hop IPA\", \"component 0\": 0.7977651921466918, \"component 1\": -1.2926904038224214}, {\"name\": \"Gallatin Pale Ale\", \"component 0\": -1.0715704862314948, \"component 1\": -0.17934969339944057}, {\"name\": \"Galleon's Golden Ale\", \"component 0\": -1.7958718999882755, \"component 1\": -0.3168542809014389}, {\"name\": \"Gallinipper\", \"component 0\": 4.3086571483671285, \"component 1\": -1.1056016047104917}, {\"name\": \"Galloway Porter\", \"component 0\": -0.7210215427841452, \"component 1\": 1.659663623178681}, {\"name\": \"Gallows Point Dead Man's Porter\", \"component 0\": 0.06473924836588163, \"component 1\": 1.6226358507232133}, {\"name\": \"Gallus 612 - Old Style Ale\", \"component 0\": 2.0585133344165643, \"component 1\": 0.5508368207012172}, {\"name\": \"Galosha Raptor\", \"component 0\": -1.0715704862314948, \"component 1\": -0.17934969339944057}, {\"name\": \"Galway Hooker\", \"component 0\": -1.07397413164133, \"component 1\": -0.574733447798631}, {\"name\": \"Gambrinus\", \"component 0\": -0.6697576354657384, \"component 1\": 1.6568133588074998}, {\"name\": \"Game Changer Ale\", \"component 0\": -1.0715704862314948, \"component 1\": -0.17934969339944057}, {\"name\": \"Game of Arms\", \"component 0\": 3.10625182428805, \"component 1\": 2.122813230723401}, {\"name\": \"Game Of Jones\", \"component 0\": 0.14604237883643884, \"component 1\": 3.445862746014915}, {\"name\": \"Game of Thrones - Mother of Dragons\", \"component 0\": -0.3314302766195452, \"component 1\": 0.3726068426479757}, {\"name\": \"Game of Thrones \\u2013 Take the Black Stout\", \"component 0\": 1.7786257306016078, \"component 1\": 0.8240963364362089}, {\"name\": \"Game of Thrones: Fire and Blood\", \"component 0\": -0.3004331387642417, \"component 1\": 0.5446878915675295}, {\"name\": \"Game of Thrones: Hand of the Queen\", \"component 0\": 4.3086571483671285, \"component 1\": -1.1056016047104917}, {\"name\": \"Game of Thrones: Iron Throne\", \"component 0\": -0.9803855756063737, \"component 1\": 0.1059384539082724}, {\"name\": \"Game of Thrones: King In the North\", \"component 0\": 4.471184299528401, \"component 1\": 1.9068723166791817}, {\"name\": \"Game of Thrones: Seven Kingdoms\", \"component 0\": -2.412082370276882, \"component 1\": -0.27052487640678885}, {\"name\": \"Game of Thrones: Three-Eyed Raven\", \"component 0\": -0.889611607760833, \"component 1\": -0.3243080943003819}, {\"name\": \"Game of Thrones: Valar Morghulis\", \"component 0\": 0.35340917655464865, \"component 1\": 1.2962648171575692}, {\"name\": \"Game of Thrones: Winter Is Here\", \"component 0\": -2.412082370276882, \"component 1\": -0.27052487640678885}, {\"name\": \"Game On\", \"component 0\": 0.7977651921466918, \"component 1\": -1.2926904038224214}, {\"name\": \"Game Over Man\", \"component 0\": -2.107574840873011, \"component 1\": -0.6382705663844058}, {\"name\": \"Game Winner\", \"component 0\": 0.7977651921466918, \"component 1\": -1.2926904038224214}, {\"name\": \"Gamma Bomb\", \"component 0\": 0.7977651921466918, \"component 1\": -1.2926904038224214}, {\"name\": \"Gamma Ray\", \"component 0\": 3.9319343481207905, \"component 1\": 0.2959698264279392}, {\"name\": \"Gamma, Gamma Ray!\", \"component 0\": 0.20915617830745648, \"component 1\": -1.3403881994806957}, {\"name\": \"GAMMA-RAY GINGER WHEAT\", \"component 0\": -1.6371016827226015, \"component 1\": 0.06120407737554239}, {\"name\": \"GammaDeluxe\", \"component 0\": 0.7977651921466918, \"component 1\": -1.2926904038224214}, {\"name\": \"Gandhi-Bot\", \"component 0\": 2.276885337667576, \"component 1\": -2.5332017705506225}, {\"name\": \"Gandy Dancer\", \"component 0\": -0.7210215427841452, \"component 1\": 1.659663623178681}, {\"name\": \"Ganeshale\", \"component 0\": 2.243937109279094, \"component 1\": -0.21646391943938292}, {\"name\": \"Gang of Blades\", \"component 0\": 2.276885337667576, \"component 1\": -2.5332017705506225}, {\"name\": \"Gangster\", \"component 0\": -1.7958718999882755, \"component 1\": -0.3168542809014389}, {\"name\": \"Bairn Farmhouse\", \"component 0\": -1.429076350418711, \"component 1\": -0.08328799245390109}, {\"name\": \"Bait And Click\", \"component 0\": 0.7977651921466918, \"component 1\": -1.2926904038224214}, {\"name\": \"Baja\", \"component 0\": -0.46597140527983505, \"component 1\": 1.531735443471864}, {\"name\": \"Baked\", \"component 0\": 1.4371918397872945, \"component 1\": 1.9735984206123742}, {\"name\": \"Baked Goods\", \"component 0\": -1.0715704862314948, \"component 1\": -0.17934969339944057}, {\"name\": \"Baked Oatmeal Stout\", \"component 0\": -0.46597140527983505, \"component 1\": 1.531735443471864}, {\"name\": \"Baked Pumpkin Ale\", \"component 0\": 1.4371918397872945, \"component 1\": 1.9735984206123742}, {\"name\": \"Bakery: Banana Bread\", \"component 0\": 4.471184299528401, \"component 1\": 1.9068723166791817}, {\"name\": \"Bakke Hill Black Lager\", \"component 0\": -0.6308386822057129, \"component 1\": 1.8062768147174162}, {\"name\": \"Bal Home Alone\", \"component 0\": 0.14604237883643884, \"component 1\": 3.445862746014915}, {\"name\": \"Balashi\", \"component 0\": -1.9447691607380753, \"component 1\": -1.0453401185874989}, {\"name\": \"Bald Eagle Brown Ale\", \"component 0\": -0.21579036158618245, \"component 1\": 1.1051617666066806}, {\"name\": \"Bald Mountain Bock\", \"component 0\": 1.2932210843801841, \"component 1\": 1.8370065144401517}, {\"name\": \"Bald Win Tree\", \"component 0\": 1.4279409845948867, \"component 1\": 1.8601816282595298}, {\"name\": \"Baldwin Porter\", \"component 0\": 0.06473924836588163, \"component 1\": 1.6226358507232133}, {\"name\": \"Ball Lightning\", \"component 0\": -1.9932893985754985, \"component 1\": 0.27846481817211216}, {\"name\": \"Ballantine Ale\", \"component 0\": -1.0715704862314948, \"component 1\": -0.17934969339944057}, {\"name\": \"Ballast Point Red Velvet Cake\", \"component 0\": 1.4068815877681506, \"component 1\": 2.455110088495271}, {\"name\": \"Balling The Queen\", \"component 0\": 2.278808681252064, \"component 1\": -2.32202979530396}, {\"name\": \"Ballistic Blonde\", \"component 0\": -0.9803855756063737, \"component 1\": 0.1059384539082724}, {\"name\": \"Ballyhoo\", \"component 0\": -1.6807142766364571, \"component 1\": 0.6669115860166044}, {\"name\": \"Ballz Deep Double IPA\", \"component 0\": 2.276885337667576, \"component 1\": -2.5332017705506225}, {\"name\": \"Balmain Bock\", \"component 0\": 1.2932210843801841, \"component 1\": 1.8370065144401517}, {\"name\": \"Balmain Pale Ale\", \"component 0\": -1.4766810299454385, \"component 1\": -1.2910580084234327}, {\"name\": \"Balmain Pilsner\", \"component 0\": -0.6330631098612627, \"component 1\": -0.30884238608084963}, {\"name\": \"Balt Altbier\", \"component 0\": -0.8550173490464535, \"component 1\": -1.380480312921566}, {\"name\": \"Baltallica\", \"component 0\": 2.4523636496160335, \"component 1\": 2.8527512836273043}, {\"name\": \"Balter IPA\", \"component 0\": 0.7977651921466918, \"component 1\": -1.2926904038224214}, {\"name\": \"Baltic 10\", \"component 0\": -2.723402126687143, \"component 1\": 0.39525513649760435}, {\"name\": \"Baltic 11\", \"component 0\": -0.6425402870396948, \"component 1\": -0.11216408392485198}, {\"name\": \"Baltic 12\", \"component 0\": -2.020915892181228, \"component 1\": 0.5534985132129379}, {\"name\": \"Baltic Argonaut \\u2013 Baltic Porter\", \"component 0\": 2.4542869932005216, \"component 1\": 3.063923258873966}, {\"name\": \"Baltic Porter\", \"component 0\": 2.4523636496160335, \"component 1\": 2.8527512836273043}, {\"name\": \"Baltic Style Porter Lager\", \"component 0\": 2.4523636496160335, \"component 1\": 2.8527512836273043}, {\"name\": \"Baltic Sunrise\", \"component 0\": 3.10625182428805, \"component 1\": 2.122813230723401}, {\"name\": \"Baltic Thunder\", \"component 0\": 2.4523636496160335, \"component 1\": 2.8527512836273043}, {\"name\": \"Baltic Tripel\", \"component 0\": 0.33268642427243234, \"component 1\": -0.6176905080436438}, {\"name\": \"Crockett Setter Porter\", \"component 0\": 0.06473924836588163, \"component 1\": 1.6226358507232133}, {\"name\": \"Croggy Brett Saison\", \"component 0\": -0.889611607760833, \"component 1\": -0.3243080943003819}, {\"name\": \"Crooked Coast Altbier\", \"component 0\": -0.8550173490464535, \"component 1\": -1.380480312921566}, {\"name\": \"Crooked Cream Ale\", \"component 0\": -2.471866427339535, \"component 1\": -0.7272831125902498}, {\"name\": \"Crooked Creek Wet Hop Ale\", \"component 0\": -1.0715704862314948, \"component 1\": -0.17934969339944057}, {\"name\": \"Crooked Door\", \"component 0\": -0.3004331387642417, \"component 1\": 0.5446878915675295}, {\"name\": \"Crooked Moon Tattoo\", \"component 0\": 2.276885337667576, \"component 1\": -2.5332017705506225}, {\"name\": \"Crooked Road Cream Ale\", \"component 0\": -2.4699430837550476, \"component 1\": -0.5161111373435883}, {\"name\": \"Crooked Stave IPA\", \"component 0\": 0.7977651921466918, \"component 1\": -1.2926904038224214}, {\"name\": \"Crooked Tree IPA\", \"component 0\": 0.7977651921466918, \"component 1\": -1.2926904038224214}, {\"name\": \"Crop Formation\", \"component 0\": -2.412082370276882, \"component 1\": -0.27052487640678885}, {\"name\": \"Crop Weizen Ale\", \"component 0\": -1.6371016827226015, \"component 1\": 0.06120407737554239}, {\"name\": \"Cross Czech Pils\", \"component 0\": -0.6330631098612627, \"component 1\": -0.30884238608084963}, {\"name\": \"Cross Eyed Jack\", \"component 0\": 1.4371918397872945, \"component 1\": 1.9735984206123742}, {\"name\": \"Cross Fever Amber Ale\", \"component 0\": -0.3004331387642417, \"component 1\": 0.5446878915675295}, {\"name\": \"Cross Hare\", \"component 0\": 2.276885337667576, \"component 1\": -2.5332017705506225}, {\"name\": \"Cross Knot Kolsch\", \"component 0\": -2.107574840873011, \"component 1\": -0.6382705663844058}, {\"name\": \"Cross of Gold\", \"component 0\": -1.7958718999882755, \"component 1\": -0.3168542809014389}, {\"name\": \"Cross Quarter Days (Barrel Aged)\", \"component 0\": 3.8320408578465814, \"component 1\": 2.006078887014931}, {\"name\": \"Cross-Section IPA\", \"component 0\": 0.7977651921466918, \"component 1\": -1.2926904038224214}, {\"name\": \"CrossBones\", \"component 0\": -2.570020523764774, \"component 1\": -0.06986716482668646}, {\"name\": \"Crosscut Pale Ale\", \"component 0\": -1.0715704862314948, \"component 1\": -0.17934969339944057}, {\"name\": \"Crosscut Pilsner\", \"component 0\": -1.9447691607380753, \"component 1\": -1.0453401185874989}, {\"name\": \"Crossed Irons\", \"component 0\": -1.429178346709751, \"component 1\": 1.5130440619651886}, {\"name\": \"Crossfade\", \"component 0\": -0.889611607760833, \"component 1\": -0.3243080943003819}, {\"name\": \"Crosstown Wheat\", \"component 0\": -1.6371016827226015, \"component 1\": 0.06120407737554239}, {\"name\": \"Crosswind Pale Ale\", \"component 0\": -1.0715704862314948, \"component 1\": -0.17934969339944057}, {\"name\": \"Crouching Cougar\", \"component 0\": 4.3086571483671285, \"component 1\": -1.1056016047104917}, {\"name\": \"Crow Foot Wheat Stout\", \"component 0\": 1.9523212950132247, \"component 1\": 2.182983614280376}, {\"name\": \"Crowbar\", \"component 0\": 0.7977651921466918, \"component 1\": -1.2926904038224214}, {\"name\": \"Crowd Control\", \"component 0\": 2.276885337667576, \"component 1\": -2.5332017705506225}, {\"name\": \"Crowdpleaser IPA\", \"component 0\": 0.7977651921466918, \"component 1\": -1.2926904038224214}, {\"name\": \"Crowdsurf In A Rubber Dinghy\", \"component 0\": -0.889611607760833, \"component 1\": -0.3243080943003819}, {\"name\": \"Crown Blonde\", \"component 0\": -1.7958718999882755, \"component 1\": -0.3168542809014389}, {\"name\": \"Crown Blue\", \"component 0\": 1.4318251696093767, \"component 1\": 1.821917333829712}, {\"name\": \"Crown Brown\", \"component 0\": -0.21579036158618245, \"component 1\": 1.1051617666066806}, {\"name\": \"Crown Jewels IPA\", \"component 0\": 0.7977651921466918, \"component 1\": -1.2926904038224214}, {\"name\": \"Croydon Cream Ale\", \"component 0\": -2.471866427339535, \"component 1\": -0.7272831125902498}, {\"name\": \"Cru Ale\", \"component 0\": 2.0565899908320766, \"component 1\": 0.3396648454545555}, {\"name\": \"Crucial Taunt\", \"component 0\": 2.276885337667576, \"component 1\": -2.5332017705506225}, {\"name\": \"Cruise Night\", \"component 0\": -2.101135991047534, \"component 1\": 0.2970282215684862}, {\"name\": \"Cruiser\", \"component 0\": 0.7977651921466918, \"component 1\": -1.2926904038224214}, {\"name\": \"Cruisin for a Brewsin\", \"component 0\": 1.1261562911487968, \"component 1\": -0.2536985045398252}, {\"name\": \"Crumpler Crippler Citra 2XIPA\", \"component 0\": 0.7977651921466918, \"component 1\": -1.2926904038224214}, {\"name\": \"Crunkle Sam\", \"component 0\": 4.3086571483671285, \"component 1\": -1.1056016047104917}, {\"name\": \"Vedett Extra Ordinary IPA\", \"component 0\": 0.7977651921466918, \"component 1\": -1.2926904038224214}, {\"name\": \"Vehopciraptor\", \"component 0\": 2.276885337667576, \"component 1\": -2.5332017705506225}, {\"name\": \"Veldrijden Love\", \"component 0\": -0.889611607760833, \"component 1\": -0.3243080943003819}, {\"name\": \"Velen\", \"component 0\": -1.6371016827226015, \"component 1\": 0.06120407737554239}, {\"name\": \"Velocity IPA\", \"component 0\": 0.7977651921466918, \"component 1\": -1.2926904038224214}, {\"name\": \"Velocity of Light\", \"component 0\": 0.20915617830745648, \"component 1\": -1.3403881994806957}, {\"name\": \"Velohoptor\", \"component 0\": 2.276885337667576, \"component 1\": -2.5332017705506225}, {\"name\": \"Veltins Pilsener\", \"component 0\": -1.9447691607380753, \"component 1\": -1.0453401185874989}, {\"name\": \"Velvet Cashmere\", \"component 0\": -1.0715704862314948, \"component 1\": -0.17934969339944057}, {\"name\": \"Velvet Fog\", \"component 0\": 1.7786257306016078, \"component 1\": 0.8240963364362089}, {\"name\": \"Velvet Glove\", \"component 0\": 1.9503979514287368, \"component 1\": 1.9718116390337133}, {\"name\": \"Velvet Hammer\", \"component 0\": 3.194589824646642, \"component 1\": -2.5586372237379003}, {\"name\": \"Velvet Hustle\", \"component 0\": -1.0715704862314948, \"component 1\": -0.17934969339944057}, {\"name\": \"Velvet Magnum\", \"component 0\": 4.471184299528401, \"component 1\": 1.9068723166791817}, {\"name\": \"Velvet Merkin\", \"component 0\": -0.46597140527983505, \"component 1\": 1.531735443471864}, {\"name\": \"Velvet Merlin\", \"component 0\": -0.46597140527983505, \"component 1\": 1.531735443471864}, {\"name\": \"Velvet Mocha Merlin\", \"component 0\": -0.46597140527983505, \"component 1\": 1.531735443471864}, {\"name\": \"Velvet Revolver\", \"component 0\": 1.796930583530404, \"component 1\": 1.689438317818517}, {\"name\": \"Velvet Rooster\", \"component 0\": 0.33268642427243234, \"component 1\": -0.6176905080436438}, {\"name\": \"Velvet Yeti\", \"component 0\": 1.9503979514287368, \"component 1\": 1.9718116390337133}, {\"name\": \"Velveteen Habit\", \"component 0\": -1.0715704862314948, \"component 1\": -0.17934969339944057}, {\"name\": \"Velvets Are Blue\", \"component 0\": -0.889611607760833, \"component 1\": -0.3243080943003819}, {\"name\": \"Vendel Imperial Stout\", \"component 0\": 4.471184299528401, \"component 1\": 1.9068723166791817}, {\"name\": \"Vendetta\", \"component 0\": 0.7977651921466918, \"component 1\": -1.2926904038224214}, {\"name\": \"Venetucci Pumpkin Ale\", \"component 0\": 1.4279409845948867, \"component 1\": 1.8601816282595298}, {\"name\": \"Vengeful Spirit IPA\", \"component 0\": 0.7977651921466918, \"component 1\": -1.2926904038224214}, {\"name\": \"Venom\", \"component 0\": -1.0715704862314948, \"component 1\": -0.17934969339944057}, {\"name\": \"Venture Pils\", \"component 0\": -0.6920169760821689, \"component 1\": -0.17652668415232833}, {\"name\": \"Venture Series Belgian Golden Ale\", \"component 0\": -0.9803855756063737, \"component 1\": 0.1059384539082724}, {\"name\": \"Venture Series Maple Nutbrown\", \"component 0\": -0.21579036158618245, \"component 1\": 1.1051617666066806}, {\"name\": \"Venus Venom\", \"component 0\": 3.8320408578465814, \"component 1\": 2.006078887014931}, {\"name\": \"Vera\", \"component 0\": -2.471866427339535, \"component 1\": -0.7272831125902498}, {\"name\": \"Vera Mae\", \"component 0\": -0.889611607760833, \"component 1\": -0.3243080943003819}, {\"name\": \"Veranda\", \"component 0\": 0.06636047365381433, \"component 1\": 0.8688312913440562}, {\"name\": \"Verboten\", \"component 0\": -1.429076350418711, \"component 1\": -0.08328799245390109}, {\"name\": \"Verbum In Tenebris\", \"component 0\": 1.9503979514287368, \"component 1\": 1.9718116390337133}, {\"name\": \"Verdant Force\", \"component 0\": 2.276885337667576, \"component 1\": -2.5332017705506225}, {\"name\": \"Verdi\", \"component 0\": 4.471184299528401, \"component 1\": 1.9068723166791817}, {\"name\": \"Verdi Imperial Stout\", \"component 0\": 3.7221759974448183, \"component 1\": 2.5525620474386685}, {\"name\": \"Verich Gold\", \"component 0\": -2.107574840873011, \"component 1\": -0.6382705663844058}, {\"name\": \"Veridian IPA\", \"component 0\": 0.7977651921466918, \"component 1\": -1.2926904038224214}, {\"name\": \"Veritas 011\", \"component 0\": 4.3086571483671285, \"component 1\": -1.1056016047104917}, {\"name\": \"Vermilion Winter Ale\", \"component 0\": 4.3086571483671285, \"component 1\": -1.1056016047104917}, {\"name\": \"Wild Classic Saison\", \"component 0\": -0.889611607760833, \"component 1\": -0.3243080943003819}, {\"name\": \"Wild Devil\", \"component 0\": 0.7977651921466918, \"component 1\": -1.2926904038224214}, {\"name\": \"Wild Farmwell Wheat Unfiltered\", \"component 0\": -1.6371016827226015, \"component 1\": 0.06120407737554239}, {\"name\": \"Wild Fly Ale\", \"component 0\": -0.3004331387642417, \"component 1\": 0.5446878915675295}, {\"name\": \"Wild Forest\", \"component 0\": -1.6807142766364571, \"component 1\": 0.6669115860166044}, {\"name\": \"Wild Frog Wheat\", \"component 0\": -1.6807142766364571, \"component 1\": 0.6669115860166044}, {\"name\": \"Wild Mild Wheat\", \"component 0\": -1.891489955278801, \"component 1\": -0.028727353771294158}, {\"name\": \"Wild Night\", \"component 0\": -2.471866427339535, \"component 1\": -0.7272831125902498}, {\"name\": \"Wild Oats Stout\", \"component 0\": -0.46597140527983505, \"component 1\": 1.531735443471864}, {\"name\": \"Wild Pitch Hefe Weizen\", \"component 0\": -1.6807142766364571, \"component 1\": 0.6669115860166044}, {\"name\": \"Wild Plum Farmhouse Ale\", \"component 0\": 0.06636047365381433, \"component 1\": 0.8688312913440562}, {\"name\": \"Wild Poney Wheat\", \"component 0\": -1.6371016827226015, \"component 1\": 0.06120407737554239}, {\"name\": \"Wild Raspberry Ale\", \"component 0\": 1.4318251696093767, \"component 1\": 1.821917333829712}, {\"name\": \"Wild Raven\", \"component 0\": 0.7977651921466918, \"component 1\": -1.2926904038224214}, {\"name\": \"Wild Ride Wheat\", \"component 0\": -1.970529240956362, \"component 1\": 0.0012470917859071836}, {\"name\": \"Wild River\", \"component 0\": -2.773680519583299, \"component 1\": 0.6915299824829414}, {\"name\": \"Wild Saison\", \"component 0\": -0.889611607760833, \"component 1\": -0.3243080943003819}, {\"name\": \"Wild Sierra Mountain Farmhouse Ale\", \"component 0\": -0.889611607760833, \"component 1\": -0.3243080943003819}, {\"name\": \"Wild Sour Series: Blueberry Gose\", \"component 0\": -2.0186717880951717, \"component 1\": 1.5124107494151244}, {\"name\": \"Wild Sour Series: Flanders Red\", \"component 0\": -0.872311760395272, \"component 1\": 2.027501304950462}, {\"name\": \"Wild Sour Series: Here Gose Nothin'\", \"component 0\": -2.0186717880951717, \"component 1\": 1.5124107494151244}, {\"name\": \"Wild Sour Series: Lemon Weisse\", \"component 0\": -3.774585143410996, \"component 1\": -0.2551442776251495}, {\"name\": \"Wild Sour Series: Lynnbrook\", \"component 0\": -3.774585143410996, \"component 1\": -0.2551442776251495}, {\"name\": \"Wild Sour Series: Pi\\u00f1a Colada Gose\", \"component 0\": -2.0186717880951717, \"component 1\": 1.5124107494151244}, {\"name\": \"Wild Sour Series: Sour Cherry Stout\", \"component 0\": 1.9503979514287368, \"component 1\": 1.9718116390337133}, {\"name\": \"Wild Swan\", \"component 0\": -1.3126475922307228, \"component 1\": -0.23084156023002272}, {\"name\": \"Wild Trail Pale Ale\", \"component 0\": -1.0715704862314948, \"component 1\": -0.17934969339944057}, {\"name\": \"Wild Turkey Bourbon Barrel Aged\", \"component 0\": -0.46597140527983505, \"component 1\": 1.531735443471864}, {\"name\": \"Wild Wapiti Wheat\", \"component 0\": -1.6807142766364571, \"component 1\": 0.6669115860166044}, {\"name\": \"Wild Warrior\", \"component 0\": -1.0715704862314948, \"component 1\": -0.17934969339944057}, {\"name\": \"K\\u00fcsterer Munich Dunkel\", \"component 0\": -0.6697576354657384, \"component 1\": 1.6568133588074998}, {\"name\": \"K\\u00fcsterer Original Weissbier\", \"component 0\": -1.5756356349120824, \"component 1\": 0.772620339671436}, {\"name\": \"K\\u00fcsterer Salzburger M\\u00e4rzen\", \"component 0\": -0.6406495193409999, \"component 1\": 0.9147001240260422}, {\"name\": \"Kutztown Lager\", \"component 0\": -2.723402126687143, \"component 1\": 0.39525513649760435}, {\"name\": \"Kwingston's Kitty Cat-ina\", \"component 0\": -1.0715704862314948, \"component 1\": -0.17934969339944057}, {\"name\": \"L Stout\", \"component 0\": 3.8320408578465814, \"component 1\": 2.006078887014931}, {\"name\": \"L'Ambree\", \"component 0\": -0.2985097951797537, \"component 1\": 0.7558598668141915}, {\"name\": \"L'Angelus\", \"component 0\": 0.06636047365381433, \"component 1\": 0.8688312913440562}, {\"name\": \"L'Apiculteur\", \"component 0\": -0.889611607760833, \"component 1\": -0.3243080943003819}, {\"name\": \"L'Ballerine\", \"component 0\": 3.9319343481207905, \"component 1\": 0.2959698264279392}, {\"name\": \"l'Esquelbecoise\", \"component 0\": -2.410159026692394, \"component 1\": -0.0593529011601269}, {\"name\": \"L'Hazy Mango IPA\", \"component 0\": 0.7977651921466918, \"component 1\": -1.2926904038224214}, {\"name\": \"L-Town Brown\", \"component 0\": -0.21579036158618245, \"component 1\": 1.1051617666066806}, {\"name\": \"L.J. Lager\", \"component 0\": -2.723402126687143, \"component 1\": 0.39525513649760435}, {\"name\": \"L.S.D. Honey Ale\", \"component 0\": 1.4318251696093767, \"component 1\": 1.821917333829712}, {\"name\": \"L3 IPA\", \"component 0\": 0.7977651921466918, \"component 1\": -1.2926904038224214}, {\"name\": \"LA 31 Biere Noire\", \"component 0\": -0.6308386822057129, \"component 1\": 1.8062768147174162}, {\"name\": \"LA 31 Biere Pale\", \"component 0\": -1.07397413164133, \"component 1\": -0.574733447798631}, {\"name\": \"LA 31 Passionne\", \"component 0\": -1.970529240956362, \"component 1\": 0.0012470917859071836}, {\"name\": \"LA 31 Swamp Thing\", \"component 0\": 0.7977651921466918, \"component 1\": -1.2926904038224214}, {\"name\": \"La Barge\", \"component 0\": -1.0715704862314948, \"component 1\": -0.17934969339944057}, {\"name\": \"L\\u00e1 Bealtaine\", \"component 0\": -1.6371016827226015, \"component 1\": 0.06120407737554239}, {\"name\": \"La Belge\", \"component 0\": -0.9803855756063737, \"component 1\": 0.1059384539082724}, {\"name\": \"La Belle Ot\\u00e9ro\", \"component 0\": -0.889611607760833, \"component 1\": -0.3243080943003819}, {\"name\": \"La Belle Saison\", \"component 0\": -0.889611607760833, \"component 1\": -0.3243080943003819}, {\"name\": \"La Bestia Furiosa\", \"component 0\": 4.471184299528401, \"component 1\": 1.9068723166791817}, {\"name\": \"La Biere de Beloeil\", \"component 0\": -1.429076350418711, \"component 1\": -0.08328799245390109}, {\"name\": \"La Biobiere\", \"component 0\": -1.7939485564037876, \"component 1\": -0.1056823056547768}, {\"name\": \"La Blanche\", \"component 0\": -2.412082370276882, \"component 1\": -0.27052487640678885}, {\"name\": \"La Blonde\", \"component 0\": -1.7939485564037876, \"component 1\": -0.1056823056547768}, {\"name\": \"La Boheme\", \"component 0\": -0.6330631098612627, \"component 1\": -0.30884238608084963}, {\"name\": \"La Bolduc\", \"component 0\": -3.3511190230612335, \"component 1\": -0.193895500628686}, {\"name\": \"La Brea Brown\", \"component 0\": 0.35340917655464865, \"component 1\": 1.2962648171575692}, {\"name\": \"La Buteuse\", \"component 0\": -2.412082370276882, \"component 1\": -0.27052487640678885}, {\"name\": \"La Calavera Catrina\", \"component 0\": 0.33268642427243234, \"component 1\": -0.6176905080436438}, {\"name\": \"Hibiscus Saison\", \"component 0\": -0.889611607760833, \"component 1\": -0.3243080943003819}, {\"name\": \"Hibiscus Saison - Whimsical Series\", \"component 0\": -0.889611607760833, \"component 1\": -0.3243080943003819}, {\"name\": \"Hibiscus Wheat\", \"component 0\": -1.6371016827226015, \"component 1\": 0.06120407737554239}, {\"name\": \"Hibiscus Wit Beer\", \"component 0\": -2.412082370276882, \"component 1\": -0.27052487640678885}, {\"name\": \"Hibiscus Zinger\\u2122 - Botanical Ale\", \"component 0\": 1.4279409845948867, \"component 1\": 1.8601816282595298}, {\"name\": \"Hibiscuwit\", \"component 0\": -2.412082370276882, \"component 1\": -0.27052487640678885}, {\"name\": \"Hickory Stick Stout\", \"component 0\": 1.9503979514287368, \"component 1\": 1.9718116390337133}, {\"name\": \"Hickson Imperiale IPA\", \"component 0\": 3.029340662999709, \"component 1\": -0.16304983703932402}, {\"name\": \"Hickson IPA\", \"component 0\": 3.029340662999709, \"component 1\": -0.16304983703932402}, {\"name\": \"Hic\\u00fc\", \"component 0\": 1.4318251696093767, \"component 1\": 1.821917333829712}, {\"name\": \"Hidden Paradise (Raspberry)\", \"component 0\": -1.970529240956362, \"component 1\": 0.0012470917859071836}, {\"name\": \"Hide And Seek\", \"component 0\": -1.0715704862314948, \"component 1\": -0.17934969339944057}, {\"name\": \"Hide and Seek Hefeweizen\", \"component 0\": -1.6807142766364571, \"component 1\": 0.6669115860166044}, {\"name\": \"Hide the Despot\", \"component 0\": 4.471184299528401, \"component 1\": 1.9068723166791817}, {\"name\": \"HiFi+LoFi Mixtape -Stochasticity Project\", \"component 0\": 3.031264006584197, \"component 1\": 0.04812213820733795}, {\"name\": \"Higashino Farmhouse\", \"component 0\": -0.889611607760833, \"component 1\": -0.3243080943003819}, {\"name\": \"High & Dry Porter\", \"component 0\": 0.06473924836588163, \"component 1\": 1.6226358507232133}, {\"name\": \"High 5 Blended Barrel Aged Beer\", \"component 0\": 3.8320408578465814, \"component 1\": 2.006078887014931}, {\"name\": \"High Altitude Hellas\", \"component 0\": -0.6920169760821689, \"component 1\": -0.17652668415232833}, {\"name\": \"High Beams Double IPA\", \"component 0\": 2.276885337667576, \"component 1\": -2.5332017705506225}, {\"name\": \"High Brass\", \"component 0\": -1.0715704862314948, \"component 1\": -0.17934969339944057}, {\"name\": \"High Brow Barista\", \"component 0\": -1.0715704862314948, \"component 1\": -0.17934969339944057}, {\"name\": \"High Country Ale\", \"component 0\": -1.0715704862314948, \"component 1\": -0.17934969339944057}, {\"name\": \"High Desert Red\", \"component 0\": -0.3004331387642417, \"component 1\": 0.5446878915675295}, {\"name\": \"High Esteem\", \"component 0\": -1.7958718999882755, \"component 1\": -0.3168542809014389}, {\"name\": \"High Fidelity\", \"component 0\": -1.07397413164133, \"component 1\": -0.574733447798631}, {\"name\": \"High Five Hefe\", \"component 0\": -1.6807142766364571, \"component 1\": 0.6669115860166044}, {\"name\": \"High Grade Export\", \"component 0\": -0.6920169760821689, \"component 1\": -0.17652668415232833}, {\"name\": \"High Life Light\", \"component 0\": -3.3511190230612335, \"component 1\": -0.193895500628686}, {\"name\": \"High Living\", \"component 0\": 2.276885337667576, \"component 1\": -2.5332017705506225}, {\"name\": \"High Plains Drifter\", \"component 0\": 0.7977651921466918, \"component 1\": -1.2926904038224214}, {\"name\": \"High Plains Porter\", \"component 0\": -0.7210215427841452, \"component 1\": 1.659663623178681}, {\"name\": \"High Point Dunkel\", \"component 0\": -0.6697576354657384, \"component 1\": 1.6568133588074998}, {\"name\": \"High Road Everyday Ale\", \"component 0\": -1.7958718999882755, \"component 1\": -0.3168542809014389}, {\"name\": \"High Rock Red Ale\", \"component 0\": -0.3004331387642417, \"component 1\": 0.5446878915675295}, {\"name\": \"High Roller\", \"component 0\": -0.889611607760833, \"component 1\": -0.3243080943003819}, {\"name\": \"High Roller II\", \"component 0\": 0.7977651921466918, \"component 1\": -1.2926904038224214}, {\"name\": \"High Seas IPA\", \"component 0\": 0.7977651921466918, \"component 1\": -1.2926904038224214}, {\"name\": \"High Sierra FestivAle\", \"component 0\": -1.7958718999882755, \"component 1\": -0.3168542809014389}, {\"name\": \"High Stepper\", \"component 0\": 0.7977651921466918, \"component 1\": -1.2926904038224214}, {\"name\": \"High Striker Single\", \"component 0\": -1.429076350418711, \"component 1\": -0.08328799245390109}, {\"name\": \"High Tide\", \"component 0\": 0.7977651921466918, \"component 1\": -1.2926904038224214}, {\"name\": \"High West-ified Imperial Coffee Stout\", \"component 0\": 4.471184299528401, \"component 1\": 1.9068723166791817}, {\"name\": \"Something Different IPA\", \"component 0\": 0.7977651921466918, \"component 1\": -1.2926904038224214}, {\"name\": \"Something Hoppy This Way Comes\", \"component 0\": 2.276885337667576, \"component 1\": -2.5332017705506225}, {\"name\": \"Something New\", \"component 0\": -0.46597140527983505, \"component 1\": 1.531735443471864}, {\"name\": \"Something Stubborn\", \"component 0\": 2.276885337667576, \"component 1\": -2.5332017705506225}, {\"name\": \"Something Wild\", \"component 0\": -0.889611607760833, \"component 1\": -0.3243080943003819}, {\"name\": \"Somewhere I Belong\", \"component 0\": -0.7210215427841452, \"component 1\": 1.659663623178681}, {\"name\": \"Sommer Weiss\", \"component 0\": -1.6807142766364571, \"component 1\": 0.6669115860166044}, {\"name\": \"SommerBrau\", \"component 0\": -2.107574840873011, \"component 1\": -0.6382705663844058}, {\"name\": \"Sommerbr\\u00e4u - Thirty Beers Thirty Years\", \"component 0\": -2.107574840873011, \"component 1\": -0.6382705663844058}, {\"name\": \"Somner Hvede\", \"component 0\": -1.6371016827226015, \"component 1\": 0.06120407737554239}, {\"name\": \"Son of a Peach\", \"component 0\": -1.6371016827226015, \"component 1\": 0.06120407737554239}, {\"name\": \"Son of Berserker Stout\", \"component 0\": 3.7221759974448183, \"component 1\": 2.5525620474386685}, {\"name\": \"Son of Birdserker SIPA\", \"component 0\": -2.570020523764774, \"component 1\": -0.06986716482668646}, {\"name\": \"Son of Bitter 2 (SOB2)\", \"component 0\": 2.276885337667576, \"component 1\": -2.5332017705506225}, {\"name\": \"Son of Malice\", \"component 0\": 2.276885337667576, \"component 1\": -2.5332017705506225}, {\"name\": \"Son Of Wrath\", \"component 0\": 2.276885337667576, \"component 1\": -2.5332017705506225}, {\"name\": \"Song Girl\", \"component 0\": -1.7958718999882755, \"component 1\": -0.3168542809014389}, {\"name\": \"Sonia's\", \"component 0\": -0.9803855756063737, \"component 1\": 0.1059384539082724}, {\"name\": \"Sonic Boom\", \"component 0\": 0.17240276390482404, \"component 1\": -1.2763108334435451}, {\"name\": \"Sonic Boom Typhoon\", \"component 0\": 2.276885337667576, \"component 1\": -2.5332017705506225}, {\"name\": \"Sonic! IPA\", \"component 0\": 0.7977651921466918, \"component 1\": -1.2926904038224214}, {\"name\": \"Sonne\", \"component 0\": -3.774585143410996, \"component 1\": -0.2551442776251495}, {\"name\": \"Sonnet\", \"component 0\": -0.889611607760833, \"component 1\": -0.3243080943003819}, {\"name\": \"Sonoma Pride\", \"component 0\": 2.276885337667576, \"component 1\": -2.5332017705506225}, {\"name\": \"Sonorous\", \"component 0\": -2.101135991047534, \"component 1\": 0.2970282215684862}, {\"name\": \"Sons Of Ben: A Rowdy Style Ale\", \"component 0\": -0.9803855756063737, \"component 1\": 0.1059384539082724}, {\"name\": \"Sons Pilsner\", \"component 0\": -0.6920169760821689, \"component 1\": -0.17652668415232833}, {\"name\": \"Soon To Be Named\", \"component 0\": -0.7210215427841452, \"component 1\": 1.659663623178681}, {\"name\": \"Sooner or Later\", \"component 0\": -0.9803855756063737, \"component 1\": 0.1059384539082724}, {\"name\": \"Soooo Big\", \"component 0\": 2.276885337667576, \"component 1\": -2.5332017705506225}, {\"name\": \"Soothsayer\", \"component 0\": 1.7786257306016078, \"component 1\": 0.8240963364362089}, {\"name\": \"Sophomoric Saison\", \"component 0\": -0.889611607760833, \"component 1\": -0.3243080943003819}, {\"name\": \"Sopwith Camel\", \"component 0\": -1.0715704862314948, \"component 1\": -0.17934969339944057}, {\"name\": \"Sorachi Ace\", \"component 0\": -0.889611607760833, \"component 1\": -0.3243080943003819}, {\"name\": \"Sorachi Ace I.P.A.\", \"component 0\": 0.7977651921466918, \"component 1\": -1.2926904038224214}, {\"name\": \"Sorachi vs. Nelson\", \"component 0\": 2.276885337667576, \"component 1\": -2.5332017705506225}, {\"name\": \"Soroboruo\", \"component 0\": 1.4881601370364892, \"component 1\": 2.151475123928629}, {\"name\": \"Sorority Blonde\", \"component 0\": -1.7958718999882755, \"component 1\": -0.3168542809014389}, {\"name\": \"Sorry Not Sorry IPA\", \"component 0\": 2.276885337667576, \"component 1\": -2.5332017705506225}, {\"name\": \"Sort Gul\", \"component 0\": 0.7977651921466918, \"component 1\": -1.2926904038224214}, {\"name\": \"Sort Hvede\", \"component 0\": -2.412082370276882, \"component 1\": -0.27052487640678885}, {\"name\": \"Sort Kaffe\", \"component 0\": 2.276885337667576, \"component 1\": -2.5332017705506225}, {\"name\": \"SORT M\\u00c6LK\", \"component 0\": 4.471184299528401, \"component 1\": 1.9068723166791817}, {\"name\": \"Sorta Rican\", \"component 0\": 1.4279409845948867, \"component 1\": 1.8601816282595298}, {\"name\": \"SOS - Save Our Shore\", \"component 0\": -1.9447691607380753, \"component 1\": -1.0453401185874989}, {\"name\": \"Sosus\", \"component 0\": 2.276885337667576, \"component 1\": -2.5332017705506225}, {\"name\": \"Sotto Voce\", \"component 0\": 1.4279409845948867, \"component 1\": 1.8601816282595298}, {\"name\": \"Adnams Sole Star\", \"component 0\": -2.2001531411792032, \"component 1\": 1.090016474884812}, {\"name\": \"Adnams Southwold Bitter\", \"component 0\": -1.6151359573900619, \"component 1\": -0.9237750540103207}, {\"name\": \"Adnams Spiced Winter Beer\", \"component 0\": 1.4279409845948867, \"component 1\": 1.8601816282595298}, {\"name\": \"Adnams Spindrift\", \"component 0\": -0.9803855756063737, \"component 1\": 0.1059384539082724}, {\"name\": \"Adnams William Godell\", \"component 0\": -2.2001531411792032, \"component 1\": 1.090016474884812}, {\"name\": \"Adriaan Wit\", \"component 0\": -2.412082370276882, \"component 1\": -0.27052487640678885}, {\"name\": \"Advent Ale\", \"component 0\": 1.4279409845948867, \"component 1\": 1.8601816282595298}, {\"name\": \"Adventure Aquatilium\", \"component 0\": 0.7977651921466918, \"component 1\": -1.2926904038224214}, {\"name\": \"Aecht Schlenkerla Eiche Doppelbock\", \"component 0\": 0.621126492516488, \"component 1\": 1.681537411039195}, {\"name\": \"Aecht Schlenkerla Oak Smoke\", \"component 0\": 0.621126492516488, \"component 1\": 1.681537411039195}, {\"name\": \"Aerial IPA\", \"component 0\": 0.7977651921466918, \"component 1\": -1.2926904038224214}, {\"name\": \"Aero Plains Pale Ale\", \"component 0\": -1.0715704862314948, \"component 1\": -0.17934969339944057}, {\"name\": \"Aero-Head Bock\", \"component 0\": 0.621126492516488, \"component 1\": 1.681537411039195}, {\"name\": \"Aero-Vice Tart Ale\", \"component 0\": 1.4318251696093767, \"component 1\": 1.821917333829712}, {\"name\": \"Aestival\", \"component 0\": -1.6371016827226015, \"component 1\": 0.06120407737554239}, {\"name\": \"Affliction Amber\", \"component 0\": -0.3004331387642417, \"component 1\": 0.5446878915675295}, {\"name\": \"Affligem Dubbel\", \"component 0\": 0.35340917655464865, \"component 1\": 1.2962648171575692}, {\"name\": \"Affligem No\\u00ebl\", \"component 0\": 1.4279409845948867, \"component 1\": 1.8601816282595298}, {\"name\": \"Affligem Tripel\", \"component 0\": 0.33268642427243234, \"component 1\": -0.6176905080436438}, {\"name\": \"African Amber\", \"component 0\": -0.3004331387642417, \"component 1\": 0.5446878915675295}, {\"name\": \"African Stout\", \"component 0\": 1.7850672038825126, \"component 1\": 1.9100457410784935}, {\"name\": \"After Battle Pale Ale\", \"component 0\": -1.0715704862314948, \"component 1\": -0.17934969339944057}, {\"name\": \"After Midnight\", \"component 0\": -1.0715704862314948, \"component 1\": -0.17934969339944057}, {\"name\": \"After Midnight Imperial Stout\", \"component 0\": 4.471184299528401, \"component 1\": 1.9068723166791817}, {\"name\": \"After Sesh Ale\", \"component 0\": -1.7958718999882755, \"component 1\": -0.3168542809014389}, {\"name\": \"Afterbrite DIPA\", \"component 0\": 2.276885337667576, \"component 1\": -2.5332017705506225}, {\"name\": \"Afterburner IPA\", \"component 0\": 0.7977651921466918, \"component 1\": -1.2926904038224214}, {\"name\": \"Afterimage\", \"component 0\": 2.276885337667576, \"component 1\": -2.5332017705506225}, {\"name\": \"Afterlife\", \"component 0\": -1.429076350418711, \"component 1\": -0.08328799245390109}, {\"name\": \"Aftermath\", \"component 0\": 0.7977651921466918, \"component 1\": -1.2926904038224214}, {\"name\": \"Afternoon Delight Kolsch\", \"component 0\": -2.107574840873011, \"component 1\": -0.6382705663844058}, {\"name\": \"Aftershock\", \"component 0\": -2.723402126687143, \"component 1\": 0.39525513649760435}, {\"name\": \"Agamemnon\", \"component 0\": 4.47310764311289, \"component 1\": 2.1180442919258438}, {\"name\": \"Agamemnon Monster Shake\", \"component 0\": 4.471184299528401, \"component 1\": 1.9068723166791817}, {\"name\": \"Agave Cerveza - Brewhouse Rarities\", \"component 0\": 1.4318251696093767, \"component 1\": 1.821917333829712}, {\"name\": \"Agave Nectar Ale\", \"component 0\": -1.6371016827226015, \"component 1\": 0.06120407737554239}, {\"name\": \"Agave Wheat\", \"component 0\": -1.6371016827226015, \"component 1\": 0.06120407737554239}, {\"name\": \"Agaveras Agave IPA\", \"component 0\": 0.7977651921466918, \"component 1\": -1.2926904038224214}, {\"name\": \"Aged and Rugged\", \"component 0\": 1.9503979514287368, \"component 1\": 1.9718116390337133}, {\"name\": \"Agitated Aardvark\", \"component 0\": 2.276885337667576, \"component 1\": -2.5332017705506225}, {\"name\": \"Enki Fest\", \"component 0\": -1.9447691607380753, \"component 1\": -1.0453401185874989}, {\"name\": \"Enkir\", \"component 0\": -0.889611607760833, \"component 1\": -0.3243080943003819}, {\"name\": \"Enlighten Ale\", \"component 0\": -2.107574840873011, \"component 1\": -0.6382705663844058}, {\"name\": \"Enlightenment Brut\", \"component 0\": -0.9803855756063737, \"component 1\": 0.1059384539082724}, {\"name\": \"Enlightenment Series: Bloody RIPA\", \"component 0\": 2.276885337667576, \"component 1\": -2.5332017705506225}, {\"name\": \"Entendez Noel\", \"component 0\": 2.243937109279094, \"component 1\": -0.21646391943938292}, {\"name\": \"Enter Night Pilsner\", \"component 0\": -0.6920169760821689, \"component 1\": -0.17652668415232833}, {\"name\": \"Entire Butt English Porter\", \"component 0\": -0.7210215427841452, \"component 1\": 1.659663623178681}, {\"name\": \"Entire Porter\", \"component 0\": -0.7210215427841452, \"component 1\": 1.659663623178681}, {\"name\": \"Entire Stout\", \"component 0\": 1.9503979514287368, \"component 1\": 1.9718116390337133}, {\"name\": \"Entire Wood Aged Stout\", \"component 0\": 4.471184299528401, \"component 1\": 1.9068723166791817}, {\"name\": \"Entre Nous\", \"component 0\": -2.412082370276882, \"component 1\": -0.27052487640678885}, {\"name\": \"Entwined\", \"component 0\": 1.4318251696093767, \"component 1\": 1.821917333829712}, {\"name\": \"Envie\", \"component 0\": -1.0715704862314948, \"component 1\": -0.17934969339944057}, {\"name\": \"Envious\", \"component 0\": 1.4318251696093767, \"component 1\": 1.821917333829712}, {\"name\": \"Envy\", \"component 0\": -0.3004331387642417, \"component 1\": 0.5446878915675295}, {\"name\": \"EOD IPA\", \"component 0\": 0.7977651921466918, \"component 1\": -1.2926904038224214}, {\"name\": \"Eorna Ceol Ale\", \"component 0\": -1.7843583213603107, \"component 1\": 1.1258847652125772}, {\"name\": \"EOS Hefeweizen\", \"component 0\": -1.6807142766364571, \"component 1\": 0.6669115860166044}, {\"name\": \"EPA\", \"component 0\": -1.3126475922307228, \"component 1\": -0.23084156023002272}, {\"name\": \"EPA English Pale Ale\", \"component 0\": -1.3126475922307228, \"component 1\": -0.23084156023002272}, {\"name\": \"\\u00c9ph\\u00e9m\\u00e8re Apple\", \"component 0\": -2.412082370276882, \"component 1\": -0.27052487640678885}, {\"name\": \"\\u00c9ph\\u00e9m\\u00e8re Blackcurrant\", \"component 0\": -2.412082370276882, \"component 1\": -0.27052487640678885}, {\"name\": \"Eph\\u00e9m\\u00e8re Cranberry\", \"component 0\": 1.4318251696093767, \"component 1\": 1.821917333829712}, {\"name\": \"Ephraim\", \"component 0\": 2.276885337667576, \"component 1\": -2.5332017705506225}, {\"name\": \"Epic Armageddon IPA\", \"component 0\": 0.7977651921466918, \"component 1\": -1.2926904038224214}, {\"name\": \"Epic Blackout Stout\", \"component 0\": 4.471184299528401, \"component 1\": 1.9068723166791817}, {\"name\": \"Epic Lager\", \"component 0\": -3.3511190230612335, \"component 1\": -0.193895500628686}, {\"name\": \"Epic Mayhem\", \"component 0\": -1.0715704862314948, \"component 1\": -0.17934969339944057}, {\"name\": \"Epic Pale Ale\", \"component 0\": -1.0715704862314948, \"component 1\": -0.17934969339944057}, {\"name\": \"Epic Thornbridge Stout\", \"component 0\": 1.9503979514287368, \"component 1\": 1.9718116390337133}, {\"name\": \"Epicenter Amber\", \"component 0\": -0.3004331387642417, \"component 1\": 0.5446878915675295}, {\"name\": \"Epicurean Series: Coffee & Fig Imperial Oatmeal Stout\", \"component 0\": -0.46404806169534696, \"component 1\": 1.7429074187185263}, {\"name\": \"Epitome\", \"component 0\": 1.795007239945916, \"component 1\": 1.478266342571855}, {\"name\": \"Equatorial\", \"component 0\": -1.6371016827226015, \"component 1\": 0.06120407737554239}, {\"name\": \"Equinox\", \"component 0\": -0.889611607760833, \"component 1\": -0.3243080943003819}, {\"name\": \"Equinox Imperial Red Ale\", \"component 0\": -1.429178346709751, \"component 1\": 1.5130440619651886}, {\"name\": \"Equinox Motion\", \"component 0\": 0.7977651921466918, \"component 1\": -1.2926904038224214}, {\"name\": \"Equinox Pilsner\", \"component 0\": -0.6920169760821689, \"component 1\": -0.17652668415232833}, {\"name\": \"Paleo Ale\", \"component 0\": -1.0715704862314948, \"component 1\": -0.17934969339944057}, {\"name\": \"Paleo Pils\", \"component 0\": -0.690093632497681, \"component 1\": 0.03464529109433365}, {\"name\": \"Paleooza\", \"component 0\": -1.0715704862314948, \"component 1\": -0.17934969339944057}, {\"name\": \"PaleStorm\", \"component 0\": -1.0715704862314948, \"component 1\": -0.17934969339944057}, {\"name\": \"Paletero\", \"component 0\": -1.0715704862314948, \"component 1\": -0.17934969339944057}, {\"name\": \"Palisade\", \"component 0\": 0.7977651921466918, \"component 1\": -1.2926904038224214}, {\"name\": \"Palisade (IPA Series)\", \"component 0\": 0.7977651921466918, \"component 1\": -1.2926904038224214}, {\"name\": \"Palisade Peachwood\", \"component 0\": -2.471866427339535, \"component 1\": -0.7272831125902498}, {\"name\": \"Palisades PIneapple\", \"component 0\": -1.6371016827226015, \"component 1\": 0.06120407737554239}, {\"name\": \"Pallet Jack\", \"component 0\": -1.0715704862314948, \"component 1\": -0.17934969339944057}, {\"name\": \"Palm Breeze Pineapple Mandarin Orange\", \"component 0\": -1.7511375767726212, \"component 1\": -0.5441787661664728}, {\"name\": \"Palm Reader\", \"component 0\": -1.0715704862314948, \"component 1\": -0.17934969339944057}, {\"name\": \"Palm Speciale\", \"component 0\": -1.429076350418711, \"component 1\": -0.08328799245390109}, {\"name\": \"Palm Tree Caribbean Lager\", \"component 0\": -0.6330631098612627, \"component 1\": -0.30884238608084963}, {\"name\": \"Palma Louca\", \"component 0\": -1.9447691607380753, \"component 1\": -1.0453401185874989}, {\"name\": \"Palmbender Pale Ale\", \"component 0\": -1.0696471426470069, \"component 1\": 0.031822281847221266}, {\"name\": \"Palmer's Golden Handshake\", \"component 0\": -1.7958718999882755, \"component 1\": -0.3168542809014389}, {\"name\": \"Palmistry\", \"component 0\": 0.35340917655464865, \"component 1\": 1.2962648171575692}, {\"name\": \"Palo Santo Marron\", \"component 0\": -0.21579036158618245, \"component 1\": 1.1051617666066806}, {\"name\": \"Palomar Pale Ale\", \"component 0\": -1.0715704862314948, \"component 1\": -0.17934969339944057}, {\"name\": \"Palomino Pale Ale\", \"component 0\": -1.0715704862314948, \"component 1\": -0.17934969339944057}, {\"name\": \"Palor\", \"component 0\": -1.0715704862314948, \"component 1\": -0.17934969339944057}, {\"name\": \"PampleMousse\", \"component 0\": -1.7958718999882755, \"component 1\": -0.3168542809014389}, {\"name\": \"Pan Galactic Gargle Blaster\", \"component 0\": 2.276885337667576, \"component 1\": -2.5332017705506225}, {\"name\": \"Panama Krunkles\", \"component 0\": 0.7977651921466918, \"component 1\": -1.2926904038224214}, {\"name\": \"Panama Limited Red Ale\", \"component 0\": -1.0715704862314948, \"component 1\": -0.17934969339944057}, {\"name\": \"PANAMA RED ALE\", \"component 0\": -0.3004331387642417, \"component 1\": 0.5446878915675295}, {\"name\": \"PANCHO VERDE CHILE CERVEZA\", \"component 0\": 1.4298643281793746, \"component 1\": 2.071353603506192}, {\"name\": \"Panda\", \"component 0\": 1.9503979514287368, \"component 1\": 1.9718116390337133}, {\"name\": \"Pandemic Breakfast Porter\", \"component 0\": 0.06473924836588163, \"component 1\": 1.6226358507232133}, {\"name\": \"Pandemonium\", \"component 0\": -1.9932893985754985, \"component 1\": 0.27846481817211216}, {\"name\": \"Pandemonium Barrel-Aged Stout\", \"component 0\": 1.9503979514287368, \"component 1\": 1.9718116390337133}, {\"name\": \"Pandemonium Pale Ale\", \"component 0\": -1.0715704862314948, \"component 1\": -0.17934969339944057}, {\"name\": \"Pandion Pale Ale\", \"component 0\": -1.0715704862314948, \"component 1\": -0.17934969339944057}, {\"name\": \"Pandora\", \"component 0\": -1.429076350418711, \"component 1\": -0.08328799245390109}, {\"name\": \"Pandora Pale Ale\", \"component 0\": -1.0715704862314948, \"component 1\": -0.17934969339944057}, {\"name\": \"Pandora's Bock\", \"component 0\": 1.2932210843801841, \"component 1\": 1.8370065144401517}, {\"name\": \"Pandora's Helios Hefeweizen\", \"component 0\": -1.6807142766364571, \"component 1\": 0.6669115860166044}, {\"name\": \"Pangaea\", \"component 0\": -1.429076350418711, \"component 1\": -0.08328799245390109}, {\"name\": \"Panhandle Porter\", \"component 0\": 0.06473924836588163, \"component 1\": 1.6226358507232133}, {\"name\": \"Panic\", \"component 0\": 0.7977651921466918, \"component 1\": -1.2926904038224214}, {\"name\": \"Panic Buy (NZC)\", \"component 0\": -1.3126475922307228, \"component 1\": -0.23084156023002272}, {\"name\": \"Panil Barriqu\\u00e9e\", \"component 0\": -0.872311760395272, \"component 1\": 2.027501304950462}, {\"name\": \"Pannepooch Reserva\", \"component 0\": 2.243937109279094, \"component 1\": -0.21646391943938292}, {\"name\": \"Pannepot\", \"component 0\": 2.243937109279094, \"component 1\": -0.21646391943938292}, {\"name\": \"Pannepot Grand Reserva\", \"component 0\": 1.7786257306016078, \"component 1\": 0.8240963364362089}, {\"name\": \"Panorama Wheat Ale\", \"component 0\": -1.6371016827226015, \"component 1\": 0.06120407737554239}, {\"name\": \"Panther\", \"component 0\": 0.06473924836588163, \"component 1\": 1.6226358507232133}, {\"name\": \"Okt\\u00f6 Bock\", \"component 0\": 1.2932210843801841, \"component 1\": 1.8370065144401517}, {\"name\": \"Okto Festival Ale\", \"component 0\": -0.6406495193409999, \"component 1\": 0.9147001240260422}, {\"name\": \"Oktober Fest-M\\u00e4rzen\", \"component 0\": -0.6406495193409999, \"component 1\": 0.9147001240260422}, {\"name\": \"Oktober Fuel\", \"component 0\": -1.2761288990228603, \"component 1\": -0.3680178284964432}, {\"name\": \"OktoberBeast\", \"component 0\": -0.6406495193409999, \"component 1\": 0.9147001240260422}, {\"name\": \"Oktoberfest\", \"component 0\": -0.6406495193409999, \"component 1\": 0.9147001240260422}, {\"name\": \"Patrons Project 19.01 // Grape Soda IPA // Sweet Relief // Pigs Pigs Pigs Pigs Pigs Pigs Pigs\", \"component 0\": 0.7977651921466918, \"component 1\": -1.2926904038224214}, {\"name\": \"Patrons Project 2.02 // PB&J // Peanut Butter and Jelly Brown Ale\", \"component 0\": -0.21579036158618245, \"component 1\": 1.1051617666066806}, {\"name\": \"Patrons Project 2.06 KENTUCKYSHIRE BREAKFAST STOUT // NOMAD CLAN // NOWT LIKE A PROPER BREW\", \"component 0\": 1.9503979514287368, \"component 1\": 1.9718116390337133}, {\"name\": \"Patrons Project 4.04 // VICTORIAN LEMONADE IPA\", \"component 0\": 0.7977651921466918, \"component 1\": -1.2926904038224214}, {\"name\": \"Patrons Project 6.03 Slamdank\", \"component 0\": 0.7977651921466918, \"component 1\": -1.2926904038224214}, {\"name\": \"Patrons Project 6.06 // White Grape Brut IPA // Jon Simmons // What Fools These Mortals Be // Edge Brewing\", \"component 0\": 0.7977651921466918, \"component 1\": -1.2926904038224214}, {\"name\": \"Patrons Project 7.01 // S\\u00c6SONER // DDH SAISON\", \"component 0\": -0.889611607760833, \"component 1\": -0.3243080943003819}, {\"name\": \"Patrons Project 8.05 // Raspberry and Honeydew Melon Kolsch Style Ale // Vague // Slim Pickens\", \"component 0\": -2.107574840873011, \"component 1\": -0.6382705663844058}, {\"name\": \"Patterson Pumpkin\", \"component 0\": 1.4371918397872945, \"component 1\": 1.9735984206123742}, {\"name\": \"Patty's Chile Beer\", \"component 0\": -1.7958718999882755, \"component 1\": -0.3168542809014389}, {\"name\": \"Patuxent Pale Ale\", \"component 0\": -1.0715704862314948, \"component 1\": -0.17934969339944057}, {\"name\": \"Pau Hana Pilsner\", \"component 0\": -0.6330631098612627, \"component 1\": -0.30884238608084963}, {\"name\": \"Paulaner 1634 Urtyp Hell\", \"component 0\": -0.6406495193409999, \"component 1\": 0.9147001240260422}, {\"name\": \"Paulaner Hefe-Weizen / Hefe-Wei\\u00dfbier Naturtr\\u00fcb / Natural Wheat\", \"component 0\": -1.6807142766364571, \"component 1\": 0.6669115860166044}, {\"name\": \"Paulaner Hefeweizen (Natural Wheat)\", \"component 0\": -1.6807142766364571, \"component 1\": 0.6669115860166044}, {\"name\": \"Paulaner Hefeweizen Dunkel\", \"component 0\": -1.2761288990228603, \"component 1\": -0.3680178284964432}, {\"name\": \"Paulaner Hell\", \"component 0\": -0.02559351072874966, \"component 1\": -0.33264556383177085}, {\"name\": \"Paulaner Munchmarzen\", \"component 0\": -3.132929520980002, \"component 1\": 0.5350084438311128}, {\"name\": \"Paulaner Oktoberfest Weisn\", \"component 0\": -0.6406495193409999, \"component 1\": 0.9147001240260422}, {\"name\": \"Paulaner Original Munich Premium Lager\", \"component 0\": -0.6406495193409999, \"component 1\": 0.9147001240260422}, {\"name\": \"Paulaner Premium Pils\", \"component 0\": -1.9447691607380753, \"component 1\": -1.0453401185874989}, {\"name\": \"Paulaner Roggen\", \"component 0\": -0.8550173490464535, \"component 1\": -1.380480312921566}, {\"name\": \"Paulaner Salvator\", \"component 0\": 0.621126492516488, \"component 1\": 1.681537411039195}, {\"name\": \"Paulaner Weissbier Kristalklar\", \"component 0\": -3.131006177395514, \"component 1\": 0.7461804190777744}, {\"name\": \"Paulina\", \"component 0\": -1.0715704862314948, \"component 1\": -0.17934969339944057}, {\"name\": \"Paulina Lake Pilsner\", \"component 0\": -0.6920169760821689, \"component 1\": -0.17652668415232833}, {\"name\": \"Paulus\", \"component 0\": -1.785731792266487, \"component 1\": -0.3509452672219862}, {\"name\": \"Paupack Amber Lager\", \"component 0\": -1.1173861962116771, \"component 1\": -0.20478040430246067}, {\"name\": \"Paupack Cream Ale\", \"component 0\": -2.471866427339535, \"component 1\": -0.7272831125902498}, {\"name\": \"Pauwel Kwak\", \"component 0\": -0.9803855756063737, \"component 1\": 0.1059384539082724}, {\"name\": \"Paver Porter\", \"component 0\": -0.7210215427841452, \"component 1\": 1.659663623178681}, {\"name\": \"Paw Paw Wheat\", \"component 0\": -1.970529240956362, \"component 1\": 0.0012470917859071836}, {\"name\": \"Paw Paw's Peach\", \"component 0\": -1.970529240956362, \"component 1\": 0.0012470917859071836}, {\"name\": \"Pawpaw La Maison\", \"component 0\": -0.889611607760833, \"component 1\": -0.3243080943003819}, {\"name\": \"Pax Nemesis\", \"component 0\": -0.8550173490464535, \"component 1\": -1.380480312921566}, {\"name\": \"Pay Day\", \"component 0\": -0.6425402870396948, \"component 1\": -0.11216408392485198}, {\"name\": \"Pay it Forward Cocoa Porter\", \"component 0\": -0.7210215427841452, \"component 1\": 1.659663623178681}], \"data-449ea4a3d5b72b27d1f17fab0f824032\": [{\"variable\": \"alcohol_by_volume\", \"component 0\": 0.8474727336045834, \"component 1\": 0.024329182195762702}, {\"variable\": \"international_bitterness_units\", \"component 0\": 0.6648503586385848, \"component 1\": 0.2243031481079104}, {\"variable\": \"standard_reference_method\", \"component 0\": 0.3828368966798604, \"component 1\": 0.38630683529142607}, {\"variable\": \"final_gravity\", \"component 0\": 0.8401139820747264, \"component 1\": 0.025106174767965513}, {\"variable\": \"is_organic\", \"component 0\": 6.36137106531786e-07, \"component 1\": 0.0026847635883716337}, {\"variable\": \"style\", \"component 0\": 0.9994810810502803, \"component 1\": 0.9992183016913062}]}}, {\"mode\": \"vega-lite\"});\n",
       "</script>"
      ],
      "text/plain": [
       "alt.LayerChart(...)"
      ]
     },
     "execution_count": 8,
     "metadata": {},
     "output_type": "execute_result"
    }
   ],
   "source": [
    "famd.plot(\n",
    "    dataset,\n",
    "    x_component=0,\n",
    "    y_component=1\n",
    ")"
   ]
  },
  {
   "attachments": {},
   "cell_type": "markdown",
   "metadata": {},
   "source": [
    "## Contributions"
   ]
  },
  {
   "cell_type": "code",
   "execution_count": 9,
   "metadata": {},
   "outputs": [
    {
     "data": {
      "text/html": [
       "<style type=\"text/css\">\n",
       "</style>\n",
       "<table id=\"T_672f5\">\n",
       "  <thead>\n",
       "    <tr>\n",
       "      <th class=\"index_name level0\" >component</th>\n",
       "      <th id=\"T_672f5_level0_col0\" class=\"col_heading level0 col0\" >0</th>\n",
       "      <th id=\"T_672f5_level0_col1\" class=\"col_heading level0 col1\" >1</th>\n",
       "    </tr>\n",
       "    <tr>\n",
       "      <th class=\"index_name level0\" >name</th>\n",
       "      <th class=\"blank col0\" >&nbsp;</th>\n",
       "      <th class=\"blank col1\" >&nbsp;</th>\n",
       "    </tr>\n",
       "  </thead>\n",
       "  <tbody>\n",
       "    <tr>\n",
       "      <th id=\"T_672f5_level0_row0\" class=\"row_heading level0 row0\" >Agamemnon</th>\n",
       "      <td id=\"T_672f5_row0_col0\" class=\"data row0 col0\" >0.536%</td>\n",
       "      <td id=\"T_672f5_row0_col1\" class=\"data row0 col1\" >0.255%</td>\n",
       "    </tr>\n",
       "    <tr>\n",
       "      <th id=\"T_672f5_level0_row1\" class=\"row_heading level0 row1\" >High West-ified Imperial Coffee Stout</th>\n",
       "      <td id=\"T_672f5_row1_col0\" class=\"data row1 col0\" >0.536%</td>\n",
       "      <td id=\"T_672f5_row1_col1\" class=\"data row1 col1\" >0.202%</td>\n",
       "    </tr>\n",
       "    <tr>\n",
       "      <th id=\"T_672f5_level0_row2\" class=\"row_heading level0 row2\" >Ten FIDY</th>\n",
       "      <td id=\"T_672f5_row2_col0\" class=\"data row2 col0\" >0.536%</td>\n",
       "      <td id=\"T_672f5_row2_col1\" class=\"data row2 col1\" >0.202%</td>\n",
       "    </tr>\n",
       "    <tr>\n",
       "      <th id=\"T_672f5_level0_row3\" class=\"row_heading level0 row3\" >Midnight Flight</th>\n",
       "      <td id=\"T_672f5_row3_col0\" class=\"data row3 col0\" >0.536%</td>\n",
       "      <td id=\"T_672f5_row3_col1\" class=\"data row3 col1\" >0.202%</td>\n",
       "    </tr>\n",
       "    <tr>\n",
       "      <th id=\"T_672f5_level0_row4\" class=\"row_heading level0 row4\" >FSB</th>\n",
       "      <td id=\"T_672f5_row4_col0\" class=\"data row4 col0\" >0.536%</td>\n",
       "      <td id=\"T_672f5_row4_col1\" class=\"data row4 col1\" >0.202%</td>\n",
       "    </tr>\n",
       "  </tbody>\n",
       "</table>\n"
      ],
      "text/plain": [
       "<pandas.io.formats.style.Styler at 0x157b0d5a0>"
      ]
     },
     "execution_count": 9,
     "metadata": {},
     "output_type": "execute_result"
    }
   ],
   "source": [
    "(\n",
    "    famd.row_contributions_\n",
    "    .sort_values(0, ascending=False)\n",
    "    .head(5)\n",
    "    .style.format('{:.3%}')\n",
    ")"
   ]
  },
  {
   "cell_type": "code",
   "execution_count": 10,
   "metadata": {},
   "outputs": [
    {
     "data": {
      "text/html": [
       "<style type=\"text/css\">\n",
       "</style>\n",
       "<table id=\"T_51396\">\n",
       "  <thead>\n",
       "    <tr>\n",
       "      <th class=\"index_name level0\" >component</th>\n",
       "      <th id=\"T_51396_level0_col0\" class=\"col_heading level0 col0\" >0</th>\n",
       "      <th id=\"T_51396_level0_col1\" class=\"col_heading level0 col1\" >1</th>\n",
       "    </tr>\n",
       "    <tr>\n",
       "      <th class=\"index_name level0\" >variable</th>\n",
       "      <th class=\"blank col0\" >&nbsp;</th>\n",
       "      <th class=\"blank col1\" >&nbsp;</th>\n",
       "    </tr>\n",
       "  </thead>\n",
       "  <tbody>\n",
       "    <tr>\n",
       "      <th id=\"T_51396_level0_row0\" class=\"row_heading level0 row0\" >alcohol_by_volume</th>\n",
       "      <td id=\"T_51396_row0_col0\" class=\"data row0 col0\" >23%</td>\n",
       "      <td id=\"T_51396_row0_col1\" class=\"data row0 col1\" >1%</td>\n",
       "    </tr>\n",
       "    <tr>\n",
       "      <th id=\"T_51396_level0_row1\" class=\"row_heading level0 row1\" >international_bitterness_units</th>\n",
       "      <td id=\"T_51396_row1_col0\" class=\"data row1 col0\" >18%</td>\n",
       "      <td id=\"T_51396_row1_col1\" class=\"data row1 col1\" >13%</td>\n",
       "    </tr>\n",
       "    <tr>\n",
       "      <th id=\"T_51396_level0_row2\" class=\"row_heading level0 row2\" >standard_reference_method</th>\n",
       "      <td id=\"T_51396_row2_col0\" class=\"data row2 col0\" >10%</td>\n",
       "      <td id=\"T_51396_row2_col1\" class=\"data row2 col1\" >23%</td>\n",
       "    </tr>\n",
       "    <tr>\n",
       "      <th id=\"T_51396_level0_row3\" class=\"row_heading level0 row3\" >final_gravity</th>\n",
       "      <td id=\"T_51396_row3_col0\" class=\"data row3 col0\" >22%</td>\n",
       "      <td id=\"T_51396_row3_col1\" class=\"data row3 col1\" >2%</td>\n",
       "    </tr>\n",
       "    <tr>\n",
       "      <th id=\"T_51396_level0_row4\" class=\"row_heading level0 row4\" >is_organic</th>\n",
       "      <td id=\"T_51396_row4_col0\" class=\"data row4 col0\" >0%</td>\n",
       "      <td id=\"T_51396_row4_col1\" class=\"data row4 col1\" >0%</td>\n",
       "    </tr>\n",
       "    <tr>\n",
       "      <th id=\"T_51396_level0_row5\" class=\"row_heading level0 row5\" >style</th>\n",
       "      <td id=\"T_51396_row5_col0\" class=\"data row5 col0\" >27%</td>\n",
       "      <td id=\"T_51396_row5_col1\" class=\"data row5 col1\" >60%</td>\n",
       "    </tr>\n",
       "  </tbody>\n",
       "</table>\n"
      ],
      "text/plain": [
       "<pandas.io.formats.style.Styler at 0x157b0fca0>"
      ]
     },
     "execution_count": 10,
     "metadata": {},
     "output_type": "execute_result"
    }
   ],
   "source": [
    "famd.column_contributions_.style.format('{:.0%}')"
   ]
  }
 ],
 "metadata": {
  "kernelspec": {
   "display_name": ".venv",
   "language": "python",
   "name": "python3"
  },
  "language_info": {
   "codemirror_mode": {
    "name": "ipython",
    "version": 3
   },
   "file_extension": ".py",
   "mimetype": "text/x-python",
   "name": "python",
   "nbconvert_exporter": "python",
   "pygments_lexer": "ipython3",
   "version": "3.10.8"
  },
  "vscode": {
   "interpreter": {
    "hash": "441c2ec70d9faeb70e7723f55150c6260f4a26a9c828b90915d3399002e14f43"
   }
  }
 },
 "nbformat": 4,
 "nbformat_minor": 2
}
