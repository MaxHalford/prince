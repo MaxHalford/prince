{
 "cells": [
  {
   "attachments": {},
   "cell_type": "markdown",
   "metadata": {},
   "source": [
    "+++\n",
    "title = \"Factor analysis of mixed data\"\n",
    "menu = \"main\"\n",
    "weight = 5\n",
    "toc = true\n",
    "aliases = [\"famd\"]\n",
    "+++"
   ]
  },
  {
   "attachments": {},
   "cell_type": "markdown",
   "metadata": {},
   "source": [
    "## Resources\n",
    "\n",
    "🤷‍♂️"
   ]
  },
  {
   "attachments": {},
   "cell_type": "markdown",
   "metadata": {},
   "source": [
    "## Data"
   ]
  },
  {
   "attachments": {},
   "cell_type": "markdown",
   "metadata": {},
   "source": [
    "Factor analysis of mixed data is a general purpose method. It supports both numeric and categorical data."
   ]
  },
  {
   "cell_type": "code",
   "execution_count": 1,
   "metadata": {},
   "outputs": [
    {
     "data": {
      "text/html": [
       "<div>\n",
       "<style scoped>\n",
       "    .dataframe tbody tr th:only-of-type {\n",
       "        vertical-align: middle;\n",
       "    }\n",
       "\n",
       "    .dataframe tbody tr th {\n",
       "        vertical-align: top;\n",
       "    }\n",
       "\n",
       "    .dataframe thead th {\n",
       "        text-align: right;\n",
       "    }\n",
       "</style>\n",
       "<table border=\"1\" class=\"dataframe\">\n",
       "  <thead>\n",
       "    <tr style=\"text-align: right;\">\n",
       "      <th></th>\n",
       "      <th>is_organic</th>\n",
       "      <th>style</th>\n",
       "      <th>alcohol_by_volume</th>\n",
       "      <th>international_bitterness_units</th>\n",
       "      <th>standard_reference_method</th>\n",
       "      <th>final_gravity</th>\n",
       "    </tr>\n",
       "    <tr>\n",
       "      <th>name</th>\n",
       "      <th></th>\n",
       "      <th></th>\n",
       "      <th></th>\n",
       "      <th></th>\n",
       "      <th></th>\n",
       "      <th></th>\n",
       "    </tr>\n",
       "  </thead>\n",
       "  <tbody>\n",
       "    <tr>\n",
       "      <th>Lightshine Radler</th>\n",
       "      <td>False</td>\n",
       "      <td>Blonde</td>\n",
       "      <td>4.50</td>\n",
       "      <td>20.0</td>\n",
       "      <td>5.0</td>\n",
       "      <td>1.012</td>\n",
       "    </tr>\n",
       "    <tr>\n",
       "      <th>LightSwitch Lager</th>\n",
       "      <td>False</td>\n",
       "      <td>American Light Lager</td>\n",
       "      <td>3.95</td>\n",
       "      <td>7.5</td>\n",
       "      <td>3.0</td>\n",
       "      <td>1.005</td>\n",
       "    </tr>\n",
       "    <tr>\n",
       "      <th>Lightwave Belgian Pale</th>\n",
       "      <td>False</td>\n",
       "      <td>Belgian Pale</td>\n",
       "      <td>5.00</td>\n",
       "      <td>25.0</td>\n",
       "      <td>9.0</td>\n",
       "      <td>1.011</td>\n",
       "    </tr>\n",
       "    <tr>\n",
       "      <th>Like Weisse</th>\n",
       "      <td>False</td>\n",
       "      <td>Berlinerweisse</td>\n",
       "      <td>3.10</td>\n",
       "      <td>4.5</td>\n",
       "      <td>3.0</td>\n",
       "      <td>1.005</td>\n",
       "    </tr>\n",
       "    <tr>\n",
       "      <th>Lil Heaven Session IPA</th>\n",
       "      <td>False</td>\n",
       "      <td>Session</td>\n",
       "      <td>4.55</td>\n",
       "      <td>20.0</td>\n",
       "      <td>2.0</td>\n",
       "      <td>1.007</td>\n",
       "    </tr>\n",
       "  </tbody>\n",
       "</table>\n",
       "</div>"
      ],
      "text/plain": [
       "                        is_organic                 style  alcohol_by_volume  \\\n",
       "name                                                                          \n",
       "Lightshine Radler            False                Blonde               4.50   \n",
       "LightSwitch Lager            False  American Light Lager               3.95   \n",
       "Lightwave Belgian Pale       False          Belgian Pale               5.00   \n",
       "Like Weisse                  False        Berlinerweisse               3.10   \n",
       "Lil Heaven Session IPA       False               Session               4.55   \n",
       "\n",
       "                        international_bitterness_units  \\\n",
       "name                                                     \n",
       "Lightshine Radler                                 20.0   \n",
       "LightSwitch Lager                                  7.5   \n",
       "Lightwave Belgian Pale                            25.0   \n",
       "Like Weisse                                        4.5   \n",
       "Lil Heaven Session IPA                            20.0   \n",
       "\n",
       "                        standard_reference_method  final_gravity  \n",
       "name                                                              \n",
       "Lightshine Radler                             5.0          1.012  \n",
       "LightSwitch Lager                             3.0          1.005  \n",
       "Lightwave Belgian Pale                        9.0          1.011  \n",
       "Like Weisse                                   3.0          1.005  \n",
       "Lil Heaven Session IPA                        2.0          1.007  "
      ]
     },
     "execution_count": 1,
     "metadata": {},
     "output_type": "execute_result"
    }
   ],
   "source": [
    "import prince\n",
    "\n",
    "dataset = prince.datasets.load_beers()\n",
    "dataset.head()"
   ]
  },
  {
   "attachments": {},
   "cell_type": "markdown",
   "metadata": {},
   "source": [
    "## Fitting"
   ]
  },
  {
   "cell_type": "code",
   "execution_count": 2,
   "metadata": {},
   "outputs": [],
   "source": [
    "famd = prince.FAMD(\n",
    "    n_components=2,\n",
    "    n_iter=3,\n",
    "    copy=True,\n",
    "    check_input=True,\n",
    "    random_state=42,\n",
    "    engine=\"sklearn\"\n",
    ")\n",
    "famd = famd.fit(dataset)"
   ]
  },
  {
   "attachments": {},
   "cell_type": "markdown",
   "metadata": {},
   "source": [
    "## Eigenvalues"
   ]
  },
  {
   "cell_type": "code",
   "execution_count": 3,
   "metadata": {},
   "outputs": [
    {
     "data": {
      "text/html": [
       "<div>\n",
       "<style scoped>\n",
       "    .dataframe tbody tr th:only-of-type {\n",
       "        vertical-align: middle;\n",
       "    }\n",
       "\n",
       "    .dataframe tbody tr th {\n",
       "        vertical-align: top;\n",
       "    }\n",
       "\n",
       "    .dataframe thead th {\n",
       "        text-align: right;\n",
       "    }\n",
       "</style>\n",
       "<table border=\"1\" class=\"dataframe\">\n",
       "  <thead>\n",
       "    <tr style=\"text-align: right;\">\n",
       "      <th></th>\n",
       "      <th>eigenvalue</th>\n",
       "      <th>% of variance</th>\n",
       "      <th>% of variance (cumulative)</th>\n",
       "    </tr>\n",
       "    <tr>\n",
       "      <th>component</th>\n",
       "      <th></th>\n",
       "      <th></th>\n",
       "      <th></th>\n",
       "    </tr>\n",
       "  </thead>\n",
       "  <tbody>\n",
       "    <tr>\n",
       "      <th>0</th>\n",
       "      <td>3.644</td>\n",
       "      <td>2.96%</td>\n",
       "      <td>2.96%</td>\n",
       "    </tr>\n",
       "    <tr>\n",
       "      <th>1</th>\n",
       "      <td>1.827</td>\n",
       "      <td>1.49%</td>\n",
       "      <td>4.45%</td>\n",
       "    </tr>\n",
       "  </tbody>\n",
       "</table>\n",
       "</div>"
      ],
      "text/plain": [
       "          eigenvalue % of variance % of variance (cumulative)\n",
       "component                                                    \n",
       "0              3.644         2.96%                      2.96%\n",
       "1              1.827         1.49%                      4.45%"
      ]
     },
     "execution_count": 3,
     "metadata": {},
     "output_type": "execute_result"
    }
   ],
   "source": [
    "famd.eigenvalues_summary"
   ]
  },
  {
   "attachments": {},
   "cell_type": "markdown",
   "metadata": {},
   "source": [
    "## Coordinates"
   ]
  },
  {
   "cell_type": "code",
   "execution_count": 4,
   "metadata": {},
   "outputs": [
    {
     "data": {
      "text/html": [
       "<div>\n",
       "<style scoped>\n",
       "    .dataframe tbody tr th:only-of-type {\n",
       "        vertical-align: middle;\n",
       "    }\n",
       "\n",
       "    .dataframe tbody tr th {\n",
       "        vertical-align: top;\n",
       "    }\n",
       "\n",
       "    .dataframe thead th {\n",
       "        text-align: right;\n",
       "    }\n",
       "</style>\n",
       "<table border=\"1\" class=\"dataframe\">\n",
       "  <thead>\n",
       "    <tr style=\"text-align: right;\">\n",
       "      <th>component</th>\n",
       "      <th>0</th>\n",
       "      <th>1</th>\n",
       "    </tr>\n",
       "    <tr>\n",
       "      <th>name</th>\n",
       "      <th></th>\n",
       "      <th></th>\n",
       "    </tr>\n",
       "  </thead>\n",
       "  <tbody>\n",
       "    <tr>\n",
       "      <th>Lightshine Radler</th>\n",
       "      <td>1.938789</td>\n",
       "      <td>0.023351</td>\n",
       "    </tr>\n",
       "    <tr>\n",
       "      <th>LightSwitch Lager</th>\n",
       "      <td>3.578507</td>\n",
       "      <td>-0.184275</td>\n",
       "    </tr>\n",
       "    <tr>\n",
       "      <th>Lightwave Belgian Pale</th>\n",
       "      <td>1.612588</td>\n",
       "      <td>-0.275305</td>\n",
       "    </tr>\n",
       "    <tr>\n",
       "      <th>Like Weisse</th>\n",
       "      <td>3.978752</td>\n",
       "      <td>-0.341528</td>\n",
       "    </tr>\n",
       "    <tr>\n",
       "      <th>Lil Heaven Session IPA</th>\n",
       "      <td>2.681539</td>\n",
       "      <td>0.894620</td>\n",
       "    </tr>\n",
       "  </tbody>\n",
       "</table>\n",
       "</div>"
      ],
      "text/plain": [
       "component                      0         1\n",
       "name                                      \n",
       "Lightshine Radler       1.938789  0.023351\n",
       "LightSwitch Lager       3.578507 -0.184275\n",
       "Lightwave Belgian Pale  1.612588 -0.275305\n",
       "Like Weisse             3.978752 -0.341528\n",
       "Lil Heaven Session IPA  2.681539  0.894620"
      ]
     },
     "execution_count": 4,
     "metadata": {},
     "output_type": "execute_result"
    }
   ],
   "source": [
    "famd.row_coordinates(dataset).head()"
   ]
  },
  {
   "cell_type": "code",
   "execution_count": 5,
   "metadata": {},
   "outputs": [
    {
     "data": {
      "text/html": [
       "<div>\n",
       "<style scoped>\n",
       "    .dataframe tbody tr th:only-of-type {\n",
       "        vertical-align: middle;\n",
       "    }\n",
       "\n",
       "    .dataframe tbody tr th {\n",
       "        vertical-align: top;\n",
       "    }\n",
       "\n",
       "    .dataframe thead th {\n",
       "        text-align: right;\n",
       "    }\n",
       "</style>\n",
       "<table border=\"1\" class=\"dataframe\">\n",
       "  <thead>\n",
       "    <tr style=\"text-align: right;\">\n",
       "      <th>component</th>\n",
       "      <th>0</th>\n",
       "      <th>1</th>\n",
       "    </tr>\n",
       "  </thead>\n",
       "  <tbody>\n",
       "    <tr>\n",
       "      <th>alcohol_by_volume</th>\n",
       "      <td>0.824935</td>\n",
       "      <td>0.047291</td>\n",
       "    </tr>\n",
       "    <tr>\n",
       "      <th>international_bitterness_units</th>\n",
       "      <td>0.642247</td>\n",
       "      <td>0.217403</td>\n",
       "    </tr>\n",
       "    <tr>\n",
       "      <th>standard_reference_method</th>\n",
       "      <td>0.338394</td>\n",
       "      <td>0.532719</td>\n",
       "    </tr>\n",
       "    <tr>\n",
       "      <th>final_gravity</th>\n",
       "      <td>0.837343</td>\n",
       "      <td>0.026449</td>\n",
       "    </tr>\n",
       "    <tr>\n",
       "      <th>is_organic</th>\n",
       "      <td>0.001493</td>\n",
       "      <td>0.003835</td>\n",
       "    </tr>\n",
       "    <tr>\n",
       "      <th>style</th>\n",
       "      <td>0.999740</td>\n",
       "      <td>0.998557</td>\n",
       "    </tr>\n",
       "  </tbody>\n",
       "</table>\n",
       "</div>"
      ],
      "text/plain": [
       "component                              0         1\n",
       "alcohol_by_volume               0.824935  0.047291\n",
       "international_bitterness_units  0.642247  0.217403\n",
       "standard_reference_method       0.338394  0.532719\n",
       "final_gravity                   0.837343  0.026449\n",
       "is_organic                      0.001493  0.003835\n",
       "style                           0.999740  0.998557"
      ]
     },
     "execution_count": 5,
     "metadata": {},
     "output_type": "execute_result"
    }
   ],
   "source": [
    "famd.column_coordinates_"
   ]
  },
  {
   "attachments": {},
   "cell_type": "markdown",
   "metadata": {},
   "source": [
    "## Visualization"
   ]
  },
  {
   "cell_type": "code",
   "execution_count": 9,
   "metadata": {},
   "outputs": [
    {
     "data": {
      "text/html": [
       "\n",
       "<div id=\"altair-viz-0e52cf83b0114d8388c1f7005df771d7\"></div>\n",
       "<script type=\"text/javascript\">\n",
       "  var VEGA_DEBUG = (typeof VEGA_DEBUG == \"undefined\") ? {} : VEGA_DEBUG;\n",
       "  (function(spec, embedOpt){\n",
       "    let outputDiv = document.currentScript.previousElementSibling;\n",
       "    if (outputDiv.id !== \"altair-viz-0e52cf83b0114d8388c1f7005df771d7\") {\n",
       "      outputDiv = document.getElementById(\"altair-viz-0e52cf83b0114d8388c1f7005df771d7\");\n",
       "    }\n",
       "    const paths = {\n",
       "      \"vega\": \"https://cdn.jsdelivr.net/npm//vega@5?noext\",\n",
       "      \"vega-lib\": \"https://cdn.jsdelivr.net/npm//vega-lib?noext\",\n",
       "      \"vega-lite\": \"https://cdn.jsdelivr.net/npm//vega-lite@4.17.0?noext\",\n",
       "      \"vega-embed\": \"https://cdn.jsdelivr.net/npm//vega-embed@6?noext\",\n",
       "    };\n",
       "\n",
       "    function maybeLoadScript(lib, version) {\n",
       "      var key = `${lib.replace(\"-\", \"\")}_version`;\n",
       "      return (VEGA_DEBUG[key] == version) ?\n",
       "        Promise.resolve(paths[lib]) :\n",
       "        new Promise(function(resolve, reject) {\n",
       "          var s = document.createElement('script');\n",
       "          document.getElementsByTagName(\"head\")[0].appendChild(s);\n",
       "          s.async = true;\n",
       "          s.onload = () => {\n",
       "            VEGA_DEBUG[key] = version;\n",
       "            return resolve(paths[lib]);\n",
       "          };\n",
       "          s.onerror = () => reject(`Error loading script: ${paths[lib]}`);\n",
       "          s.src = paths[lib];\n",
       "        });\n",
       "    }\n",
       "\n",
       "    function showError(err) {\n",
       "      outputDiv.innerHTML = `<div class=\"error\" style=\"color:red;\">${err}</div>`;\n",
       "      throw err;\n",
       "    }\n",
       "\n",
       "    function displayChart(vegaEmbed) {\n",
       "      vegaEmbed(outputDiv, spec, embedOpt)\n",
       "        .catch(err => showError(`Javascript Error: ${err.message}<br>This usually means there's a typo in your chart specification. See the javascript console for the full traceback.`));\n",
       "    }\n",
       "\n",
       "    if(typeof define === \"function\" && define.amd) {\n",
       "      requirejs.config({paths});\n",
       "      require([\"vega-embed\"], displayChart, err => showError(`Error loading script: ${err.message}`));\n",
       "    } else {\n",
       "      maybeLoadScript(\"vega\", \"5\")\n",
       "        .then(() => maybeLoadScript(\"vega-lite\", \"4.17.0\"))\n",
       "        .then(() => maybeLoadScript(\"vega-embed\", \"6\"))\n",
       "        .catch(showError)\n",
       "        .then(() => displayChart(vegaEmbed));\n",
       "    }\n",
       "  })({\"config\": {\"view\": {\"continuousWidth\": 400, \"continuousHeight\": 300}}, \"layer\": [{\"mark\": {\"type\": \"circle\", \"size\": 50}, \"encoding\": {\"tooltip\": [{\"field\": \"name\", \"type\": \"nominal\"}, {\"field\": \"component 0\", \"type\": \"quantitative\"}, {\"field\": \"component 1\", \"type\": \"quantitative\"}], \"x\": {\"axis\": {\"title\": \"component 0 \\u2014 2.96%\"}, \"field\": \"component 0\", \"scale\": {\"zero\": false}, \"type\": \"quantitative\"}, \"y\": {\"axis\": {\"title\": \"component 1 \\u2014 1.49%\"}, \"field\": \"component 1\", \"scale\": {\"zero\": false}, \"type\": \"quantitative\"}}}, {\"data\": {\"name\": \"data-230af1c49673d83710fded668abf0b8f\"}, \"mark\": {\"type\": \"square\", \"color\": \"green\", \"size\": 50}, \"encoding\": {\"tooltip\": [{\"field\": \"variable\", \"type\": \"nominal\"}], \"x\": {\"field\": \"component 0\", \"scale\": {\"zero\": false}, \"type\": \"quantitative\"}, \"y\": {\"field\": \"component 1\", \"scale\": {\"zero\": false}, \"type\": \"quantitative\"}}}], \"data\": {\"name\": \"data-5c2757854b91867a7eb8bfef023a201d\"}, \"$schema\": \"https://vega.github.io/schema/vega-lite/v4.17.0.json\", \"datasets\": {\"data-5c2757854b91867a7eb8bfef023a201d\": [{\"name\": \"Lightshine Radler\", \"component 0\": null, \"component 1\": null}, {\"name\": \"LightSwitch Lager\", \"component 0\": null, \"component 1\": null}, {\"name\": \"Lightwave Belgian Pale\", \"component 0\": null, \"component 1\": null}, {\"name\": \"Like Weisse\", \"component 0\": null, \"component 1\": null}, {\"name\": \"Lil Heaven Session IPA\", \"component 0\": null, \"component 1\": null}, {\"name\": \"Lil One\", \"component 0\": null, \"component 1\": null}, {\"name\": \"Lil Sipa\", \"component 0\": null, \"component 1\": null}, {\"name\": \"Lil Timmy\", \"component 0\": null, \"component 1\": null}, {\"name\": \"Lil Wheezy\", \"component 0\": null, \"component 1\": null}, {\"name\": \"Lil' Bandit Brown Ale\", \"component 0\": null, \"component 1\": null}, {\"name\": \"Lil' Crispy\", \"component 0\": null, \"component 1\": null}, {\"name\": \"Lil' Juice\", \"component 0\": null, \"component 1\": null}, {\"name\": \"Lil' Juicy\", \"component 0\": null, \"component 1\": null}, {\"name\": \"Lil' Opal\", \"component 0\": null, \"component 1\": null}, {\"name\": \"Lil' Squeezy\", \"component 0\": null, \"component 1\": null}, {\"name\": \"Lil' Squig\", \"component 0\": null, \"component 1\": null}, {\"name\": \"Lil' Sunshine\", \"component 0\": null, \"component 1\": null}, {\"name\": \"LIL'B\", \"component 0\": null, \"component 1\": null}, {\"name\": \"Lil's Pils\", \"component 0\": null, \"component 1\": null}, {\"name\": \"Lila\", \"component 0\": null, \"component 1\": null}, {\"name\": \"Lilac Wheat Ale\", \"component 0\": null, \"component 1\": null}, {\"name\": \"Liliko'i Kepolo\", \"component 0\": null, \"component 1\": null}, {\"name\": \"Lilikoi Saison\", \"component 0\": null, \"component 1\": null}, {\"name\": \"Lilikoi Wheat\", \"component 0\": null, \"component 1\": null}, {\"name\": \"Lilith Bourbon Barrel Aged\", \"component 0\": null, \"component 1\": null}, {\"name\": \"Lilith Oporto Aged\", \"component 0\": null, \"component 1\": null}, {\"name\": \"Lilja's Hoi Polloi\", \"component 0\": null, \"component 1\": null}, {\"name\": \"Lilja\\u2019s Pulling Boat Pale Ale\", \"component 0\": null, \"component 1\": null}, {\"name\": \"Lily\", \"component 0\": null, \"component 1\": null}, {\"name\": \"Lily & Seamus\", \"component 0\": null, \"component 1\": null}, {\"name\": \"Lily Flagg Milk Stout\", \"component 0\": null, \"component 1\": null}, {\"name\": \"Lily Water\", \"component 0\": null, \"component 1\": null}, {\"name\": \"Lily's Cream Ale\", \"component 0\": null, \"component 1\": null}, {\"name\": \"Lil\\u2019 Gruesome\", \"component 0\": null, \"component 1\": null}, {\"name\": \"Limbo IPA\", \"component 0\": null, \"component 1\": null}, {\"name\": \"Lime & Ginger Berliner Weisse\", \"component 0\": null, \"component 1\": null}, {\"name\": \"Lime Pils\", \"component 0\": null, \"component 1\": null}, {\"name\": \"Lime Pilsner\", \"component 0\": null, \"component 1\": null}, {\"name\": \"Lime Wheat Ale\", \"component 0\": null, \"component 1\": null}, {\"name\": \"LimeLeaf\", \"component 0\": null, \"component 1\": null}, {\"name\": \"LimeLight\", \"component 0\": null, \"component 1\": null}, {\"name\": \"Limestone\", \"component 0\": null, \"component 1\": null}, {\"name\": \"Limey B!\", \"component 0\": null, \"component 1\": null}, {\"name\": \"Yosemite Falls IPA\", \"component 0\": null, \"component 1\": null}, {\"name\": \"Yosemite Scooter\", \"component 0\": null, \"component 1\": null}, {\"name\": \"Yoshi's Nectar\", \"component 0\": null, \"component 1\": null}, {\"name\": \"You & I\", \"component 0\": null, \"component 1\": null}, {\"name\": \"You Are The Brut Squad\", \"component 0\": null, \"component 1\": null}, {\"name\": \"You Big Dummy\", \"component 0\": null, \"component 1\": null}, {\"name\": \"You Can Call Me Ale\", \"component 0\": null, \"component 1\": null}, {\"name\": \"You Enjoy My Stout\", \"component 0\": null, \"component 1\": null}, {\"name\": \"You Like 'A Da Juice\", \"component 0\": null, \"component 1\": null}, {\"name\": \"You Never Even Call Me By My Name\", \"component 0\": null, \"component 1\": null}, {\"name\": \"You're In The Jungle Baby!\", \"component 0\": null, \"component 1\": null}, {\"name\": \"You're My Boy, Blue\", \"component 0\": null, \"component 1\": null}, {\"name\": \"You're My Boy, Blue!\", \"component 0\": null, \"component 1\": null}, {\"name\": \"Young Grasshopper\", \"component 0\": null, \"component 1\": null}, {\"name\": \"Young's Winter Warmer\", \"component 0\": null, \"component 1\": null}, {\"name\": \"Youngers Special Bitter\", \"component 0\": null, \"component 1\": null}, {\"name\": \"Younger\\u2019s Best\", \"component 0\": null, \"component 1\": null}, {\"name\": \"Young\\u2019s Bitter\", \"component 0\": null, \"component 1\": null}, {\"name\": \"Young\\u2019s Double Chocolate Stout\", \"component 0\": null, \"component 1\": null}, {\"name\": \"Young\\u2019s Hummingbird\", \"component 0\": null, \"component 1\": null}, {\"name\": \"Young\\u2019s London Gold\", \"component 0\": null, \"component 1\": null}, {\"name\": \"Your Black Heart Russian Imperial Stout\", \"component 0\": null, \"component 1\": null}, {\"name\": \"Your IPA\", \"component 0\": null, \"component 1\": null}, {\"name\": \"Your Local Nitro Brown Ale\", \"component 0\": null, \"component 1\": null}, {\"name\": \"Your Mom\", \"component 0\": null, \"component 1\": null}, {\"name\": \"Ypsi Gypsi Pale Ale\", \"component 0\": null, \"component 1\": null}, {\"name\": \"YR Berliner: Wood Will Fall Down\", \"component 0\": null, \"component 1\": null}, {\"name\": \"YR IPA: Hair in the Mailbox\", \"component 0\": null, \"component 1\": null}, {\"name\": \"YR Pale: Stick a Finger in the Soil\", \"component 0\": null, \"component 1\": null}, {\"name\": \"Yu Lu\", \"component 0\": null, \"component 1\": null}, {\"name\": \"Yuengling Black & Tan\", \"component 0\": null, \"component 1\": null}, {\"name\": \"Yuengling Bock Beer\", \"component 0\": null, \"component 1\": null}, {\"name\": \"Yuengling Lager Light\", \"component 0\": null, \"component 1\": null}, {\"name\": \"Yuengling Light Beer (Premium)\", \"component 0\": null, \"component 1\": null}, {\"name\": \"Yuengling Porter\", \"component 0\": null, \"component 1\": null}, {\"name\": \"Yuengling Premium Beer\", \"component 0\": null, \"component 1\": null}, {\"name\": \"Yuengling Summer Wheat\", \"component 0\": null, \"component 1\": null}, {\"name\": \"Yuengling Traditional Lager\", \"component 0\": null, \"component 1\": null}, {\"name\": \"Yukon Gold Lager\", \"component 0\": null, \"component 1\": null}, {\"name\": \"Yule Ale\", \"component 0\": null, \"component 1\": null}, {\"name\": \"Yule Bock\", \"component 0\": null, \"component 1\": null}, {\"name\": \"Yule Shoot Your Eye Out\", \"component 0\": null, \"component 1\": null}, {\"name\": \"Yule Smith \\u2013 Summer\", \"component 0\": null, \"component 1\": null}, {\"name\": \"Yule Tide\", \"component 0\": null, \"component 1\": null}, {\"name\": \"Hollow Point\", \"component 0\": null, \"component 1\": null}, {\"name\": \"Holloway\", \"component 0\": null, \"component 1\": null}, {\"name\": \"Hollowtoberfest\", \"component 0\": null, \"component 1\": null}, {\"name\": \"Holly Jolly\", \"component 0\": null, \"component 1\": null}, {\"name\": \"Holly King\", \"component 0\": null, \"component 1\": null}, {\"name\": \"Holsten Pilsener\", \"component 0\": null, \"component 1\": null}, {\"name\": \"Holy Beer\", \"component 0\": null, \"component 1\": null}, {\"name\": \"Holy Brew Honey Blonde\", \"component 0\": null, \"component 1\": null}, {\"name\": \"Holy Cacao\\u2122\", \"component 0\": null, \"component 1\": null}, {\"name\": \"Holy City Pilsner\", \"component 0\": null, \"component 1\": null}, {\"name\": \"Holy Cow\", \"component 0\": null, \"component 1\": null}, {\"name\": \"Holy Cowbell\", \"component 0\": null, \"component 1\": null}, {\"name\": \"Holy Funshine\", \"component 0\": null, \"component 1\": null}], \"data-230af1c49673d83710fded668abf0b8f\": [{\"variable\": \"alcohol_by_volume\", \"component 0\": -0.9082593745594711, \"component 1\": 0.21746384782329667}, {\"variable\": \"international_bitterness_units\", \"component 0\": -0.8014031248893112, \"component 1\": 0.46626443984214566}, {\"variable\": \"standard_reference_method\", \"component 0\": -0.5817165878272662, \"component 1\": -0.7298761070239705}, {\"variable\": \"final_gravity\", \"component 0\": -0.9150644654994702, \"component 1\": -0.16262997793358527}, {\"variable\": \"is_organic_False\", \"component 0\": -0.00638735902214451, \"component 1\": 0.0122160531258426}, {\"variable\": \"is_organic_True\", \"component 0\": 0.0361118521315012, \"component 1\": -0.06906521186324044}, {\"variable\": \"style_Adambier\", \"component 0\": -0.002140972996195377, \"component 1\": 0.0039321152336563095}, {\"variable\": \"style_Altbier\", \"component 0\": 0.03171127353236334, \"component 1\": -0.042174692842380256}, {\"variable\": \"style_Amber\", \"component 0\": 0.042368895768747944, \"component 1\": -0.06464883207472154}, {\"variable\": \"style_American Amber Lager\", \"component 0\": 0.03517685947995391, \"component 1\": -0.05656602255204399}, {\"variable\": \"style_American Barleywine\", \"component 0\": -0.2540334778563768, \"component 1\": 0.10900065669749585}, {\"variable\": \"style_American Brown\", \"component 0\": 0.03001759869418968, \"component 1\": -0.07440205099515639}, {\"variable\": \"style_American Dark Lager\", \"component 0\": 0.04856311725930098, \"component 1\": -0.05982654722574434}, {\"variable\": \"style_American IPA\", \"component 0\": -0.1401922987694383, \"component 1\": 0.31520280742642903}, {\"variable\": \"style_American IPL\", \"component 0\": 0.010466138493189083, \"component 1\": -0.004712904018294147}, {\"variable\": \"style_American Ice Lager\", \"component 0\": 0.005313879749077163, \"component 1\": -0.0229007178714468}, {\"variable\": \"style_American Imperial Porter\", \"component 0\": -0.1147708972124991, \"component 1\": -0.12774504424200253}, {\"variable\": \"style_American Imperial Stout\", \"component 0\": -0.4546514541397109, \"component 1\": -0.2542403763180205}, {\"variable\": \"style_American Lager\", \"component 0\": 0.21212926846230248, \"component 1\": 0.057898325816895094}, {\"variable\": \"style_American Light Lager\", \"component 0\": 0.14694455058446815, \"component 1\": -0.024749590077762076}, {\"variable\": \"style_American Low-Carb Lager\", \"component 0\": 0.0452492862805149, \"component 1\": 0.031357195356889064}, {\"variable\": \"style_American Oktoberfest\", \"component 0\": 0.017466395179351692, \"component 1\": 0.007786268811484279}, {\"variable\": \"style_American Pale\", \"component 0\": 0.15938444912811142, \"component 1\": 0.10881737557280058}, {\"variable\": \"style_American Pilsener\", \"component 0\": 0.042864967759509764, \"component 1\": 0.09088861093585683}, {\"variable\": \"style_American Premium Lager\", \"component 0\": 0.09378368728529174, \"component 1\": 0.009018878000058784}, {\"variable\": \"style_American Stout\", \"component 0\": -0.12389540185066551, \"component 1\": -0.19085595739485386}, {\"variable\": \"style_American Strong Pale\", \"component 0\": 0.01600893977017924, \"component 1\": 0.04975071414715371}, {\"variable\": \"style_Austrailian Pale\", \"component 0\": 0.026828264095389673, \"component 1\": 0.011000738166297888}, {\"variable\": \"style_Baltic Porter\", \"component 0\": -0.07484685124262587, \"component 1\": -0.10025811281273991}, {\"variable\": \"style_Belgian Blonde\", \"component 0\": 0.058273861209700524, \"component 1\": 0.04765441850944949}, {\"variable\": \"style_Belgian Dark Strong\", \"component 0\": -0.07035188720775142, \"component 1\": -0.04176829519849745}, {\"variable\": \"style_Belgian Dubbel\", \"component 0\": -0.00512915132044566, \"component 1\": -0.028182589864142057}, {\"variable\": \"style_Belgian Pale\", \"component 0\": 0.08486164904051274, \"component 1\": -0.0363509429320607}, {\"variable\": \"style_Belgian Pale Strong\", \"component 0\": -0.03795161738376581, \"component 1\": 0.012978475436790088}, {\"variable\": \"style_Belgian Quad\", \"component 0\": -0.08281167932493484, \"component 1\": 0.053961589296214155}, {\"variable\": \"style_Belgian Table Beer\", \"component 0\": 0.018677521224061258, \"component 1\": -0.06946936548038725}, {\"variable\": \"style_Belgian Tripel\", \"component 0\": -0.0103837743015245, \"component 1\": 0.09955294620654732}, {\"variable\": \"style_Berlinerweisse\", \"component 0\": 0.229825631715352, \"component 1\": -0.039095978501770684}, {\"variable\": \"style_Bernsteinfarbenesweizen\", \"component 0\": 0.012409643536991208, \"component 1\": -0.005421939882183162}, {\"variable\": \"style_Bitter\", \"component 0\": 0.09392126503202647, \"component 1\": -0.014459498738789359}, {\"variable\": \"style_Bi\\u00e8re de Garde\", \"component 0\": -0.00011629242393248892, \"component 1\": 0.01638928366116761}, {\"variable\": \"style_Black Ale\", \"component 0\": -0.09021739149858869, \"component 1\": -0.04410764168385521}, {\"variable\": \"style_Blonde\", \"component 0\": 0.16562067975154837, \"component 1\": -0.0032026769799500428}, {\"variable\": \"style_Bock\", \"component 0\": -0.045873684264259716, \"component 1\": -0.1323095676656043}, {\"variable\": \"style_Bock Rauchbier\", \"component 0\": -0.004269505573946855, \"component 1\": -0.022314516941541702}, {\"variable\": \"style_Bohemian Pilsener\", \"component 0\": 0.024295698814001503, \"component 1\": 0.013812230452304222}, {\"variable\": \"style_British Barleywine\", \"component 0\": -0.09364705807578456, \"component 1\": 0.02934562971065531}, {\"variable\": \"style_British Imperial Stout\", \"component 0\": -0.11865462522258792, \"component 1\": -0.07783756109984244}, {\"variable\": \"style_Brown Porter\", \"component 0\": 0.07394302429688122, \"component 1\": -0.20841076301863445}, {\"variable\": \"style_California Common\", \"component 0\": 0.013615540260302188, \"component 1\": 0.020956734547453035}, {\"variable\": \"style_Chocolate Beer\", \"component 0\": -0.027909097746227095, \"component 1\": -0.06862251677861507}, {\"variable\": \"style_Classic Australian Pale\", \"component 0\": 0.0075567143065461235, \"component 1\": -0.0118870656954098}, {\"variable\": \"style_Coffee Beer\", \"component 0\": -0.04156948663579662, \"component 1\": -0.12127688535888831}, {\"variable\": \"style_Contemporary American Pilsener\", \"component 0\": -0.003280299040275954, \"component 1\": 0.035312100468055004}, {\"variable\": \"style_Cream Ale\", \"component 0\": 0.12487862813074614, \"component 1\": 0.039907384123021084}, {\"variable\": \"style_Dark Wheat Ale\", \"component 0\": 0.034531510658479835, \"component 1\": -0.09743113234982853}, {\"variable\": \"style_Doppelbock\", \"component 0\": -0.021210893979470187, \"component 1\": -0.09917069295454854}, {\"variable\": \"style_Dortmunder\", \"component 0\": 0.03136117801534808, \"component 1\": -0.03133477701946153}, {\"variable\": \"style_Dry Irish Stout\", \"component 0\": 0.012582351272912686, \"component 1\": -0.1197836284069539}, {\"variable\": \"style_Dry Lager\", \"component 0\": 0.023799772779781903, \"component 1\": -0.03210779995794414}, {\"variable\": \"style_Dunkelweizen\", \"component 0\": 0.04001857030018213, \"component 1\": -0.06109162480979853}, {\"variable\": \"style_ESB\", \"component 0\": 0.027730111515440293, \"component 1\": -0.026803797762388264}, {\"variable\": \"style_English Brown\", \"component 0\": 0.052713162381862196, \"component 1\": -0.043794240519424404}, {\"variable\": \"style_English Dark Mild\", \"component 0\": 0.052307505194128544, \"component 1\": -0.0345796189307841}, {\"variable\": \"style_English IPA\", \"component 0\": 0.0017432113646415758, \"component 1\": 0.0464755447820429}, {\"variable\": \"style_English Pale\", \"component 0\": 0.049195701026404644, \"component 1\": 0.004201954679522373}, {\"variable\": \"style_English Pale Mild\", \"component 0\": 0.06816426825433834, \"component 1\": -0.022142297982678482}, {\"variable\": \"style_English Summer Ale\", \"component 0\": 0.047790274592381866, \"component 1\": 0.048287598997693935}, {\"variable\": \"style_Euro Dark\", \"component 0\": 0.02237054994335147, \"component 1\": -0.04648030059141771}, {\"variable\": \"style_Export Stout\", \"component 0\": -0.038055105967932656, \"component 1\": -0.07733250167919667}, {\"variable\": \"style_Field Beer\", \"component 0\": -0.019399263701956937, \"component 1\": -0.08074581761630445}, {\"variable\": \"style_Flanders Red\", \"component 0\": 0.04120957194617098, \"component 1\": -0.08140169687710085}, {\"variable\": \"style_Fruit Beer\", \"component 0\": -0.09005693328797877, \"component 1\": -0.15933414568750492}, {\"variable\": \"style_Fruit Wheat Ale\", \"component 0\": 0.07682154249486911, \"component 1\": 0.018002125233244872}, {\"variable\": \"style_German Pilsener\", \"component 0\": 0.11435460077118247, \"component 1\": 0.052058333527419294}, {\"variable\": \"style_German Rye\", \"component 0\": 0.018472446175960545, \"component 1\": -0.01596500958832019}, {\"variable\": \"style_Gingo/Sake\", \"component 0\": 0.0077120416777913285, \"component 1\": 0.0018026503868404215}, {\"variable\": \"style_Grodziskie\", \"component 0\": 0.02301214407155414, \"component 1\": -0.05765230288137521}, {\"variable\": \"style_Gueuze\", \"component 0\": 0.032147451992098085, \"component 1\": 0.03253386211145784}, {\"variable\": \"style_Hefeweizen\", \"component 0\": 0.1172660281875258, \"component 1\": -0.05718388065486779}, {\"variable\": \"style_Helles\", \"component 0\": 0.07583978298788109, \"component 1\": -0.04101110203029974}, {\"variable\": \"style_Helles Rauchbier\", \"component 0\": 0.009962140443635617, \"component 1\": 0.014038316433493144}, {\"variable\": \"style_Imperial IPA\", \"component 0\": -0.2986133332765314, \"component 1\": 0.4420760303192711}, {\"variable\": \"style_Imperial Red\", \"component 0\": -0.13112962497283429, \"component 1\": 0.08883458084031885}, {\"variable\": \"style_International Pale\", \"component 0\": 0.028900616411856497, \"component 1\": 0.03629430872294378}, {\"variable\": \"style_International Pilsener\", \"component 0\": 0.0635470327482661, \"component 1\": 0.03555815702659774}, {\"variable\": \"style_Irish Red\", \"component 0\": 0.07756260090847715, \"component 1\": -0.0664764381290882}, {\"variable\": \"style_Juicy or Hazy Double IPA\", \"component 0\": -0.06145818702779014, \"component 1\": 0.11938624946653713}, {\"variable\": \"style_Juicy or Hazy IPA\", \"component 0\": 0.00011129843624765857, \"component 1\": 0.17843823833005953}, {\"variable\": \"style_Juicy or Hazy Pale Ale\", \"component 0\": 0.023562852216181054, \"component 1\": -0.00848514563814293}, {\"variable\": \"style_Kristallweizen\", \"component 0\": 0.01947969895318984, \"component 1\": -0.01551019704495602}, {\"variable\": \"style_K\\u00f6lsch\", \"component 0\": 0.12479345140634489, \"component 1\": 0.02259583816677319}, {\"variable\": \"style_Lambic\", \"component 0\": 0.027413048689191515, \"component 1\": 0.020651656564513707}, {\"variable\": \"style_Leichtbier\", \"component 0\": 0.055479194747990866, \"component 1\": 0.06323725431064554}, {\"variable\": \"style_Leichtesweizen\", \"component 0\": 0.058095558995299196, \"component 1\": -0.019061838806550362}, {\"variable\": \"style_Leipzig Gose\", \"component 0\": 0.06122324065533845, \"component 1\": 0.03366748070569776}, {\"variable\": \"style_Maibock\", \"component 0\": -0.002540737049112739, \"component 1\": 0.004052850587986144}, {\"variable\": \"style_Malt Liquor\", \"component 0\": 0.035098972947568585, \"component 1\": 0.03134726011698791}, {\"variable\": \"style_M\\u00e4rzen\", \"component 0\": 0.028370725287116642, \"component 1\": -0.004307455989096114}, {\"variable\": \"style_M\\u00e4rzen Rauchbier\", \"component 0\": 0.0037272118250495207, \"component 1\": -0.020129786381689843}, {\"variable\": \"style_Oatmeal Stout\", \"component 0\": 0.030092802831628022, \"component 1\": -0.06924973770851278}, {\"variable\": \"style_Oktoberfest\", \"component 0\": 0.028366111221917782, \"component 1\": -0.07361304400229036}, {\"variable\": \"style_Old Ale\", \"component 0\": -0.07372019659526478, \"component 1\": 0.00630611112703156}, {\"variable\": \"style_Pumpkin Beer\", \"component 0\": -0.06336102293149083, \"component 1\": -0.09177069753709285}, {\"variable\": \"style_Rauchbier\", \"component 0\": 0.025959016946802235, \"component 1\": 0.03220967710895165}, {\"variable\": \"style_Robust Porter\", \"component 0\": 0.012947438738684567, \"component 1\": -0.10193847544713269}, {\"variable\": \"style_Saison\", \"component 0\": 0.11462377641260539, \"component 1\": 0.07290328851890121}, {\"variable\": \"style_Schwarzbier\", \"component 0\": 0.02695311615230017, \"component 1\": -0.13751970645202233}, {\"variable\": \"style_Scotch Ale\", \"component 0\": -0.057318896183601815, \"component 1\": -0.06837411568790037}, {\"variable\": \"style_Scottish Export\", \"component 0\": 0.019337457177463997, \"component 1\": -0.002911125813350221}, {\"variable\": \"style_Scottish Heavy\", \"component 0\": 0.07025636051401564, \"component 1\": -0.07834874182433174}, {\"variable\": \"style_Scottish Light\", \"component 0\": 0.05419109963070263, \"component 1\": -0.037973208305111986}, {\"variable\": \"style_Session\", \"component 0\": 0.09932299235920329, \"component 1\": 0.05854160171133431}, {\"variable\": \"style_Smoke Porter\", \"component 0\": 0.01189472835527743, \"component 1\": 0.003866304743446621}, {\"variable\": \"style_Special Bitter\", \"component 0\": 0.043904316455671846, \"component 1\": -0.000351680654192958}, {\"variable\": \"style_Spice Beer\", \"component 0\": -0.08127620582331416, \"component 1\": -0.1301617731224181}, {\"variable\": \"style_Stout\", \"component 0\": -0.16957824459933937, \"component 1\": -0.15288058895544185}, {\"variable\": \"style_Strong Ale\", \"component 0\": -0.1340104927872093, \"component 1\": 0.014483904533144465}, {\"variable\": \"style_Sweet Stout\", \"component 0\": 0.004767729929732885, \"component 1\": -0.32019743161151454}, {\"variable\": \"style_Tropical Light Lager\", \"component 0\": 0.045933742540385854, \"component 1\": 0.0034252451771718518}, {\"variable\": \"style_Vienna Lager\", \"component 0\": 0.03474245456558223, \"component 1\": -0.024505161587477994}, {\"variable\": \"style_Weizenbock\", \"component 0\": -0.02638069285429755, \"component 1\": -0.030813350458044484}, {\"variable\": \"style_Wheat Ale\", \"component 0\": 0.12948374174431845, \"component 1\": 0.004853459021939718}, {\"variable\": \"style_Wheatwine\", \"component 0\": -0.09754266617268889, \"component 1\": 0.07905619149475271}, {\"variable\": \"style_Witbier\", \"component 0\": 0.18299064918627145, \"component 1\": 0.005003253565569313}]}}, {\"mode\": \"vega-lite\"});\n",
       "</script>"
      ],
      "text/plain": [
       "alt.LayerChart(...)"
      ]
     },
     "execution_count": 9,
     "metadata": {},
     "output_type": "execute_result"
    }
   ],
   "source": [
    "famd.plot(\n",
    "    dataset.head(100),\n",
    "    x_component=0,\n",
    "    y_component=1\n",
    ")"
   ]
  }
 ],
 "metadata": {
  "kernelspec": {
   "display_name": ".venv",
   "language": "python",
   "name": "python3"
  },
  "language_info": {
   "codemirror_mode": {
    "name": "ipython",
    "version": 3
   },
   "file_extension": ".py",
   "mimetype": "text/x-python",
   "name": "python",
   "nbconvert_exporter": "python",
   "pygments_lexer": "ipython3",
   "version": "3.10.8"
  },
  "vscode": {
   "interpreter": {
    "hash": "441c2ec70d9faeb70e7723f55150c6260f4a26a9c828b90915d3399002e14f43"
   }
  }
 },
 "nbformat": 4,
 "nbformat_minor": 2
}
